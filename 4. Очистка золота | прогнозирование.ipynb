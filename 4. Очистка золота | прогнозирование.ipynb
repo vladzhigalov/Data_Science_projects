{
 "cells": [
  {
   "cell_type": "markdown",
   "metadata": {
    "toc": true
   },
   "source": [
    "<h1>Содержание<span class=\"tocSkip\"></span></h1>\n",
    "<div class=\"toc\"><ul class=\"toc-item\"><li><span><a href=\"#Подготовка-данных\" data-toc-modified-id=\"Подготовка-данных-1\"><span class=\"toc-item-num\">1&nbsp;&nbsp;</span>Подготовка данных</a></span><ul class=\"toc-item\"><li><span><a href=\"#Проверка-расчетов-эффективности-обогащения\" data-toc-modified-id=\"Проверка-расчетов-эффективности-обогащения-1.1\"><span class=\"toc-item-num\">1.1&nbsp;&nbsp;</span>Проверка расчетов эффективности обогащения</a></span></li><li><span><a href=\"#Анализ-признаков\" data-toc-modified-id=\"Анализ-признаков-1.2\"><span class=\"toc-item-num\">1.2&nbsp;&nbsp;</span>Анализ признаков</a></span></li><li><span><a href=\"#Предобработка-данных\" data-toc-modified-id=\"Предобработка-данных-1.3\"><span class=\"toc-item-num\">1.3&nbsp;&nbsp;</span>Предобработка данных</a></span></li></ul></li><li><span><a href=\"#Анализ-данных\" data-toc-modified-id=\"Анализ-данных-2\"><span class=\"toc-item-num\">2&nbsp;&nbsp;</span>Анализ данных</a></span><ul class=\"toc-item\"><li><span><a href=\"#Концентрация-металов-(Au,-Ag,-Pb)-на-различных-этапах\" data-toc-modified-id=\"Концентрация-металов-(Au,-Ag,-Pb)-на-различных-этапах-2.1\"><span class=\"toc-item-num\">2.1&nbsp;&nbsp;</span>Концентрация металов (Au, Ag, Pb) на различных этапах</a></span><ul class=\"toc-item\"><li><span><a href=\"#Графики\" data-toc-modified-id=\"Графики-2.1.1\"><span class=\"toc-item-num\">2.1.1&nbsp;&nbsp;</span>Графики</a></span></li></ul></li><li><span><a href=\"#Распределение-размеров-гранул-на-обучающей-и-тестовой-выборках\" data-toc-modified-id=\"Распределение-размеров-гранул-на-обучающей-и-тестовой-выборках-2.2\"><span class=\"toc-item-num\">2.2&nbsp;&nbsp;</span>Распределение размеров гранул на обучающей и тестовой выборках</a></span></li><li><span><a href=\"#Суммарная-концентрация-всех-веществ-на-разных-стадиях\" data-toc-modified-id=\"Суммарная-концентрация-всех-веществ-на-разных-стадиях-2.3\"><span class=\"toc-item-num\">2.3&nbsp;&nbsp;</span>Суммарная концентрация всех веществ на разных стадиях</a></span></li></ul></li><li><span><a href=\"#Модель\" data-toc-modified-id=\"Модель-3\"><span class=\"toc-item-num\">3&nbsp;&nbsp;</span>Модель</a></span><ul class=\"toc-item\"><li><span><a href=\"#Функция-для-вычисления-итоговой-sMAPE\" data-toc-modified-id=\"Функция-для-вычисления-итоговой-sMAPE-3.1\"><span class=\"toc-item-num\">3.1&nbsp;&nbsp;</span>Функция для вычисления итоговой sMAPE</a></span></li><li><span><a href=\"#Обучение-разных-моделей\" data-toc-modified-id=\"Обучение-разных-моделей-3.2\"><span class=\"toc-item-num\">3.2&nbsp;&nbsp;</span>Обучение разных моделей</a></span></li><li><span><a href=\"#Тест\" data-toc-modified-id=\"Тест-3.3\"><span class=\"toc-item-num\">3.3&nbsp;&nbsp;</span>Тест</a></span></li><li><span><a href=\"#Dummy-Regressor\" data-toc-modified-id=\"Dummy-Regressor-3.4\"><span class=\"toc-item-num\">3.4&nbsp;&nbsp;</span>Dummy Regressor</a></span></li></ul></li><li><span><a href=\"#Вывод\" data-toc-modified-id=\"Вывод-4\"><span class=\"toc-item-num\">4&nbsp;&nbsp;</span>Вывод</a></span>"
   ]
  },
  {
   "cell_type": "markdown",
   "metadata": {},
   "source": [
    "# Описание данных"
   ]
  },
  {
   "cell_type": "markdown",
   "metadata": {},
   "source": [
    "- Технологический процесс\n",
    "    - Rougher feed — исходное сырье\n",
    "    - Rougher additions (или reagent additions) — флотационные реагенты: Xanthate, Sulphate, Depressant\n",
    "    - Xanthate **— ксантогенат (промотер, или активатор флотации);\n",
    "    - Sulphate — сульфат (на данном производстве сульфид натрия);\n",
    "    - Depressant — депрессант (силикат натрия).\n",
    "    - Rougher process (англ. «грубый процесс») — флотация\n",
    "    - Rougher tails — отвальные хвосты\n",
    "    - Float banks — флотационная установка\n",
    "    - Cleaner process — очистка\n",
    "    - Rougher Au — черновой концентрат золота\n",
    "    - Final Au — финальный концентрат золота\n",
    "- Параметры этапов\n",
    "    - air amount — объём воздуха\n",
    "    - fluid levels — уровень жидкости\n",
    "    - feed size — размер гранул сырья\n",
    "    - feed rate — скорость подачи\n",
    "\n",
    "- Возможные значения для блока [этап]:\n",
    "    - rougher — флотация\n",
    "    - primary_cleaner — первичная очистка\n",
    "    - secondary_cleaner — вторичная очистка\n",
    "    - final — финальные характеристики\n",
    "- Возможные значения для блока [тип_параметра]:\n",
    "    - input — параметры сырья\n",
    "    - output — параметры продукта\n",
    "    - state — параметры, характеризующие текущее состояние этапа\n",
    "    - calculation — расчётные характеристики\n"
   ]
  },
  {
   "cell_type": "markdown",
   "metadata": {},
   "source": [
    "# План работы:\n",
    "- Изучить файлы с данными.\n",
    "- Проверить расчеты эффективности обогащения и найти MAE между расчётами.\n",
    "- Проанализируйте отсутствующие признаки в тестовой выборке.\n",
    "- Посмотрите, как меняется концентрация металлов (Au, Ag, Pb) на различных этапах очистки.\n",
    "- Сравнить распределения размеров гранул сырья на обучающей и тестовой выборках.\n",
    "- Исследовать суммарную концентрацию всех веществ на разных стадиях: в сырье, в черновом и финальном концентратах.\n",
    "- Написать функцию для вычисления итоговой sMAPE.\n",
    "- Обучить разные модели, выбрать лучшую модель и проверить её на тестовой выборке."
   ]
  },
  {
   "cell_type": "markdown",
   "metadata": {},
   "source": [
    "## Подготовка данных"
   ]
  },
  {
   "cell_type": "markdown",
   "metadata": {},
   "source": [
    "Импортируем библиотеки и прочтем файлы"
   ]
  },
  {
   "cell_type": "code",
   "execution_count": 1,
   "metadata": {},
   "outputs": [],
   "source": [
    "import numpy as np\n",
    "import pandas as pd\n",
    "import seaborn as sns\n",
    "import matplotlib.pyplot as plt\n",
    "from numpy.random import RandomState\n",
    "from sklearn.model_selection import train_test_split\n",
    "from sklearn.linear_model import LinearRegression\n",
    "from sklearn.ensemble import RandomForestRegressor\n",
    "from sklearn.tree import DecisionTreeRegressor\n",
    "from sklearn.metrics import mean_squared_error, r2_score, mean_absolute_error\n",
    "from sklearn.model_selection import GridSearchCV\n",
    "\n",
    "from sklearn.model_selection import cross_val_score\n",
    "from sklearn.metrics import fbeta_score, make_scorer\n",
    "\n",
    "import warnings \n",
    "warnings.filterwarnings('ignore')"
   ]
  },
  {
   "cell_type": "code",
   "execution_count": 2,
   "metadata": {},
   "outputs": [],
   "source": [
    "data_train = pd.read_csv('/datasets/gold_recovery_train_new.csv')\n",
    "data_test = pd.read_csv('/datasets/gold_recovery_test_new.csv')\n",
    "data_full = pd.read_csv('/datasets/gold_recovery_full_new.csv')"
   ]
  },
  {
   "cell_type": "code",
   "execution_count": 3,
   "metadata": {},
   "outputs": [
    {
     "name": "stdout",
     "output_type": "stream",
     "text": [
      "Train shape: (14149, 87)\n",
      "Test shape: (5290, 53)\n",
      "Full shape: (19439, 87)\n"
     ]
    }
   ],
   "source": [
    "print('Train shape:', data_train.shape)\n",
    "print('Test shape:', data_test.shape)\n",
    "print('Full shape:', data_full.shape)"
   ]
  },
  {
   "cell_type": "code",
   "execution_count": 4,
   "metadata": {},
   "outputs": [
    {
     "data": {
      "text/html": [
       "<div>\n",
       "<style scoped>\n",
       "    .dataframe tbody tr th:only-of-type {\n",
       "        vertical-align: middle;\n",
       "    }\n",
       "\n",
       "    .dataframe tbody tr th {\n",
       "        vertical-align: top;\n",
       "    }\n",
       "\n",
       "    .dataframe thead th {\n",
       "        text-align: right;\n",
       "    }\n",
       "</style>\n",
       "<table border=\"1\" class=\"dataframe\">\n",
       "  <thead>\n",
       "    <tr style=\"text-align: right;\">\n",
       "      <th></th>\n",
       "      <th>date</th>\n",
       "      <th>final.output.concentrate_ag</th>\n",
       "      <th>final.output.concentrate_pb</th>\n",
       "      <th>final.output.concentrate_sol</th>\n",
       "      <th>final.output.concentrate_au</th>\n",
       "      <th>final.output.recovery</th>\n",
       "      <th>final.output.tail_ag</th>\n",
       "      <th>final.output.tail_pb</th>\n",
       "      <th>final.output.tail_sol</th>\n",
       "      <th>final.output.tail_au</th>\n",
       "      <th>...</th>\n",
       "      <th>secondary_cleaner.state.floatbank4_a_air</th>\n",
       "      <th>secondary_cleaner.state.floatbank4_a_level</th>\n",
       "      <th>secondary_cleaner.state.floatbank4_b_air</th>\n",
       "      <th>secondary_cleaner.state.floatbank4_b_level</th>\n",
       "      <th>secondary_cleaner.state.floatbank5_a_air</th>\n",
       "      <th>secondary_cleaner.state.floatbank5_a_level</th>\n",
       "      <th>secondary_cleaner.state.floatbank5_b_air</th>\n",
       "      <th>secondary_cleaner.state.floatbank5_b_level</th>\n",
       "      <th>secondary_cleaner.state.floatbank6_a_air</th>\n",
       "      <th>secondary_cleaner.state.floatbank6_a_level</th>\n",
       "    </tr>\n",
       "  </thead>\n",
       "  <tbody>\n",
       "    <tr>\n",
       "      <td>0</td>\n",
       "      <td>2016-01-15 00:00:00</td>\n",
       "      <td>6.055403</td>\n",
       "      <td>9.889648</td>\n",
       "      <td>5.507324</td>\n",
       "      <td>42.192020</td>\n",
       "      <td>70.541216</td>\n",
       "      <td>10.411962</td>\n",
       "      <td>0.895447</td>\n",
       "      <td>16.904297</td>\n",
       "      <td>2.143149</td>\n",
       "      <td>...</td>\n",
       "      <td>14.016835</td>\n",
       "      <td>-502.488007</td>\n",
       "      <td>12.099931</td>\n",
       "      <td>-504.715942</td>\n",
       "      <td>9.925633</td>\n",
       "      <td>-498.310211</td>\n",
       "      <td>8.079666</td>\n",
       "      <td>-500.470978</td>\n",
       "      <td>14.151341</td>\n",
       "      <td>-605.841980</td>\n",
       "    </tr>\n",
       "    <tr>\n",
       "      <td>1</td>\n",
       "      <td>2016-01-15 01:00:00</td>\n",
       "      <td>6.029369</td>\n",
       "      <td>9.968944</td>\n",
       "      <td>5.257781</td>\n",
       "      <td>42.701629</td>\n",
       "      <td>69.266198</td>\n",
       "      <td>10.462676</td>\n",
       "      <td>0.927452</td>\n",
       "      <td>16.634514</td>\n",
       "      <td>2.224930</td>\n",
       "      <td>...</td>\n",
       "      <td>13.992281</td>\n",
       "      <td>-505.503262</td>\n",
       "      <td>11.950531</td>\n",
       "      <td>-501.331529</td>\n",
       "      <td>10.039245</td>\n",
       "      <td>-500.169983</td>\n",
       "      <td>7.984757</td>\n",
       "      <td>-500.582168</td>\n",
       "      <td>13.998353</td>\n",
       "      <td>-599.787184</td>\n",
       "    </tr>\n",
       "    <tr>\n",
       "      <td>2</td>\n",
       "      <td>2016-01-15 02:00:00</td>\n",
       "      <td>6.055926</td>\n",
       "      <td>10.213995</td>\n",
       "      <td>5.383759</td>\n",
       "      <td>42.657501</td>\n",
       "      <td>68.116445</td>\n",
       "      <td>10.507046</td>\n",
       "      <td>0.953716</td>\n",
       "      <td>16.208849</td>\n",
       "      <td>2.257889</td>\n",
       "      <td>...</td>\n",
       "      <td>14.015015</td>\n",
       "      <td>-502.520901</td>\n",
       "      <td>11.912783</td>\n",
       "      <td>-501.133383</td>\n",
       "      <td>10.070913</td>\n",
       "      <td>-500.129135</td>\n",
       "      <td>8.013877</td>\n",
       "      <td>-500.517572</td>\n",
       "      <td>14.028663</td>\n",
       "      <td>-601.427363</td>\n",
       "    </tr>\n",
       "    <tr>\n",
       "      <td>3</td>\n",
       "      <td>2016-01-15 03:00:00</td>\n",
       "      <td>6.047977</td>\n",
       "      <td>9.977019</td>\n",
       "      <td>4.858634</td>\n",
       "      <td>42.689819</td>\n",
       "      <td>68.347543</td>\n",
       "      <td>10.422762</td>\n",
       "      <td>0.883763</td>\n",
       "      <td>16.532835</td>\n",
       "      <td>2.146849</td>\n",
       "      <td>...</td>\n",
       "      <td>14.036510</td>\n",
       "      <td>-500.857308</td>\n",
       "      <td>11.999550</td>\n",
       "      <td>-501.193686</td>\n",
       "      <td>9.970366</td>\n",
       "      <td>-499.201640</td>\n",
       "      <td>7.977324</td>\n",
       "      <td>-500.255908</td>\n",
       "      <td>14.005551</td>\n",
       "      <td>-599.996129</td>\n",
       "    </tr>\n",
       "    <tr>\n",
       "      <td>4</td>\n",
       "      <td>2016-01-15 04:00:00</td>\n",
       "      <td>6.148599</td>\n",
       "      <td>10.142511</td>\n",
       "      <td>4.939416</td>\n",
       "      <td>42.774141</td>\n",
       "      <td>66.927016</td>\n",
       "      <td>10.360302</td>\n",
       "      <td>0.792826</td>\n",
       "      <td>16.525686</td>\n",
       "      <td>2.055292</td>\n",
       "      <td>...</td>\n",
       "      <td>14.027298</td>\n",
       "      <td>-499.838632</td>\n",
       "      <td>11.953070</td>\n",
       "      <td>-501.053894</td>\n",
       "      <td>9.925709</td>\n",
       "      <td>-501.686727</td>\n",
       "      <td>7.894242</td>\n",
       "      <td>-500.356035</td>\n",
       "      <td>13.996647</td>\n",
       "      <td>-601.496691</td>\n",
       "    </tr>\n",
       "  </tbody>\n",
       "</table>\n",
       "<p>5 rows × 87 columns</p>\n",
       "</div>"
      ],
      "text/plain": [
       "                  date  final.output.concentrate_ag  \\\n",
       "0  2016-01-15 00:00:00                     6.055403   \n",
       "1  2016-01-15 01:00:00                     6.029369   \n",
       "2  2016-01-15 02:00:00                     6.055926   \n",
       "3  2016-01-15 03:00:00                     6.047977   \n",
       "4  2016-01-15 04:00:00                     6.148599   \n",
       "\n",
       "   final.output.concentrate_pb  final.output.concentrate_sol  \\\n",
       "0                     9.889648                      5.507324   \n",
       "1                     9.968944                      5.257781   \n",
       "2                    10.213995                      5.383759   \n",
       "3                     9.977019                      4.858634   \n",
       "4                    10.142511                      4.939416   \n",
       "\n",
       "   final.output.concentrate_au  final.output.recovery  final.output.tail_ag  \\\n",
       "0                    42.192020              70.541216             10.411962   \n",
       "1                    42.701629              69.266198             10.462676   \n",
       "2                    42.657501              68.116445             10.507046   \n",
       "3                    42.689819              68.347543             10.422762   \n",
       "4                    42.774141              66.927016             10.360302   \n",
       "\n",
       "   final.output.tail_pb  final.output.tail_sol  final.output.tail_au  ...  \\\n",
       "0              0.895447              16.904297              2.143149  ...   \n",
       "1              0.927452              16.634514              2.224930  ...   \n",
       "2              0.953716              16.208849              2.257889  ...   \n",
       "3              0.883763              16.532835              2.146849  ...   \n",
       "4              0.792826              16.525686              2.055292  ...   \n",
       "\n",
       "   secondary_cleaner.state.floatbank4_a_air  \\\n",
       "0                                 14.016835   \n",
       "1                                 13.992281   \n",
       "2                                 14.015015   \n",
       "3                                 14.036510   \n",
       "4                                 14.027298   \n",
       "\n",
       "   secondary_cleaner.state.floatbank4_a_level  \\\n",
       "0                                 -502.488007   \n",
       "1                                 -505.503262   \n",
       "2                                 -502.520901   \n",
       "3                                 -500.857308   \n",
       "4                                 -499.838632   \n",
       "\n",
       "   secondary_cleaner.state.floatbank4_b_air  \\\n",
       "0                                 12.099931   \n",
       "1                                 11.950531   \n",
       "2                                 11.912783   \n",
       "3                                 11.999550   \n",
       "4                                 11.953070   \n",
       "\n",
       "   secondary_cleaner.state.floatbank4_b_level  \\\n",
       "0                                 -504.715942   \n",
       "1                                 -501.331529   \n",
       "2                                 -501.133383   \n",
       "3                                 -501.193686   \n",
       "4                                 -501.053894   \n",
       "\n",
       "   secondary_cleaner.state.floatbank5_a_air  \\\n",
       "0                                  9.925633   \n",
       "1                                 10.039245   \n",
       "2                                 10.070913   \n",
       "3                                  9.970366   \n",
       "4                                  9.925709   \n",
       "\n",
       "   secondary_cleaner.state.floatbank5_a_level  \\\n",
       "0                                 -498.310211   \n",
       "1                                 -500.169983   \n",
       "2                                 -500.129135   \n",
       "3                                 -499.201640   \n",
       "4                                 -501.686727   \n",
       "\n",
       "   secondary_cleaner.state.floatbank5_b_air  \\\n",
       "0                                  8.079666   \n",
       "1                                  7.984757   \n",
       "2                                  8.013877   \n",
       "3                                  7.977324   \n",
       "4                                  7.894242   \n",
       "\n",
       "   secondary_cleaner.state.floatbank5_b_level  \\\n",
       "0                                 -500.470978   \n",
       "1                                 -500.582168   \n",
       "2                                 -500.517572   \n",
       "3                                 -500.255908   \n",
       "4                                 -500.356035   \n",
       "\n",
       "   secondary_cleaner.state.floatbank6_a_air  \\\n",
       "0                                 14.151341   \n",
       "1                                 13.998353   \n",
       "2                                 14.028663   \n",
       "3                                 14.005551   \n",
       "4                                 13.996647   \n",
       "\n",
       "   secondary_cleaner.state.floatbank6_a_level  \n",
       "0                                 -605.841980  \n",
       "1                                 -599.787184  \n",
       "2                                 -601.427363  \n",
       "3                                 -599.996129  \n",
       "4                                 -601.496691  \n",
       "\n",
       "[5 rows x 87 columns]"
      ]
     },
     "execution_count": 4,
     "metadata": {},
     "output_type": "execute_result"
    }
   ],
   "source": [
    "data_full.head()"
   ]
  },
  {
   "cell_type": "markdown",
   "metadata": {},
   "source": [
    "### Проверка расчетов эффективности обогащения"
   ]
  },
  {
   "cell_type": "code",
   "execution_count": 5,
   "metadata": {},
   "outputs": [],
   "source": [
    "sns.set(palette='mako', context='talk',style='darkgrid')\n",
    "def hist(data, column, title):\n",
    "    plt.figure(figsize=(10,5))\n",
    "    data[column].hist().set_title(title)"
   ]
  },
  {
   "cell_type": "code",
   "execution_count": 6,
   "metadata": {},
   "outputs": [
    {
     "data": {
      "image/png": "[encoded data removed]",
      "text/plain": [
       "<Figure size 720x360 with 1 Axes>"
      ]
     },
     "metadata": {},
     "output_type": "display_data"
    }
   ],
   "source": [
    "hist(data_train, 'rougher.output.recovery', 'Train data')"
   ]
  },
  {
   "cell_type": "code",
   "execution_count": 7,
   "metadata": {},
   "outputs": [
    {
     "data": {
      "image/png": "[encoded data removed]",
      "text/plain": [
       "<Figure size 720x360 with 1 Axes>"
      ]
     },
     "metadata": {},
     "output_type": "display_data"
    }
   ],
   "source": [
    "hist(data_full, 'rougher.output.recovery', 'Full data')"
   ]
  },
  {
   "cell_type": "code",
   "execution_count": 8,
   "metadata": {},
   "outputs": [
    {
     "data": {
      "text/plain": [
       "0    87.107763\n",
       "1    86.843261\n",
       "2    86.842308\n",
       "3    87.226430\n",
       "4    86.688794\n",
       "Name: rougher.output.recovery, dtype: float64"
      ]
     },
     "execution_count": 8,
     "metadata": {},
     "output_type": "execute_result"
    }
   ],
   "source": [
    "data_train['rougher.output.recovery'].head()"
   ]
  },
  {
   "cell_type": "markdown",
   "metadata": {},
   "source": [
    "Подготовим функцию для проверки расчетов"
   ]
  },
  {
   "cell_type": "code",
   "execution_count": 9,
   "metadata": {},
   "outputs": [],
   "source": [
    "def recovery(C,F,T):\n",
    "    final = (C*(F-T)) / (F*(C-T)) * 100\n",
    "    \n",
    "    return final"
   ]
  },
  {
   "cell_type": "code",
   "execution_count": 10,
   "metadata": {},
   "outputs": [
    {
     "name": "stdout",
     "output_type": "stream",
     "text": [
      "Кол-во строк в обучающей выборке: 14149\n",
      "Кол-во совпадающих строк: 14149\n",
      "\n",
      "MAE: 9.682896147825551e-15\n"
     ]
    }
   ],
   "source": [
    "C, F, T = data_train['rougher.output.concentrate_au'], data_train['rougher.input.feed_au'], data_train['rougher.output.tail_au']\n",
    "train_recovery = recovery(C,F,T)\n",
    "\n",
    "data_train['check_recovery'] = train_recovery\n",
    "\n",
    "print('Кол-во строк в обучающей выборке:', data_train.shape[0])\n",
    "print('Кол-во совпадающих строк:',sum(abs(data_train['rougher.output.recovery'] - train_recovery) < 10**(-4)))\n",
    "print()\n",
    "print('MAE:', mean_absolute_error(data_train['rougher.output.recovery'], data_train['check_recovery']))"
   ]
  },
  {
   "cell_type": "markdown",
   "metadata": {},
   "source": [
    "Сравним расчеты"
   ]
  },
  {
   "cell_type": "code",
   "execution_count": 11,
   "metadata": {},
   "outputs": [
    {
     "data": {
      "text/html": [
       "<div>\n",
       "<style scoped>\n",
       "    .dataframe tbody tr th:only-of-type {\n",
       "        vertical-align: middle;\n",
       "    }\n",
       "\n",
       "    .dataframe tbody tr th {\n",
       "        vertical-align: top;\n",
       "    }\n",
       "\n",
       "    .dataframe thead th {\n",
       "        text-align: right;\n",
       "    }\n",
       "</style>\n",
       "<table border=\"1\" class=\"dataframe\">\n",
       "  <thead>\n",
       "    <tr style=\"text-align: right;\">\n",
       "      <th></th>\n",
       "      <th>original</th>\n",
       "      <th>check</th>\n",
       "    </tr>\n",
       "  </thead>\n",
       "  <tbody>\n",
       "    <tr>\n",
       "      <td>0</td>\n",
       "      <td>87.107763</td>\n",
       "      <td>87.107763</td>\n",
       "    </tr>\n",
       "    <tr>\n",
       "      <td>1</td>\n",
       "      <td>86.843261</td>\n",
       "      <td>86.843261</td>\n",
       "    </tr>\n",
       "    <tr>\n",
       "      <td>2</td>\n",
       "      <td>86.842308</td>\n",
       "      <td>86.842308</td>\n",
       "    </tr>\n",
       "    <tr>\n",
       "      <td>3</td>\n",
       "      <td>87.226430</td>\n",
       "      <td>87.226430</td>\n",
       "    </tr>\n",
       "    <tr>\n",
       "      <td>4</td>\n",
       "      <td>86.688794</td>\n",
       "      <td>86.688794</td>\n",
       "    </tr>\n",
       "  </tbody>\n",
       "</table>\n",
       "</div>"
      ],
      "text/plain": [
       "    original      check\n",
       "0  87.107763  87.107763\n",
       "1  86.843261  86.843261\n",
       "2  86.842308  86.842308\n",
       "3  87.226430  87.226430\n",
       "4  86.688794  86.688794"
      ]
     },
     "execution_count": 11,
     "metadata": {},
     "output_type": "execute_result"
    }
   ],
   "source": [
    "df = pd.DataFrame({'original': data_train['rougher.output.recovery'], 'check': data_train['check_recovery']})\n",
    "df.head()"
   ]
  },
  {
   "cell_type": "code",
   "execution_count": 12,
   "metadata": {},
   "outputs": [
    {
     "data": {
      "image/png": "[encoded data removed]",
      "text/plain": [
       "<Figure size 720x360 with 1 Axes>"
      ]
     },
     "metadata": {},
     "output_type": "display_data"
    },
    {
     "data": {
      "image/png": "[encoded data removed]",
      "text/plain": [
       "<Figure size 720x360 with 1 Axes>"
      ]
     },
     "metadata": {},
     "output_type": "display_data"
    }
   ],
   "source": [
    "hist(data_train, 'rougher.output.recovery', 'Train data до провеки подсчетов')\n",
    "hist(data_train, 'check_recovery', 'Train data после провеки подсчетов')"
   ]
  },
  {
   "cell_type": "code",
   "execution_count": 13,
   "metadata": {},
   "outputs": [],
   "source": [
    "data_train.drop('check_recovery', axis=1, inplace = True)"
   ]
  },
  {
   "cell_type": "markdown",
   "metadata": {},
   "source": [
    "**Промежуточный вывод**: Эффективность обогащения рассчитана правильно. "
   ]
  },
  {
   "cell_type": "markdown",
   "metadata": {},
   "source": [
    "### Анализ признаков"
   ]
  },
  {
   "cell_type": "markdown",
   "metadata": {},
   "source": [
    "Посмотрим какие признаки отсутствуют в тестовой выборке."
   ]
  },
  {
   "cell_type": "code",
   "execution_count": 14,
   "metadata": {},
   "outputs": [
    {
     "name": "stdout",
     "output_type": "stream",
     "text": [
      "Кол-во признаков недоступных в тестовой выборке: 34\n",
      "-------------------------\n",
      "['rougher.output.concentrate_au', 'rougher.output.tail_ag', 'rougher.calculation.floatbank11_sulfate_to_au_feed', 'final.output.recovery', 'secondary_cleaner.output.tail_ag', 'primary_cleaner.output.tail_pb', 'rougher.calculation.au_pb_ratio', 'secondary_cleaner.output.tail_au', 'rougher.output.concentrate_pb', 'rougher.calculation.floatbank10_sulfate_to_au_feed', 'final.output.tail_sol', 'final.output.concentrate_sol', 'final.output.tail_au', 'secondary_cleaner.output.tail_sol', 'primary_cleaner.output.concentrate_ag', 'primary_cleaner.output.tail_sol', 'primary_cleaner.output.concentrate_pb', 'rougher.output.tail_pb', 'primary_cleaner.output.tail_au', 'primary_cleaner.output.tail_ag', 'rougher.calculation.sulfate_to_au_concentrate', 'rougher.output.concentrate_sol', 'primary_cleaner.output.concentrate_sol', 'final.output.concentrate_pb', 'secondary_cleaner.output.tail_pb', 'rougher.output.recovery', 'final.output.concentrate_ag', 'final.output.tail_pb', 'rougher.output.tail_au', 'primary_cleaner.output.concentrate_au', 'final.output.tail_ag', 'final.output.concentrate_au', 'rougher.output.concentrate_ag', 'rougher.output.tail_sol']\n"
     ]
    }
   ],
   "source": [
    "missing_columns = list(set(data_train) - set(data_test))\n",
    "print('Кол-во признаков недоступных в тестовой выборке:', len(missing_columns))\n",
    "print('-------------------------')\n",
    "print(missing_columns)"
   ]
  },
  {
   "cell_type": "markdown",
   "metadata": {},
   "source": [
    "**Промежуточный вывод**: Из 34 пропущенных признаков: 30 относятся к параметрам продукта, а 4 к расчетным характеристикам. Отсутствуют значения финальных концентраций, а так же информация о хвостовых частях и признаках обогащения."
   ]
  },
  {
   "cell_type": "markdown",
   "metadata": {},
   "source": [
    "### Предобработка данных"
   ]
  },
  {
   "cell_type": "code",
   "execution_count": 15,
   "metadata": {},
   "outputs": [
    {
     "data": {
      "text/plain": [
       "date                                           object\n",
       "final.output.concentrate_ag                   float64\n",
       "final.output.concentrate_pb                   float64\n",
       "final.output.concentrate_sol                  float64\n",
       "final.output.concentrate_au                   float64\n",
       "                                               ...   \n",
       "secondary_cleaner.state.floatbank5_a_level    float64\n",
       "secondary_cleaner.state.floatbank5_b_air      float64\n",
       "secondary_cleaner.state.floatbank5_b_level    float64\n",
       "secondary_cleaner.state.floatbank6_a_air      float64\n",
       "secondary_cleaner.state.floatbank6_a_level    float64\n",
       "Length: 87, dtype: object"
      ]
     },
     "execution_count": 15,
     "metadata": {},
     "output_type": "execute_result"
    }
   ],
   "source": [
    "data_full.dtypes"
   ]
  },
  {
   "cell_type": "code",
   "execution_count": 16,
   "metadata": {},
   "outputs": [],
   "source": [
    "def check(data):\n",
    "    print(data.dtypes)\n",
    "    print('-----------------')\n",
    "    print('Размер:',data.shape)\n",
    "    print('Кол-во пропусков:', data.isna().sum().sum())\n",
    "    print('Процент пропусков: {:.2%}'.format(data.isna().sum().sum() / data.shape[0]))\n",
    "    print('Кол-во дубликатов -', data.duplicated().sum())\n",
    "    for column in data.columns:\n",
    "        print()\n",
    "        print('\\033[1mCтолбец\\033[0m', column)\n",
    "        print('Кол-во уникальных значений -', data[column].nunique())\n",
    "        print('Кол-во дубликатов в столбце -', data[column].duplicated().sum())\n",
    "        print('Кол-во пропусков:', data[column].isna().sum().sum())\n",
    "        print()\n",
    "        print(data[column].value_counts().head())\n",
    "        print()"
   ]
  },
  {
   "cell_type": "code",
   "execution_count": 17,
   "metadata": {},
   "outputs": [],
   "source": [
    "sns.set(palette='mako', context='talk',style='darkgrid')\n",
    "def charts(data, column, title):\n",
    "    fig, axs = plt.subplots(ncols=2,figsize=(20,5))\n",
    "    plt.suptitle(title, fontsize = \"xx-large\")\n",
    "    distplot = sns.distplot(data[column],ax=axs[0])\n",
    "    sns.boxplot(data[column], ax=axs[1])"
   ]
  },
  {
   "cell_type": "code",
   "execution_count": 18,
   "metadata": {},
   "outputs": [
    {
     "name": "stdout",
     "output_type": "stream",
     "text": [
      "date                                           object\n",
      "final.output.concentrate_ag                   float64\n",
      "final.output.concentrate_pb                   float64\n",
      "final.output.concentrate_sol                  float64\n",
      "final.output.concentrate_au                   float64\n",
      "                                               ...   \n",
      "secondary_cleaner.state.floatbank5_a_level    float64\n",
      "secondary_cleaner.state.floatbank5_b_air      float64\n",
      "secondary_cleaner.state.floatbank5_b_level    float64\n",
      "secondary_cleaner.state.floatbank6_a_air      float64\n",
      "secondary_cleaner.state.floatbank6_a_level    float64\n",
      "Length: 87, dtype: object\n",
      "-----------------\n",
      "Размер: (19439, 87)\n",
      "Кол-во пропусков: 4481\n",
      "Процент пропусков: 23.05%\n",
      "Кол-во дубликатов - 0\n",
      "\n",
      "\u001b[1mCтолбец\u001b[0m date\n",
      "Кол-во уникальных значений - 19439\n",
      "Кол-во дубликатов в столбце - 0\n",
      "Кол-во пропусков: 0\n",
      "\n",
      "2016-06-19 17:59:59    1\n",
      "2018-07-16 22:59:59    1\n",
      "2016-05-18 23:59:59    1\n",
      "2017-02-23 04:59:59    1\n",
      "2016-06-18 03:59:59    1\n",
      "Name: date, dtype: int64\n",
      "\n",
      "\n",
      "\u001b[1mCтолбец\u001b[0m final.output.concentrate_ag\n",
      "Кол-во уникальных значений - 19307\n",
      "Кол-во дубликатов в столбце - 131\n",
      "Кол-во пропусков: 1\n",
      "\n",
      "0.000000    98\n",
      "5.925380    11\n",
      "3.554558     7\n",
      "3.572025     6\n",
      "5.413548     5\n",
      "Name: final.output.concentrate_ag, dtype: int64\n",
      "\n",
      "\n",
      "\u001b[1mCтолбец\u001b[0m final.output.concentrate_pb\n",
      "Кол-во уникальных значений - 19276\n",
      "Кол-во дубликатов в столбце - 162\n",
      "Кол-во пропусков: 1\n",
      "\n",
      "0.000000     98\n",
      "14.764648    11\n",
      "11.452148     8\n",
      "12.202148     7\n",
      "12.577148     6\n",
      "Name: final.output.concentrate_pb, dtype: int64\n",
      "\n",
      "\n",
      "\u001b[1mCтолбец\u001b[0m final.output.concentrate_sol\n",
      "Кол-во уникальных значений - 19093\n",
      "Кол-во дубликатов в столбце - 345\n",
      "Кол-во пропусков: 211\n",
      "\n",
      "0.000000     98\n",
      "6.663574     11\n",
      "13.827148     8\n",
      "7.171766      6\n",
      "8.010769      5\n",
      "Name: final.output.concentrate_sol, dtype: int64\n",
      "\n",
      "\n",
      "\u001b[1mCтолбец\u001b[0m final.output.concentrate_au\n",
      "Кол-во уникальных значений - 19308\n",
      "Кол-во дубликатов в столбце - 131\n",
      "Кол-во пропусков: 0\n",
      "\n",
      "0.000000     98\n",
      "37.336849    11\n",
      "44.528214     7\n",
      "46.105030     6\n",
      "42.527939     5\n",
      "Name: final.output.concentrate_au, dtype: int64\n",
      "\n",
      "\n",
      "\u001b[1mCтолбец\u001b[0m final.output.recovery\n",
      "Кол-во уникальных значений - 19235\n",
      "Кол-во дубликатов в столбце - 204\n",
      "Кол-во пропусков: 0\n",
      "\n",
      "0.000000      98\n",
      "100.000000    91\n",
      "71.668249      6\n",
      "67.275195      5\n",
      "75.962757      5\n",
      "Name: final.output.recovery, dtype: int64\n",
      "\n",
      "\n",
      "\u001b[1mCтолбец\u001b[0m final.output.tail_ag\n",
      "Кол-во уникальных значений - 19328\n",
      "Кол-во дубликатов в столбце - 110\n",
      "Кол-во пропусков: 1\n",
      "\n",
      "0.000000     91\n",
      "7.958822      7\n",
      "6.218721      6\n",
      "9.496956      5\n",
      "10.441984     3\n",
      "Name: final.output.tail_ag, dtype: int64\n",
      "\n",
      "\n",
      "\u001b[1mCтолбец\u001b[0m final.output.tail_pb\n",
      "Кол-во уникальных значений - 19228\n",
      "Кол-во дубликатов в столбце - 210\n",
      "Кол-во пропусков: 101\n",
      "\n",
      "0.000000    91\n",
      "4.226074     7\n",
      "3.347412     6\n",
      "2.034912     5\n",
      "4.413574     3\n",
      "Name: final.output.tail_pb, dtype: int64\n",
      "\n",
      "\n",
      "\u001b[1mCтолбец\u001b[0m final.output.tail_sol\n",
      "Кол-во уникальных значений - 19322\n",
      "Кол-во дубликатов в столбце - 116\n",
      "Кол-во пропусков: 6\n",
      "\n",
      "0.000000     91\n",
      "9.827148      7\n",
      "12.577148     6\n",
      "8.264648      5\n",
      "8.889648      4\n",
      "Name: final.output.tail_sol, dtype: int64\n",
      "\n",
      "\n",
      "\u001b[1mCтолбец\u001b[0m final.output.tail_au\n",
      "Кол-во уникальных значений - 19329\n",
      "Кол-во дубликатов в столбце - 110\n",
      "Кол-во пропусков: 0\n",
      "\n",
      "0.000000    91\n",
      "3.199278     7\n",
      "2.403677     6\n",
      "2.053974     5\n",
      "2.015914     3\n",
      "Name: final.output.tail_au, dtype: int64\n",
      "\n",
      "\n",
      "\u001b[1mCтолбец\u001b[0m primary_cleaner.input.sulfate\n",
      "Кол-во уникальных значений - 19415\n",
      "Кол-во дубликатов в столбце - 23\n",
      "Кол-во пропусков: 24\n",
      "\n",
      "221.312399    1\n",
      "144.492385    1\n",
      "154.787402    1\n",
      "133.520204    1\n",
      "170.244967    1\n",
      "Name: primary_cleaner.input.sulfate, dtype: int64\n",
      "\n",
      "\n",
      "\u001b[1mCтолбец\u001b[0m primary_cleaner.input.depressant\n",
      "Кол-во уникальных значений - 19393\n",
      "Кол-во дубликатов в столбце - 45\n",
      "Кол-во пропусков: 37\n",
      "\n",
      "0.000000     10\n",
      "8.016887      1\n",
      "13.975195     1\n",
      "20.038590     1\n",
      "6.981070      1\n",
      "Name: primary_cleaner.input.depressant, dtype: int64\n",
      "\n",
      "\n",
      "\u001b[1mCтолбец\u001b[0m primary_cleaner.input.feed_size\n",
      "Кол-во уникальных значений - 5022\n",
      "Кол-во дубликатов в столбце - 14417\n",
      "Кол-во пропусков: 0\n",
      "\n",
      "7.25    377\n",
      "7.30    259\n",
      "7.20    233\n",
      "7.00    230\n",
      "7.70    213\n",
      "Name: primary_cleaner.input.feed_size, dtype: int64\n",
      "\n",
      "\n",
      "\u001b[1mCтолбец\u001b[0m primary_cleaner.input.xanthate\n",
      "Кол-во уникальных значений - 19335\n",
      "Кол-во дубликатов в столбце - 103\n",
      "Кол-во пропусков: 104\n",
      "\n",
      "1.391149    1\n",
      "0.707466    1\n",
      "0.501082    1\n",
      "0.566495    1\n",
      "1.298721    1\n",
      "Name: primary_cleaner.input.xanthate, dtype: int64\n",
      "\n",
      "\n",
      "\u001b[1mCтолбец\u001b[0m primary_cleaner.output.concentrate_ag\n",
      "Кол-во уникальных значений - 19199\n",
      "Кол-во дубликатов в столбце - 240\n",
      "Кол-во пропусков: 0\n",
      "\n",
      "0.010000    117\n",
      "0.000000    108\n",
      "8.339732      6\n",
      "7.925334      5\n",
      "9.987871      5\n",
      "Name: primary_cleaner.output.concentrate_ag, dtype: int64\n",
      "\n",
      "\n",
      "\u001b[1mCтолбец\u001b[0m primary_cleaner.output.concentrate_pb\n",
      "Кол-во уникальных значений - 19055\n",
      "Кол-во дубликатов в столбце - 383\n",
      "Кол-во пропусков: 116\n",
      "\n",
      "0.010000     117\n",
      "0.000000     108\n",
      "11.327148      6\n",
      "10.952148      6\n",
      "14.202148      6\n",
      "Name: primary_cleaner.output.concentrate_pb, dtype: int64\n",
      "\n",
      "\n",
      "\u001b[1mCтолбец\u001b[0m primary_cleaner.output.concentrate_sol\n",
      "Кол-во уникальных значений - 18826\n",
      "Кол-во дубликатов в столбце - 612\n",
      "Кол-во пропусков: 370\n",
      "\n",
      "0.010000     117\n",
      "0.000000     108\n",
      "9.139648       6\n",
      "10.577148      5\n",
      "10.389648      5\n",
      "Name: primary_cleaner.output.concentrate_sol, dtype: int64\n",
      "\n",
      "\n",
      "\u001b[1mCтолбец\u001b[0m primary_cleaner.output.concentrate_au\n",
      "Кол-во уникальных значений - 19199\n",
      "Кол-во дубликатов в столбце - 240\n",
      "Кол-во пропусков: 0\n",
      "\n",
      "0.010000     117\n",
      "0.000000     108\n",
      "30.350809      6\n",
      "27.765463      5\n",
      "36.306431      5\n",
      "Name: primary_cleaner.output.concentrate_au, dtype: int64\n",
      "\n",
      "\n",
      "\u001b[1mCтолбец\u001b[0m primary_cleaner.output.tail_ag\n",
      "Кол-во уникальных значений - 19287\n",
      "Кол-во дубликатов в столбце - 151\n",
      "Кол-во пропусков: 4\n",
      "\n",
      "0.000000     124\n",
      "7.777319      11\n",
      "12.923038      6\n",
      "18.671520      5\n",
      "22.146212      3\n",
      "Name: primary_cleaner.output.tail_ag, dtype: int64\n",
      "\n",
      "\n",
      "\u001b[1mCтолбец\u001b[0m primary_cleaner.output.tail_pb\n",
      "Кол-во уникальных значений - 19270\n",
      "Кол-во дубликатов в столбце - 168\n",
      "Кол-во пропусков: 21\n",
      "\n",
      "0.000000    124\n",
      "0.887634     11\n",
      "2.972412      6\n",
      "4.257324      5\n",
      "6.538574      3\n",
      "Name: primary_cleaner.output.tail_pb, dtype: int64\n",
      "\n",
      "\n",
      "\u001b[1mCтолбец\u001b[0m primary_cleaner.output.tail_sol\n",
      "Кол-во уникальных значений - 19229\n",
      "Кол-во дубликатов в столбце - 209\n",
      "Кол-во пропусков: 62\n",
      "\n",
      "0.000000     124\n",
      "11.514648     11\n",
      "10.577148      6\n",
      "5.726074       5\n",
      "4.632324       3\n",
      "Name: primary_cleaner.output.tail_sol, dtype: int64\n",
      "\n",
      "\n",
      "\u001b[1mCтолбец\u001b[0m primary_cleaner.output.tail_au\n",
      "Кол-во уникальных значений - 19291\n",
      "Кол-во дубликатов в столбце - 148\n",
      "Кол-во пропусков: 0\n",
      "\n",
      "0.000000    124\n",
      "6.367418     11\n",
      "3.769228      6\n",
      "2.500740      5\n",
      "2.615115      3\n",
      "Name: primary_cleaner.output.tail_au, dtype: int64\n",
      "\n",
      "\n",
      "\u001b[1mCтолбец\u001b[0m primary_cleaner.state.floatbank8_a_air\n",
      "Кол-во уникальных значений - 19435\n",
      "Кол-во дубликатов в столбце - 3\n",
      "Кол-во пропусков: 4\n",
      "\n",
      "1699.823590    1\n",
      "1600.813406    1\n",
      "1702.960582    1\n",
      "1400.035569    1\n",
      "1590.235560    1\n",
      "Name: primary_cleaner.state.floatbank8_a_air, dtype: int64\n",
      "\n",
      "\n",
      "\u001b[1mCтолбец\u001b[0m primary_cleaner.state.floatbank8_a_level\n",
      "Кол-во уникальных значений - 19438\n",
      "Кол-во дубликатов в столбце - 0\n",
      "Кол-во пропусков: 1\n",
      "\n",
      "-350.626346    1\n",
      "-500.398094    1\n",
      "-500.495677    1\n",
      "-500.075733    1\n",
      "-501.135792    1\n",
      "Name: primary_cleaner.state.floatbank8_a_level, dtype: int64\n",
      "\n",
      "\n",
      "\u001b[1mCтолбец\u001b[0m primary_cleaner.state.floatbank8_b_air\n",
      "Кол-во уникальных значений - 19435\n",
      "Кол-во дубликатов в столбце - 3\n",
      "Кол-во пропусков: 4\n",
      "\n",
      "1500.393390    1\n",
      "1598.962223    1\n",
      "1597.725403    1\n",
      "1602.394782    1\n",
      "1697.516579    1\n",
      "Name: primary_cleaner.state.floatbank8_b_air, dtype: int64\n",
      "\n",
      "\n",
      "\u001b[1mCтолбец\u001b[0m primary_cleaner.state.floatbank8_b_level\n",
      "Кол-во уникальных значений - 19438\n",
      "Кол-во дубликатов в столбце - 0\n",
      "Кол-во пропусков: 1\n",
      "\n",
      "-499.674108    1\n",
      "-499.778515    1\n",
      "-500.501902    1\n",
      "-499.835891    1\n",
      "-499.826442    1\n",
      "Name: primary_cleaner.state.floatbank8_b_level, dtype: int64\n",
      "\n",
      "\n",
      "\u001b[1mCтолбец\u001b[0m primary_cleaner.state.floatbank8_c_air\n",
      "Кол-во уникальных значений - 19437\n",
      "Кол-во дубликатов в столбце - 1\n",
      "Кол-во пропусков: 2\n",
      "\n",
      "1600.137214    1\n",
      "1198.948513    1\n",
      "1600.295642    1\n",
      "1499.872741    1\n",
      "1790.905866    1\n",
      "Name: primary_cleaner.state.floatbank8_c_air, dtype: int64\n",
      "\n",
      "\n",
      "\u001b[1mCтолбец\u001b[0m primary_cleaner.state.floatbank8_c_level\n",
      "Кол-во уникальных значений - 19438\n",
      "Кол-во дубликатов в столбце - 0\n",
      "Кол-во пропусков: 1\n",
      "\n",
      "-500.523973    1\n",
      "-498.262759    1\n",
      "-499.862132    1\n",
      "-499.821291    1\n",
      "-500.180721    1\n",
      "Name: primary_cleaner.state.floatbank8_c_level, dtype: int64\n",
      "\n",
      "\n",
      "\u001b[1mCтолбец\u001b[0m primary_cleaner.state.floatbank8_d_air\n",
      "Кол-во уникальных значений - 19436\n",
      "Кол-во дубликатов в столбце - 2\n",
      "Кол-во пропусков: 3\n",
      "\n",
      "1350.820602    1\n",
      "1029.087752    1\n",
      "1750.151301    1\n",
      "968.929466     1\n",
      "1351.319607    1\n",
      "Name: primary_cleaner.state.floatbank8_d_air, dtype: int64\n",
      "\n",
      "\n",
      "\u001b[1mCтолбец\u001b[0m primary_cleaner.state.floatbank8_d_level\n",
      "Кол-во уникальных значений - 19438\n",
      "Кол-во дубликатов в столбце - 0\n",
      "Кол-во пропусков: 1\n",
      "\n",
      "-501.123101    1\n",
      "-501.018779    1\n",
      "-500.165569    1\n",
      "-501.066720    1\n",
      "-500.403082    1\n",
      "Name: primary_cleaner.state.floatbank8_d_level, dtype: int64\n",
      "\n",
      "\n",
      "\u001b[1mCтолбец\u001b[0m rougher.calculation.sulfate_to_au_concentrate\n",
      "Кол-во уникальных значений - 19437\n",
      "Кол-во дубликатов в столбце - 1\n",
      "Кол-во пропусков: 2\n",
      "\n",
      "31034.473210    1\n",
      "45174.625830    1\n",
      "47382.464591    1\n",
      "44060.692483    1\n",
      "48036.616377    1\n",
      "Name: rougher.calculation.sulfate_to_au_concentrate, dtype: int64\n",
      "\n",
      "\n",
      "\u001b[1mCтолбец\u001b[0m rougher.calculation.floatbank10_sulfate_to_au_feed\n",
      "Кол-во уникальных значений - 19437\n",
      "Кол-во дубликатов в столбце - 1\n",
      "Кол-во пропусков: 2\n",
      "\n",
      "2780.727778    1\n",
      "2495.472538    1\n",
      "2976.193450    1\n",
      "2730.974521    1\n",
      "2381.137968    1\n",
      "Name: rougher.calculation.floatbank10_sulfate_to_au_feed, dtype: int64\n",
      "\n",
      "\n",
      "\u001b[1mCтолбец\u001b[0m rougher.calculation.floatbank11_sulfate_to_au_feed\n",
      "Кол-во уникальных значений - 19437\n",
      "Кол-во дубликатов в столбце - 1\n",
      "Кол-во пропусков: 2\n",
      "\n",
      "2772.151230    1\n",
      "2397.767625    1\n",
      "3182.129536    1\n",
      "5433.820465    1\n",
      "2496.834838    1\n",
      "Name: rougher.calculation.floatbank11_sulfate_to_au_feed, dtype: int64\n",
      "\n",
      "\n",
      "\u001b[1mCтолбец\u001b[0m rougher.calculation.au_pb_ratio\n",
      "Кол-во уникальных значений - 19409\n",
      "Кол-во дубликатов в столбце - 30\n",
      "Кол-во пропусков: 0\n",
      "\n",
      "1.932681    10\n",
      "1.773638     6\n",
      "1.690585     5\n",
      "2.025584     5\n",
      "1.000000     5\n",
      "Name: rougher.calculation.au_pb_ratio, dtype: int64\n",
      "\n",
      "\n",
      "\u001b[1mCтолбец\u001b[0m rougher.input.feed_ag\n",
      "Кол-во уникальных значений - 19409\n",
      "Кол-во дубликатов в столбце - 30\n",
      "Кол-во пропусков: 0\n",
      "\n",
      "7.973955    10\n",
      "5.753713     6\n",
      "0.010000     5\n",
      "8.364123     5\n",
      "7.061728     5\n",
      "Name: rougher.input.feed_ag, dtype: int64\n",
      "\n",
      "\n",
      "\u001b[1mCтолбец\u001b[0m rougher.input.feed_pb\n",
      "Кол-во уникальных значений - 19300\n",
      "Кол-во дубликатов в столбце - 138\n",
      "Кол-во пропусков: 100\n",
      "\n",
      "3.909912    11\n",
      "5.038574     6\n",
      "4.226074     6\n",
      "0.010000     5\n",
      "5.694824     5\n",
      "Name: rougher.input.feed_pb, dtype: int64\n",
      "\n",
      "\n",
      "\u001b[1mCтолбец\u001b[0m rougher.input.feed_rate\n",
      "Кол-во уникальных значений - 19428\n",
      "Кол-во дубликатов в столбце - 10\n",
      "Кол-во пропусков: 11\n",
      "\n",
      "510.721219    1\n",
      "550.371015    1\n",
      "457.714911    1\n",
      "547.109260    1\n",
      "532.624394    1\n",
      "Name: rougher.input.feed_rate, dtype: int64\n",
      "\n",
      "\n",
      "\u001b[1mCтолбец\u001b[0m rougher.input.feed_size\n",
      "Кол-во уникальных значений - 19286\n",
      "Кол-во дубликатов в столбце - 152\n",
      "Кол-во пропусков: 145\n",
      "\n",
      "72.919884    6\n",
      "51.811890    4\n",
      "54.826869    1\n",
      "63.302707    1\n",
      "42.366767    1\n",
      "Name: rougher.input.feed_size, dtype: int64\n",
      "\n",
      "\n",
      "\u001b[1mCтолбец\u001b[0m rougher.input.feed_sol\n",
      "Кол-во уникальных значений - 19292\n",
      "Кол-во дубликатов в столбце - 146\n",
      "Кол-во пропусков: 99\n",
      "\n",
      "36.808594    8\n",
      "38.058594    7\n",
      "42.808594    6\n",
      "40.058594    6\n",
      "0.010000     5\n",
      "Name: rougher.input.feed_sol, dtype: int64\n",
      "\n",
      "\n",
      "\u001b[1mCтолбец\u001b[0m rougher.input.feed_au\n",
      "Кол-во уникальных значений - 19409\n",
      "Кол-во дубликатов в столбце - 30\n",
      "Кол-во пропусков: 0\n",
      "\n",
      "7.556612    10\n",
      "7.495525     6\n",
      "7.413458     5\n",
      "8.518138     5\n",
      "0.010000     5\n",
      "Name: rougher.input.feed_au, dtype: int64\n",
      "\n",
      "\n",
      "\u001b[1mCтолбец\u001b[0m rougher.input.floatbank10_sulfate\n",
      "Кол-во уникальных значений - 19405\n",
      "Кол-во дубликатов в столбце - 33\n",
      "Кол-во пропусков: 34\n",
      "\n",
      "0.352368     1\n",
      "17.013838    1\n",
      "13.985107    1\n",
      "10.991634    1\n",
      "7.838739     1\n",
      "Name: rougher.input.floatbank10_sulfate, dtype: int64\n",
      "\n",
      "\n",
      "\u001b[1mCтолбец\u001b[0m rougher.input.floatbank10_xanthate\n",
      "Кол-во уникальных значений - 19431\n",
      "Кол-во дубликатов в столбце - 7\n",
      "Кол-во пропусков: 8\n",
      "\n",
      "5.396508    1\n",
      "7.000712    1\n",
      "6.498832    1\n",
      "5.200616    1\n",
      "7.600951    1\n",
      "Name: rougher.input.floatbank10_xanthate, dtype: int64\n",
      "\n",
      "\n",
      "\u001b[1mCтолбец\u001b[0m rougher.input.floatbank11_sulfate\n",
      "Кол-во уникальных значений - 19395\n",
      "Кол-во дубликатов в столбце - 43\n",
      "Кол-во пропусков: 44\n",
      "\n",
      "16.998324    1\n",
      "16.135329    1\n",
      "8.641564     1\n",
      "14.670792    1\n",
      "15.002204    1\n",
      "Name: rougher.input.floatbank11_sulfate, dtype: int64\n",
      "\n",
      "\n",
      "\u001b[1mCтолбец\u001b[0m rougher.input.floatbank11_xanthate\n",
      "Кол-во уникальных значений - 18971\n",
      "Кол-во дубликатов в столбце - 467\n",
      "Кол-во пропусков: 453\n",
      "\n",
      "5.000000    16\n",
      "5.397612     1\n",
      "6.599492     1\n",
      "7.602515     1\n",
      "8.200051     1\n",
      "Name: rougher.input.floatbank11_xanthate, dtype: int64\n",
      "\n",
      "\n",
      "\u001b[1mCтолбец\u001b[0m rougher.output.concentrate_ag\n",
      "Кол-во уникальных значений - 19015\n",
      "Кол-во дубликатов в столбце - 424\n",
      "Кол-во пропусков: 0\n",
      "\n",
      "0.000000    394\n",
      "7.458753     11\n",
      "9.252737      6\n",
      "9.975555      6\n",
      "0.010000      5\n",
      "Name: rougher.output.concentrate_ag, dtype: int64\n",
      "\n",
      "\n",
      "\u001b[1mCтолбец\u001b[0m rougher.output.concentrate_pb\n",
      "Кол-во уникальных значений - 18956\n",
      "Кол-во дубликатов в столбце - 483\n",
      "Кол-во пропусков: 0\n",
      "\n",
      "0.000000     394\n",
      "13.077148     11\n",
      "8.452148       8\n",
      "10.452148      7\n",
      "9.764648       6\n",
      "Name: rougher.output.concentrate_pb, dtype: int64\n",
      "\n",
      "\n",
      "\u001b[1mCтолбец\u001b[0m rougher.output.concentrate_sol\n",
      "Кол-во уникальных значений - 18664\n",
      "Кол-во дубликатов в столбце - 774\n",
      "Кол-во пропусков: 23\n",
      "\n",
      "0.000000     394\n",
      "34.558594     27\n",
      "33.308594     25\n",
      "32.058594     23\n",
      "35.308594     22\n",
      "Name: rougher.output.concentrate_sol, dtype: int64\n",
      "\n",
      "\n",
      "\u001b[1mCтолбец\u001b[0m rougher.output.concentrate_au\n",
      "Кол-во уникальных значений - 19015\n",
      "Кол-во дубликатов в столбце - 424\n",
      "Кол-во пропусков: 0\n",
      "\n",
      "0.000000     394\n",
      "13.791368     11\n",
      "20.341888      6\n",
      "18.652372      6\n",
      "0.010000       5\n",
      "Name: rougher.output.concentrate_au, dtype: int64\n",
      "\n",
      "\n",
      "\u001b[1mCтолбец\u001b[0m rougher.output.recovery\n",
      "Кол-во уникальных значений - 19017\n",
      "Кол-во дубликатов в столбце - 422\n",
      "Кол-во пропусков: 0\n",
      "\n",
      "0.000000      394\n",
      "83.406924      10\n",
      "89.512544       6\n",
      "91.792293       5\n",
      "100.000000      5\n",
      "Name: rougher.output.recovery, dtype: int64\n",
      "\n",
      "\n",
      "\u001b[1mCтолбец\u001b[0m rougher.output.tail_ag\n",
      "Кол-во уникальных значений - 19397\n",
      "Кол-во дубликатов в столбце - 41\n",
      "Кол-во пропусков: 1\n",
      "\n",
      "5.782552    11\n",
      "5.508833     6\n",
      "4.576932     6\n",
      "3.069732     6\n",
      "3.488328     5\n",
      "Name: rougher.output.tail_ag, dtype: int64\n",
      "\n",
      "\n",
      "\u001b[1mCтолбец\u001b[0m rougher.output.tail_pb\n",
      "Кол-во уникальных значений - 19409\n",
      "Кол-во дубликатов в столбце - 30\n",
      "Кол-во пропусков: 0\n",
      "\n",
      "1.048706    10\n",
      "0.684509     6\n",
      "0.528259     5\n",
      "0.633728     5\n",
      "0.582947     5\n",
      "Name: rougher.output.tail_pb, dtype: int64\n",
      "\n",
      "\n",
      "\u001b[1mCтолбец\u001b[0m rougher.output.tail_sol\n",
      "Кол-во уникальных значений - 19272\n",
      "Кол-во дубликатов в столбце - 167\n",
      "Кол-во пропусков: 0\n",
      "\n",
      "10.014648    16\n",
      "18.154297    13\n",
      "10.077148    10\n",
      "20.904297     8\n",
      "10.577148     8\n",
      "Name: rougher.output.tail_sol, dtype: int64\n",
      "\n",
      "\n",
      "\u001b[1mCтолбец\u001b[0m rougher.output.tail_au\n",
      "Кол-во уникальных значений - 19399\n",
      "Кол-во дубликатов в столбце - 40\n",
      "Кол-во пропусков: 0\n",
      "\n",
      "2.309186    11\n",
      "1.135672     6\n",
      "1.352458     6\n",
      "1.227708     6\n",
      "1.028714     5\n",
      "Name: rougher.output.tail_au, dtype: int64\n",
      "\n",
      "\n",
      "\u001b[1mCтолбец\u001b[0m rougher.state.floatbank10_a_air\n",
      "Кол-во уникальных значений - 19438\n",
      "Кол-во дубликатов в столбце - 0\n",
      "Кол-во пропусков: 1\n",
      "\n",
      "1001.317685    1\n",
      "1302.134354    1\n",
      "1201.436370    1\n",
      "999.845633     1\n",
      "999.250650     1\n",
      "Name: rougher.state.floatbank10_a_air, dtype: int64\n",
      "\n",
      "\n",
      "\u001b[1mCтолбец\u001b[0m rougher.state.floatbank10_a_level\n",
      "Кол-во уникальных значений - 19438\n",
      "Кол-во дубликатов в столбце - 0\n",
      "Кол-во пропусков: 1\n",
      "\n",
      "-299.842988    1\n",
      "-299.810305    1\n",
      "-300.100859    1\n",
      "-299.815440    1\n",
      "-298.731863    1\n",
      "Name: rougher.state.floatbank10_a_level, dtype: int64\n",
      "\n",
      "\n",
      "\u001b[1mCтолбец\u001b[0m rougher.state.floatbank10_b_air\n",
      "Кол-во уникальных значений - 19438\n",
      "Кол-во дубликатов в столбце - 0\n",
      "Кол-во пропусков: 1\n",
      "\n",
      "949.670862     1\n",
      "1200.240564    1\n",
      "1000.037424    1\n",
      "1399.934583    1\n",
      "1101.198999    1\n",
      "Name: rougher.state.floatbank10_b_air, dtype: int64\n",
      "\n",
      "\n",
      "\u001b[1mCтолбец\u001b[0m rougher.state.floatbank10_b_level\n",
      "Кол-во уникальных значений - 19438\n",
      "Кол-во дубликатов в столбце - 0\n",
      "Кол-во пропусков: 1\n",
      "\n",
      "-400.035459    1\n",
      "-399.902387    1\n",
      "-498.906043    1\n",
      "-500.689973    1\n",
      "-499.214318    1\n",
      "Name: rougher.state.floatbank10_b_level, dtype: int64\n",
      "\n",
      "\n",
      "\u001b[1mCтолбец\u001b[0m rougher.state.floatbank10_c_air\n",
      "Кол-во уникальных значений - 19438\n",
      "Кол-во дубликатов в столбце - 0\n",
      "Кол-во пропусков: 1\n",
      "\n",
      "1449.168356    1\n",
      "1501.949228    1\n",
      "1501.171011    1\n",
      "1503.790908    1\n",
      "1396.627875    1\n",
      "Name: rougher.state.floatbank10_c_air, dtype: int64\n",
      "\n",
      "\n",
      "\u001b[1mCтолбец\u001b[0m rougher.state.floatbank10_c_level\n",
      "Кол-во уникальных значений - 19438\n",
      "Кол-во дубликатов в столбце - 0\n",
      "Кол-во пропусков: 1\n",
      "\n",
      "-500.656495    1\n",
      "-498.877811    1\n",
      "-500.014729    1\n",
      "-499.489325    1\n",
      "-499.797968    1\n",
      "Name: rougher.state.floatbank10_c_level, dtype: int64\n",
      "\n",
      "\n",
      "\u001b[1mCтолбец\u001b[0m rougher.state.floatbank10_d_air\n",
      "Кол-во уникальных значений - 19439\n",
      "Кол-во дубликатов в столбце - 0\n",
      "Кол-во пропусков: 0\n",
      "\n",
      "1203.988054    1\n",
      "1397.358149    1\n",
      "899.741945     1\n",
      "852.315445     1\n",
      "1003.862428    1\n",
      "Name: rougher.state.floatbank10_d_air, dtype: int64\n",
      "\n",
      "\n",
      "\u001b[1mCтолбец\u001b[0m rougher.state.floatbank10_d_level\n",
      "Кол-во уникальных значений - 19439\n",
      "Кол-во дубликатов в столбце - 0\n",
      "Кол-во пропусков: 0\n",
      "\n",
      "-500.099986    1\n",
      "-500.620927    1\n",
      "-499.170920    1\n",
      "-497.738082    1\n",
      "-399.150231    1\n",
      "Name: rougher.state.floatbank10_d_level, dtype: int64\n",
      "\n",
      "\n",
      "\u001b[1mCтолбец\u001b[0m rougher.state.floatbank10_e_air\n",
      "Кол-во уникальных значений - 19003\n",
      "Кол-во дубликатов в столбце - 435\n",
      "Кол-во пропусков: 436\n",
      "\n",
      "1098.491277    1\n",
      "1201.903894    1\n",
      "1401.082257    1\n",
      "1401.070506    1\n",
      "1002.059346    1\n",
      "Name: rougher.state.floatbank10_e_air, dtype: int64\n",
      "\n",
      "\n",
      "\u001b[1mCтолбец\u001b[0m rougher.state.floatbank10_e_level\n",
      "Кол-во уникальных значений - 19439\n",
      "Кол-во дубликатов в столбце - 0\n",
      "Кол-во пропусков: 0\n",
      "\n",
      "-500.180859    1\n",
      "-500.391241    1\n",
      "-402.514693    1\n",
      "-499.833774    1\n",
      "-402.401668    1\n",
      "Name: rougher.state.floatbank10_e_level, dtype: int64\n",
      "\n",
      "\n",
      "\u001b[1mCтолбец\u001b[0m rougher.state.floatbank10_f_air\n",
      "Кол-во уникальных значений - 19439\n",
      "Кол-во дубликатов в столбце - 0\n",
      "Кол-во пропусков: 0\n",
      "\n",
      "1199.630024    1\n",
      "1100.010055    1\n",
      "851.671104     1\n",
      "900.708558     1\n",
      "900.305764     1\n",
      "Name: rougher.state.floatbank10_f_air, dtype: int64\n",
      "\n",
      "\n",
      "\u001b[1mCтолбец\u001b[0m rougher.state.floatbank10_f_level\n",
      "Кол-во уникальных значений - 19438\n",
      "Кол-во дубликатов в столбце - 1\n",
      "Кол-во пропусков: 0\n",
      "\n",
      "-649.880981    2\n",
      "-501.031698    1\n",
      "-398.925575    1\n",
      "-649.029197    1\n",
      "-500.951149    1\n",
      "Name: rougher.state.floatbank10_f_level, dtype: int64\n",
      "\n",
      "\n",
      "\u001b[1mCтолбец\u001b[0m secondary_cleaner.output.tail_ag\n",
      "Кол-во уникальных значений - 18576\n",
      "Кол-во дубликатов в столбце - 862\n",
      "Кол-во пропусков: 2\n",
      "\n",
      "0.000000     849\n",
      "16.059269      6\n",
      "18.263405      5\n",
      "16.761261      3\n",
      "16.703020      2\n",
      "Name: secondary_cleaner.output.tail_ag, dtype: int64\n",
      "\n",
      "\n",
      "\u001b[1mCтолбец\u001b[0m secondary_cleaner.output.tail_pb\n",
      "Кол-во уникальных значений - 18562\n",
      "Кол-во дубликатов в столбце - 876\n",
      "Кол-во пропусков: 12\n",
      "\n",
      "0.000000     849\n",
      "9.452148       6\n",
      "8.139648       5\n",
      "12.889648      3\n",
      "3.409912       2\n",
      "Name: secondary_cleaner.output.tail_pb, dtype: int64\n",
      "\n",
      "\n",
      "\u001b[1mCтолбец\u001b[0m secondary_cleaner.output.tail_sol\n",
      "Кол-во уникальных значений - 16831\n",
      "Кол-во дубликатов в столбце - 2607\n",
      "Кол-во пропусков: 1748\n",
      "\n",
      "0.000000    849\n",
      "3.925537      6\n",
      "2.316162      5\n",
      "6.882324      2\n",
      "8.764648      2\n",
      "Name: secondary_cleaner.output.tail_sol, dtype: int64\n",
      "\n",
      "\n",
      "\u001b[1mCтолбец\u001b[0m secondary_cleaner.output.tail_au\n",
      "Кол-во уникальных значений - 18578\n",
      "Кол-во дубликатов в столбце - 861\n",
      "Кол-во пропусков: 0\n",
      "\n",
      "0.000000    849\n",
      "4.194919      6\n",
      "3.951134      5\n",
      "2.140291      3\n",
      "2.035309      2\n",
      "Name: secondary_cleaner.output.tail_au, dtype: int64\n",
      "\n",
      "\n",
      "\u001b[1mCтолбец\u001b[0m secondary_cleaner.state.floatbank2_a_air\n",
      "Кол-во уникальных значений - 19218\n",
      "Кол-во дубликатов в столбце - 220\n",
      "Кол-во пропусков: 220\n",
      "\n",
      "25.319265    2\n",
      "26.995952    1\n",
      "33.863452    1\n",
      "22.032267    1\n",
      "27.002572    1\n",
      "Name: secondary_cleaner.state.floatbank2_a_air, dtype: int64\n",
      "\n",
      "\n",
      "\u001b[1mCтолбец\u001b[0m secondary_cleaner.state.floatbank2_a_level\n",
      "Кол-во уникальных значений - 19438\n",
      "Кол-во дубликатов в столбце - 0\n",
      "Кол-во пропусков: 1\n",
      "\n",
      "-500.229658    1\n",
      "-499.901997    1\n",
      "-500.430810    1\n",
      "-413.395285    1\n",
      "-498.311081    1\n",
      "Name: secondary_cleaner.state.floatbank2_a_level, dtype: int64\n",
      "\n",
      "\n",
      "\u001b[1mCтолбец\u001b[0m secondary_cleaner.state.floatbank2_b_air\n",
      "Кол-во уникальных значений - 19281\n",
      "Кол-во дубликатов в столбце - 157\n",
      "Кол-во пропусков: 23\n",
      "\n",
      "1.428797e-17    66\n",
      "1.025955e-16    39\n",
      "2.163408e-16    19\n",
      "0.000000e+00     8\n",
      "8.210020e-18     5\n",
      "Name: secondary_cleaner.state.floatbank2_b_air, dtype: int64\n",
      "\n",
      "\n",
      "\u001b[1mCтолбец\u001b[0m secondary_cleaner.state.floatbank2_b_level\n",
      "Кол-во уникальных значений - 19438\n",
      "Кол-во дубликатов в столбце - 0\n",
      "Кол-во пропусков: 1\n",
      "\n",
      "-500.218921    1\n",
      "-500.125132    1\n",
      "-499.808360    1\n",
      "-500.175792    1\n",
      "-500.352647    1\n",
      "Name: secondary_cleaner.state.floatbank2_b_level, dtype: int64\n",
      "\n",
      "\n",
      "\u001b[1mCтолбец\u001b[0m secondary_cleaner.state.floatbank3_a_air\n",
      "Кол-во уникальных значений - 19353\n",
      "Кол-во дубликатов в столбце - 85\n",
      "Кол-во пропусков: 13\n",
      "\n",
      "8.395092e-17    37\n",
      "1.957942e-17    20\n",
      "8.299145e-17     8\n",
      "1.932589e-16     8\n",
      "1.833598e-21     4\n",
      "Name: secondary_cleaner.state.floatbank3_a_air, dtype: int64\n",
      "\n",
      "\n",
      "\u001b[1mCтолбец\u001b[0m secondary_cleaner.state.floatbank3_a_level\n",
      "Кол-во уникальных значений - 19438\n",
      "Кол-во дубликатов в столбце - 0\n",
      "Кол-во пропусков: 1\n",
      "\n",
      "-499.815429    1\n",
      "-500.211029    1\n",
      "-400.085954    1\n",
      "-500.053622    1\n",
      "-499.437751    1\n",
      "Name: secondary_cleaner.state.floatbank3_a_level, dtype: int64\n",
      "\n",
      "\n",
      "\u001b[1mCтолбец\u001b[0m secondary_cleaner.state.floatbank3_b_air\n",
      "Кол-во уникальных значений - 19318\n",
      "Кол-во дубликатов в столбце - 120\n",
      "Кол-во пропусков: 1\n",
      "\n",
      "1.521587e-17    112\n",
      "1.158437e-16      7\n",
      "6.137256e-22      4\n",
      "2.798238e+01      1\n",
      "2.798929e+01      1\n",
      "Name: secondary_cleaner.state.floatbank3_b_air, dtype: int64\n",
      "\n",
      "\n",
      "\u001b[1mCтолбец\u001b[0m secondary_cleaner.state.floatbank3_b_level\n",
      "Кол-во уникальных значений - 19438\n",
      "Кол-во дубликатов в столбце - 0\n",
      "Кол-во пропусков: 1\n",
      "\n",
      "-556.990372    1\n",
      "-499.975230    1\n",
      "-499.990937    1\n",
      "-400.175616    1\n",
      "-499.970366    1\n",
      "Name: secondary_cleaner.state.floatbank3_b_level, dtype: int64\n",
      "\n",
      "\n",
      "\u001b[1mCтолбец\u001b[0m secondary_cleaner.state.floatbank4_a_air\n",
      "Кол-во уникальных значений - 19423\n",
      "Кол-во дубликатов в столбце - 15\n",
      "Кол-во пропусков: 6\n",
      "\n",
      "1.079872e-16    11\n",
      "2.501508e+01     1\n",
      "2.002791e+01     1\n",
      "1.799452e+01     1\n",
      "1.199035e+01     1\n",
      "Name: secondary_cleaner.state.floatbank4_a_air, dtype: int64\n",
      "\n",
      "\n",
      "\u001b[1mCтолбец\u001b[0m secondary_cleaner.state.floatbank4_a_level\n",
      "Кол-во уникальных значений - 19438\n",
      "Кол-во дубликатов в столбце - 0\n",
      "Кол-во пропусков: 1\n",
      "\n",
      "-401.581333    1\n",
      "-500.127032    1\n",
      "-498.484308    1\n",
      "-501.096142    1\n",
      "-501.089632    1\n",
      "Name: secondary_cleaner.state.floatbank4_a_level, dtype: int64\n",
      "\n",
      "\n",
      "\u001b[1mCтолбец\u001b[0m secondary_cleaner.state.floatbank4_b_air\n",
      "Кол-во уникальных значений - 19414\n",
      "Кол-во дубликатов в столбце - 24\n",
      "Кол-во пропусков: 1\n",
      "\n",
      "2.489718e-17    19\n",
      "5.048810e+00     5\n",
      "1.604826e+01     2\n",
      "8.306354e-17     2\n",
      "1.501587e+01     1\n",
      "Name: secondary_cleaner.state.floatbank4_b_air, dtype: int64\n",
      "\n",
      "\n",
      "\u001b[1mCтолбец\u001b[0m secondary_cleaner.state.floatbank4_b_level\n",
      "Кол-во уникальных значений - 19436\n",
      "Кол-во дубликатов в столбце - 2\n",
      "Кол-во пропусков: 1\n",
      "\n",
      "-799.860840    3\n",
      "-399.838895    1\n",
      "-498.835030    1\n",
      "-500.114442    1\n",
      "-500.930573    1\n",
      "Name: secondary_cleaner.state.floatbank4_b_level, dtype: int64\n",
      "\n",
      "\n",
      "\u001b[1mCтолбец\u001b[0m secondary_cleaner.state.floatbank5_a_air\n",
      "Кол-во уникальных значений - 19438\n",
      "Кол-во дубликатов в столбце - 0\n",
      "Кол-во пропусков: 1\n",
      "\n",
      "18.168120    1\n",
      "14.989600    1\n",
      "25.992650    1\n",
      "18.167317    1\n",
      "15.956810    1\n",
      "Name: secondary_cleaner.state.floatbank5_a_air, dtype: int64\n",
      "\n",
      "\n",
      "\u001b[1mCтолбец\u001b[0m secondary_cleaner.state.floatbank5_a_level\n",
      "Кол-во уникальных значений - 19438\n",
      "Кол-во дубликатов в столбце - 0\n",
      "Кол-во пропусков: 1\n",
      "\n",
      "-501.028804    1\n",
      "-449.480301    1\n",
      "-400.813249    1\n",
      "-500.139985    1\n",
      "-500.221248    1\n",
      "Name: secondary_cleaner.state.floatbank5_a_level, dtype: int64\n",
      "\n",
      "\n",
      "\u001b[1mCтолбец\u001b[0m secondary_cleaner.state.floatbank5_b_air\n",
      "Кол-во уникальных значений - 19438\n",
      "Кол-во дубликатов в столбце - 0\n",
      "Кол-во пропусков: 1\n",
      "\n",
      "9.001552     1\n",
      "23.001402    1\n",
      "6.062443     1\n",
      "20.196909    1\n",
      "5.045921     1\n",
      "Name: secondary_cleaner.state.floatbank5_b_air, dtype: int64\n",
      "\n",
      "\n",
      "\u001b[1mCтолбец\u001b[0m secondary_cleaner.state.floatbank5_b_level\n",
      "Кол-во уникальных значений - 19438\n",
      "Кол-во дубликатов в столбце - 0\n",
      "Кол-во пропусков: 1\n",
      "\n",
      "-499.898471    1\n",
      "-499.955589    1\n",
      "-500.139306    1\n",
      "-499.991064    1\n",
      "-500.197996    1\n",
      "Name: secondary_cleaner.state.floatbank5_b_level, dtype: int64\n",
      "\n",
      "\n",
      "\u001b[1mCтолбец\u001b[0m secondary_cleaner.state.floatbank6_a_air\n",
      "Кол-во уникальных значений - 19437\n",
      "Кол-во дубликатов в столбце - 1\n",
      "Кол-во пропусков: 2\n",
      "\n",
      "19.952534    1\n",
      "15.029522    1\n",
      "26.986975    1\n",
      "24.987674    1\n",
      "9.987000     1\n",
      "Name: secondary_cleaner.state.floatbank6_a_air, dtype: int64\n",
      "\n",
      "\n",
      "\u001b[1mCтолбец\u001b[0m secondary_cleaner.state.floatbank6_a_level\n",
      "Кол-во уникальных значений - 19438\n",
      "Кол-во дубликатов в столбце - 0\n",
      "Кол-во пропусков: 1\n",
      "\n",
      "-500.099152    1\n",
      "-551.325271    1\n",
      "-499.083144    1\n",
      "-499.418689    1\n",
      "-600.442534    1\n",
      "Name: secondary_cleaner.state.floatbank6_a_level, dtype: int64\n",
      "\n"
     ]
    }
   ],
   "source": [
    "check(data_full)"
   ]
  },
  {
   "cell_type": "code",
   "execution_count": 19,
   "metadata": {},
   "outputs": [
    {
     "data": {
      "text/html": [
       "<div>\n",
       "<style scoped>\n",
       "    .dataframe tbody tr th:only-of-type {\n",
       "        vertical-align: middle;\n",
       "    }\n",
       "\n",
       "    .dataframe tbody tr th {\n",
       "        vertical-align: top;\n",
       "    }\n",
       "\n",
       "    .dataframe thead th {\n",
       "        text-align: right;\n",
       "    }\n",
       "</style>\n",
       "<table border=\"1\" class=\"dataframe\">\n",
       "  <thead>\n",
       "    <tr style=\"text-align: right;\">\n",
       "      <th></th>\n",
       "      <th>count</th>\n",
       "      <th>mean</th>\n",
       "      <th>std</th>\n",
       "      <th>min</th>\n",
       "      <th>25%</th>\n",
       "      <th>50%</th>\n",
       "      <th>75%</th>\n",
       "      <th>max</th>\n",
       "    </tr>\n",
       "  </thead>\n",
       "  <tbody>\n",
       "    <tr>\n",
       "      <td>final.output.concentrate_ag</td>\n",
       "      <td>19438.0</td>\n",
       "      <td>5.168470</td>\n",
       "      <td>1.372348</td>\n",
       "      <td>0.000000</td>\n",
       "      <td>4.251240</td>\n",
       "      <td>5.066094</td>\n",
       "      <td>5.895527</td>\n",
       "      <td>16.001945</td>\n",
       "    </tr>\n",
       "    <tr>\n",
       "      <td>final.output.concentrate_pb</td>\n",
       "      <td>19438.0</td>\n",
       "      <td>9.978895</td>\n",
       "      <td>1.669240</td>\n",
       "      <td>0.000000</td>\n",
       "      <td>9.137262</td>\n",
       "      <td>10.102433</td>\n",
       "      <td>11.035769</td>\n",
       "      <td>17.031899</td>\n",
       "    </tr>\n",
       "    <tr>\n",
       "      <td>final.output.concentrate_sol</td>\n",
       "      <td>19228.0</td>\n",
       "      <td>9.501224</td>\n",
       "      <td>2.787537</td>\n",
       "      <td>0.000000</td>\n",
       "      <td>7.722820</td>\n",
       "      <td>9.218961</td>\n",
       "      <td>10.947813</td>\n",
       "      <td>19.615720</td>\n",
       "    </tr>\n",
       "    <tr>\n",
       "      <td>final.output.concentrate_au</td>\n",
       "      <td>19439.0</td>\n",
       "      <td>44.076513</td>\n",
       "      <td>5.129784</td>\n",
       "      <td>0.000000</td>\n",
       "      <td>43.402215</td>\n",
       "      <td>45.011244</td>\n",
       "      <td>46.275313</td>\n",
       "      <td>52.756638</td>\n",
       "    </tr>\n",
       "    <tr>\n",
       "      <td>final.output.recovery</td>\n",
       "      <td>19439.0</td>\n",
       "      <td>67.050208</td>\n",
       "      <td>10.125840</td>\n",
       "      <td>0.000000</td>\n",
       "      <td>63.299712</td>\n",
       "      <td>68.172738</td>\n",
       "      <td>72.686642</td>\n",
       "      <td>100.000000</td>\n",
       "    </tr>\n",
       "    <tr>\n",
       "      <td>...</td>\n",
       "      <td>...</td>\n",
       "      <td>...</td>\n",
       "      <td>...</td>\n",
       "      <td>...</td>\n",
       "      <td>...</td>\n",
       "      <td>...</td>\n",
       "      <td>...</td>\n",
       "      <td>...</td>\n",
       "    </tr>\n",
       "    <tr>\n",
       "      <td>secondary_cleaner.state.floatbank5_a_level</td>\n",
       "      <td>19438.0</td>\n",
       "      <td>-488.684065</td>\n",
       "      <td>34.533396</td>\n",
       "      <td>-797.323986</td>\n",
       "      <td>-500.458467</td>\n",
       "      <td>-499.802605</td>\n",
       "      <td>-498.384187</td>\n",
       "      <td>-244.483566</td>\n",
       "    </tr>\n",
       "    <tr>\n",
       "      <td>secondary_cleaner.state.floatbank5_b_air</td>\n",
       "      <td>19438.0</td>\n",
       "      <td>12.198224</td>\n",
       "      <td>5.333024</td>\n",
       "      <td>0.528083</td>\n",
       "      <td>8.971105</td>\n",
       "      <td>11.019433</td>\n",
       "      <td>14.019088</td>\n",
       "      <td>27.926001</td>\n",
       "    </tr>\n",
       "    <tr>\n",
       "      <td>secondary_cleaner.state.floatbank5_b_level</td>\n",
       "      <td>19438.0</td>\n",
       "      <td>-487.149827</td>\n",
       "      <td>38.347312</td>\n",
       "      <td>-800.220337</td>\n",
       "      <td>-500.129462</td>\n",
       "      <td>-499.935317</td>\n",
       "      <td>-499.436708</td>\n",
       "      <td>-137.740004</td>\n",
       "    </tr>\n",
       "    <tr>\n",
       "      <td>secondary_cleaner.state.floatbank6_a_air</td>\n",
       "      <td>19437.0</td>\n",
       "      <td>18.959024</td>\n",
       "      <td>5.550498</td>\n",
       "      <td>-0.079426</td>\n",
       "      <td>14.983037</td>\n",
       "      <td>19.960541</td>\n",
       "      <td>24.003170</td>\n",
       "      <td>32.188906</td>\n",
       "    </tr>\n",
       "    <tr>\n",
       "      <td>secondary_cleaner.state.floatbank6_a_level</td>\n",
       "      <td>19438.0</td>\n",
       "      <td>-505.436305</td>\n",
       "      <td>37.689057</td>\n",
       "      <td>-809.741464</td>\n",
       "      <td>-500.728067</td>\n",
       "      <td>-500.048400</td>\n",
       "      <td>-499.495378</td>\n",
       "      <td>-104.427459</td>\n",
       "    </tr>\n",
       "  </tbody>\n",
       "</table>\n",
       "<p>86 rows × 8 columns</p>\n",
       "</div>"
      ],
      "text/plain": [
       "                                              count        mean        std  \\\n",
       "final.output.concentrate_ag                 19438.0    5.168470   1.372348   \n",
       "final.output.concentrate_pb                 19438.0    9.978895   1.669240   \n",
       "final.output.concentrate_sol                19228.0    9.501224   2.787537   \n",
       "final.output.concentrate_au                 19439.0   44.076513   5.129784   \n",
       "final.output.recovery                       19439.0   67.050208  10.125840   \n",
       "...                                             ...         ...        ...   \n",
       "secondary_cleaner.state.floatbank5_a_level  19438.0 -488.684065  34.533396   \n",
       "secondary_cleaner.state.floatbank5_b_air    19438.0   12.198224   5.333024   \n",
       "secondary_cleaner.state.floatbank5_b_level  19438.0 -487.149827  38.347312   \n",
       "secondary_cleaner.state.floatbank6_a_air    19437.0   18.959024   5.550498   \n",
       "secondary_cleaner.state.floatbank6_a_level  19438.0 -505.436305  37.689057   \n",
       "\n",
       "                                                   min         25%  \\\n",
       "final.output.concentrate_ag                   0.000000    4.251240   \n",
       "final.output.concentrate_pb                   0.000000    9.137262   \n",
       "final.output.concentrate_sol                  0.000000    7.722820   \n",
       "final.output.concentrate_au                   0.000000   43.402215   \n",
       "final.output.recovery                         0.000000   63.299712   \n",
       "...                                                ...         ...   \n",
       "secondary_cleaner.state.floatbank5_a_level -797.323986 -500.458467   \n",
       "secondary_cleaner.state.floatbank5_b_air      0.528083    8.971105   \n",
       "secondary_cleaner.state.floatbank5_b_level -800.220337 -500.129462   \n",
       "secondary_cleaner.state.floatbank6_a_air     -0.079426   14.983037   \n",
       "secondary_cleaner.state.floatbank6_a_level -809.741464 -500.728067   \n",
       "\n",
       "                                                   50%         75%         max  \n",
       "final.output.concentrate_ag                   5.066094    5.895527   16.001945  \n",
       "final.output.concentrate_pb                  10.102433   11.035769   17.031899  \n",
       "final.output.concentrate_sol                  9.218961   10.947813   19.615720  \n",
       "final.output.concentrate_au                  45.011244   46.275313   52.756638  \n",
       "final.output.recovery                        68.172738   72.686642  100.000000  \n",
       "...                                                ...         ...         ...  \n",
       "secondary_cleaner.state.floatbank5_a_level -499.802605 -498.384187 -244.483566  \n",
       "secondary_cleaner.state.floatbank5_b_air     11.019433   14.019088   27.926001  \n",
       "secondary_cleaner.state.floatbank5_b_level -499.935317 -499.436708 -137.740004  \n",
       "secondary_cleaner.state.floatbank6_a_air     19.960541   24.003170   32.188906  \n",
       "secondary_cleaner.state.floatbank6_a_level -500.048400 -499.495378 -104.427459  \n",
       "\n",
       "[86 rows x 8 columns]"
      ]
     },
     "execution_count": 19,
     "metadata": {},
     "output_type": "execute_result"
    }
   ],
   "source": [
    "data_full.describe().T"
   ]
  },
  {
   "cell_type": "code",
   "execution_count": 20,
   "metadata": {},
   "outputs": [
    {
     "data": {
      "text/html": [
       "<div>\n",
       "<style scoped>\n",
       "    .dataframe tbody tr th:only-of-type {\n",
       "        vertical-align: middle;\n",
       "    }\n",
       "\n",
       "    .dataframe tbody tr th {\n",
       "        vertical-align: top;\n",
       "    }\n",
       "\n",
       "    .dataframe thead th {\n",
       "        text-align: right;\n",
       "    }\n",
       "</style>\n",
       "<table border=\"1\" class=\"dataframe\">\n",
       "  <thead>\n",
       "    <tr style=\"text-align: right;\">\n",
       "      <th></th>\n",
       "      <th>date</th>\n",
       "      <th>final.output.concentrate_ag</th>\n",
       "      <th>final.output.concentrate_pb</th>\n",
       "      <th>final.output.concentrate_sol</th>\n",
       "      <th>final.output.concentrate_au</th>\n",
       "      <th>final.output.recovery</th>\n",
       "      <th>final.output.tail_ag</th>\n",
       "      <th>final.output.tail_pb</th>\n",
       "      <th>final.output.tail_sol</th>\n",
       "      <th>final.output.tail_au</th>\n",
       "      <th>...</th>\n",
       "      <th>secondary_cleaner.state.floatbank4_a_air</th>\n",
       "      <th>secondary_cleaner.state.floatbank4_a_level</th>\n",
       "      <th>secondary_cleaner.state.floatbank4_b_air</th>\n",
       "      <th>secondary_cleaner.state.floatbank4_b_level</th>\n",
       "      <th>secondary_cleaner.state.floatbank5_a_air</th>\n",
       "      <th>secondary_cleaner.state.floatbank5_a_level</th>\n",
       "      <th>secondary_cleaner.state.floatbank5_b_air</th>\n",
       "      <th>secondary_cleaner.state.floatbank5_b_level</th>\n",
       "      <th>secondary_cleaner.state.floatbank6_a_air</th>\n",
       "      <th>secondary_cleaner.state.floatbank6_a_level</th>\n",
       "    </tr>\n",
       "  </thead>\n",
       "  <tbody>\n",
       "    <tr>\n",
       "      <td>0</td>\n",
       "      <td>2016-01-15 00:00:00</td>\n",
       "      <td>6.055403</td>\n",
       "      <td>9.889648</td>\n",
       "      <td>5.507324</td>\n",
       "      <td>42.192020</td>\n",
       "      <td>70.541216</td>\n",
       "      <td>10.411962</td>\n",
       "      <td>0.895447</td>\n",
       "      <td>16.904297</td>\n",
       "      <td>2.143149</td>\n",
       "      <td>...</td>\n",
       "      <td>14.016835</td>\n",
       "      <td>-502.488007</td>\n",
       "      <td>12.099931</td>\n",
       "      <td>-504.715942</td>\n",
       "      <td>9.925633</td>\n",
       "      <td>-498.310211</td>\n",
       "      <td>8.079666</td>\n",
       "      <td>-500.470978</td>\n",
       "      <td>14.151341</td>\n",
       "      <td>-605.841980</td>\n",
       "    </tr>\n",
       "    <tr>\n",
       "      <td>1</td>\n",
       "      <td>2016-01-15 01:00:00</td>\n",
       "      <td>6.029369</td>\n",
       "      <td>9.968944</td>\n",
       "      <td>5.257781</td>\n",
       "      <td>42.701629</td>\n",
       "      <td>69.266198</td>\n",
       "      <td>10.462676</td>\n",
       "      <td>0.927452</td>\n",
       "      <td>16.634514</td>\n",
       "      <td>2.224930</td>\n",
       "      <td>...</td>\n",
       "      <td>13.992281</td>\n",
       "      <td>-505.503262</td>\n",
       "      <td>11.950531</td>\n",
       "      <td>-501.331529</td>\n",
       "      <td>10.039245</td>\n",
       "      <td>-500.169983</td>\n",
       "      <td>7.984757</td>\n",
       "      <td>-500.582168</td>\n",
       "      <td>13.998353</td>\n",
       "      <td>-599.787184</td>\n",
       "    </tr>\n",
       "    <tr>\n",
       "      <td>2</td>\n",
       "      <td>2016-01-15 02:00:00</td>\n",
       "      <td>6.055926</td>\n",
       "      <td>10.213995</td>\n",
       "      <td>5.383759</td>\n",
       "      <td>42.657501</td>\n",
       "      <td>68.116445</td>\n",
       "      <td>10.507046</td>\n",
       "      <td>0.953716</td>\n",
       "      <td>16.208849</td>\n",
       "      <td>2.257889</td>\n",
       "      <td>...</td>\n",
       "      <td>14.015015</td>\n",
       "      <td>-502.520901</td>\n",
       "      <td>11.912783</td>\n",
       "      <td>-501.133383</td>\n",
       "      <td>10.070913</td>\n",
       "      <td>-500.129135</td>\n",
       "      <td>8.013877</td>\n",
       "      <td>-500.517572</td>\n",
       "      <td>14.028663</td>\n",
       "      <td>-601.427363</td>\n",
       "    </tr>\n",
       "    <tr>\n",
       "      <td>3</td>\n",
       "      <td>2016-01-15 03:00:00</td>\n",
       "      <td>6.047977</td>\n",
       "      <td>9.977019</td>\n",
       "      <td>4.858634</td>\n",
       "      <td>42.689819</td>\n",
       "      <td>68.347543</td>\n",
       "      <td>10.422762</td>\n",
       "      <td>0.883763</td>\n",
       "      <td>16.532835</td>\n",
       "      <td>2.146849</td>\n",
       "      <td>...</td>\n",
       "      <td>14.036510</td>\n",
       "      <td>-500.857308</td>\n",
       "      <td>11.999550</td>\n",
       "      <td>-501.193686</td>\n",
       "      <td>9.970366</td>\n",
       "      <td>-499.201640</td>\n",
       "      <td>7.977324</td>\n",
       "      <td>-500.255908</td>\n",
       "      <td>14.005551</td>\n",
       "      <td>-599.996129</td>\n",
       "    </tr>\n",
       "    <tr>\n",
       "      <td>4</td>\n",
       "      <td>2016-01-15 04:00:00</td>\n",
       "      <td>6.148599</td>\n",
       "      <td>10.142511</td>\n",
       "      <td>4.939416</td>\n",
       "      <td>42.774141</td>\n",
       "      <td>66.927016</td>\n",
       "      <td>10.360302</td>\n",
       "      <td>0.792826</td>\n",
       "      <td>16.525686</td>\n",
       "      <td>2.055292</td>\n",
       "      <td>...</td>\n",
       "      <td>14.027298</td>\n",
       "      <td>-499.838632</td>\n",
       "      <td>11.953070</td>\n",
       "      <td>-501.053894</td>\n",
       "      <td>9.925709</td>\n",
       "      <td>-501.686727</td>\n",
       "      <td>7.894242</td>\n",
       "      <td>-500.356035</td>\n",
       "      <td>13.996647</td>\n",
       "      <td>-601.496691</td>\n",
       "    </tr>\n",
       "  </tbody>\n",
       "</table>\n",
       "<p>5 rows × 87 columns</p>\n",
       "</div>"
      ],
      "text/plain": [
       "                 date  final.output.concentrate_ag  \\\n",
       "0 2016-01-15 00:00:00                     6.055403   \n",
       "1 2016-01-15 01:00:00                     6.029369   \n",
       "2 2016-01-15 02:00:00                     6.055926   \n",
       "3 2016-01-15 03:00:00                     6.047977   \n",
       "4 2016-01-15 04:00:00                     6.148599   \n",
       "\n",
       "   final.output.concentrate_pb  final.output.concentrate_sol  \\\n",
       "0                     9.889648                      5.507324   \n",
       "1                     9.968944                      5.257781   \n",
       "2                    10.213995                      5.383759   \n",
       "3                     9.977019                      4.858634   \n",
       "4                    10.142511                      4.939416   \n",
       "\n",
       "   final.output.concentrate_au  final.output.recovery  final.output.tail_ag  \\\n",
       "0                    42.192020              70.541216             10.411962   \n",
       "1                    42.701629              69.266198             10.462676   \n",
       "2                    42.657501              68.116445             10.507046   \n",
       "3                    42.689819              68.347543             10.422762   \n",
       "4                    42.774141              66.927016             10.360302   \n",
       "\n",
       "   final.output.tail_pb  final.output.tail_sol  final.output.tail_au  ...  \\\n",
       "0              0.895447              16.904297              2.143149  ...   \n",
       "1              0.927452              16.634514              2.224930  ...   \n",
       "2              0.953716              16.208849              2.257889  ...   \n",
       "3              0.883763              16.532835              2.146849  ...   \n",
       "4              0.792826              16.525686              2.055292  ...   \n",
       "\n",
       "   secondary_cleaner.state.floatbank4_a_air  \\\n",
       "0                                 14.016835   \n",
       "1                                 13.992281   \n",
       "2                                 14.015015   \n",
       "3                                 14.036510   \n",
       "4                                 14.027298   \n",
       "\n",
       "   secondary_cleaner.state.floatbank4_a_level  \\\n",
       "0                                 -502.488007   \n",
       "1                                 -505.503262   \n",
       "2                                 -502.520901   \n",
       "3                                 -500.857308   \n",
       "4                                 -499.838632   \n",
       "\n",
       "   secondary_cleaner.state.floatbank4_b_air  \\\n",
       "0                                 12.099931   \n",
       "1                                 11.950531   \n",
       "2                                 11.912783   \n",
       "3                                 11.999550   \n",
       "4                                 11.953070   \n",
       "\n",
       "   secondary_cleaner.state.floatbank4_b_level  \\\n",
       "0                                 -504.715942   \n",
       "1                                 -501.331529   \n",
       "2                                 -501.133383   \n",
       "3                                 -501.193686   \n",
       "4                                 -501.053894   \n",
       "\n",
       "   secondary_cleaner.state.floatbank5_a_air  \\\n",
       "0                                  9.925633   \n",
       "1                                 10.039245   \n",
       "2                                 10.070913   \n",
       "3                                  9.970366   \n",
       "4                                  9.925709   \n",
       "\n",
       "   secondary_cleaner.state.floatbank5_a_level  \\\n",
       "0                                 -498.310211   \n",
       "1                                 -500.169983   \n",
       "2                                 -500.129135   \n",
       "3                                 -499.201640   \n",
       "4                                 -501.686727   \n",
       "\n",
       "   secondary_cleaner.state.floatbank5_b_air  \\\n",
       "0                                  8.079666   \n",
       "1                                  7.984757   \n",
       "2                                  8.013877   \n",
       "3                                  7.977324   \n",
       "4                                  7.894242   \n",
       "\n",
       "   secondary_cleaner.state.floatbank5_b_level  \\\n",
       "0                                 -500.470978   \n",
       "1                                 -500.582168   \n",
       "2                                 -500.517572   \n",
       "3                                 -500.255908   \n",
       "4                                 -500.356035   \n",
       "\n",
       "   secondary_cleaner.state.floatbank6_a_air  \\\n",
       "0                                 14.151341   \n",
       "1                                 13.998353   \n",
       "2                                 14.028663   \n",
       "3                                 14.005551   \n",
       "4                                 13.996647   \n",
       "\n",
       "   secondary_cleaner.state.floatbank6_a_level  \n",
       "0                                 -605.841980  \n",
       "1                                 -599.787184  \n",
       "2                                 -601.427363  \n",
       "3                                 -599.996129  \n",
       "4                                 -601.496691  \n",
       "\n",
       "[5 rows x 87 columns]"
      ]
     },
     "execution_count": 20,
     "metadata": {},
     "output_type": "execute_result"
    }
   ],
   "source": [
    "data_train['date'] = pd.to_datetime(data_train['date'], format='%Y-%m-%dT%H:%M:%S')\n",
    "data_full['date'] = pd.to_datetime(data_full['date'], format='%Y-%m-%dT%H:%M:%S')\n",
    "data_test['date'] = pd.to_datetime(data_test['date'], format='%Y-%m-%dT%H:%M:%S')\n",
    "data_full.head()"
   ]
  },
  {
   "cell_type": "markdown",
   "metadata": {},
   "source": [
    "**Промежуточные выводы**: имеются пропуски (23%), обработаем их перед обучением моделей. Изменили формат столбца date. "
   ]
  },
  {
   "cell_type": "markdown",
   "metadata": {},
   "source": [
    "## Анализ данных"
   ]
  },
  {
   "cell_type": "markdown",
   "metadata": {},
   "source": [
    "### Концентрация металов (Au, Ag, Pb) на различных этапах"
   ]
  },
  {
   "cell_type": "code",
   "execution_count": 21,
   "metadata": {},
   "outputs": [
    {
     "name": "stdout",
     "output_type": "stream",
     "text": [
      "Концентрация до флотации\n",
      "Серебро: 8.79, Свинец: 3.60, Золото: 8.27\n",
      "\n",
      "Концентрация после флотации\n",
      "Серебро: 11.99, Свинец: 7.61, Золото: 19.77\n",
      "\n",
      "Концентрация после первичной очистки\n",
      "Серебро: 8.44, Свинец: 9.83, Золото: 32.12\n",
      "\n",
      "Концентрация поле вторичной очистки\n",
      "Серебро: 5.17, Свинец: 9.98, Золото: 44.08\n"
     ]
    }
   ],
   "source": [
    "print('Концентрация до флотации')\n",
    "print('Серебро:{: 0.2f}, Свинец:{: 0.2f}, Золото:{: 0.2f}'.\n",
    "format(data_full['rougher.input.feed_ag'].mean(),\n",
    "data_full['rougher.input.feed_pb'].mean(),\n",
    "data_full['rougher.input.feed_au'].mean()))\n",
    "print()\n",
    "print('Концентрация после флотации')\n",
    "print('Серебро:{: 0.2f}, Свинец:{: 0.2f}, Золото:{: 0.2f}'.\n",
    "format(data_full[\"rougher.output.concentrate_ag\"].mean(),\n",
    "data_full[\"rougher.output.concentrate_pb\"].mean(),\n",
    "data_full[\"rougher.output.concentrate_au\"].mean()))\n",
    "print()\n",
    "print('Концентрация после первичной очистки')\n",
    "print('Серебро:{: 0.2f}, Свинец:{: 0.2f}, Золото:{: 0.2f}'.\n",
    "format(data_full['primary_cleaner.output.concentrate_ag'].mean(),\n",
    "data_full['primary_cleaner.output.concentrate_pb'].mean(),\n",
    "data_full['primary_cleaner.output.concentrate_au'].mean()))\n",
    "print()\n",
    "print('Концентрация поле вторичной очистки')\n",
    "print('Серебро:{: 0.2f}, Свинец:{: 0.2f}, Золото:{: 0.2f}'.\n",
    "format(data_full['final.output.concentrate_ag'].mean(),\n",
    "data_full['final.output.concentrate_pb'].mean(),\n",
    "data_full['final.output.concentrate_au'].mean()))"
   ]
  },
  {
   "cell_type": "code",
   "execution_count": 22,
   "metadata": {},
   "outputs": [
    {
     "data": {
      "text/html": [
       "<div>\n",
       "<style scoped>\n",
       "    .dataframe tbody tr th:only-of-type {\n",
       "        vertical-align: middle;\n",
       "    }\n",
       "\n",
       "    .dataframe tbody tr th {\n",
       "        vertical-align: top;\n",
       "    }\n",
       "\n",
       "    .dataframe thead th {\n",
       "        text-align: right;\n",
       "    }\n",
       "</style>\n",
       "<table border=\"1\" class=\"dataframe\">\n",
       "  <thead>\n",
       "    <tr style=\"text-align: right;\">\n",
       "      <th></th>\n",
       "      <th>rougher.input</th>\n",
       "      <th>rougher.output</th>\n",
       "      <th>primary_cleaner.output</th>\n",
       "      <th>final.output</th>\n",
       "    </tr>\n",
       "  </thead>\n",
       "  <tbody>\n",
       "    <tr>\n",
       "      <td>0</td>\n",
       "      <td>2.284912</td>\n",
       "      <td>7.101074</td>\n",
       "      <td>10.389648</td>\n",
       "      <td>9.889648</td>\n",
       "    </tr>\n",
       "    <tr>\n",
       "      <td>1</td>\n",
       "      <td>2.266033</td>\n",
       "      <td>7.278807</td>\n",
       "      <td>10.497069</td>\n",
       "      <td>9.968944</td>\n",
       "    </tr>\n",
       "    <tr>\n",
       "      <td>2</td>\n",
       "      <td>2.159622</td>\n",
       "      <td>7.216833</td>\n",
       "      <td>10.354494</td>\n",
       "      <td>10.213995</td>\n",
       "    </tr>\n",
       "    <tr>\n",
       "      <td>3</td>\n",
       "      <td>2.037807</td>\n",
       "      <td>7.175616</td>\n",
       "      <td>8.496563</td>\n",
       "      <td>9.977019</td>\n",
       "    </tr>\n",
       "    <tr>\n",
       "      <td>4</td>\n",
       "      <td>1.786875</td>\n",
       "      <td>7.240205</td>\n",
       "      <td>9.986786</td>\n",
       "      <td>10.142511</td>\n",
       "    </tr>\n",
       "  </tbody>\n",
       "</table>\n",
       "</div>"
      ],
      "text/plain": [
       "   rougher.input  rougher.output  primary_cleaner.output  final.output\n",
       "0       2.284912        7.101074               10.389648      9.889648\n",
       "1       2.266033        7.278807               10.497069      9.968944\n",
       "2       2.159622        7.216833               10.354494     10.213995\n",
       "3       2.037807        7.175616                8.496563      9.977019\n",
       "4       1.786875        7.240205                9.986786     10.142511"
      ]
     },
     "execution_count": 22,
     "metadata": {},
     "output_type": "execute_result"
    }
   ],
   "source": [
    "ag = pd.DataFrame({'rougher.input': data_full['rougher.input.feed_ag'], 'rougher.output': data_full['rougher.output.concentrate_ag'], 'primary_cleaner.output': data_full['primary_cleaner.output.concentrate_ag'], 'final.output': data_full['final.output.concentrate_ag']})\n",
    "\n",
    "au = pd.DataFrame({'rougher.input': data_full['rougher.input.feed_au'], 'rougher.output': data_full['rougher.output.concentrate_au'], 'primary_cleaner.output': data_full['primary_cleaner.output.concentrate_au'], 'final.output': data_full['final.output.concentrate_au']})\n",
    "\n",
    "pb = pd.DataFrame({'rougher.input': data_full['rougher.input.feed_pb'], 'rougher.output': data_full['rougher.output.concentrate_pb'], 'primary_cleaner.output': data_full['primary_cleaner.output.concentrate_pb'], 'final.output': data_full['final.output.concentrate_pb']})\n",
    "\n",
    "pb.head()"
   ]
  },
  {
   "cell_type": "markdown",
   "metadata": {},
   "source": [
    "#### Графики"
   ]
  },
  {
   "cell_type": "code",
   "execution_count": 23,
   "metadata": {},
   "outputs": [],
   "source": [
    "def concentrate(data):\n",
    "    fig, ax = plt.subplots(1,4, sharey=True, figsize=(20,7))\n",
    "    \n",
    "    columns = data.columns\n",
    "\n",
    "    for i in range(len(columns)):\n",
    "    \n",
    "        sns.barplot(y=columns[i], ax=ax[i], data=data)\n",
    "        ax[i].set_xlabel(columns[i])\n",
    "        ax[i].set_ylabel('')\n",
    "    \n",
    "        fig.show()"
   ]
  },
  {
   "cell_type": "code",
   "execution_count": 24,
   "metadata": {},
   "outputs": [
    {
     "data": {
      "image/png": "[encoded data removed]",
      "text/plain": [
       "<Figure size 1440x504 with 4 Axes>"
      ]
     },
     "metadata": {},
     "output_type": "display_data"
    }
   ],
   "source": [
    "concentrate(ag)"
   ]
  },
  {
   "cell_type": "code",
   "execution_count": 25,
   "metadata": {},
   "outputs": [
    {
     "data": {
      "image/png": "[encoded data removed]",
      "text/plain": [
       "<Figure size 1440x504 with 4 Axes>"
      ]
     },
     "metadata": {},
     "output_type": "display_data"
    }
   ],
   "source": [
    "concentrate(au)"
   ]
  },
  {
   "cell_type": "code",
   "execution_count": 26,
   "metadata": {},
   "outputs": [
    {
     "data": {
      "image/png": "[encoded data removed]",
      "text/plain": [
       "<Figure size 1440x504 with 4 Axes>"
      ]
     },
     "metadata": {},
     "output_type": "display_data"
    }
   ],
   "source": [
    "concentrate(pb)"
   ]
  },
  {
   "cell_type": "markdown",
   "metadata": {},
   "source": [
    "**Промежуточные выводы**: С каждым этапом увеличивается концентрация золота и свинца, а концентрация серебра уменьшается."
   ]
  },
  {
   "cell_type": "markdown",
   "metadata": {},
   "source": [
    "### Распределение размеров гранул на обучающей и тестовой выборках"
   ]
  },
  {
   "cell_type": "markdown",
   "metadata": {},
   "source": [
    "Построим графики для наглядности"
   ]
  },
  {
   "cell_type": "code",
   "execution_count": 27,
   "metadata": {},
   "outputs": [
    {
     "data": {
      "image/png": "[encoded data removed]",
      "text/plain": [
       "<Figure size 1440x720 with 1 Axes>"
      ]
     },
     "metadata": {},
     "output_type": "display_data"
    },
    {
     "data": {
      "image/png": "[encoded data removed]",
      "text/plain": [
       "<Figure size 1440x720 with 2 Axes>"
      ]
     },
     "metadata": {},
     "output_type": "display_data"
    }
   ],
   "source": [
    "plt.figure(figsize=(20,10))\n",
    "plt.suptitle('Сравнение распределенений размеров гранул');\n",
    "sns.distplot(data_train['rougher.input.feed_size'].dropna(), label='train')\n",
    "sns.distplot(data_test['rougher.input.feed_size'].dropna(), label='test')\n",
    "plt.legend()\n",
    "\n",
    "fig, ax = plt.subplots(1,2, sharey=True, figsize=(20,10))\n",
    "\n",
    "sns.violinplot(y='rougher.input.feed_size', linewidth=2.5, data=data_train, ax=ax[0])\n",
    "ax[0].set_xlabel('Тренировочная выборка')\n",
    "ax[0].set_ylabel('')\n",
    "\n",
    "sns.violinplot(y='rougher.input.feed_size', linewidth=2.5, data=data_test, ax=ax[1])\n",
    "ax[1].set_xlabel('Tестовая выборка')\n",
    "ax[1].set_ylabel('')\n",
    "\n",
    "plt.suptitle('Сравнение распределенений размеров гранул');"
   ]
  },
  {
   "cell_type": "markdown",
   "metadata": {},
   "source": [
    "**Промежуточные выводы**: Видим, что имеются выбросы, но как видно из графиков оба средних значения попадают в один диапазон, что может говорить об примерном равном распределении в обоих выборках."
   ]
  },
  {
   "cell_type": "markdown",
   "metadata": {},
   "source": [
    "### Суммарная концентрация всех веществ на разных стадиях"
   ]
  },
  {
   "cell_type": "code",
   "execution_count": 28,
   "metadata": {},
   "outputs": [
    {
     "data": {
      "text/html": [
       "<div>\n",
       "<style scoped>\n",
       "    .dataframe tbody tr th:only-of-type {\n",
       "        vertical-align: middle;\n",
       "    }\n",
       "\n",
       "    .dataframe tbody tr th {\n",
       "        vertical-align: top;\n",
       "    }\n",
       "\n",
       "    .dataframe thead th {\n",
       "        text-align: right;\n",
       "    }\n",
       "</style>\n",
       "<table border=\"1\" class=\"dataframe\">\n",
       "  <thead>\n",
       "    <tr style=\"text-align: right;\">\n",
       "      <th></th>\n",
       "      <th>Сырье</th>\n",
       "      <th>Черновой</th>\n",
       "      <th>Финальный</th>\n",
       "    </tr>\n",
       "  </thead>\n",
       "  <tbody>\n",
       "    <tr>\n",
       "      <td>0</td>\n",
       "      <td>51.680034</td>\n",
       "      <td>66.424950</td>\n",
       "      <td>63.644396</td>\n",
       "    </tr>\n",
       "    <tr>\n",
       "      <td>1</td>\n",
       "      <td>50.659114</td>\n",
       "      <td>67.012710</td>\n",
       "      <td>63.957723</td>\n",
       "    </tr>\n",
       "    <tr>\n",
       "      <td>2</td>\n",
       "      <td>50.609929</td>\n",
       "      <td>66.103793</td>\n",
       "      <td>64.311180</td>\n",
       "    </tr>\n",
       "    <tr>\n",
       "      <td>3</td>\n",
       "      <td>51.061546</td>\n",
       "      <td>65.752751</td>\n",
       "      <td>63.573449</td>\n",
       "    </tr>\n",
       "    <tr>\n",
       "      <td>4</td>\n",
       "      <td>47.859163</td>\n",
       "      <td>65.908382</td>\n",
       "      <td>64.004667</td>\n",
       "    </tr>\n",
       "  </tbody>\n",
       "</table>\n",
       "</div>"
      ],
      "text/plain": [
       "       Сырье   Черновой  Финальный\n",
       "0  51.680034  66.424950  63.644396\n",
       "1  50.659114  67.012710  63.957723\n",
       "2  50.609929  66.103793  64.311180\n",
       "3  51.061546  65.752751  63.573449\n",
       "4  47.859163  65.908382  64.004667"
      ]
     },
     "execution_count": 28,
     "metadata": {},
     "output_type": "execute_result"
    }
   ],
   "source": [
    "sum_conc = pd.DataFrame()\n",
    "\n",
    "sum_conc['Сырье'] = data_full[['rougher.input.feed_au', \n",
    "                               'rougher.input.feed_ag', \n",
    "                               'rougher.input.feed_pb',\n",
    "                              'rougher.input.feed_sol'] ].sum(axis=1)\n",
    "sum_conc['Черновой'] = data_full[['rougher.output.concentrate_au', \n",
    "                                'rougher.output.concentrate_ag', \n",
    "                                'rougher.output.concentrate_pb',\n",
    "                               'rougher.output.concentrate_sol']].sum(axis=1)\n",
    "\n",
    "sum_conc['Финальный'] = data_full[['final.output.concentrate_au', \n",
    "                               'final.output.concentrate_ag',\n",
    "                               'final.output.concentrate_pb',\n",
    "                               'final.output.concentrate_sol']].sum(axis=1)\n",
    "\n",
    "sum_conc.head()"
   ]
  },
  {
   "cell_type": "code",
   "execution_count": 29,
   "metadata": {},
   "outputs": [
    {
     "data": {
      "text/plain": [
       "<matplotlib.axes._subplots.AxesSubplot at 0x7fa2c62a6090>"
      ]
     },
     "execution_count": 29,
     "metadata": {},
     "output_type": "execute_result"
    },
    {
     "data": {
      "image/png": "[encoded data removed]",
      "text/plain": [
       "<Figure size 1440x720 with 1 Axes>"
      ]
     },
     "metadata": {},
     "output_type": "display_data"
    }
   ],
   "source": [
    "plt.figure(figsize=(20,10))\n",
    "plt.title('Суммарная концентрация всех веществ на разных стадиях', \n",
    "          fontsize='xx-large')\n",
    "sns.violinplot(data=sum_conc)"
   ]
  },
  {
   "cell_type": "code",
   "execution_count": 101,
   "metadata": {},
   "outputs": [],
   "source": [
    "sum_new = sum_conc[sum_conc[['Сырье','Черновой','Финальный']] > 0]"
   ]
  },
  {
   "cell_type": "code",
   "execution_count": 102,
   "metadata": {},
   "outputs": [
    {
     "data": {
      "text/plain": [
       "<matplotlib.axes._subplots.AxesSubplot at 0x7fa2c27ce850>"
      ]
     },
     "execution_count": 102,
     "metadata": {},
     "output_type": "execute_result"
    },
    {
     "data": {
      "image/png": "[encoded data removed]",
      "text/plain": [
       "<Figure size 1440x720 with 1 Axes>"
      ]
     },
     "metadata": {},
     "output_type": "display_data"
    }
   ],
   "source": [
    "plt.figure(figsize=(20,10))\n",
    "plt.title('Суммарная концентрация без нулевых значений', \n",
    "          fontsize='xx-large')\n",
    "sns.violinplot(data=sum_new)"
   ]
  },
  {
   "cell_type": "code",
   "execution_count": 124,
   "metadata": {},
   "outputs": [
    {
     "data": {
      "text/html": [
       "<div>\n",
       "<style scoped>\n",
       "    .dataframe tbody tr th:only-of-type {\n",
       "        vertical-align: middle;\n",
       "    }\n",
       "\n",
       "    .dataframe tbody tr th {\n",
       "        vertical-align: top;\n",
       "    }\n",
       "\n",
       "    .dataframe thead th {\n",
       "        text-align: right;\n",
       "    }\n",
       "</style>\n",
       "<table border=\"1\" class=\"dataframe\">\n",
       "  <thead>\n",
       "    <tr style=\"text-align: right;\">\n",
       "      <th></th>\n",
       "      <th>Сырье</th>\n",
       "      <th>Черновой</th>\n",
       "      <th>Финальный</th>\n",
       "    </tr>\n",
       "  </thead>\n",
       "  <tbody>\n",
       "    <tr>\n",
       "      <td>count</td>\n",
       "      <td>19439.000000</td>\n",
       "      <td>19045.000000</td>\n",
       "      <td>19341.000000</td>\n",
       "    </tr>\n",
       "    <tr>\n",
       "      <td>mean</td>\n",
       "      <td>57.148832</td>\n",
       "      <td>69.554283</td>\n",
       "      <td>68.968893</td>\n",
       "    </tr>\n",
       "    <tr>\n",
       "      <td>std</td>\n",
       "      <td>7.712767</td>\n",
       "      <td>7.902232</td>\n",
       "      <td>5.655203</td>\n",
       "    </tr>\n",
       "    <tr>\n",
       "      <td>min</td>\n",
       "      <td>0.040000</td>\n",
       "      <td>0.040000</td>\n",
       "      <td>0.040000</td>\n",
       "    </tr>\n",
       "    <tr>\n",
       "      <td>25%</td>\n",
       "      <td>53.507961</td>\n",
       "      <td>66.322498</td>\n",
       "      <td>67.958512</td>\n",
       "    </tr>\n",
       "    <tr>\n",
       "      <td>50%</td>\n",
       "      <td>57.577384</td>\n",
       "      <td>70.340371</td>\n",
       "      <td>69.612326</td>\n",
       "    </tr>\n",
       "    <tr>\n",
       "      <td>75%</td>\n",
       "      <td>61.951075</td>\n",
       "      <td>74.469222</td>\n",
       "      <td>71.378059</td>\n",
       "    </tr>\n",
       "    <tr>\n",
       "      <td>max</td>\n",
       "      <td>76.978947</td>\n",
       "      <td>88.140119</td>\n",
       "      <td>80.210644</td>\n",
       "    </tr>\n",
       "  </tbody>\n",
       "</table>\n",
       "</div>"
      ],
      "text/plain": [
       "              Сырье      Черновой     Финальный\n",
       "count  19439.000000  19045.000000  19341.000000\n",
       "mean      57.148832     69.554283     68.968893\n",
       "std        7.712767      7.902232      5.655203\n",
       "min        0.040000      0.040000      0.040000\n",
       "25%       53.507961     66.322498     67.958512\n",
       "50%       57.577384     70.340371     69.612326\n",
       "75%       61.951075     74.469222     71.378059\n",
       "max       76.978947     88.140119     80.210644"
      ]
     },
     "execution_count": 124,
     "metadata": {},
     "output_type": "execute_result"
    }
   ],
   "source": [
    "sum_new.describe()"
   ]
  },
  {
   "cell_type": "markdown",
   "metadata": {},
   "source": [
    "**Промежуточные выводы**: Имеются выбросы, много значений нуля, убираем их."
   ]
  },
  {
   "cell_type": "markdown",
   "metadata": {},
   "source": [
    "## Модель"
   ]
  },
  {
   "cell_type": "markdown",
   "metadata": {},
   "source": [
    "### Функция для вычисления итоговой sMAPE"
   ]
  },
  {
   "cell_type": "code",
   "execution_count": 30,
   "metadata": {},
   "outputs": [],
   "source": [
    "def sMAPE(true, pred):\n",
    "    count = np.mean(abs(true - pred)/((abs(true)+abs(pred))/2))*100\n",
    "    return count\n"
   ]
  },
  {
   "cell_type": "code",
   "execution_count": 31,
   "metadata": {},
   "outputs": [],
   "source": [
    "def final_sMAPE(sMAPE_rougher, sMAPE_final):\n",
    "    final = 0.25*sMAPE_rougher + 0.75*sMAPE_final\n",
    "    return final"
   ]
  },
  {
   "cell_type": "markdown",
   "metadata": {},
   "source": [
    "### Обучение разных моделей"
   ]
  },
  {
   "cell_type": "code",
   "execution_count": 32,
   "metadata": {},
   "outputs": [],
   "source": [
    "final_columns = [col for col in data_train.columns if col in data_test.columns]\n",
    "final_columns.append('rougher.output.recovery')\n",
    "final_columns.append('final.output.recovery')"
   ]
  },
  {
   "cell_type": "code",
   "execution_count": 33,
   "metadata": {},
   "outputs": [],
   "source": [
    "train_data = data_train[final_columns]\n",
    "full_data = data_full[final_columns]\n",
    "test_data = data_test.merge(full_data[['date', 'rougher.output.recovery', 'final.output.recovery']], \n",
    "                           how = 'left', on = 'date')\n",
    "\n",
    "train_data.dropna(inplace=True)\n",
    "test_data.dropna(inplace=True)"
   ]
  },
  {
   "cell_type": "code",
   "execution_count": 34,
   "metadata": {},
   "outputs": [
    {
     "data": {
      "text/plain": [
       "((12679, 55), (5229, 55))"
      ]
     },
     "execution_count": 34,
     "metadata": {},
     "output_type": "execute_result"
    }
   ],
   "source": [
    "train_data.shape, test_data.shape"
   ]
  },
  {
   "cell_type": "code",
   "execution_count": 35,
   "metadata": {},
   "outputs": [],
   "source": [
    "train_data = train_data[train_data['rougher.output.recovery'] > 1]\n",
    "test_data = test_data[test_data['rougher.output.recovery'] > 1]\n",
    "train_data = train_data[train_data['final.output.recovery'] > 1]\n",
    "test_data = test_data[test_data['final.output.recovery'] > 1]"
   ]
  },
  {
   "cell_type": "code",
   "execution_count": 36,
   "metadata": {},
   "outputs": [
    {
     "name": "stdout",
     "output_type": "stream",
     "text": [
      "12434\n",
      "12434\n",
      "12434\n",
      "5105\n"
     ]
    }
   ],
   "source": [
    "#train\n",
    "target_train_rougher = train_data['rougher.output.recovery']\n",
    "features_train_rougher = train_data.drop(['rougher.output.recovery', \n",
    "                                 'final.output.recovery', 'date'], axis=1)\n",
    "\n",
    "target_train_final = train_data['final.output.recovery']\n",
    "features_train_final = train_data.drop(['rougher.output.recovery', \n",
    "                                 'final.output.recovery', 'date'], axis=1)\n",
    "#test\n",
    "target_test_rougher = test_data['rougher.output.recovery']\n",
    "features_test_rougher = test_data.drop(['rougher.output.recovery', \n",
    "                                 'final.output.recovery', 'date'], axis=1)\n",
    "\n",
    "target_test_final = test_data['final.output.recovery']\n",
    "features_test_final = test_data.drop(['rougher.output.recovery', \n",
    "                                 'final.output.recovery', 'date'], axis=1)\n",
    "\n",
    "\n",
    "\n",
    "print(target_train_rougher.shape[0])\n",
    "print(features_train_rougher.shape[0])\n",
    "print(target_train_final.shape[0])\n",
    "print(target_test_final.shape[0])"
   ]
  },
  {
   "cell_type": "code",
   "execution_count": 37,
   "metadata": {
    "scrolled": true
   },
   "outputs": [],
   "source": [
    "my_score = make_scorer(sMAPE, greater_is_better= False)"
   ]
  },
  {
   "cell_type": "code",
   "execution_count": 38,
   "metadata": {},
   "outputs": [],
   "source": [
    "model_1 = LinearRegression()\n",
    "model_2 = RandomForestRegressor(random_state=12345)\n",
    "model_3 = DecisionTreeRegressor(random_state=12345)\n",
    "\n",
    "param_LR = {'fit_intercept':[True,False], 'copy_X':[True, False], \n",
    "                  'normalize':[True,False]}\n",
    "param_RF = {'n_estimators':[5,100],\n",
    "             'max_depth':[1,10], 'min_samples_split': [2, 3]}\n",
    "param_DT= {'max_depth':[1,20], 'splitter':('best','random'), 'min_samples_split':np.arange(2,10)}"
   ]
  },
  {
   "cell_type": "code",
   "execution_count": 39,
   "metadata": {},
   "outputs": [],
   "source": [
    "grid_rougher_LR = GridSearchCV(model_1 ,param_grid = param_LR,scoring= my_score)\n",
    "grid_final_LR = GridSearchCV(model_1 ,param_grid = param_LR,scoring= my_score)\n",
    "\n",
    "grid_rougher_RF = GridSearchCV(model_2,param_grid = param_RF,scoring= my_score)\n",
    "grid_final_RF = GridSearchCV(model_2,param_grid = param_RF,scoring= my_score)\n",
    "\n",
    "grid_rougher_DT = GridSearchCV(model_3,param_grid = param_DT,scoring= my_score)\n",
    "grid_final_DT = GridSearchCV(model_3,param_grid = param_DT,scoring= my_score)"
   ]
  },
  {
   "cell_type": "code",
   "execution_count": 40,
   "metadata": {},
   "outputs": [
    {
     "name": "stdout",
     "output_type": "stream",
     "text": [
      "LinearRegression | rougher: -9.1235 | final: -11.5752\n",
      "Best rougher гиперпараметры: {'copy_X': True, 'fit_intercept': True, 'normalize': True}\n",
      "Best final гиперпараметры: {'copy_X': True, 'fit_intercept': True, 'normalize': True}\n",
      "\n",
      "Random Forest | rougher: -7.6366 | final: -9.1832\n",
      "Best rougher гиперпараметры: {'max_depth': 10, 'min_samples_split': 2, 'n_estimators': 100}\n",
      "Best final гиперпараметры: {'max_depth': 1, 'min_samples_split': 2, 'n_estimators': 100}\n",
      "\n",
      "Decision Tree | rougher: -8.4072 | final: -9.2702\n",
      "Best rougher гиперпараметры: {'max_depth': 20, 'min_samples_split': 5, 'splitter': 'random'}\n",
      "Best final гиперпараметры: {'max_depth': 1, 'min_samples_split': 2, 'splitter': 'best'}\n",
      "\n"
     ]
    }
   ],
   "source": [
    "#Линейная регрессия\n",
    "grid_rougher_LR.fit(features_train_rougher, target_train_rougher)\n",
    "grid_final_LR.fit(features_train_final, target_train_final)\n",
    "\n",
    "best_score_rougher_LR = grid_rougher_LR.best_score_\n",
    "best_score_final_LR = grid_final_LR.best_score_\n",
    "\n",
    "print('LinearRegression | rougher:',round(grid_rougher_LR.best_score_,4), \n",
    "      '| final:', round(grid_final_LR.best_score_, 4))\n",
    "print('Best rougher гиперпараметры:',grid_rougher_LR.best_params_)\n",
    "print('Best final гиперпараметры:',grid_final_LR.best_params_)\n",
    "print()\n",
    "\n",
    "#Случаный лес регрессия\n",
    "grid_rougher_RF.fit(features_train_rougher, target_train_rougher)\n",
    "grid_final_RF.fit(features_train_final, target_train_final)\n",
    "\n",
    "best_score_rougher_RF = grid_rougher_RF.best_score_\n",
    "best_score_final_RF = grid_final_RF.best_score_\n",
    "\n",
    "print('Random Forest | rougher:',round(grid_rougher_RF.best_score_,4), \n",
    "      '| final:', round(grid_final_RF.best_score_,4))\n",
    "print('Best rougher гиперпараметры:', grid_rougher_RF.best_params_)\n",
    "print('Best final гиперпараметры:', grid_final_RF.best_params_)\n",
    "print()\n",
    "\n",
    "\n",
    "#Древо решений регрессия\n",
    "grid_rougher_DT.fit(features_train_rougher, target_train_rougher)\n",
    "grid_final_DT.fit(features_train_final, target_train_final)\n",
    "\n",
    "best_score_rougher_DT = grid_rougher_DT.best_score_\n",
    "best_score_final_DT = grid_final_DT.best_score_\n",
    "\n",
    "print('Decision Tree | rougher:', round(grid_rougher_DT.best_score_,4), \n",
    "      '| final:', round(grid_final_DT.best_score_,4))\n",
    "print('Best rougher гиперпараметры:',grid_rougher_DT.best_params_)\n",
    "print('Best final гиперпараметры:',grid_final_DT.best_params_)\n",
    "print()\n",
    "\n"
   ]
  },
  {
   "cell_type": "code",
   "execution_count": 43,
   "metadata": {},
   "outputs": [
    {
     "name": "stdout",
     "output_type": "stream",
     "text": [
      "final sMAPE LR on train -10.962308353980418\n",
      "final sMAPE RF on train -8.796526535686427\n",
      "final sMAPE DT  on train -9.054485907768038\n"
     ]
    }
   ],
   "source": [
    "print('final sMAPE LR on train', final_sMAPE(best_score_rougher_LR,best_score_final_LR))\n",
    "print('final sMAPE RF on train', final_sMAPE(best_score_rougher_RF,best_score_final_RF))\n",
    "print('final sMAPE DT  on train', final_sMAPE(best_score_rougher_DT,best_score_final_DT))"
   ]
  },
  {
   "cell_type": "markdown",
   "metadata": {},
   "source": [
    "**Промежуточные выводы**: Из трех выбранных моделей тренировочной выборке, лучшего всего Random Forest. Decision Tree не сильно отличается, попробуем модель тоже на тестовой выборке."
   ]
  },
  {
   "cell_type": "markdown",
   "metadata": {},
   "source": [
    "### Тест"
   ]
  },
  {
   "cell_type": "markdown",
   "metadata": {},
   "source": [
    "Проведем тест на двух моделях Decision Tree и Random Forest"
   ]
  },
  {
   "cell_type": "markdown",
   "metadata": {},
   "source": [
    "- Random Forest"
   ]
  },
  {
   "cell_type": "code",
   "execution_count": 45,
   "metadata": {},
   "outputs": [],
   "source": [
    "rougher_test = grid_rougher_RF.predict(features_test_rougher)\n",
    "final_test = grid_final_RF.predict(features_test_final)"
   ]
  },
  {
   "cell_type": "code",
   "execution_count": 46,
   "metadata": {},
   "outputs": [
    {
     "data": {
      "text/plain": [
       "6.980905308423177"
      ]
     },
     "execution_count": 46,
     "metadata": {},
     "output_type": "execute_result"
    }
   ],
   "source": [
    "final_sMAPE(sMAPE(target_test_rougher,rougher_test),sMAPE(target_test_final,final_test))"
   ]
  },
  {
   "cell_type": "markdown",
   "metadata": {},
   "source": [
    "- Decision Tree"
   ]
  },
  {
   "cell_type": "code",
   "execution_count": 47,
   "metadata": {},
   "outputs": [],
   "source": [
    "DT_rougher_test = grid_rougher_DT.predict(features_test_rougher)\n",
    "DT_final_test = grid_final_DT.predict(features_test_final)"
   ]
  },
  {
   "cell_type": "code",
   "execution_count": 48,
   "metadata": {},
   "outputs": [
    {
     "data": {
      "text/plain": [
       "7.872940054650133"
      ]
     },
     "execution_count": 48,
     "metadata": {},
     "output_type": "execute_result"
    }
   ],
   "source": [
    "final_sMAPE(sMAPE(target_test_rougher,DT_rougher_test),sMAPE(target_test_final,DT_final_test))"
   ]
  },
  {
   "cell_type": "markdown",
   "metadata": {},
   "source": [
    "**Промежуточный вывод**: Random Forest показал себя лучше на тестовой выборке."
   ]
  },
  {
   "cell_type": "markdown",
   "metadata": {},
   "source": [
    "### Dummy Regressor"
   ]
  },
  {
   "cell_type": "code",
   "execution_count": 105,
   "metadata": {},
   "outputs": [],
   "source": [
    "from sklearn.dummy import DummyRegressor"
   ]
  },
  {
   "cell_type": "code",
   "execution_count": 126,
   "metadata": {},
   "outputs": [
    {
     "name": "stdout",
     "output_type": "stream",
     "text": [
      "7.290407469935616\n"
     ]
    }
   ],
   "source": [
    "dummy_rougher = DummyRegressor(strategy = 'median')\n",
    "dummy_final = DummyRegressor(strategy = 'median')\n",
    "\n",
    "dummy_rougher.fit(features_train_rougher, target_train_rougher)\n",
    "dummy_final.fit(features_train_final, target_train_final)\n",
    "\n",
    "dummy_rougher_pred = dummy_rougher.predict(features_test_rougher)\n",
    "dummy_final_pred = dummy_final.predict(features_test_final)\n",
    "\n",
    "smape = final_sMAPE(sMAPE(target_test_rougher, dummy_rougher_pred),sMAPE(target_test_final,dummy_final_pred))\n",
    "\n",
    "print(smape) "
   ]
  },
  {
   "cell_type": "code",
   "execution_count": 122,
   "metadata": {},
   "outputs": [
    {
     "name": "stdout",
     "output_type": "stream",
     "text": [
      "Random Forest: 6.980905308423177 | Dummy: 7.290407469935616\n"
     ]
    }
   ],
   "source": [
    "print('Random Forest:', \n",
    "      final_sMAPE(sMAPE(target_test_rougher,rougher_test),sMAPE(target_test_final,final_test)),\n",
    "      '|', 'Dummy:', smape)"
   ]
  },
  {
   "cell_type": "markdown",
   "metadata": {},
   "source": [
    "**Промежуточный вывод**: Ошибка на тест приемлема, так как она меньше чем на константном алгоритме."
   ]
  },
  {
   "cell_type": "markdown",
   "metadata": {},
   "source": [
    "## Вывод"
   ]
  },
  {
   "cell_type": "markdown",
   "metadata": {},
   "source": [
    "- Перед нами стояла задача - подготовиь прототип модели машинного обучения. Для решения данной задачи были подготовленны и проанализированны данные, построенны и обученны модели: LinearRegression, Random Forest и Decision Tree. \n",
    "- Регрессор Random Forest показал себя лучше остальных моделей. Ошибка на тестовой выборке составила: 6.98, а наилучшие гиперпараметры: \n",
    "    - rougher: {'max_depth': 10, 'min_samples_split': 2, 'n_estimators': 100}\n",
    "    - final: {'max_depth': 1, 'min_samples_split': 2, 'n_estimators': 100}\n"
   ]
  }
 ],
 "metadata": {
  "ExecuteTimeLog": [
   {
    "duration": 1081,
    "start_time": "2021-09-27T11:48:46.162Z"
   },
   {
    "duration": 3145,
    "start_time": "2021-09-27T11:51:20.994Z"
   },
   {
    "duration": 520,
    "start_time": "2021-09-27T11:51:28.892Z"
   },
   {
    "duration": 2057,
    "start_time": "2021-09-27T11:51:32.244Z"
   },
   {
    "duration": 1598,
    "start_time": "2021-09-27T11:51:49.564Z"
   },
   {
    "duration": 1183,
    "start_time": "2021-09-27T11:52:02.443Z"
   },
   {
    "duration": 4,
    "start_time": "2021-09-27T11:55:25.641Z"
   },
   {
    "duration": 454,
    "start_time": "2021-09-27T11:55:39.511Z"
   },
   {
    "duration": 29,
    "start_time": "2021-09-27T11:56:47.314Z"
   },
   {
    "duration": 4,
    "start_time": "2021-09-27T11:59:53.746Z"
   },
   {
    "duration": 516,
    "start_time": "2021-09-27T11:59:54.675Z"
   },
   {
    "duration": 4,
    "start_time": "2021-09-27T12:00:21.141Z"
   },
   {
    "duration": 543,
    "start_time": "2021-09-27T12:00:21.823Z"
   },
   {
    "duration": 4,
    "start_time": "2021-09-27T12:01:43.404Z"
   },
   {
    "duration": 538,
    "start_time": "2021-09-27T12:01:44.280Z"
   },
   {
    "duration": 4,
    "start_time": "2021-09-27T12:02:18.533Z"
   },
   {
    "duration": 457,
    "start_time": "2021-09-27T12:02:19.201Z"
   },
   {
    "duration": 4,
    "start_time": "2021-09-27T12:02:29.777Z"
   },
   {
    "duration": 613,
    "start_time": "2021-09-27T12:02:30.324Z"
   },
   {
    "duration": 4,
    "start_time": "2021-09-27T12:02:56.726Z"
   },
   {
    "duration": 621,
    "start_time": "2021-09-27T12:02:57.336Z"
   },
   {
    "duration": 9,
    "start_time": "2021-09-27T12:04:36.994Z"
   },
   {
    "duration": 226,
    "start_time": "2021-09-27T12:06:47.210Z"
   },
   {
    "duration": 182,
    "start_time": "2021-09-27T12:07:25.967Z"
   },
   {
    "duration": 250,
    "start_time": "2021-09-27T12:08:05.667Z"
   },
   {
    "duration": 22121,
    "start_time": "2021-09-27T12:08:10.655Z"
   },
   {
    "duration": 701,
    "start_time": "2021-09-27T12:12:12.234Z"
   },
   {
    "duration": 4,
    "start_time": "2021-09-27T12:12:13.105Z"
   },
   {
    "duration": 5,
    "start_time": "2021-09-27T12:12:14.714Z"
   },
   {
    "duration": 543,
    "start_time": "2021-09-27T12:12:20.812Z"
   },
   {
    "duration": 4,
    "start_time": "2021-09-27T12:12:59.714Z"
   },
   {
    "duration": 5,
    "start_time": "2021-09-27T12:13:00.382Z"
   },
   {
    "duration": 569,
    "start_time": "2021-09-27T12:13:00.940Z"
   },
   {
    "duration": 240,
    "start_time": "2021-09-27T12:13:18.497Z"
   },
   {
    "duration": 539,
    "start_time": "2021-09-27T12:14:05.042Z"
   },
   {
    "duration": 849,
    "start_time": "2021-09-27T12:14:15.194Z"
   },
   {
    "duration": 211,
    "start_time": "2021-09-27T12:16:46.731Z"
   },
   {
    "duration": 24138,
    "start_time": "2021-09-27T12:16:57.291Z"
   },
   {
    "duration": 25473,
    "start_time": "2021-09-27T12:17:43.720Z"
   },
   {
    "duration": 4,
    "start_time": "2021-09-27T12:18:57.749Z"
   },
   {
    "duration": 33008,
    "start_time": "2021-09-27T12:19:31.595Z"
   },
   {
    "duration": 39473,
    "start_time": "2021-09-27T12:20:28.492Z"
   },
   {
    "duration": 4,
    "start_time": "2021-09-27T13:09:05.299Z"
   },
   {
    "duration": 5,
    "start_time": "2021-09-27T13:09:05.705Z"
   },
   {
    "duration": 531,
    "start_time": "2021-09-27T13:09:06.157Z"
   },
   {
    "duration": 4,
    "start_time": "2021-09-27T13:09:51.156Z"
   },
   {
    "duration": 4,
    "start_time": "2021-09-27T13:09:51.748Z"
   },
   {
    "duration": 521,
    "start_time": "2021-09-27T13:09:52.201Z"
   },
   {
    "duration": 4,
    "start_time": "2021-09-27T13:09:57.994Z"
   },
   {
    "duration": 4,
    "start_time": "2021-09-27T13:09:58.552Z"
   },
   {
    "duration": 547,
    "start_time": "2021-09-27T13:09:59.052Z"
   },
   {
    "duration": 4,
    "start_time": "2021-09-27T13:11:59.819Z"
   },
   {
    "duration": 5,
    "start_time": "2021-09-27T13:12:00.313Z"
   },
   {
    "duration": 538,
    "start_time": "2021-09-27T13:12:00.603Z"
   },
   {
    "duration": 4,
    "start_time": "2021-09-27T13:12:08.734Z"
   },
   {
    "duration": 4,
    "start_time": "2021-09-27T13:12:09.231Z"
   },
   {
    "duration": 538,
    "start_time": "2021-09-27T13:12:09.643Z"
   },
   {
    "duration": 4,
    "start_time": "2021-09-27T13:12:54.514Z"
   },
   {
    "duration": 5,
    "start_time": "2021-09-27T13:12:54.909Z"
   },
   {
    "duration": 556,
    "start_time": "2021-09-27T13:12:55.982Z"
   },
   {
    "duration": 4,
    "start_time": "2021-09-27T13:13:02.904Z"
   },
   {
    "duration": 4,
    "start_time": "2021-09-27T13:13:03.371Z"
   },
   {
    "duration": 526,
    "start_time": "2021-09-27T13:13:03.974Z"
   },
   {
    "duration": 4,
    "start_time": "2021-09-27T13:13:21.723Z"
   },
   {
    "duration": 5,
    "start_time": "2021-09-27T13:13:21.934Z"
   },
   {
    "duration": 546,
    "start_time": "2021-09-27T13:13:22.330Z"
   },
   {
    "duration": 21,
    "start_time": "2021-09-27T13:15:07.062Z"
   },
   {
    "duration": 13,
    "start_time": "2021-09-27T13:15:17.721Z"
   },
   {
    "duration": 25,
    "start_time": "2021-09-27T13:15:33.308Z"
   },
   {
    "duration": 4,
    "start_time": "2021-09-27T13:15:37.022Z"
   },
   {
    "duration": 5,
    "start_time": "2021-09-27T13:15:37.445Z"
   },
   {
    "duration": 5,
    "start_time": "2021-09-27T13:15:44.136Z"
   },
   {
    "duration": 5,
    "start_time": "2021-09-27T13:15:44.615Z"
   },
   {
    "duration": 715,
    "start_time": "2021-09-27T13:15:44.807Z"
   },
   {
    "duration": 5,
    "start_time": "2021-09-27T13:15:55.593Z"
   },
   {
    "duration": 5,
    "start_time": "2021-09-27T13:15:55.940Z"
   },
   {
    "duration": 636,
    "start_time": "2021-09-27T13:15:56.475Z"
   },
   {
    "duration": 5,
    "start_time": "2021-09-27T13:16:22.515Z"
   },
   {
    "duration": 5,
    "start_time": "2021-09-27T13:16:23.268Z"
   },
   {
    "duration": 640,
    "start_time": "2021-09-27T13:16:23.602Z"
   },
   {
    "duration": 5,
    "start_time": "2021-09-27T13:17:10.084Z"
   },
   {
    "duration": 5,
    "start_time": "2021-09-27T13:17:10.453Z"
   },
   {
    "duration": 620,
    "start_time": "2021-09-27T13:17:11.035Z"
   },
   {
    "duration": 4,
    "start_time": "2021-09-27T13:18:16.445Z"
   },
   {
    "duration": 4,
    "start_time": "2021-09-27T13:18:16.873Z"
   },
   {
    "duration": 644,
    "start_time": "2021-09-27T13:18:17.478Z"
   },
   {
    "duration": 4,
    "start_time": "2021-09-27T13:18:53.658Z"
   },
   {
    "duration": 5,
    "start_time": "2021-09-27T13:18:54.303Z"
   },
   {
    "duration": 659,
    "start_time": "2021-09-27T13:18:54.755Z"
   },
   {
    "duration": 243,
    "start_time": "2021-09-27T13:18:55.416Z"
   },
   {
    "duration": 5,
    "start_time": "2021-09-27T13:19:17.457Z"
   },
   {
    "duration": 4,
    "start_time": "2021-09-27T13:19:18.000Z"
   },
   {
    "duration": 668,
    "start_time": "2021-09-27T13:19:18.007Z"
   },
   {
    "duration": 256,
    "start_time": "2021-09-27T13:19:18.676Z"
   },
   {
    "duration": 88,
    "start_time": "2021-09-27T13:21:34.136Z"
   },
   {
    "duration": 4,
    "start_time": "2021-09-27T13:21:43.697Z"
   },
   {
    "duration": 534,
    "start_time": "2021-09-29T11:25:59.285Z"
   },
   {
    "duration": 1696,
    "start_time": "2021-09-29T11:26:04.879Z"
   },
   {
    "duration": 907,
    "start_time": "2021-09-29T11:26:06.577Z"
   },
   {
    "duration": 6,
    "start_time": "2021-09-29T11:26:07.486Z"
   },
   {
    "duration": 52,
    "start_time": "2021-09-29T11:26:07.494Z"
   },
   {
    "duration": 293,
    "start_time": "2021-09-29T11:26:10.851Z"
   },
   {
    "duration": 480,
    "start_time": "2021-09-29T11:27:22.998Z"
   },
   {
    "duration": 325,
    "start_time": "2021-09-29T11:28:52.684Z"
   },
   {
    "duration": 106,
    "start_time": "2021-09-29T11:29:57.724Z"
   },
   {
    "duration": 900,
    "start_time": "2021-09-29T11:29:58.150Z"
   },
   {
    "duration": 4,
    "start_time": "2021-09-29T11:30:03.276Z"
   },
   {
    "duration": 942,
    "start_time": "2021-09-29T11:30:03.604Z"
   },
   {
    "duration": 5,
    "start_time": "2021-09-29T11:30:04.548Z"
   },
   {
    "duration": 39,
    "start_time": "2021-09-29T11:30:04.556Z"
   },
   {
    "duration": 629,
    "start_time": "2021-09-29T11:30:04.617Z"
   },
   {
    "duration": -31,
    "start_time": "2021-09-29T11:30:05.279Z"
   },
   {
    "duration": -33,
    "start_time": "2021-09-29T11:30:05.283Z"
   },
   {
    "duration": -38,
    "start_time": "2021-09-29T11:30:05.289Z"
   },
   {
    "duration": 2169,
    "start_time": "2021-09-29T11:30:21.552Z"
   },
   {
    "duration": 119,
    "start_time": "2021-09-29T11:31:07.195Z"
   },
   {
    "duration": 306,
    "start_time": "2021-09-29T11:31:11.189Z"
   },
   {
    "duration": 324,
    "start_time": "2021-09-29T11:31:58.858Z"
   },
   {
    "duration": 382,
    "start_time": "2021-09-29T11:32:15.291Z"
   },
   {
    "duration": 316,
    "start_time": "2021-09-29T11:35:39.267Z"
   },
   {
    "duration": 399,
    "start_time": "2021-09-29T11:35:43.583Z"
   },
   {
    "duration": 552,
    "start_time": "2021-09-29T11:37:29.403Z"
   },
   {
    "duration": 715,
    "start_time": "2021-09-29T11:37:54.971Z"
   },
   {
    "duration": 594,
    "start_time": "2021-09-29T11:38:47.403Z"
   },
   {
    "duration": 663,
    "start_time": "2021-09-29T11:39:13.161Z"
   },
   {
    "duration": 396,
    "start_time": "2021-09-29T11:40:07.834Z"
   },
   {
    "duration": 328,
    "start_time": "2021-09-29T11:40:44.374Z"
   },
   {
    "duration": 443,
    "start_time": "2021-09-29T11:41:09.894Z"
   },
   {
    "duration": 397,
    "start_time": "2021-09-29T11:41:23.274Z"
   },
   {
    "duration": 408,
    "start_time": "2021-09-29T11:41:40.180Z"
   },
   {
    "duration": 107,
    "start_time": "2021-09-29T11:42:28.961Z"
   },
   {
    "duration": 332,
    "start_time": "2021-09-29T11:42:35.126Z"
   },
   {
    "duration": 489,
    "start_time": "2021-09-29T11:42:45.418Z"
   },
   {
    "duration": 461,
    "start_time": "2021-09-29T11:43:31.331Z"
   },
   {
    "duration": 104,
    "start_time": "2021-09-29T11:44:09.499Z"
   },
   {
    "duration": 99,
    "start_time": "2021-09-29T11:45:01.444Z"
   },
   {
    "duration": 489,
    "start_time": "2021-09-29T11:45:09.422Z"
   },
   {
    "duration": 467,
    "start_time": "2021-09-29T11:45:18.383Z"
   },
   {
    "duration": 460,
    "start_time": "2021-09-29T11:45:29.579Z"
   },
   {
    "duration": 453,
    "start_time": "2021-09-29T11:45:44.190Z"
   },
   {
    "duration": 490,
    "start_time": "2021-09-29T11:46:06.126Z"
   },
   {
    "duration": 409,
    "start_time": "2021-09-29T11:46:14.834Z"
   },
   {
    "duration": 833,
    "start_time": "2021-09-29T11:46:21.754Z"
   },
   {
    "duration": 498,
    "start_time": "2021-09-29T11:46:30.259Z"
   },
   {
    "duration": 482,
    "start_time": "2021-09-29T11:46:49.771Z"
   },
   {
    "duration": 457,
    "start_time": "2021-09-29T11:46:50.570Z"
   },
   {
    "duration": 6,
    "start_time": "2021-09-29T11:52:22.486Z"
   },
   {
    "duration": 14,
    "start_time": "2021-09-29T11:52:38.141Z"
   },
   {
    "duration": 416,
    "start_time": "2021-09-29T12:21:47.924Z"
   },
   {
    "duration": 4,
    "start_time": "2021-09-29T12:21:56.215Z"
   },
   {
    "duration": 17,
    "start_time": "2021-09-29T12:21:56.706Z"
   },
   {
    "duration": 13,
    "start_time": "2021-09-29T12:23:49.130Z"
   },
   {
    "duration": 12,
    "start_time": "2021-09-29T12:24:02.521Z"
   },
   {
    "duration": 13,
    "start_time": "2021-09-29T12:24:16.399Z"
   },
   {
    "duration": 11,
    "start_time": "2021-09-29T12:25:35.606Z"
   },
   {
    "duration": 330,
    "start_time": "2021-09-29T12:32:46.861Z"
   },
   {
    "duration": 10,
    "start_time": "2021-09-29T12:32:53.039Z"
   },
   {
    "duration": 323,
    "start_time": "2021-09-29T12:34:44.218Z"
   },
   {
    "duration": 333,
    "start_time": "2021-09-29T12:34:52.408Z"
   },
   {
    "duration": 12,
    "start_time": "2021-09-29T12:35:01.158Z"
   },
   {
    "duration": 12,
    "start_time": "2021-09-29T12:35:53.445Z"
   },
   {
    "duration": 11,
    "start_time": "2021-09-29T12:36:05.545Z"
   },
   {
    "duration": 9,
    "start_time": "2021-09-29T12:36:22.742Z"
   },
   {
    "duration": 122,
    "start_time": "2021-09-29T12:36:32.484Z"
   },
   {
    "duration": 8,
    "start_time": "2021-09-29T12:36:35.210Z"
   },
   {
    "duration": 117,
    "start_time": "2021-09-29T12:37:50.316Z"
   },
   {
    "duration": 942,
    "start_time": "2021-09-29T12:37:55.426Z"
   },
   {
    "duration": 12,
    "start_time": "2021-09-29T12:38:05.696Z"
   },
   {
    "duration": 13,
    "start_time": "2021-09-29T12:38:18.464Z"
   },
   {
    "duration": 506,
    "start_time": "2021-09-29T12:38:51.651Z"
   },
   {
    "duration": 847,
    "start_time": "2021-09-29T12:42:18.371Z"
   },
   {
    "duration": 11,
    "start_time": "2021-09-29T12:44:49.153Z"
   },
   {
    "duration": 11,
    "start_time": "2021-09-29T12:45:16.398Z"
   },
   {
    "duration": 12,
    "start_time": "2021-09-29T12:45:31.005Z"
   },
   {
    "duration": 12,
    "start_time": "2021-09-29T12:45:42.091Z"
   },
   {
    "duration": 9,
    "start_time": "2021-09-29T12:45:52.379Z"
   },
   {
    "duration": 131,
    "start_time": "2021-09-29T12:46:38.115Z"
   },
   {
    "duration": 9,
    "start_time": "2021-09-29T12:46:43.659Z"
   },
   {
    "duration": 10,
    "start_time": "2021-09-29T12:47:40.598Z"
   },
   {
    "duration": 110,
    "start_time": "2021-09-29T12:50:57.154Z"
   },
   {
    "duration": 113,
    "start_time": "2021-09-29T12:51:13.649Z"
   },
   {
    "duration": 6,
    "start_time": "2021-09-29T12:53:49.487Z"
   },
   {
    "duration": 473,
    "start_time": "2021-09-29T12:54:53.611Z"
   },
   {
    "duration": 460,
    "start_time": "2021-09-29T12:55:30.146Z"
   },
   {
    "duration": 14,
    "start_time": "2021-09-29T12:56:32.220Z"
   },
   {
    "duration": 482,
    "start_time": "2021-09-29T12:56:33.928Z"
   },
   {
    "duration": 491,
    "start_time": "2021-09-29T12:57:09.334Z"
   },
   {
    "duration": 514,
    "start_time": "2021-09-29T12:57:41.318Z"
   },
   {
    "duration": 11,
    "start_time": "2021-09-29T12:58:35.830Z"
   },
   {
    "duration": 990,
    "start_time": "2021-09-29T13:00:56.682Z"
   },
   {
    "duration": 1131,
    "start_time": "2021-09-29T13:01:27.887Z"
   },
   {
    "duration": 944,
    "start_time": "2021-09-29T13:02:11.820Z"
   },
   {
    "duration": 983,
    "start_time": "2021-09-29T13:02:40.177Z"
   },
   {
    "duration": 306,
    "start_time": "2021-09-29T13:05:49.684Z"
   },
   {
    "duration": 5,
    "start_time": "2021-09-29T13:06:18.239Z"
   },
   {
    "duration": 861,
    "start_time": "2021-09-29T13:06:18.673Z"
   },
   {
    "duration": 6,
    "start_time": "2021-09-29T13:06:19.537Z"
   },
   {
    "duration": 30,
    "start_time": "2021-09-29T13:06:19.546Z"
   },
   {
    "duration": 5,
    "start_time": "2021-09-29T13:06:19.579Z"
   },
   {
    "duration": 482,
    "start_time": "2021-09-29T13:06:19.679Z"
   },
   {
    "duration": 473,
    "start_time": "2021-09-29T13:06:20.163Z"
   },
   {
    "duration": 7,
    "start_time": "2021-09-29T13:06:20.639Z"
   },
   {
    "duration": 12,
    "start_time": "2021-09-29T13:06:20.649Z"
   },
   {
    "duration": 11,
    "start_time": "2021-09-29T13:06:20.663Z"
   },
   {
    "duration": 15,
    "start_time": "2021-09-29T13:06:22.179Z"
   },
   {
    "duration": 962,
    "start_time": "2021-09-29T13:06:38.467Z"
   },
   {
    "duration": 1594,
    "start_time": "2021-09-29T13:07:07.452Z"
   },
   {
    "duration": 962,
    "start_time": "2021-09-29T13:07:09.303Z"
   },
   {
    "duration": 7,
    "start_time": "2021-09-29T13:07:10.268Z"
   },
   {
    "duration": 36,
    "start_time": "2021-09-29T13:07:11.228Z"
   },
   {
    "duration": 16,
    "start_time": "2021-09-29T13:07:14.779Z"
   },
   {
    "duration": 476,
    "start_time": "2021-09-29T13:07:15.708Z"
   },
   {
    "duration": 448,
    "start_time": "2021-09-29T13:07:17.090Z"
   },
   {
    "duration": 6,
    "start_time": "2021-09-29T13:07:23.931Z"
   },
   {
    "duration": 7,
    "start_time": "2021-09-29T13:07:24.909Z"
   },
   {
    "duration": 5,
    "start_time": "2021-09-29T13:07:27.407Z"
   },
   {
    "duration": 35,
    "start_time": "2021-09-29T13:07:29.453Z"
   },
   {
    "duration": 947,
    "start_time": "2021-09-29T13:07:53.242Z"
   },
   {
    "duration": 14,
    "start_time": "2021-09-29T13:08:26.970Z"
   },
   {
    "duration": 13,
    "start_time": "2021-09-29T13:08:39.772Z"
   },
   {
    "duration": 1495,
    "start_time": "2021-09-29T13:08:52.763Z"
   },
   {
    "duration": 942,
    "start_time": "2021-09-29T13:08:54.261Z"
   },
   {
    "duration": 11,
    "start_time": "2021-09-29T13:08:55.205Z"
   },
   {
    "duration": 35,
    "start_time": "2021-09-29T13:08:55.219Z"
   },
   {
    "duration": 17,
    "start_time": "2021-09-29T13:08:55.257Z"
   },
   {
    "duration": 495,
    "start_time": "2021-09-29T13:08:55.276Z"
   },
   {
    "duration": 467,
    "start_time": "2021-09-29T13:08:55.773Z"
   },
   {
    "duration": 8,
    "start_time": "2021-09-29T13:08:56.242Z"
   },
   {
    "duration": 7,
    "start_time": "2021-09-29T13:08:56.375Z"
   },
   {
    "duration": 5,
    "start_time": "2021-09-29T13:08:56.838Z"
   },
   {
    "duration": 23,
    "start_time": "2021-09-29T13:08:57.213Z"
   },
   {
    "duration": 965,
    "start_time": "2021-09-29T13:08:58.017Z"
   },
   {
    "duration": 7,
    "start_time": "2021-09-29T13:08:59.784Z"
   },
   {
    "duration": 7,
    "start_time": "2021-09-29T13:09:01.405Z"
   },
   {
    "duration": 458,
    "start_time": "2021-09-29T13:16:46.697Z"
   },
   {
    "duration": 12,
    "start_time": "2021-09-29T13:17:02.737Z"
   },
   {
    "duration": 8,
    "start_time": "2021-09-29T13:19:35.465Z"
   },
   {
    "duration": 8,
    "start_time": "2021-09-29T13:20:00.122Z"
   },
   {
    "duration": 12,
    "start_time": "2021-09-29T13:22:31.604Z"
   },
   {
    "duration": 8,
    "start_time": "2021-09-29T13:22:35.132Z"
   },
   {
    "duration": 8,
    "start_time": "2021-09-29T13:22:35.770Z"
   },
   {
    "duration": 326,
    "start_time": "2021-09-29T13:23:43.013Z"
   },
   {
    "duration": 33,
    "start_time": "2021-09-29T13:23:51.712Z"
   },
   {
    "duration": 12,
    "start_time": "2021-09-29T13:24:05.290Z"
   },
   {
    "duration": 370,
    "start_time": "2021-09-29T13:24:23.179Z"
   },
   {
    "duration": 12,
    "start_time": "2021-09-29T13:24:31.929Z"
   },
   {
    "duration": 9671,
    "start_time": "2021-09-29T13:25:58.161Z"
   },
   {
    "duration": 10281,
    "start_time": "2021-09-29T13:26:18.069Z"
   },
   {
    "duration": 344,
    "start_time": "2021-09-29T13:26:52.545Z"
   },
   {
    "duration": 340,
    "start_time": "2021-09-29T13:28:24.729Z"
   },
   {
    "duration": 12,
    "start_time": "2021-09-29T13:28:49.788Z"
   },
   {
    "duration": 12,
    "start_time": "2021-09-29T13:29:22.908Z"
   },
   {
    "duration": 15,
    "start_time": "2021-09-29T13:31:15.643Z"
   },
   {
    "duration": 15,
    "start_time": "2021-09-29T13:32:03.130Z"
   },
   {
    "duration": 324,
    "start_time": "2021-09-29T13:33:27.654Z"
   },
   {
    "duration": 29,
    "start_time": "2021-09-29T13:33:39.885Z"
   },
   {
    "duration": 15,
    "start_time": "2021-09-29T13:34:17.515Z"
   },
   {
    "duration": 11,
    "start_time": "2021-09-29T13:34:20.792Z"
   },
   {
    "duration": 27,
    "start_time": "2021-09-29T13:34:21.988Z"
   },
   {
    "duration": 11,
    "start_time": "2021-09-29T13:34:28.837Z"
   },
   {
    "duration": 26,
    "start_time": "2021-09-29T13:34:29.353Z"
   },
   {
    "duration": 13,
    "start_time": "2021-09-29T13:34:59.765Z"
   },
   {
    "duration": 11,
    "start_time": "2021-09-29T13:35:38.454Z"
   },
   {
    "duration": 13,
    "start_time": "2021-09-29T13:35:40.258Z"
   },
   {
    "duration": 16,
    "start_time": "2021-09-29T13:35:47.632Z"
   },
   {
    "duration": 4,
    "start_time": "2021-09-29T13:36:10.671Z"
   },
   {
    "duration": 15,
    "start_time": "2021-09-29T13:36:11.229Z"
   },
   {
    "duration": 14,
    "start_time": "2021-09-29T13:36:12.511Z"
   },
   {
    "duration": 12,
    "start_time": "2021-09-29T13:36:13.721Z"
   },
   {
    "duration": 7,
    "start_time": "2021-09-29T13:36:14.715Z"
   },
   {
    "duration": 15,
    "start_time": "2021-09-29T13:36:18.965Z"
   },
   {
    "duration": 321,
    "start_time": "2021-09-29T13:38:45.923Z"
   },
   {
    "duration": 10,
    "start_time": "2021-09-29T13:38:51.984Z"
   },
   {
    "duration": 8,
    "start_time": "2021-09-29T13:39:04.166Z"
   },
   {
    "duration": 10,
    "start_time": "2021-09-29T13:39:09.634Z"
   },
   {
    "duration": 4,
    "start_time": "2021-09-29T13:41:12.890Z"
   },
   {
    "duration": 15,
    "start_time": "2021-09-29T13:41:13.941Z"
   },
   {
    "duration": 14,
    "start_time": "2021-09-29T13:41:16.913Z"
   },
   {
    "duration": 16,
    "start_time": "2021-09-29T13:41:18.755Z"
   },
   {
    "duration": 119,
    "start_time": "2021-09-29T13:57:31.373Z"
   },
   {
    "duration": 341,
    "start_time": "2021-09-29T13:57:37.714Z"
   },
   {
    "duration": 18,
    "start_time": "2021-09-29T13:57:52.076Z"
   },
   {
    "duration": 16,
    "start_time": "2021-09-29T13:59:22.642Z"
   },
   {
    "duration": 5,
    "start_time": "2021-09-29T14:01:20.126Z"
   },
   {
    "duration": 385,
    "start_time": "2021-09-29T14:02:37.693Z"
   },
   {
    "duration": 316,
    "start_time": "2021-09-29T14:03:05.856Z"
   },
   {
    "duration": 18,
    "start_time": "2021-09-29T14:08:46.871Z"
   },
   {
    "duration": 7,
    "start_time": "2021-09-29T14:09:26.882Z"
   },
   {
    "duration": 7,
    "start_time": "2021-09-29T14:09:39.774Z"
   },
   {
    "duration": 6,
    "start_time": "2021-09-29T14:09:55.700Z"
   },
   {
    "duration": 6,
    "start_time": "2021-09-29T14:10:27.919Z"
   },
   {
    "duration": 8,
    "start_time": "2021-09-29T14:10:31.443Z"
   },
   {
    "duration": 7,
    "start_time": "2021-09-29T14:10:41.891Z"
   },
   {
    "duration": 7,
    "start_time": "2021-09-29T14:10:51.590Z"
   },
   {
    "duration": 8,
    "start_time": "2021-09-29T14:10:58.355Z"
   },
   {
    "duration": 6,
    "start_time": "2021-09-29T14:11:38.409Z"
   },
   {
    "duration": 27,
    "start_time": "2021-09-29T14:13:16.690Z"
   },
   {
    "duration": 13,
    "start_time": "2021-09-29T14:14:14.970Z"
   },
   {
    "duration": 16,
    "start_time": "2021-09-29T14:14:16.832Z"
   },
   {
    "duration": 11,
    "start_time": "2021-09-29T14:15:44.132Z"
   },
   {
    "duration": 11,
    "start_time": "2021-09-29T14:17:04.417Z"
   },
   {
    "duration": 9,
    "start_time": "2021-09-29T14:17:06.183Z"
   },
   {
    "duration": 4,
    "start_time": "2021-09-29T14:17:09.255Z"
   },
   {
    "duration": 15,
    "start_time": "2021-09-29T14:17:10.484Z"
   },
   {
    "duration": 11,
    "start_time": "2021-09-29T14:18:44.375Z"
   },
   {
    "duration": 5,
    "start_time": "2021-09-29T14:19:41.688Z"
   },
   {
    "duration": 8,
    "start_time": "2021-09-29T14:19:42.611Z"
   },
   {
    "duration": 18,
    "start_time": "2021-09-29T14:19:43.677Z"
   },
   {
    "duration": 5,
    "start_time": "2021-09-29T14:20:59.186Z"
   },
   {
    "duration": 11,
    "start_time": "2021-09-29T14:20:59.667Z"
   },
   {
    "duration": 16,
    "start_time": "2021-09-29T14:21:00.701Z"
   },
   {
    "duration": 4,
    "start_time": "2021-09-29T14:22:29.394Z"
   },
   {
    "duration": 9,
    "start_time": "2021-09-29T14:22:29.804Z"
   },
   {
    "duration": 20,
    "start_time": "2021-09-29T14:22:30.796Z"
   },
   {
    "duration": 4,
    "start_time": "2021-09-29T14:25:53.700Z"
   },
   {
    "duration": 9,
    "start_time": "2021-09-29T14:25:54.706Z"
   },
   {
    "duration": 15,
    "start_time": "2021-09-29T14:25:55.238Z"
   },
   {
    "duration": 1165,
    "start_time": "2021-09-30T11:12:24.897Z"
   },
   {
    "duration": 815,
    "start_time": "2021-09-30T11:12:26.064Z"
   },
   {
    "duration": 4,
    "start_time": "2021-09-30T11:12:26.881Z"
   },
   {
    "duration": 22,
    "start_time": "2021-09-30T11:12:26.922Z"
   },
   {
    "duration": 9,
    "start_time": "2021-09-30T11:12:28.351Z"
   },
   {
    "duration": 291,
    "start_time": "2021-09-30T11:12:28.973Z"
   },
   {
    "duration": 280,
    "start_time": "2021-09-30T11:12:29.973Z"
   },
   {
    "duration": 3,
    "start_time": "2021-09-30T11:12:33.833Z"
   },
   {
    "duration": 2,
    "start_time": "2021-09-30T11:12:34.389Z"
   },
   {
    "duration": 3,
    "start_time": "2021-09-30T11:12:41.659Z"
   },
   {
    "duration": 5,
    "start_time": "2021-09-30T11:12:43.655Z"
   },
   {
    "duration": 2,
    "start_time": "2021-09-30T11:12:47.790Z"
   },
   {
    "duration": 271,
    "start_time": "2021-09-30T11:15:20.273Z"
   },
   {
    "duration": 6,
    "start_time": "2021-09-30T11:15:30.645Z"
   },
   {
    "duration": 3,
    "start_time": "2021-09-30T11:16:20.734Z"
   },
   {
    "duration": 3,
    "start_time": "2021-09-30T11:16:22.647Z"
   },
   {
    "duration": 3,
    "start_time": "2021-09-30T11:16:23.144Z"
   },
   {
    "duration": 12,
    "start_time": "2021-09-30T11:16:26.825Z"
   },
   {
    "duration": 11,
    "start_time": "2021-09-30T11:18:40.702Z"
   },
   {
    "duration": 8,
    "start_time": "2021-09-30T11:19:15.502Z"
   },
   {
    "duration": 9,
    "start_time": "2021-09-30T11:19:24.540Z"
   },
   {
    "duration": 12,
    "start_time": "2021-09-30T11:20:51.052Z"
   },
   {
    "duration": 11,
    "start_time": "2021-09-30T11:21:03.384Z"
   },
   {
    "duration": 12,
    "start_time": "2021-09-30T11:21:20.772Z"
   },
   {
    "duration": 5,
    "start_time": "2021-09-30T11:25:54.666Z"
   },
   {
    "duration": 4,
    "start_time": "2021-09-30T11:26:20.800Z"
   },
   {
    "duration": 4,
    "start_time": "2021-09-30T11:27:00.777Z"
   },
   {
    "duration": 4,
    "start_time": "2021-09-30T11:27:26.432Z"
   },
   {
    "duration": 4,
    "start_time": "2021-09-30T11:28:02.695Z"
   },
   {
    "duration": 3,
    "start_time": "2021-09-30T11:28:11.857Z"
   },
   {
    "duration": 5,
    "start_time": "2021-09-30T11:36:38.444Z"
   },
   {
    "duration": 5,
    "start_time": "2021-09-30T11:36:38.839Z"
   },
   {
    "duration": 669,
    "start_time": "2021-09-30T11:36:41.797Z"
   },
   {
    "duration": 5,
    "start_time": "2021-09-30T11:37:23.129Z"
   },
   {
    "duration": 5,
    "start_time": "2021-09-30T11:37:23.676Z"
   },
   {
    "duration": 640,
    "start_time": "2021-09-30T11:37:24.206Z"
   },
   {
    "duration": 5,
    "start_time": "2021-09-30T14:12:23.023Z"
   },
   {
    "duration": 5,
    "start_time": "2021-09-30T14:12:23.488Z"
   },
   {
    "duration": 561,
    "start_time": "2021-09-30T14:12:24.090Z"
   },
   {
    "duration": 5,
    "start_time": "2021-09-30T14:29:19.575Z"
   },
   {
    "duration": 5,
    "start_time": "2021-09-30T14:29:19.887Z"
   },
   {
    "duration": 471,
    "start_time": "2021-09-30T14:29:20.455Z"
   },
   {
    "duration": 6,
    "start_time": "2021-09-30T14:29:33.144Z"
   },
   {
    "duration": 4,
    "start_time": "2021-09-30T14:29:35.526Z"
   },
   {
    "duration": 4,
    "start_time": "2021-09-30T14:29:35.710Z"
   },
   {
    "duration": 402,
    "start_time": "2021-09-30T14:29:35.890Z"
   },
   {
    "duration": -35,
    "start_time": "2021-09-30T14:29:36.329Z"
   },
   {
    "duration": 5,
    "start_time": "2021-09-30T14:29:49.810Z"
   },
   {
    "duration": 4,
    "start_time": "2021-09-30T14:29:50.064Z"
   },
   {
    "duration": 545,
    "start_time": "2021-09-30T14:29:50.277Z"
   },
   {
    "duration": 5,
    "start_time": "2021-09-30T14:31:08.902Z"
   },
   {
    "duration": 4,
    "start_time": "2021-09-30T14:31:09.282Z"
   },
   {
    "duration": 583,
    "start_time": "2021-09-30T14:31:09.757Z"
   },
   {
    "duration": 5,
    "start_time": "2021-09-30T14:32:43.504Z"
   },
   {
    "duration": 5,
    "start_time": "2021-09-30T14:32:44.027Z"
   },
   {
    "duration": 589,
    "start_time": "2021-09-30T14:32:44.611Z"
   },
   {
    "duration": 5,
    "start_time": "2021-09-30T14:32:57.766Z"
   },
   {
    "duration": 4,
    "start_time": "2021-09-30T14:32:58.096Z"
   },
   {
    "duration": 583,
    "start_time": "2021-09-30T14:32:58.645Z"
   },
   {
    "duration": 5,
    "start_time": "2021-09-30T14:33:35.473Z"
   },
   {
    "duration": 5,
    "start_time": "2021-09-30T14:34:10.121Z"
   },
   {
    "duration": 5,
    "start_time": "2021-09-30T14:34:10.603Z"
   },
   {
    "duration": 619,
    "start_time": "2021-09-30T14:34:11.089Z"
   },
   {
    "duration": 249,
    "start_time": "2021-09-30T14:38:35.576Z"
   },
   {
    "duration": 1170,
    "start_time": "2021-10-01T10:11:34.602Z"
   },
   {
    "duration": 704,
    "start_time": "2021-10-01T10:11:35.774Z"
   },
   {
    "duration": 5,
    "start_time": "2021-10-01T10:11:36.480Z"
   },
   {
    "duration": 26,
    "start_time": "2021-10-01T10:11:36.487Z"
   },
   {
    "duration": 10,
    "start_time": "2021-10-01T10:11:36.516Z"
   },
   {
    "duration": 287,
    "start_time": "2021-10-01T10:11:36.549Z"
   },
   {
    "duration": 276,
    "start_time": "2021-10-01T10:11:36.839Z"
   },
   {
    "duration": 2,
    "start_time": "2021-10-01T10:11:37.118Z"
   },
   {
    "duration": 8,
    "start_time": "2021-10-01T10:11:37.122Z"
   },
   {
    "duration": 5,
    "start_time": "2021-10-01T10:11:37.132Z"
   },
   {
    "duration": 4,
    "start_time": "2021-10-01T10:11:37.150Z"
   },
   {
    "duration": 3,
    "start_time": "2021-10-01T10:11:37.390Z"
   },
   {
    "duration": 2,
    "start_time": "2021-10-01T10:11:37.614Z"
   },
   {
    "duration": 16,
    "start_time": "2021-10-01T10:11:37.820Z"
   },
   {
    "duration": 8,
    "start_time": "2021-10-01T10:11:37.992Z"
   },
   {
    "duration": 559,
    "start_time": "2021-10-01T10:11:38.170Z"
   },
   {
    "duration": 4,
    "start_time": "2021-10-01T10:11:38.730Z"
   },
   {
    "duration": 6,
    "start_time": "2021-10-01T10:11:39.046Z"
   },
   {
    "duration": 5,
    "start_time": "2021-10-01T10:11:41.559Z"
   },
   {
    "duration": 4,
    "start_time": "2021-10-01T10:11:48.277Z"
   },
   {
    "duration": 692,
    "start_time": "2021-10-01T10:11:49.010Z"
   },
   {
    "duration": 85,
    "start_time": "2021-10-01T11:13:55.236Z"
   },
   {
    "duration": 634,
    "start_time": "2021-10-01T11:14:03.248Z"
   },
   {
    "duration": 12,
    "start_time": "2021-10-01T11:14:07.486Z"
   },
   {
    "duration": 12,
    "start_time": "2021-10-01T11:15:42.508Z"
   },
   {
    "duration": 4,
    "start_time": "2021-10-01T11:29:31.274Z"
   },
   {
    "duration": 1460,
    "start_time": "2021-10-01T11:30:01.758Z"
   },
   {
    "duration": 1655,
    "start_time": "2021-10-01T11:33:04.857Z"
   },
   {
    "duration": 10,
    "start_time": "2021-10-01T11:37:01.544Z"
   },
   {
    "duration": 10,
    "start_time": "2021-10-01T11:37:07.256Z"
   },
   {
    "duration": 9,
    "start_time": "2021-10-01T11:37:28.254Z"
   },
   {
    "duration": 2423,
    "start_time": "2021-10-01T11:37:56.351Z"
   },
   {
    "duration": 4,
    "start_time": "2021-10-01T11:38:26.712Z"
   },
   {
    "duration": 4,
    "start_time": "2021-10-01T11:38:32.034Z"
   },
   {
    "duration": 4,
    "start_time": "2021-10-01T11:38:44.352Z"
   },
   {
    "duration": 5,
    "start_time": "2021-10-01T11:38:55.382Z"
   },
   {
    "duration": 9,
    "start_time": "2021-10-01T11:39:01.999Z"
   },
   {
    "duration": 2926,
    "start_time": "2021-10-01T11:39:03.203Z"
   },
   {
    "duration": 4,
    "start_time": "2021-10-01T11:39:13.247Z"
   },
   {
    "duration": 2690,
    "start_time": "2021-10-01T11:39:14.307Z"
   },
   {
    "duration": 5,
    "start_time": "2021-10-01T11:39:23.863Z"
   },
   {
    "duration": 2506,
    "start_time": "2021-10-01T11:39:24.611Z"
   },
   {
    "duration": 12,
    "start_time": "2021-10-01T11:41:33.619Z"
   },
   {
    "duration": 5,
    "start_time": "2021-10-01T11:41:34.001Z"
   },
   {
    "duration": 2671,
    "start_time": "2021-10-01T11:41:46.864Z"
   },
   {
    "duration": 12,
    "start_time": "2021-10-01T11:43:20.010Z"
   },
   {
    "duration": 5,
    "start_time": "2021-10-01T11:43:24.989Z"
   },
   {
    "duration": 2883,
    "start_time": "2021-10-01T11:43:25.606Z"
   },
   {
    "duration": 2830,
    "start_time": "2021-10-01T11:43:28.492Z"
   },
   {
    "duration": 2708,
    "start_time": "2021-10-01T11:43:39.456Z"
   },
   {
    "duration": 4,
    "start_time": "2021-10-01T11:49:21.281Z"
   },
   {
    "duration": 1315,
    "start_time": "2021-10-01T11:49:21.675Z"
   },
   {
    "duration": 4,
    "start_time": "2021-10-01T11:49:29.743Z"
   },
   {
    "duration": 2077,
    "start_time": "2021-10-01T11:49:30.611Z"
   },
   {
    "duration": 4,
    "start_time": "2021-10-01T11:50:22.208Z"
   },
   {
    "duration": 1270,
    "start_time": "2021-10-01T11:50:22.814Z"
   },
   {
    "duration": 4,
    "start_time": "2021-10-01T11:50:49.389Z"
   },
   {
    "duration": 1315,
    "start_time": "2021-10-01T11:50:50.035Z"
   },
   {
    "duration": 4,
    "start_time": "2021-10-01T11:51:37.243Z"
   },
   {
    "duration": 2090,
    "start_time": "2021-10-01T11:51:37.249Z"
   },
   {
    "duration": 4,
    "start_time": "2021-10-01T11:51:56.942Z"
   },
   {
    "duration": 2011,
    "start_time": "2021-10-01T11:51:57.234Z"
   },
   {
    "duration": 2136,
    "start_time": "2021-10-01T11:52:16.172Z"
   },
   {
    "duration": 2100,
    "start_time": "2021-10-01T11:52:18.310Z"
   },
   {
    "duration": 544,
    "start_time": "2021-10-01T12:22:55.550Z"
   },
   {
    "duration": 466,
    "start_time": "2021-10-01T12:23:47.555Z"
   },
   {
    "duration": 534,
    "start_time": "2021-10-01T12:24:36.146Z"
   },
   {
    "duration": 534,
    "start_time": "2021-10-01T12:42:21.222Z"
   },
   {
    "duration": 816,
    "start_time": "2021-10-01T12:42:30.608Z"
   },
   {
    "duration": 285,
    "start_time": "2021-10-01T14:09:11.098Z"
   },
   {
    "duration": 494,
    "start_time": "2021-10-01T14:09:26.925Z"
   },
   {
    "duration": 686,
    "start_time": "2021-10-01T14:09:34.107Z"
   },
   {
    "duration": 508,
    "start_time": "2021-10-01T14:09:52.664Z"
   },
   {
    "duration": 1122,
    "start_time": "2021-10-01T14:10:10.893Z"
   },
   {
    "duration": 1097,
    "start_time": "2021-10-01T14:10:31.428Z"
   },
   {
    "duration": 26263,
    "start_time": "2021-10-01T14:10:54.720Z"
   },
   {
    "duration": 765,
    "start_time": "2021-10-01T14:11:23.997Z"
   },
   {
    "duration": 671,
    "start_time": "2021-10-01T14:11:39.477Z"
   },
   {
    "duration": 842,
    "start_time": "2021-10-01T14:11:54.426Z"
   },
   {
    "duration": 814,
    "start_time": "2021-10-01T14:12:02.600Z"
   },
   {
    "duration": 884,
    "start_time": "2021-10-01T14:12:35.617Z"
   },
   {
    "duration": 858,
    "start_time": "2021-10-01T14:12:46.013Z"
   },
   {
    "duration": 838,
    "start_time": "2021-10-01T14:12:54.614Z"
   },
   {
    "duration": 853,
    "start_time": "2021-10-01T14:13:09.635Z"
   },
   {
    "duration": 866,
    "start_time": "2021-10-01T14:13:23.325Z"
   },
   {
    "duration": 818,
    "start_time": "2021-10-01T14:13:33.675Z"
   },
   {
    "duration": 867,
    "start_time": "2021-10-01T14:13:47.606Z"
   },
   {
    "duration": 703,
    "start_time": "2021-10-01T14:13:58.170Z"
   },
   {
    "duration": 819,
    "start_time": "2021-10-01T14:14:24.494Z"
   },
   {
    "duration": 812,
    "start_time": "2021-10-01T14:14:58.861Z"
   },
   {
    "duration": 899,
    "start_time": "2021-10-01T14:15:11.969Z"
   },
   {
    "duration": 750,
    "start_time": "2021-10-01T14:15:18.031Z"
   },
   {
    "duration": 853,
    "start_time": "2021-10-01T14:15:24.134Z"
   },
   {
    "duration": 848,
    "start_time": "2021-10-01T14:15:30.506Z"
   },
   {
    "duration": 1459,
    "start_time": "2021-10-01T14:18:16.080Z"
   },
   {
    "duration": 1393,
    "start_time": "2021-10-01T14:19:05.663Z"
   },
   {
    "duration": 1624,
    "start_time": "2021-10-01T14:19:19.311Z"
   },
   {
    "duration": 1425,
    "start_time": "2021-10-01T14:19:23.733Z"
   },
   {
    "duration": 1442,
    "start_time": "2021-10-01T14:19:48.622Z"
   },
   {
    "duration": 1543,
    "start_time": "2021-10-01T14:19:56.608Z"
   },
   {
    "duration": 1442,
    "start_time": "2021-10-01T14:20:04.910Z"
   },
   {
    "duration": 1509,
    "start_time": "2021-10-01T14:20:20.440Z"
   },
   {
    "duration": 1359,
    "start_time": "2021-10-01T14:20:29.057Z"
   },
   {
    "duration": 1581,
    "start_time": "2021-10-03T10:44:44.423Z"
   },
   {
    "duration": 853,
    "start_time": "2021-10-03T10:44:46.006Z"
   },
   {
    "duration": 5,
    "start_time": "2021-10-03T10:44:46.862Z"
   },
   {
    "duration": 38,
    "start_time": "2021-10-03T10:44:46.869Z"
   },
   {
    "duration": 12,
    "start_time": "2021-10-03T10:44:46.910Z"
   },
   {
    "duration": 499,
    "start_time": "2021-10-03T10:44:46.924Z"
   },
   {
    "duration": 480,
    "start_time": "2021-10-03T10:44:47.427Z"
   },
   {
    "duration": 2,
    "start_time": "2021-10-03T10:44:47.911Z"
   },
   {
    "duration": 18,
    "start_time": "2021-10-03T10:44:47.916Z"
   },
   {
    "duration": 14,
    "start_time": "2021-10-03T10:44:47.937Z"
   },
   {
    "duration": 33,
    "start_time": "2021-10-03T10:44:47.954Z"
   },
   {
    "duration": 19,
    "start_time": "2021-10-03T10:44:47.990Z"
   },
   {
    "duration": 25,
    "start_time": "2021-10-03T10:44:48.012Z"
   },
   {
    "duration": 31,
    "start_time": "2021-10-03T10:44:48.040Z"
   },
   {
    "duration": 14,
    "start_time": "2021-10-03T10:44:48.074Z"
   },
   {
    "duration": 1044,
    "start_time": "2021-10-03T10:44:48.207Z"
   },
   {
    "duration": 11,
    "start_time": "2021-10-03T10:44:49.254Z"
   },
   {
    "duration": 11,
    "start_time": "2021-10-03T10:44:49.268Z"
   },
   {
    "duration": 7,
    "start_time": "2021-10-03T10:44:49.282Z"
   },
   {
    "duration": 7,
    "start_time": "2021-10-03T10:44:49.381Z"
   },
   {
    "duration": 1014,
    "start_time": "2021-10-03T10:44:49.536Z"
   },
   {
    "duration": 377,
    "start_time": "2021-10-03T10:44:50.563Z"
   },
   {
    "duration": 27,
    "start_time": "2021-10-03T10:44:50.943Z"
   },
   {
    "duration": 20,
    "start_time": "2021-10-03T10:44:51.079Z"
   },
   {
    "duration": 6,
    "start_time": "2021-10-03T10:44:51.355Z"
   },
   {
    "duration": 3493,
    "start_time": "2021-10-03T10:44:51.376Z"
   },
   {
    "duration": 3092,
    "start_time": "2021-10-03T10:44:54.873Z"
   },
   {
    "duration": 3183,
    "start_time": "2021-10-03T10:44:57.969Z"
   },
   {
    "duration": 2250,
    "start_time": "2021-10-03T10:45:01.163Z"
   },
   {
    "duration": 47,
    "start_time": "2021-10-03T11:22:28.292Z"
   },
   {
    "duration": 41,
    "start_time": "2021-10-03T11:23:18.879Z"
   },
   {
    "duration": 9268,
    "start_time": "2021-10-03T11:23:49.108Z"
   },
   {
    "duration": 35,
    "start_time": "2021-10-03T11:24:17.964Z"
   },
   {
    "duration": 342,
    "start_time": "2021-10-03T11:27:43.261Z"
   },
   {
    "duration": 661,
    "start_time": "2021-10-03T11:28:59.265Z"
   },
   {
    "duration": 32,
    "start_time": "2021-10-03T11:36:33.008Z"
   },
   {
    "duration": 611,
    "start_time": "2021-10-03T11:36:34.796Z"
   },
   {
    "duration": 736,
    "start_time": "2021-10-03T11:38:32.302Z"
   },
   {
    "duration": 646,
    "start_time": "2021-10-03T11:38:58.144Z"
   },
   {
    "duration": 689,
    "start_time": "2021-10-03T11:39:40.989Z"
   },
   {
    "duration": 643,
    "start_time": "2021-10-03T11:39:56.203Z"
   },
   {
    "duration": 1620,
    "start_time": "2021-10-03T11:40:22.534Z"
   },
   {
    "duration": 659,
    "start_time": "2021-10-03T11:40:47.160Z"
   },
   {
    "duration": 1639,
    "start_time": "2021-10-03T11:40:54.726Z"
   },
   {
    "duration": 30,
    "start_time": "2021-10-03T11:44:40.680Z"
   },
   {
    "duration": 1638,
    "start_time": "2021-10-03T11:44:41.219Z"
   },
   {
    "duration": 29,
    "start_time": "2021-10-03T11:46:32.644Z"
   },
   {
    "duration": 1400,
    "start_time": "2021-10-03T11:46:36.244Z"
   },
   {
    "duration": 4,
    "start_time": "2021-10-03T11:54:46.790Z"
   },
   {
    "duration": 1540,
    "start_time": "2021-10-03T12:08:14.864Z"
   },
   {
    "duration": 919,
    "start_time": "2021-10-03T12:08:16.406Z"
   },
   {
    "duration": 5,
    "start_time": "2021-10-03T12:08:17.327Z"
   },
   {
    "duration": 55,
    "start_time": "2021-10-03T12:08:17.335Z"
   },
   {
    "duration": 17,
    "start_time": "2021-10-03T12:08:19.644Z"
   },
   {
    "duration": 486,
    "start_time": "2021-10-03T12:08:20.707Z"
   },
   {
    "duration": 466,
    "start_time": "2021-10-03T12:08:22.122Z"
   },
   {
    "duration": 3,
    "start_time": "2021-10-03T12:08:25.041Z"
   },
   {
    "duration": 4,
    "start_time": "2021-10-03T12:08:25.526Z"
   },
   {
    "duration": 3,
    "start_time": "2021-10-03T12:08:27.169Z"
   },
   {
    "duration": 8,
    "start_time": "2021-10-03T12:08:27.278Z"
   },
   {
    "duration": 5,
    "start_time": "2021-10-03T12:08:30.813Z"
   },
   {
    "duration": 4,
    "start_time": "2021-10-03T12:08:31.270Z"
   },
   {
    "duration": 23,
    "start_time": "2021-10-03T12:08:31.814Z"
   },
   {
    "duration": 16,
    "start_time": "2021-10-03T12:09:20.947Z"
   },
   {
    "duration": 13,
    "start_time": "2021-10-03T12:09:22.433Z"
   },
   {
    "duration": 963,
    "start_time": "2021-10-03T12:09:25.402Z"
   },
   {
    "duration": 1688,
    "start_time": "2021-10-03T12:09:47.274Z"
   },
   {
    "duration": 1004,
    "start_time": "2021-10-03T12:09:48.964Z"
   },
   {
    "duration": 5,
    "start_time": "2021-10-03T12:09:49.971Z"
   },
   {
    "duration": 54,
    "start_time": "2021-10-03T12:09:49.979Z"
   },
   {
    "duration": 28,
    "start_time": "2021-10-03T12:09:50.035Z"
   },
   {
    "duration": 566,
    "start_time": "2021-10-03T12:09:50.066Z"
   },
   {
    "duration": 513,
    "start_time": "2021-10-03T12:09:50.634Z"
   },
   {
    "duration": 11,
    "start_time": "2021-10-03T12:09:51.151Z"
   },
   {
    "duration": 5,
    "start_time": "2021-10-03T12:09:51.165Z"
   },
   {
    "duration": 13,
    "start_time": "2021-10-03T12:09:51.172Z"
   },
   {
    "duration": 10,
    "start_time": "2021-10-03T12:09:51.188Z"
   },
   {
    "duration": 10,
    "start_time": "2021-10-03T12:09:51.200Z"
   },
   {
    "duration": 8,
    "start_time": "2021-10-03T12:09:51.213Z"
   },
   {
    "duration": 22,
    "start_time": "2021-10-03T12:09:53.196Z"
   },
   {
    "duration": 12,
    "start_time": "2021-10-03T12:09:54.786Z"
   },
   {
    "duration": 962,
    "start_time": "2021-10-03T12:09:55.634Z"
   },
   {
    "duration": 3,
    "start_time": "2021-10-03T12:12:22.571Z"
   },
   {
    "duration": 6,
    "start_time": "2021-10-03T12:12:23.129Z"
   },
   {
    "duration": 20,
    "start_time": "2021-10-03T12:13:34.088Z"
   },
   {
    "duration": 6,
    "start_time": "2021-10-03T12:13:36.463Z"
   },
   {
    "duration": 9,
    "start_time": "2021-10-03T12:14:07.561Z"
   },
   {
    "duration": 8,
    "start_time": "2021-10-03T12:14:07.752Z"
   },
   {
    "duration": 7,
    "start_time": "2021-10-03T12:14:07.873Z"
   },
   {
    "duration": 1043,
    "start_time": "2021-10-03T12:14:08.054Z"
   },
   {
    "duration": 384,
    "start_time": "2021-10-03T12:14:09.100Z"
   },
   {
    "duration": 14,
    "start_time": "2021-10-03T12:14:09.560Z"
   },
   {
    "duration": 18,
    "start_time": "2021-10-03T12:14:10.111Z"
   },
   {
    "duration": 5,
    "start_time": "2021-10-03T12:14:10.433Z"
   },
   {
    "duration": 3249,
    "start_time": "2021-10-03T12:14:10.649Z"
   },
   {
    "duration": 3271,
    "start_time": "2021-10-03T12:14:13.901Z"
   },
   {
    "duration": 3179,
    "start_time": "2021-10-03T12:14:17.175Z"
   },
   {
    "duration": 2242,
    "start_time": "2021-10-03T12:14:20.361Z"
   },
   {
    "duration": 27,
    "start_time": "2021-10-03T12:14:22.605Z"
   },
   {
    "duration": 1416,
    "start_time": "2021-10-03T12:14:22.634Z"
   },
   {
    "duration": 3,
    "start_time": "2021-10-03T12:14:24.061Z"
   },
   {
    "duration": 6,
    "start_time": "2021-10-03T12:16:05.081Z"
   },
   {
    "duration": 5,
    "start_time": "2021-10-03T12:16:06.518Z"
   },
   {
    "duration": 6,
    "start_time": "2021-10-03T12:16:21.534Z"
   },
   {
    "duration": 6,
    "start_time": "2021-10-03T12:16:36.473Z"
   },
   {
    "duration": 6,
    "start_time": "2021-10-03T12:22:15.097Z"
   },
   {
    "duration": 7,
    "start_time": "2021-10-03T12:23:19.574Z"
   },
   {
    "duration": 5,
    "start_time": "2021-10-03T12:23:30.425Z"
   },
   {
    "duration": 660,
    "start_time": "2021-10-03T12:48:21.973Z"
   },
   {
    "duration": 8,
    "start_time": "2021-10-03T12:48:30.047Z"
   },
   {
    "duration": 350,
    "start_time": "2021-10-03T12:48:42.800Z"
   },
   {
    "duration": 7,
    "start_time": "2021-10-03T12:49:00.456Z"
   },
   {
    "duration": 46,
    "start_time": "2021-10-03T12:52:13.860Z"
   },
   {
    "duration": 632,
    "start_time": "2021-10-03T12:53:01.541Z"
   },
   {
    "duration": 406,
    "start_time": "2021-10-03T13:32:20.747Z"
   },
   {
    "duration": 40,
    "start_time": "2021-10-03T13:32:30.624Z"
   },
   {
    "duration": 11,
    "start_time": "2021-10-03T13:32:43.014Z"
   },
   {
    "duration": 12,
    "start_time": "2021-10-03T13:33:30.151Z"
   },
   {
    "duration": 340,
    "start_time": "2021-10-03T13:33:52.819Z"
   },
   {
    "duration": 347,
    "start_time": "2021-10-03T13:35:10.557Z"
   },
   {
    "duration": 332,
    "start_time": "2021-10-03T13:35:34.467Z"
   },
   {
    "duration": 26,
    "start_time": "2021-10-03T13:49:09.255Z"
   },
   {
    "duration": 7,
    "start_time": "2021-10-03T13:49:23.732Z"
   },
   {
    "duration": 6,
    "start_time": "2021-10-03T13:49:58.305Z"
   },
   {
    "duration": 1534,
    "start_time": "2021-10-03T13:50:27.971Z"
   },
   {
    "duration": 907,
    "start_time": "2021-10-03T13:50:29.507Z"
   },
   {
    "duration": 5,
    "start_time": "2021-10-03T13:50:30.417Z"
   },
   {
    "duration": 56,
    "start_time": "2021-10-03T13:50:30.424Z"
   },
   {
    "duration": 22,
    "start_time": "2021-10-03T13:50:30.483Z"
   },
   {
    "duration": 501,
    "start_time": "2021-10-03T13:50:30.507Z"
   },
   {
    "duration": 486,
    "start_time": "2021-10-03T13:50:31.011Z"
   },
   {
    "duration": 3,
    "start_time": "2021-10-03T13:50:31.501Z"
   },
   {
    "duration": 27,
    "start_time": "2021-10-03T13:50:31.507Z"
   },
   {
    "duration": 12,
    "start_time": "2021-10-03T13:50:31.537Z"
   },
   {
    "duration": 11,
    "start_time": "2021-10-03T13:50:31.551Z"
   },
   {
    "duration": 10,
    "start_time": "2021-10-03T13:50:31.565Z"
   },
   {
    "duration": 36,
    "start_time": "2021-10-03T13:50:31.578Z"
   },
   {
    "duration": 37,
    "start_time": "2021-10-03T13:50:31.617Z"
   },
   {
    "duration": 11,
    "start_time": "2021-10-03T13:50:31.657Z"
   },
   {
    "duration": 982,
    "start_time": "2021-10-03T13:50:31.671Z"
   },
   {
    "duration": 20,
    "start_time": "2021-10-03T13:50:32.662Z"
   },
   {
    "duration": 6,
    "start_time": "2021-10-03T13:50:32.685Z"
   },
   {
    "duration": 8,
    "start_time": "2021-10-03T13:50:34.095Z"
   },
   {
    "duration": 8,
    "start_time": "2021-10-03T13:50:34.252Z"
   },
   {
    "duration": 7,
    "start_time": "2021-10-03T13:50:34.421Z"
   },
   {
    "duration": 1036,
    "start_time": "2021-10-03T13:50:34.579Z"
   },
   {
    "duration": 389,
    "start_time": "2021-10-03T13:50:35.618Z"
   },
   {
    "duration": 14,
    "start_time": "2021-10-03T13:50:36.010Z"
   },
   {
    "duration": 38,
    "start_time": "2021-10-03T13:50:36.026Z"
   },
   {
    "duration": 5,
    "start_time": "2021-10-03T13:50:36.067Z"
   },
   {
    "duration": 3294,
    "start_time": "2021-10-03T13:50:36.074Z"
   },
   {
    "duration": 3108,
    "start_time": "2021-10-03T13:50:39.371Z"
   },
   {
    "duration": 3157,
    "start_time": "2021-10-03T13:50:42.481Z"
   },
   {
    "duration": 2245,
    "start_time": "2021-10-03T13:50:45.641Z"
   },
   {
    "duration": 35,
    "start_time": "2021-10-03T13:50:47.889Z"
   },
   {
    "duration": 1408,
    "start_time": "2021-10-03T13:50:47.927Z"
   },
   {
    "duration": 4,
    "start_time": "2021-10-03T13:57:41.854Z"
   },
   {
    "duration": 6,
    "start_time": "2021-10-03T13:57:42.758Z"
   },
   {
    "duration": 5,
    "start_time": "2021-10-03T13:57:43.755Z"
   },
   {
    "duration": 7,
    "start_time": "2021-10-03T13:57:54.056Z"
   },
   {
    "duration": 507,
    "start_time": "2021-10-03T13:58:09.713Z"
   },
   {
    "duration": 6,
    "start_time": "2021-10-03T13:58:10.719Z"
   },
   {
    "duration": 25,
    "start_time": "2021-10-03T13:58:22.947Z"
   },
   {
    "duration": 6,
    "start_time": "2021-10-03T13:58:24.035Z"
   },
   {
    "duration": 6,
    "start_time": "2021-10-03T13:58:27.953Z"
   },
   {
    "duration": 35,
    "start_time": "2021-10-03T13:59:17.136Z"
   },
   {
    "duration": 34,
    "start_time": "2021-10-03T13:59:28.644Z"
   },
   {
    "duration": 6,
    "start_time": "2021-10-03T14:10:43.454Z"
   },
   {
    "duration": 58,
    "start_time": "2021-10-03T14:15:53.110Z"
   },
   {
    "duration": 14,
    "start_time": "2021-10-03T14:17:31.873Z"
   },
   {
    "duration": 16,
    "start_time": "2021-10-03T14:18:10.107Z"
   },
   {
    "duration": 18,
    "start_time": "2021-10-03T14:18:40.588Z"
   },
   {
    "duration": 20,
    "start_time": "2021-10-03T15:15:17.797Z"
   },
   {
    "duration": 19,
    "start_time": "2021-10-03T15:15:27.637Z"
   },
   {
    "duration": 680,
    "start_time": "2021-10-03T15:16:39.359Z"
   },
   {
    "duration": 43,
    "start_time": "2021-10-03T15:18:38.386Z"
   },
   {
    "duration": 22,
    "start_time": "2021-10-03T15:18:53.096Z"
   },
   {
    "duration": 16256,
    "start_time": "2021-10-03T15:18:55.680Z"
   },
   {
    "duration": 16544,
    "start_time": "2021-10-03T15:19:28.723Z"
   },
   {
    "duration": -160,
    "start_time": "2021-10-03T15:33:01.736Z"
   },
   {
    "duration": 17208,
    "start_time": "2021-10-03T15:34:24.172Z"
   },
   {
    "duration": 623,
    "start_time": "2021-10-03T15:53:39.766Z"
   },
   {
    "duration": 362,
    "start_time": "2021-10-03T15:54:55.157Z"
   },
   {
    "duration": 348,
    "start_time": "2021-10-03T15:55:33.892Z"
   },
   {
    "duration": 351,
    "start_time": "2021-10-03T15:55:47.685Z"
   },
   {
    "duration": 370,
    "start_time": "2021-10-03T15:56:21.314Z"
   },
   {
    "duration": 430,
    "start_time": "2021-10-03T15:56:53.159Z"
   },
   {
    "duration": 394,
    "start_time": "2021-10-03T15:57:02.946Z"
   },
   {
    "duration": 311,
    "start_time": "2021-10-03T15:57:12.958Z"
   },
   {
    "duration": 377,
    "start_time": "2021-10-03T15:58:16.620Z"
   },
   {
    "duration": 375,
    "start_time": "2021-10-03T15:58:25.748Z"
   },
   {
    "duration": 23829,
    "start_time": "2021-10-03T15:58:53.480Z"
   },
   {
    "duration": 22728,
    "start_time": "2021-10-03T16:02:11.244Z"
   },
   {
    "duration": 123573,
    "start_time": "2021-10-03T16:17:01.898Z"
   },
   {
    "duration": 118005,
    "start_time": "2021-10-03T16:19:59.164Z"
   },
   {
    "duration": 1758,
    "start_time": "2021-10-04T10:12:45.291Z"
   },
   {
    "duration": 2674,
    "start_time": "2021-10-04T10:12:47.052Z"
   },
   {
    "duration": 6,
    "start_time": "2021-10-04T10:12:49.729Z"
   },
   {
    "duration": 191,
    "start_time": "2021-10-04T10:12:49.737Z"
   },
   {
    "duration": 14,
    "start_time": "2021-10-04T10:12:49.930Z"
   },
   {
    "duration": 606,
    "start_time": "2021-10-04T10:12:49.947Z"
   },
   {
    "duration": 514,
    "start_time": "2021-10-04T10:12:50.555Z"
   },
   {
    "duration": 4,
    "start_time": "2021-10-04T10:12:51.074Z"
   },
   {
    "duration": 5,
    "start_time": "2021-10-04T10:12:51.083Z"
   },
   {
    "duration": 17,
    "start_time": "2021-10-04T10:12:51.091Z"
   },
   {
    "duration": 11,
    "start_time": "2021-10-04T10:12:51.110Z"
   },
   {
    "duration": 7,
    "start_time": "2021-10-04T10:12:51.123Z"
   },
   {
    "duration": 15,
    "start_time": "2021-10-04T10:12:51.132Z"
   },
   {
    "duration": 29,
    "start_time": "2021-10-04T10:12:51.164Z"
   },
   {
    "duration": 11,
    "start_time": "2021-10-04T10:12:51.196Z"
   },
   {
    "duration": 1113,
    "start_time": "2021-10-04T10:12:51.210Z"
   },
   {
    "duration": 21,
    "start_time": "2021-10-04T10:12:52.326Z"
   },
   {
    "duration": 14,
    "start_time": "2021-10-04T10:12:52.363Z"
   },
   {
    "duration": 22,
    "start_time": "2021-10-04T10:12:52.379Z"
   },
   {
    "duration": 9,
    "start_time": "2021-10-04T10:12:52.403Z"
   },
   {
    "duration": 6,
    "start_time": "2021-10-04T10:12:52.415Z"
   },
   {
    "duration": 1144,
    "start_time": "2021-10-04T10:12:52.423Z"
   },
   {
    "duration": 432,
    "start_time": "2021-10-04T10:12:53.573Z"
   },
   {
    "duration": 15,
    "start_time": "2021-10-04T10:12:54.007Z"
   },
   {
    "duration": 44,
    "start_time": "2021-10-04T10:12:54.025Z"
   },
   {
    "duration": 8,
    "start_time": "2021-10-04T10:12:54.072Z"
   },
   {
    "duration": 3634,
    "start_time": "2021-10-04T10:12:54.083Z"
   },
   {
    "duration": 3569,
    "start_time": "2021-10-04T10:12:57.719Z"
   },
   {
    "duration": 3643,
    "start_time": "2021-10-04T10:13:01.291Z"
   },
   {
    "duration": 2465,
    "start_time": "2021-10-04T10:13:04.936Z"
   },
   {
    "duration": 28,
    "start_time": "2021-10-04T10:13:07.405Z"
   },
   {
    "duration": 1460,
    "start_time": "2021-10-04T10:13:07.436Z"
   },
   {
    "duration": 4,
    "start_time": "2021-10-04T10:13:08.898Z"
   },
   {
    "duration": 10,
    "start_time": "2021-10-04T10:13:08.904Z"
   },
   {
    "duration": 11,
    "start_time": "2021-10-04T10:13:08.916Z"
   },
   {
    "duration": 32,
    "start_time": "2021-10-04T10:13:08.929Z"
   },
   {
    "duration": 42,
    "start_time": "2021-10-04T10:13:08.965Z"
   },
   {
    "duration": 21,
    "start_time": "2021-10-04T10:13:09.009Z"
   },
   {
    "duration": 79930,
    "start_time": "2021-10-04T10:13:09.032Z"
   },
   {
    "duration": 80643,
    "start_time": "2021-10-04T10:14:50.827Z"
   },
   {
    "duration": 37,
    "start_time": "2021-10-04T10:21:46.497Z"
   },
   {
    "duration": 86692,
    "start_time": "2021-10-04T10:25:34.019Z"
   },
   {
    "duration": 89428,
    "start_time": "2021-10-04T10:33:52.654Z"
   },
   {
    "duration": 3,
    "start_time": "2021-10-04T10:35:49.656Z"
   },
   {
    "duration": 233212,
    "start_time": "2021-10-04T10:35:52.168Z"
   },
   {
    "duration": 273351,
    "start_time": "2021-10-04T10:45:18.633Z"
   },
   {
    "duration": 173,
    "start_time": "2021-10-04T10:49:51.987Z"
   },
   {
    "duration": 271116,
    "start_time": "2021-10-04T10:50:17.555Z"
   },
   {
    "duration": 4,
    "start_time": "2021-10-04T11:21:44.423Z"
   },
   {
    "duration": 4,
    "start_time": "2021-10-04T11:24:03.518Z"
   },
   {
    "duration": 5,
    "start_time": "2021-10-04T11:25:31.474Z"
   },
   {
    "duration": 398,
    "start_time": "2021-10-04T11:26:36.069Z"
   },
   {
    "duration": 4,
    "start_time": "2021-10-04T11:26:49.901Z"
   },
   {
    "duration": 318,
    "start_time": "2021-10-04T11:28:56.144Z"
   },
   {
    "duration": 370,
    "start_time": "2021-10-04T11:30:49.771Z"
   },
   {
    "duration": 4,
    "start_time": "2021-10-04T11:31:39.570Z"
   },
   {
    "duration": 5,
    "start_time": "2021-10-04T11:31:40.761Z"
   },
   {
    "duration": 4,
    "start_time": "2021-10-04T11:46:16.143Z"
   },
   {
    "duration": 5,
    "start_time": "2021-10-04T11:48:43.092Z"
   },
   {
    "duration": 15414,
    "start_time": "2021-10-04T11:53:11.296Z"
   },
   {
    "duration": 5,
    "start_time": "2021-10-04T11:54:07.671Z"
   },
   {
    "duration": 6,
    "start_time": "2021-10-04T11:54:08.187Z"
   },
   {
    "duration": 275376,
    "start_time": "2021-10-04T11:54:09.049Z"
   },
   {
    "duration": 7,
    "start_time": "2021-10-04T12:01:25.970Z"
   },
   {
    "duration": 7,
    "start_time": "2021-10-04T12:04:28.175Z"
   },
   {
    "duration": 121,
    "start_time": "2021-10-04T12:54:02.712Z"
   },
   {
    "duration": 8,
    "start_time": "2021-10-04T12:54:39.036Z"
   },
   {
    "duration": 6,
    "start_time": "2021-10-04T12:55:02.949Z"
   },
   {
    "duration": 6,
    "start_time": "2021-10-04T12:55:20.636Z"
   },
   {
    "duration": 8,
    "start_time": "2021-10-04T12:55:54.987Z"
   },
   {
    "duration": 106,
    "start_time": "2021-10-04T12:59:14.651Z"
   },
   {
    "duration": 109,
    "start_time": "2021-10-04T12:59:15.387Z"
   },
   {
    "duration": 4,
    "start_time": "2021-10-04T12:59:20.017Z"
   },
   {
    "duration": 3,
    "start_time": "2021-10-04T12:59:25.111Z"
   },
   {
    "duration": 7,
    "start_time": "2021-10-04T13:00:06.756Z"
   },
   {
    "duration": 8,
    "start_time": "2021-10-04T13:00:52.545Z"
   },
   {
    "duration": 4,
    "start_time": "2021-10-04T13:03:05.961Z"
   },
   {
    "duration": 5,
    "start_time": "2021-10-04T13:03:40.473Z"
   },
   {
    "duration": 1919,
    "start_time": "2021-10-04T13:03:48.623Z"
   },
   {
    "duration": 948,
    "start_time": "2021-10-04T13:03:50.545Z"
   },
   {
    "duration": 5,
    "start_time": "2021-10-04T13:03:51.497Z"
   },
   {
    "duration": 38,
    "start_time": "2021-10-04T13:03:53.597Z"
   },
   {
    "duration": 14,
    "start_time": "2021-10-04T13:04:04.448Z"
   },
   {
    "duration": 593,
    "start_time": "2021-10-04T13:04:04.702Z"
   },
   {
    "duration": 526,
    "start_time": "2021-10-04T13:04:05.297Z"
   },
   {
    "duration": 3,
    "start_time": "2021-10-04T13:04:05.826Z"
   },
   {
    "duration": 15,
    "start_time": "2021-10-04T13:04:05.832Z"
   },
   {
    "duration": 13,
    "start_time": "2021-10-04T13:04:05.849Z"
   },
   {
    "duration": 6,
    "start_time": "2021-10-04T13:04:06.041Z"
   },
   {
    "duration": 4,
    "start_time": "2021-10-04T13:04:07.001Z"
   },
   {
    "duration": 3,
    "start_time": "2021-10-04T13:04:07.203Z"
   },
   {
    "duration": 21,
    "start_time": "2021-10-04T13:04:07.643Z"
   },
   {
    "duration": 11,
    "start_time": "2021-10-04T13:04:15.935Z"
   },
   {
    "duration": 993,
    "start_time": "2021-10-04T13:04:17.090Z"
   },
   {
    "duration": 21,
    "start_time": "2021-10-04T13:04:18.085Z"
   },
   {
    "duration": 6,
    "start_time": "2021-10-04T13:04:25.223Z"
   },
   {
    "duration": 8,
    "start_time": "2021-10-04T13:04:39.359Z"
   },
   {
    "duration": 10,
    "start_time": "2021-10-04T13:04:48.439Z"
   },
   {
    "duration": 6,
    "start_time": "2021-10-04T13:04:48.942Z"
   },
   {
    "duration": 1132,
    "start_time": "2021-10-04T13:04:49.506Z"
   },
   {
    "duration": 367,
    "start_time": "2021-10-04T13:04:53.596Z"
   },
   {
    "duration": 14,
    "start_time": "2021-10-04T13:06:08.819Z"
   },
   {
    "duration": 19,
    "start_time": "2021-10-04T13:06:10.341Z"
   },
   {
    "duration": 6,
    "start_time": "2021-10-04T13:06:18.374Z"
   },
   {
    "duration": 3581,
    "start_time": "2021-10-04T13:06:20.368Z"
   },
   {
    "duration": 3482,
    "start_time": "2021-10-04T13:06:23.952Z"
   },
   {
    "duration": 3718,
    "start_time": "2021-10-04T13:06:27.438Z"
   },
   {
    "duration": 2371,
    "start_time": "2021-10-04T13:06:38.843Z"
   },
   {
    "duration": 32,
    "start_time": "2021-10-04T13:06:46.718Z"
   },
   {
    "duration": 1438,
    "start_time": "2021-10-04T13:06:48.932Z"
   },
   {
    "duration": 5,
    "start_time": "2021-10-04T13:06:57.016Z"
   },
   {
    "duration": 4,
    "start_time": "2021-10-04T13:06:57.410Z"
   },
   {
    "duration": 7,
    "start_time": "2021-10-04T13:07:25.209Z"
   },
   {
    "duration": 7,
    "start_time": "2021-10-04T13:07:29.685Z"
   },
   {
    "duration": 471,
    "start_time": "2021-10-04T13:08:08.564Z"
   },
   {
    "duration": 4,
    "start_time": "2021-10-04T13:08:35.533Z"
   },
   {
    "duration": 40,
    "start_time": "2021-10-04T13:08:36.875Z"
   },
   {
    "duration": 19,
    "start_time": "2021-10-04T13:08:42.070Z"
   },
   {
    "duration": 4,
    "start_time": "2021-10-04T13:08:50.076Z"
   },
   {
    "duration": 3,
    "start_time": "2021-10-04T13:08:51.814Z"
   },
   {
    "duration": 4,
    "start_time": "2021-10-04T13:08:58.471Z"
   },
   {
    "duration": 4,
    "start_time": "2021-10-04T13:09:05.811Z"
   },
   {
    "duration": 5,
    "start_time": "2021-10-04T13:09:06.541Z"
   },
   {
    "duration": 6,
    "start_time": "2021-10-04T13:09:09.995Z"
   },
   {
    "duration": 251701,
    "start_time": "2021-10-04T13:09:11.594Z"
   },
   {
    "duration": 8,
    "start_time": "2021-10-04T13:13:32.923Z"
   },
   {
    "duration": 4,
    "start_time": "2021-10-04T13:15:21.867Z"
   },
   {
    "duration": 6,
    "start_time": "2021-10-04T13:16:20.870Z"
   },
   {
    "duration": 4,
    "start_time": "2021-10-04T13:19:47.649Z"
   },
   {
    "duration": 6,
    "start_time": "2021-10-04T13:19:48.221Z"
   },
   {
    "duration": 267940,
    "start_time": "2021-10-04T13:22:06.268Z"
   },
   {
    "duration": 6,
    "start_time": "2021-10-04T13:27:52.352Z"
   },
   {
    "duration": 119,
    "start_time": "2021-10-04T13:28:45.160Z"
   },
   {
    "duration": 5,
    "start_time": "2021-10-04T13:28:57.706Z"
   },
   {
    "duration": 5,
    "start_time": "2021-10-04T13:29:43.355Z"
   },
   {
    "duration": 5,
    "start_time": "2021-10-04T13:30:34.880Z"
   },
   {
    "duration": 272853,
    "start_time": "2021-10-04T13:31:38.740Z"
   },
   {
    "duration": 7,
    "start_time": "2021-10-04T13:36:11.595Z"
   },
   {
    "duration": 15,
    "start_time": "2021-10-04T13:36:11.605Z"
   },
   {
    "duration": 6,
    "start_time": "2021-10-04T13:37:41.154Z"
   },
   {
    "duration": 88,
    "start_time": "2021-10-04T13:41:09.302Z"
   },
   {
    "duration": 10,
    "start_time": "2021-10-04T13:42:07.912Z"
   },
   {
    "duration": 9,
    "start_time": "2021-10-04T13:49:58.562Z"
   },
   {
    "duration": 35,
    "start_time": "2021-10-04T13:50:13.896Z"
   },
   {
    "duration": 39,
    "start_time": "2021-10-04T13:51:21.526Z"
   },
   {
    "duration": 1573,
    "start_time": "2021-10-04T13:51:43.681Z"
   },
   {
    "duration": 887,
    "start_time": "2021-10-04T13:51:45.257Z"
   },
   {
    "duration": 6,
    "start_time": "2021-10-04T13:51:46.147Z"
   },
   {
    "duration": 41,
    "start_time": "2021-10-04T13:51:46.163Z"
   },
   {
    "duration": 14,
    "start_time": "2021-10-04T13:51:46.207Z"
   },
   {
    "duration": 559,
    "start_time": "2021-10-04T13:51:46.224Z"
   },
   {
    "duration": 479,
    "start_time": "2021-10-04T13:51:46.785Z"
   },
   {
    "duration": 3,
    "start_time": "2021-10-04T13:51:47.268Z"
   },
   {
    "duration": 7,
    "start_time": "2021-10-04T13:51:47.274Z"
   },
   {
    "duration": 9,
    "start_time": "2021-10-04T13:51:47.283Z"
   },
   {
    "duration": 11,
    "start_time": "2021-10-04T13:51:47.294Z"
   },
   {
    "duration": 5,
    "start_time": "2021-10-04T13:51:47.308Z"
   },
   {
    "duration": 6,
    "start_time": "2021-10-04T13:51:47.315Z"
   },
   {
    "duration": 54,
    "start_time": "2021-10-04T13:51:47.323Z"
   },
   {
    "duration": 12,
    "start_time": "2021-10-04T13:51:47.379Z"
   },
   {
    "duration": 1032,
    "start_time": "2021-10-04T13:51:47.393Z"
   },
   {
    "duration": 34,
    "start_time": "2021-10-04T13:51:48.428Z"
   },
   {
    "duration": 6,
    "start_time": "2021-10-04T13:51:48.464Z"
   },
   {
    "duration": 10,
    "start_time": "2021-10-04T13:51:48.473Z"
   },
   {
    "duration": 7,
    "start_time": "2021-10-04T13:51:48.486Z"
   },
   {
    "duration": 24,
    "start_time": "2021-10-04T13:51:48.495Z"
   },
   {
    "duration": 1178,
    "start_time": "2021-10-04T13:51:48.522Z"
   },
   {
    "duration": 500,
    "start_time": "2021-10-04T13:51:49.702Z"
   },
   {
    "duration": 76,
    "start_time": "2021-10-04T13:51:50.206Z"
   },
   {
    "duration": 19,
    "start_time": "2021-10-04T13:51:50.286Z"
   },
   {
    "duration": 18,
    "start_time": "2021-10-04T13:51:50.307Z"
   },
   {
    "duration": 6,
    "start_time": "2021-10-04T13:51:50.361Z"
   },
   {
    "duration": 3234,
    "start_time": "2021-10-04T13:51:50.370Z"
   },
   {
    "duration": 3354,
    "start_time": "2021-10-04T13:51:53.607Z"
   },
   {
    "duration": 3485,
    "start_time": "2021-10-04T13:51:56.965Z"
   },
   {
    "duration": 2489,
    "start_time": "2021-10-04T13:52:00.452Z"
   },
   {
    "duration": 36,
    "start_time": "2021-10-04T13:52:02.944Z"
   },
   {
    "duration": 1364,
    "start_time": "2021-10-04T13:52:02.982Z"
   },
   {
    "duration": 4,
    "start_time": "2021-10-04T13:52:08.545Z"
   },
   {
    "duration": 4,
    "start_time": "2021-10-04T13:52:08.974Z"
   },
   {
    "duration": 7,
    "start_time": "2021-10-04T13:52:13.747Z"
   },
   {
    "duration": 8,
    "start_time": "2021-10-04T13:52:23.031Z"
   },
   {
    "duration": 477,
    "start_time": "2021-10-04T13:52:37.503Z"
   },
   {
    "duration": 9,
    "start_time": "2021-10-04T13:52:48.675Z"
   },
   {
    "duration": 8,
    "start_time": "2021-10-04T13:52:55.827Z"
   },
   {
    "duration": 38,
    "start_time": "2021-10-04T13:53:21.818Z"
   },
   {
    "duration": 15,
    "start_time": "2021-10-04T13:53:22.985Z"
   },
   {
    "duration": 19,
    "start_time": "2021-10-04T13:53:23.148Z"
   },
   {
    "duration": 6,
    "start_time": "2021-10-04T13:53:23.305Z"
   },
   {
    "duration": 3318,
    "start_time": "2021-10-04T13:53:23.470Z"
   },
   {
    "duration": 3160,
    "start_time": "2021-10-04T13:53:26.790Z"
   },
   {
    "duration": 3190,
    "start_time": "2021-10-04T13:53:29.953Z"
   },
   {
    "duration": 2183,
    "start_time": "2021-10-04T13:53:33.147Z"
   },
   {
    "duration": 45,
    "start_time": "2021-10-04T13:53:35.333Z"
   },
   {
    "duration": 1356,
    "start_time": "2021-10-04T13:53:35.380Z"
   },
   {
    "duration": 4,
    "start_time": "2021-10-04T13:53:36.738Z"
   },
   {
    "duration": 18,
    "start_time": "2021-10-04T13:53:36.745Z"
   },
   {
    "duration": 24,
    "start_time": "2021-10-04T13:53:36.765Z"
   },
   {
    "duration": 9,
    "start_time": "2021-10-04T13:53:36.792Z"
   },
   {
    "duration": 19,
    "start_time": "2021-10-04T13:53:36.826Z"
   },
   {
    "duration": 3,
    "start_time": "2021-10-04T13:53:43.606Z"
   },
   {
    "duration": 36,
    "start_time": "2021-10-04T13:53:44.139Z"
   },
   {
    "duration": 19,
    "start_time": "2021-10-04T13:54:20.350Z"
   },
   {
    "duration": 3,
    "start_time": "2021-10-04T13:54:23.112Z"
   },
   {
    "duration": 3,
    "start_time": "2021-10-04T13:54:23.334Z"
   },
   {
    "duration": 4,
    "start_time": "2021-10-04T13:54:23.477Z"
   },
   {
    "duration": 4,
    "start_time": "2021-10-04T13:54:26.323Z"
   },
   {
    "duration": 4,
    "start_time": "2021-10-04T13:54:26.799Z"
   },
   {
    "duration": 5,
    "start_time": "2021-10-04T13:54:28.193Z"
   },
   {
    "duration": 236071,
    "start_time": "2021-10-04T13:54:34.828Z"
   },
   {
    "duration": 7,
    "start_time": "2021-10-04T13:58:37.698Z"
   },
   {
    "duration": 6,
    "start_time": "2021-10-04T13:58:38.288Z"
   },
   {
    "duration": 11,
    "start_time": "2021-10-04T13:59:02.491Z"
   },
   {
    "duration": 10,
    "start_time": "2021-10-04T13:59:03.740Z"
   },
   {
    "duration": 1549,
    "start_time": "2021-10-04T14:00:09.205Z"
   },
   {
    "duration": 939,
    "start_time": "2021-10-04T14:00:10.761Z"
   },
   {
    "duration": 7,
    "start_time": "2021-10-04T14:00:11.703Z"
   },
   {
    "duration": 57,
    "start_time": "2021-10-04T14:00:11.713Z"
   },
   {
    "duration": 18,
    "start_time": "2021-10-04T14:00:11.772Z"
   },
   {
    "duration": 697,
    "start_time": "2021-10-04T14:00:11.793Z"
   },
   {
    "duration": 487,
    "start_time": "2021-10-04T14:00:12.492Z"
   },
   {
    "duration": 3,
    "start_time": "2021-10-04T14:00:12.983Z"
   },
   {
    "duration": 14,
    "start_time": "2021-10-04T14:00:12.989Z"
   },
   {
    "duration": 10,
    "start_time": "2021-10-04T14:00:13.006Z"
   },
   {
    "duration": 10,
    "start_time": "2021-10-04T14:00:13.019Z"
   },
   {
    "duration": 9,
    "start_time": "2021-10-04T14:00:13.031Z"
   },
   {
    "duration": 17,
    "start_time": "2021-10-04T14:00:13.043Z"
   },
   {
    "duration": 29,
    "start_time": "2021-10-04T14:00:13.063Z"
   },
   {
    "duration": 11,
    "start_time": "2021-10-04T14:00:13.095Z"
   },
   {
    "duration": 1230,
    "start_time": "2021-10-04T14:00:13.108Z"
   },
   {
    "duration": 33,
    "start_time": "2021-10-04T14:00:14.341Z"
   },
   {
    "duration": 6,
    "start_time": "2021-10-04T14:00:14.377Z"
   },
   {
    "duration": 11,
    "start_time": "2021-10-04T14:00:14.385Z"
   },
   {
    "duration": 10,
    "start_time": "2021-10-04T14:00:14.399Z"
   },
   {
    "duration": 13,
    "start_time": "2021-10-04T14:00:14.411Z"
   },
   {
    "duration": 1257,
    "start_time": "2021-10-04T14:00:14.426Z"
   },
   {
    "duration": 390,
    "start_time": "2021-10-04T14:00:15.686Z"
   },
   {
    "duration": 48,
    "start_time": "2021-10-04T14:00:16.079Z"
   },
   {
    "duration": 38,
    "start_time": "2021-10-04T14:00:16.130Z"
   },
   {
    "duration": 18,
    "start_time": "2021-10-04T14:00:16.171Z"
   },
   {
    "duration": 9,
    "start_time": "2021-10-04T14:00:16.192Z"
   },
   {
    "duration": 3326,
    "start_time": "2021-10-04T14:00:16.204Z"
   },
   {
    "duration": 3241,
    "start_time": "2021-10-04T14:00:19.533Z"
   },
   {
    "duration": 3187,
    "start_time": "2021-10-04T14:00:22.777Z"
   },
   {
    "duration": 2266,
    "start_time": "2021-10-04T14:00:25.966Z"
   },
   {
    "duration": 52,
    "start_time": "2021-10-04T14:00:28.236Z"
   },
   {
    "duration": 1375,
    "start_time": "2021-10-04T14:00:28.292Z"
   },
   {
    "duration": 4,
    "start_time": "2021-10-04T14:00:29.670Z"
   },
   {
    "duration": 9,
    "start_time": "2021-10-04T14:00:29.676Z"
   },
   {
    "duration": 14,
    "start_time": "2021-10-04T14:00:29.688Z"
   },
   {
    "duration": 14,
    "start_time": "2021-10-04T14:00:29.704Z"
   },
   {
    "duration": 11,
    "start_time": "2021-10-04T14:00:29.721Z"
   },
   {
    "duration": 28,
    "start_time": "2021-10-04T14:00:29.734Z"
   },
   {
    "duration": 36,
    "start_time": "2021-10-04T14:00:29.765Z"
   },
   {
    "duration": 22,
    "start_time": "2021-10-04T14:00:29.803Z"
   },
   {
    "duration": 35,
    "start_time": "2021-10-04T14:00:29.827Z"
   },
   {
    "duration": 13,
    "start_time": "2021-10-04T14:00:29.866Z"
   },
   {
    "duration": 6,
    "start_time": "2021-10-04T14:00:29.882Z"
   },
   {
    "duration": 9,
    "start_time": "2021-10-04T14:00:29.890Z"
   },
   {
    "duration": 10,
    "start_time": "2021-10-04T14:00:29.902Z"
   },
   {
    "duration": 8,
    "start_time": "2021-10-04T14:00:29.914Z"
   },
   {
    "duration": 707,
    "start_time": "2021-10-04T14:00:30.504Z"
   },
   {
    "duration": 9292,
    "start_time": "2021-10-04T14:01:43.427Z"
   },
   {
    "duration": -90,
    "start_time": "2021-10-04T14:01:52.812Z"
   },
   {
    "duration": -92,
    "start_time": "2021-10-04T14:01:52.816Z"
   },
   {
    "duration": -94,
    "start_time": "2021-10-04T14:01:52.820Z"
   },
   {
    "duration": -95,
    "start_time": "2021-10-04T14:01:52.824Z"
   },
   {
    "duration": -97,
    "start_time": "2021-10-04T14:01:52.828Z"
   },
   {
    "duration": -97,
    "start_time": "2021-10-04T14:01:52.831Z"
   },
   {
    "duration": -100,
    "start_time": "2021-10-04T14:01:52.836Z"
   },
   {
    "duration": 18,
    "start_time": "2021-10-04T14:03:13.209Z"
   },
   {
    "duration": 3,
    "start_time": "2021-10-04T14:03:13.561Z"
   },
   {
    "duration": 3,
    "start_time": "2021-10-04T14:03:13.705Z"
   },
   {
    "duration": 4,
    "start_time": "2021-10-04T14:03:14.122Z"
   },
   {
    "duration": 4,
    "start_time": "2021-10-04T14:03:14.280Z"
   },
   {
    "duration": 5,
    "start_time": "2021-10-04T14:03:14.444Z"
   },
   {
    "duration": 7,
    "start_time": "2021-10-04T14:03:15.008Z"
   },
   {
    "duration": 268023,
    "start_time": "2021-10-04T14:03:15.210Z"
   },
   {
    "duration": 6,
    "start_time": "2021-10-04T14:09:59.977Z"
   },
   {
    "duration": 91,
    "start_time": "2021-10-04T14:10:02.651Z"
   },
   {
    "duration": 9,
    "start_time": "2021-10-04T14:10:07.450Z"
   },
   {
    "duration": 35,
    "start_time": "2021-10-04T14:11:16.914Z"
   },
   {
    "duration": 398,
    "start_time": "2021-10-04T14:11:29.132Z"
   },
   {
    "duration": 319,
    "start_time": "2021-10-04T14:12:21.858Z"
   },
   {
    "duration": 4,
    "start_time": "2021-10-04T14:12:27.852Z"
   },
   {
    "duration": 4,
    "start_time": "2021-10-04T14:12:33.566Z"
   },
   {
    "duration": 335,
    "start_time": "2021-10-04T14:12:38.892Z"
   },
   {
    "duration": 1602,
    "start_time": "2021-10-04T14:13:00.142Z"
   },
   {
    "duration": 933,
    "start_time": "2021-10-04T14:13:01.746Z"
   },
   {
    "duration": 6,
    "start_time": "2021-10-04T14:13:02.682Z"
   },
   {
    "duration": 51,
    "start_time": "2021-10-04T14:13:02.690Z"
   },
   {
    "duration": 31,
    "start_time": "2021-10-04T14:13:02.744Z"
   },
   {
    "duration": 608,
    "start_time": "2021-10-04T14:13:02.777Z"
   },
   {
    "duration": 555,
    "start_time": "2021-10-04T14:13:03.388Z"
   },
   {
    "duration": 15,
    "start_time": "2021-10-04T14:13:03.947Z"
   },
   {
    "duration": 8,
    "start_time": "2021-10-04T14:13:03.965Z"
   },
   {
    "duration": 11,
    "start_time": "2021-10-04T14:13:03.975Z"
   },
   {
    "duration": 17,
    "start_time": "2021-10-04T14:13:03.989Z"
   },
   {
    "duration": 26,
    "start_time": "2021-10-04T14:13:04.008Z"
   },
   {
    "duration": 20,
    "start_time": "2021-10-04T14:13:04.036Z"
   },
   {
    "duration": 26,
    "start_time": "2021-10-04T14:13:04.059Z"
   },
   {
    "duration": 11,
    "start_time": "2021-10-04T14:13:04.087Z"
   },
   {
    "duration": 1007,
    "start_time": "2021-10-04T14:13:04.100Z"
   },
   {
    "duration": 22,
    "start_time": "2021-10-04T14:13:05.110Z"
   },
   {
    "duration": 6,
    "start_time": "2021-10-04T14:13:05.134Z"
   },
   {
    "duration": 7,
    "start_time": "2021-10-04T14:13:05.163Z"
   },
   {
    "duration": 8,
    "start_time": "2021-10-04T14:13:05.173Z"
   },
   {
    "duration": 13,
    "start_time": "2021-10-04T14:13:05.184Z"
   },
   {
    "duration": 1172,
    "start_time": "2021-10-04T14:13:05.200Z"
   },
   {
    "duration": 389,
    "start_time": "2021-10-04T14:13:06.374Z"
   },
   {
    "duration": 48,
    "start_time": "2021-10-04T14:13:06.765Z"
   },
   {
    "duration": 16,
    "start_time": "2021-10-04T14:13:06.816Z"
   },
   {
    "duration": 18,
    "start_time": "2021-10-04T14:13:06.864Z"
   },
   {
    "duration": 14,
    "start_time": "2021-10-04T14:13:06.885Z"
   },
   {
    "duration": 3142,
    "start_time": "2021-10-04T14:13:06.902Z"
   },
   {
    "duration": 3101,
    "start_time": "2021-10-04T14:13:10.047Z"
   },
   {
    "duration": 3121,
    "start_time": "2021-10-04T14:13:13.161Z"
   },
   {
    "duration": 2306,
    "start_time": "2021-10-04T14:13:16.285Z"
   },
   {
    "duration": 30,
    "start_time": "2021-10-04T14:13:18.594Z"
   },
   {
    "duration": 1402,
    "start_time": "2021-10-04T14:13:18.627Z"
   },
   {
    "duration": 4,
    "start_time": "2021-10-04T14:13:20.031Z"
   },
   {
    "duration": 10,
    "start_time": "2021-10-04T14:13:20.037Z"
   },
   {
    "duration": 6,
    "start_time": "2021-10-04T14:13:20.062Z"
   },
   {
    "duration": 8,
    "start_time": "2021-10-04T14:13:20.071Z"
   },
   {
    "duration": 10,
    "start_time": "2021-10-04T14:13:20.081Z"
   },
   {
    "duration": 6,
    "start_time": "2021-10-04T14:13:20.093Z"
   },
   {
    "duration": 76,
    "start_time": "2021-10-04T14:13:20.101Z"
   },
   {
    "duration": 32,
    "start_time": "2021-10-04T14:13:20.180Z"
   },
   {
    "duration": 32,
    "start_time": "2021-10-04T14:13:44.435Z"
   },
   {
    "duration": 21,
    "start_time": "2021-10-04T14:14:22.051Z"
   },
   {
    "duration": 3,
    "start_time": "2021-10-04T14:14:23.816Z"
   },
   {
    "duration": 3,
    "start_time": "2021-10-04T14:14:24.278Z"
   },
   {
    "duration": 3,
    "start_time": "2021-10-04T14:14:24.446Z"
   },
   {
    "duration": 4,
    "start_time": "2021-10-04T14:14:24.610Z"
   },
   {
    "duration": 5,
    "start_time": "2021-10-04T14:14:25.142Z"
   },
   {
    "duration": 8,
    "start_time": "2021-10-04T14:14:25.299Z"
   },
   {
    "duration": 305104,
    "start_time": "2021-10-04T14:14:25.461Z"
   },
   {
    "duration": 6,
    "start_time": "2021-10-04T14:24:31.838Z"
   },
   {
    "duration": 89,
    "start_time": "2021-10-04T14:24:33.483Z"
   },
   {
    "duration": 10,
    "start_time": "2021-10-04T14:24:33.838Z"
   },
   {
    "duration": 500,
    "start_time": "2021-10-04T14:25:14.547Z"
   },
   {
    "duration": 820,
    "start_time": "2021-10-04T14:25:28.482Z"
   },
   {
    "duration": 399,
    "start_time": "2021-10-04T14:33:59.741Z"
   },
   {
    "duration": 6,
    "start_time": "2021-10-04T14:34:14.110Z"
   },
   {
    "duration": 707,
    "start_time": "2021-10-04T14:34:17.212Z"
   },
   {
    "duration": 5,
    "start_time": "2021-10-04T14:39:50.281Z"
   },
   {
    "duration": 6,
    "start_time": "2021-10-04T14:39:51.621Z"
   },
   {
    "duration": 15284,
    "start_time": "2021-10-04T14:39:52.995Z"
   },
   {
    "duration": 5,
    "start_time": "2021-10-04T14:40:29.427Z"
   },
   {
    "duration": 8,
    "start_time": "2021-10-04T14:40:30.520Z"
   },
   {
    "duration": 517136,
    "start_time": "2021-10-04T14:40:30.770Z"
   },
   {
    "duration": 8,
    "start_time": "2021-10-04T14:49:07.908Z"
   },
   {
    "duration": 5,
    "start_time": "2021-10-04T14:49:34.343Z"
   },
   {
    "duration": 343,
    "start_time": "2021-10-04T14:49:40.887Z"
   },
   {
    "duration": 9,
    "start_time": "2021-10-04T14:50:08.201Z"
   },
   {
    "duration": 10,
    "start_time": "2021-10-04T14:50:33.888Z"
   },
   {
    "duration": 357,
    "start_time": "2021-10-04T15:07:45.667Z"
   },
   {
    "duration": -168,
    "start_time": "2021-10-04T15:07:46.194Z"
   },
   {
    "duration": 6,
    "start_time": "2021-10-04T15:07:46.095Z"
   },
   {
    "duration": 3,
    "start_time": "2021-10-04T15:08:48.627Z"
   },
   {
    "duration": 323,
    "start_time": "2021-10-04T15:08:49.448Z"
   },
   {
    "duration": 4,
    "start_time": "2021-10-04T15:09:15.965Z"
   },
   {
    "duration": 4,
    "start_time": "2021-10-04T15:09:21.885Z"
   },
   {
    "duration": 5,
    "start_time": "2021-10-04T15:09:22.655Z"
   },
   {
    "duration": 6,
    "start_time": "2021-10-04T15:09:23.189Z"
   },
   {
    "duration": 546748,
    "start_time": "2021-10-04T15:09:26.299Z"
   },
   {
    "duration": 8,
    "start_time": "2021-10-04T15:19:46.697Z"
   },
   {
    "duration": 12,
    "start_time": "2021-10-04T15:19:47.153Z"
   },
   {
    "duration": 88,
    "start_time": "2021-10-04T15:19:48.270Z"
   },
   {
    "duration": 9,
    "start_time": "2021-10-04T15:19:48.795Z"
   },
   {
    "duration": 1491,
    "start_time": "2021-10-05T10:10:37.961Z"
   },
   {
    "duration": 5059,
    "start_time": "2021-10-05T10:10:43.439Z"
   },
   {
    "duration": 6,
    "start_time": "2021-10-05T10:10:48.501Z"
   },
   {
    "duration": 38,
    "start_time": "2021-10-05T10:10:48.510Z"
   },
   {
    "duration": 13,
    "start_time": "2021-10-05T10:10:52.297Z"
   },
   {
    "duration": 463,
    "start_time": "2021-10-05T10:10:54.269Z"
   },
   {
    "duration": 445,
    "start_time": "2021-10-05T10:10:55.621Z"
   },
   {
    "duration": 79,
    "start_time": "2021-10-05T10:11:51.686Z"
   },
   {
    "duration": 506,
    "start_time": "2021-10-05T10:15:18.301Z"
   },
   {
    "duration": 4,
    "start_time": "2021-10-05T10:15:23.175Z"
   },
   {
    "duration": 18,
    "start_time": "2021-10-05T10:15:23.723Z"
   },
   {
    "duration": 11,
    "start_time": "2021-10-05T10:16:21.878Z"
   },
   {
    "duration": 939,
    "start_time": "2021-10-05T10:16:26.142Z"
   },
   {
    "duration": 23,
    "start_time": "2021-10-05T10:16:31.022Z"
   },
   {
    "duration": 5,
    "start_time": "2021-10-05T10:19:57.259Z"
   },
   {
    "duration": 7,
    "start_time": "2021-10-05T10:34:09.755Z"
   },
   {
    "duration": 68,
    "start_time": "2021-10-05T10:34:10.207Z"
   },
   {
    "duration": 6,
    "start_time": "2021-10-05T10:34:11.032Z"
   },
   {
    "duration": 972,
    "start_time": "2021-10-05T10:34:11.900Z"
   },
   {
    "duration": 365,
    "start_time": "2021-10-05T10:34:13.811Z"
   },
   {
    "duration": 46,
    "start_time": "2021-10-05T10:34:15.433Z"
   },
   {
    "duration": 35,
    "start_time": "2021-10-05T10:34:31.319Z"
   },
   {
    "duration": 36,
    "start_time": "2021-10-05T10:34:57.135Z"
   },
   {
    "duration": 8,
    "start_time": "2021-10-05T10:35:03.584Z"
   },
   {
    "duration": 101,
    "start_time": "2021-10-05T10:35:34.333Z"
   },
   {
    "duration": 15,
    "start_time": "2021-10-05T10:40:52.544Z"
   },
   {
    "duration": 17,
    "start_time": "2021-10-05T10:40:55.228Z"
   },
   {
    "duration": 6,
    "start_time": "2021-10-05T10:41:13.263Z"
   },
   {
    "duration": 3126,
    "start_time": "2021-10-05T10:41:14.152Z"
   },
   {
    "duration": 3144,
    "start_time": "2021-10-05T10:41:17.281Z"
   },
   {
    "duration": 3161,
    "start_time": "2021-10-05T10:41:20.428Z"
   },
   {
    "duration": 2175,
    "start_time": "2021-10-05T10:47:37.522Z"
   },
   {
    "duration": 26,
    "start_time": "2021-10-05T10:53:32.291Z"
   },
   {
    "duration": 1395,
    "start_time": "2021-10-05T10:53:32.576Z"
   },
   {
    "duration": 10,
    "start_time": "2021-10-05T11:04:26.940Z"
   },
   {
    "duration": 19,
    "start_time": "2021-10-05T11:04:35.244Z"
   },
   {
    "duration": 19,
    "start_time": "2021-10-05T11:04:53.209Z"
   },
   {
    "duration": 19,
    "start_time": "2021-10-05T11:05:01.195Z"
   },
   {
    "duration": 10,
    "start_time": "2021-10-05T11:06:04.760Z"
   },
   {
    "duration": 11,
    "start_time": "2021-10-05T11:06:17.324Z"
   },
   {
    "duration": 6423,
    "start_time": "2021-10-05T11:07:10.537Z"
   },
   {
    "duration": 13,
    "start_time": "2021-10-05T11:07:26.941Z"
   },
   {
    "duration": 20,
    "start_time": "2021-10-05T11:07:40.948Z"
   },
   {
    "duration": 11,
    "start_time": "2021-10-05T11:08:03.520Z"
   },
   {
    "duration": 11,
    "start_time": "2021-10-05T11:08:28.985Z"
   },
   {
    "duration": 11,
    "start_time": "2021-10-05T11:08:49.388Z"
   },
   {
    "duration": 228,
    "start_time": "2021-10-05T11:13:46.998Z"
   },
   {
    "duration": 3,
    "start_time": "2021-10-05T11:13:51.584Z"
   },
   {
    "duration": 216,
    "start_time": "2021-10-05T11:13:51.816Z"
   },
   {
    "duration": 224,
    "start_time": "2021-10-05T11:13:52.337Z"
   },
   {
    "duration": 3,
    "start_time": "2021-10-05T11:14:00.238Z"
   },
   {
    "duration": 228,
    "start_time": "2021-10-05T11:14:00.696Z"
   },
   {
    "duration": 6,
    "start_time": "2021-10-05T11:14:08.098Z"
   },
   {
    "duration": 8,
    "start_time": "2021-10-05T11:14:08.292Z"
   },
   {
    "duration": 8,
    "start_time": "2021-10-05T11:14:08.462Z"
   },
   {
    "duration": 4,
    "start_time": "2021-10-05T11:14:08.772Z"
   },
   {
    "duration": 30,
    "start_time": "2021-10-05T11:14:09.566Z"
   },
   {
    "duration": 6,
    "start_time": "2021-10-05T11:14:10.506Z"
   },
   {
    "duration": 9,
    "start_time": "2021-10-05T11:15:18.577Z"
   },
   {
    "duration": 20,
    "start_time": "2021-10-05T11:15:33.188Z"
   },
   {
    "duration": 19,
    "start_time": "2021-10-05T11:16:02.956Z"
   },
   {
    "duration": 9,
    "start_time": "2021-10-05T11:16:08.015Z"
   },
   {
    "duration": 9,
    "start_time": "2021-10-05T11:16:12.220Z"
   },
   {
    "duration": 11,
    "start_time": "2021-10-05T11:16:24.991Z"
   },
   {
    "duration": 33,
    "start_time": "2021-10-05T11:16:46.205Z"
   },
   {
    "duration": 9,
    "start_time": "2021-10-05T11:16:47.225Z"
   },
   {
    "duration": 10,
    "start_time": "2021-10-05T11:16:56.805Z"
   },
   {
    "duration": 9,
    "start_time": "2021-10-05T11:17:00.538Z"
   },
   {
    "duration": 9,
    "start_time": "2021-10-05T11:17:07.166Z"
   },
   {
    "duration": 6,
    "start_time": "2021-10-05T11:17:13.400Z"
   },
   {
    "duration": 17,
    "start_time": "2021-10-05T11:17:25.667Z"
   },
   {
    "duration": 3,
    "start_time": "2021-10-05T11:17:26.027Z"
   },
   {
    "duration": 33,
    "start_time": "2021-10-05T11:18:20.731Z"
   },
   {
    "duration": 7,
    "start_time": "2021-10-05T11:19:03.602Z"
   },
   {
    "duration": 7,
    "start_time": "2021-10-05T11:19:15.918Z"
   },
   {
    "duration": 35,
    "start_time": "2021-10-05T11:19:29.488Z"
   },
   {
    "duration": 7,
    "start_time": "2021-10-05T11:19:30.023Z"
   },
   {
    "duration": 7,
    "start_time": "2021-10-05T11:20:42.444Z"
   },
   {
    "duration": 39,
    "start_time": "2021-10-05T11:21:02.911Z"
   },
   {
    "duration": 32,
    "start_time": "2021-10-05T11:21:10.187Z"
   },
   {
    "duration": 6,
    "start_time": "2021-10-05T11:21:10.543Z"
   },
   {
    "duration": 6,
    "start_time": "2021-10-05T11:21:14.284Z"
   },
   {
    "duration": 41,
    "start_time": "2021-10-05T11:21:31.851Z"
   },
   {
    "duration": 6,
    "start_time": "2021-10-05T11:21:32.631Z"
   },
   {
    "duration": 7,
    "start_time": "2021-10-05T11:21:49.167Z"
   },
   {
    "duration": 6,
    "start_time": "2021-10-05T11:22:18.304Z"
   },
   {
    "duration": 17,
    "start_time": "2021-10-05T11:22:23.806Z"
   },
   {
    "duration": 4,
    "start_time": "2021-10-05T11:22:24.210Z"
   },
   {
    "duration": 3,
    "start_time": "2021-10-05T11:22:24.379Z"
   },
   {
    "duration": 229,
    "start_time": "2021-10-05T11:22:28.230Z"
   },
   {
    "duration": 4,
    "start_time": "2021-10-05T11:22:28.670Z"
   },
   {
    "duration": 4,
    "start_time": "2021-10-05T11:22:28.844Z"
   },
   {
    "duration": 5,
    "start_time": "2021-10-05T11:22:29.164Z"
   },
   {
    "duration": 5,
    "start_time": "2021-10-05T11:22:40.712Z"
   },
   {
    "duration": 4,
    "start_time": "2021-10-05T11:22:40.884Z"
   },
   {
    "duration": 3,
    "start_time": "2021-10-05T11:22:50.229Z"
   },
   {
    "duration": 3,
    "start_time": "2021-10-05T11:22:51.205Z"
   },
   {
    "duration": 3,
    "start_time": "2021-10-05T11:22:51.757Z"
   },
   {
    "duration": 5,
    "start_time": "2021-10-05T11:22:52.177Z"
   },
   {
    "duration": 5,
    "start_time": "2021-10-05T11:22:54.997Z"
   },
   {
    "duration": 507316,
    "start_time": "2021-10-05T11:22:55.588Z"
   },
   {
    "duration": 6,
    "start_time": "2021-10-05T11:41:31.234Z"
   },
   {
    "duration": 6,
    "start_time": "2021-10-05T11:41:38.770Z"
   },
   {
    "duration": 9,
    "start_time": "2021-10-05T11:41:39.652Z"
   },
   {
    "duration": 87,
    "start_time": "2021-10-05T11:41:40.980Z"
   },
   {
    "duration": 9,
    "start_time": "2021-10-05T11:41:42.758Z"
   },
   {
    "duration": 66,
    "start_time": "2021-10-05T11:42:53.872Z"
   },
   {
    "duration": 10,
    "start_time": "2021-10-05T11:43:06.520Z"
   },
   {
    "duration": 42,
    "start_time": "2021-10-05T11:43:22.660Z"
   },
   {
    "duration": 10,
    "start_time": "2021-10-05T11:43:34.284Z"
   },
   {
    "duration": 10,
    "start_time": "2021-10-05T11:43:46.977Z"
   },
   {
    "duration": 10,
    "start_time": "2021-10-05T11:44:05.857Z"
   },
   {
    "duration": 6871,
    "start_time": "2021-10-05T11:44:26.471Z"
   },
   {
    "duration": 79,
    "start_time": "2021-10-05T11:44:44.349Z"
   },
   {
    "duration": 79,
    "start_time": "2021-10-05T11:44:59.824Z"
   },
   {
    "duration": 5420,
    "start_time": "2021-10-05T11:45:07.088Z"
   },
   {
    "duration": 6343,
    "start_time": "2021-10-05T11:45:23.671Z"
   },
   {
    "duration": 12,
    "start_time": "2021-10-05T11:47:16.141Z"
   },
   {
    "duration": 11,
    "start_time": "2021-10-05T11:47:25.289Z"
   },
   {
    "duration": 12,
    "start_time": "2021-10-05T11:47:41.597Z"
   },
   {
    "duration": 12,
    "start_time": "2021-10-05T11:47:50.532Z"
   },
   {
    "duration": 10,
    "start_time": "2021-10-05T11:48:14.388Z"
   },
   {
    "duration": 10,
    "start_time": "2021-10-05T11:48:27.138Z"
   },
   {
    "duration": 8,
    "start_time": "2021-10-05T11:49:02.941Z"
   },
   {
    "duration": 9,
    "start_time": "2021-10-05T11:49:38.364Z"
   },
   {
    "duration": 10,
    "start_time": "2021-10-05T11:50:06.954Z"
   },
   {
    "duration": 10,
    "start_time": "2021-10-05T11:50:20.015Z"
   },
   {
    "duration": 15,
    "start_time": "2021-10-05T11:51:10.445Z"
   },
   {
    "duration": 8,
    "start_time": "2021-10-05T11:51:26.422Z"
   },
   {
    "duration": 10,
    "start_time": "2021-10-05T11:51:37.112Z"
   },
   {
    "duration": 11,
    "start_time": "2021-10-05T11:51:48.064Z"
   },
   {
    "duration": 6,
    "start_time": "2021-10-05T11:51:48.252Z"
   },
   {
    "duration": 18,
    "start_time": "2021-10-05T11:51:48.623Z"
   },
   {
    "duration": 3,
    "start_time": "2021-10-05T11:51:50.651Z"
   },
   {
    "duration": 3,
    "start_time": "2021-10-05T11:51:50.836Z"
   },
   {
    "duration": 4,
    "start_time": "2021-10-05T11:51:51.280Z"
   },
   {
    "duration": 4,
    "start_time": "2021-10-05T11:51:51.788Z"
   },
   {
    "duration": 4,
    "start_time": "2021-10-05T11:51:52.834Z"
   },
   {
    "duration": 5,
    "start_time": "2021-10-05T11:51:53.461Z"
   },
   {
    "duration": 5,
    "start_time": "2021-10-05T11:51:54.139Z"
   },
   {
    "duration": 492628,
    "start_time": "2021-10-05T11:51:54.730Z"
   },
   {
    "duration": 7,
    "start_time": "2021-10-05T12:00:07.360Z"
   },
   {
    "duration": 8,
    "start_time": "2021-10-05T12:00:13.861Z"
   },
   {
    "duration": 5,
    "start_time": "2021-10-05T12:00:14.747Z"
   },
   {
    "duration": 8,
    "start_time": "2021-10-05T12:00:23.071Z"
   },
   {
    "duration": 9,
    "start_time": "2021-10-05T12:00:23.490Z"
   },
   {
    "duration": 100,
    "start_time": "2021-10-05T12:00:24.733Z"
   },
   {
    "duration": 10,
    "start_time": "2021-10-05T12:00:25.175Z"
   },
   {
    "duration": 4,
    "start_time": "2021-10-05T12:04:54.979Z"
   },
   {
    "duration": 4,
    "start_time": "2021-10-05T12:04:55.491Z"
   },
   {
    "duration": 6,
    "start_time": "2021-10-05T12:05:05.259Z"
   },
   {
    "duration": 84,
    "start_time": "2021-10-05T12:05:09.911Z"
   },
   {
    "duration": 9,
    "start_time": "2021-10-05T12:05:10.955Z"
   },
   {
    "duration": 10,
    "start_time": "2021-10-05T12:05:11.864Z"
   },
   {
    "duration": 3,
    "start_time": "2021-10-05T12:05:21.776Z"
   },
   {
    "duration": 7,
    "start_time": "2021-10-05T12:05:21.988Z"
   },
   {
    "duration": 9,
    "start_time": "2021-10-05T12:05:22.359Z"
   },
   {
    "duration": 101,
    "start_time": "2021-10-05T12:05:23.277Z"
   },
   {
    "duration": 9,
    "start_time": "2021-10-05T12:05:23.637Z"
   },
   {
    "duration": 4,
    "start_time": "2021-10-05T12:05:47.243Z"
   },
   {
    "duration": 3,
    "start_time": "2021-10-05T12:05:47.582Z"
   },
   {
    "duration": 6,
    "start_time": "2021-10-05T12:05:57.327Z"
   },
   {
    "duration": 3,
    "start_time": "2021-10-05T12:05:58.557Z"
   },
   {
    "duration": 7,
    "start_time": "2021-10-05T12:05:59.034Z"
   },
   {
    "duration": 10,
    "start_time": "2021-10-05T12:05:59.474Z"
   },
   {
    "duration": 104,
    "start_time": "2021-10-05T12:06:00.435Z"
   },
   {
    "duration": 10,
    "start_time": "2021-10-05T12:06:00.868Z"
   },
   {
    "duration": 99,
    "start_time": "2021-10-05T12:08:39.061Z"
   },
   {
    "duration": 9,
    "start_time": "2021-10-05T12:08:39.930Z"
   },
   {
    "duration": 100,
    "start_time": "2021-10-05T12:08:47.308Z"
   },
   {
    "duration": 9,
    "start_time": "2021-10-05T12:08:47.490Z"
   },
   {
    "duration": 8,
    "start_time": "2021-10-05T12:08:47.829Z"
   },
   {
    "duration": 9,
    "start_time": "2021-10-05T12:08:48.532Z"
   },
   {
    "duration": 6,
    "start_time": "2021-10-05T12:16:44.859Z"
   },
   {
    "duration": 4,
    "start_time": "2021-10-05T12:19:05.521Z"
   },
   {
    "duration": 5,
    "start_time": "2021-10-05T12:31:26.561Z"
   },
   {
    "duration": 4,
    "start_time": "2021-10-05T12:31:26.754Z"
   },
   {
    "duration": 5,
    "start_time": "2021-10-05T12:31:31.986Z"
   },
   {
    "duration": 108,
    "start_time": "2021-10-05T12:31:36.692Z"
   },
   {
    "duration": 10,
    "start_time": "2021-10-05T12:31:37.144Z"
   },
   {
    "duration": 9,
    "start_time": "2021-10-05T12:31:38.328Z"
   },
   {
    "duration": 9,
    "start_time": "2021-10-05T12:31:38.516Z"
   },
   {
    "duration": 5,
    "start_time": "2021-10-05T12:32:16.281Z"
   },
   {
    "duration": 4,
    "start_time": "2021-10-05T12:32:16.449Z"
   },
   {
    "duration": 1565,
    "start_time": "2021-10-05T12:55:36.403Z"
   },
   {
    "duration": 848,
    "start_time": "2021-10-05T12:55:37.971Z"
   },
   {
    "duration": 5,
    "start_time": "2021-10-05T12:55:38.822Z"
   },
   {
    "duration": 37,
    "start_time": "2021-10-05T12:55:38.830Z"
   },
   {
    "duration": 41,
    "start_time": "2021-10-05T12:55:38.869Z"
   },
   {
    "duration": 498,
    "start_time": "2021-10-05T12:55:38.912Z"
   },
   {
    "duration": 492,
    "start_time": "2021-10-05T12:55:39.413Z"
   },
   {
    "duration": 7,
    "start_time": "2021-10-05T12:55:39.909Z"
   },
   {
    "duration": 5,
    "start_time": "2021-10-05T12:55:39.918Z"
   },
   {
    "duration": 18,
    "start_time": "2021-10-05T12:55:39.925Z"
   },
   {
    "duration": 11,
    "start_time": "2021-10-05T12:55:39.945Z"
   },
   {
    "duration": 1045,
    "start_time": "2021-10-05T12:55:39.959Z"
   },
   {
    "duration": 17,
    "start_time": "2021-10-05T12:55:41.007Z"
   },
   {
    "duration": 6,
    "start_time": "2021-10-05T12:55:41.026Z"
   },
   {
    "duration": 13,
    "start_time": "2021-10-05T12:55:41.035Z"
   },
   {
    "duration": 9,
    "start_time": "2021-10-05T12:55:41.050Z"
   },
   {
    "duration": 43,
    "start_time": "2021-10-05T12:55:41.061Z"
   },
   {
    "duration": 1103,
    "start_time": "2021-10-05T12:55:41.106Z"
   },
   {
    "duration": 392,
    "start_time": "2021-10-05T12:55:42.211Z"
   },
   {
    "duration": 47,
    "start_time": "2021-10-05T12:55:42.606Z"
   },
   {
    "duration": 29,
    "start_time": "2021-10-05T12:55:42.656Z"
   },
   {
    "duration": 26,
    "start_time": "2021-10-05T12:55:42.688Z"
   },
   {
    "duration": 15,
    "start_time": "2021-10-05T12:55:42.716Z"
   },
   {
    "duration": 3301,
    "start_time": "2021-10-05T12:55:42.733Z"
   },
   {
    "duration": 3277,
    "start_time": "2021-10-05T12:55:46.036Z"
   },
   {
    "duration": 3247,
    "start_time": "2021-10-05T12:55:49.317Z"
   },
   {
    "duration": 2216,
    "start_time": "2021-10-05T12:55:52.567Z"
   },
   {
    "duration": 37,
    "start_time": "2021-10-05T12:55:54.787Z"
   },
   {
    "duration": 1351,
    "start_time": "2021-10-05T12:55:54.827Z"
   },
   {
    "duration": 4,
    "start_time": "2021-10-05T12:55:56.181Z"
   },
   {
    "duration": 4,
    "start_time": "2021-10-05T12:55:56.199Z"
   },
   {
    "duration": 8,
    "start_time": "2021-10-05T12:55:56.206Z"
   },
   {
    "duration": 54,
    "start_time": "2021-10-05T12:55:56.216Z"
   },
   {
    "duration": 29,
    "start_time": "2021-10-05T12:55:56.273Z"
   },
   {
    "duration": 19,
    "start_time": "2021-10-05T12:55:56.305Z"
   },
   {
    "duration": 5,
    "start_time": "2021-10-05T12:55:56.328Z"
   },
   {
    "duration": 11,
    "start_time": "2021-10-05T12:55:56.336Z"
   },
   {
    "duration": 14,
    "start_time": "2021-10-05T12:55:56.350Z"
   },
   {
    "duration": 494882,
    "start_time": "2021-10-05T12:55:56.366Z"
   },
   {
    "duration": 5,
    "start_time": "2021-10-05T13:04:11.251Z"
   },
   {
    "duration": 120,
    "start_time": "2021-10-05T13:04:11.258Z"
   },
   {
    "duration": 8,
    "start_time": "2021-10-05T13:04:11.381Z"
   },
   {
    "duration": 15,
    "start_time": "2021-10-05T13:04:11.391Z"
   },
   {
    "duration": 9,
    "start_time": "2021-10-05T13:04:11.408Z"
   },
   {
    "duration": 1669,
    "start_time": "2021-10-06T04:25:33.750Z"
   },
   {
    "duration": 984,
    "start_time": "2021-10-06T04:25:35.422Z"
   },
   {
    "duration": 7,
    "start_time": "2021-10-06T04:25:36.409Z"
   },
   {
    "duration": 37,
    "start_time": "2021-10-06T04:26:30.260Z"
   },
   {
    "duration": 13,
    "start_time": "2021-10-06T04:27:01.026Z"
   },
   {
    "duration": 460,
    "start_time": "2021-10-06T04:27:01.505Z"
   },
   {
    "duration": 455,
    "start_time": "2021-10-06T04:27:01.967Z"
   },
   {
    "duration": 7,
    "start_time": "2021-10-06T04:27:02.424Z"
   },
   {
    "duration": 4,
    "start_time": "2021-10-06T04:27:03.961Z"
   },
   {
    "duration": 20,
    "start_time": "2021-10-06T04:27:04.397Z"
   },
   {
    "duration": 11,
    "start_time": "2021-10-06T04:27:07.702Z"
   },
   {
    "duration": 911,
    "start_time": "2021-10-06T04:27:08.215Z"
   },
   {
    "duration": 34,
    "start_time": "2021-10-06T04:27:09.129Z"
   },
   {
    "duration": 6,
    "start_time": "2021-10-06T04:28:38.444Z"
   },
   {
    "duration": 7,
    "start_time": "2021-10-06T04:28:56.926Z"
   },
   {
    "duration": 72,
    "start_time": "2021-10-06T04:28:57.919Z"
   },
   {
    "duration": 6,
    "start_time": "2021-10-06T04:28:58.487Z"
   },
   {
    "duration": 942,
    "start_time": "2021-10-06T04:28:58.975Z"
   },
   {
    "duration": 379,
    "start_time": "2021-10-06T04:28:59.920Z"
   },
   {
    "duration": 63,
    "start_time": "2021-10-06T04:29:00.302Z"
   },
   {
    "duration": 15,
    "start_time": "2021-10-06T04:31:02.781Z"
   },
   {
    "duration": 17,
    "start_time": "2021-10-06T04:31:03.372Z"
   },
   {
    "duration": 6,
    "start_time": "2021-10-06T04:31:04.532Z"
   },
   {
    "duration": 3056,
    "start_time": "2021-10-06T04:31:05.021Z"
   },
   {
    "duration": 3031,
    "start_time": "2021-10-06T04:31:08.079Z"
   },
   {
    "duration": 3138,
    "start_time": "2021-10-06T04:31:11.112Z"
   },
   {
    "duration": 2136,
    "start_time": "2021-10-06T04:32:13.694Z"
   },
   {
    "duration": 28,
    "start_time": "2021-10-06T04:33:18.350Z"
   },
   {
    "duration": 1418,
    "start_time": "2021-10-06T04:33:19.000Z"
   },
   {
    "duration": 5,
    "start_time": "2021-10-06T04:35:42.439Z"
   },
   {
    "duration": 4,
    "start_time": "2021-10-06T04:35:42.962Z"
   },
   {
    "duration": 4,
    "start_time": "2021-10-06T04:36:07.969Z"
   },
   {
    "duration": 43,
    "start_time": "2021-10-06T04:36:08.507Z"
   },
   {
    "duration": 18,
    "start_time": "2021-10-06T04:36:08.766Z"
   },
   {
    "duration": 20,
    "start_time": "2021-10-06T04:36:08.989Z"
   },
   {
    "duration": 4,
    "start_time": "2021-10-06T04:36:09.429Z"
   },
   {
    "duration": 6,
    "start_time": "2021-10-06T04:36:09.690Z"
   },
   {
    "duration": 6,
    "start_time": "2021-10-06T04:36:10.110Z"
   },
   {
    "duration": 479624,
    "start_time": "2021-10-06T04:36:10.299Z"
   },
   {
    "duration": 893,
    "start_time": "2021-10-06T04:44:09.033Z"
   },
   {
    "duration": 323,
    "start_time": "2021-10-06T04:44:21.558Z"
   },
   {
    "duration": 490085,
    "start_time": "2021-10-06T04:44:33.724Z"
   },
   {
    "duration": 6,
    "start_time": "2021-10-06T04:52:43.812Z"
   },
   {
    "duration": 100,
    "start_time": "2021-10-06T05:00:40.237Z"
   },
   {
    "duration": 10,
    "start_time": "2021-10-06T05:00:40.944Z"
   },
   {
    "duration": 72,
    "start_time": "2021-10-06T05:00:45.923Z"
   },
   {
    "duration": 2667,
    "start_time": "2021-10-06T10:20:46.365Z"
   },
   {
    "duration": 1014,
    "start_time": "2021-10-06T10:20:49.035Z"
   },
   {
    "duration": 8,
    "start_time": "2021-10-06T10:20:50.052Z"
   },
   {
    "duration": 36,
    "start_time": "2021-10-06T10:20:50.063Z"
   },
   {
    "duration": 12,
    "start_time": "2021-10-06T10:20:50.101Z"
   },
   {
    "duration": 683,
    "start_time": "2021-10-06T10:20:50.115Z"
   },
   {
    "duration": 471,
    "start_time": "2021-10-06T10:20:50.801Z"
   },
   {
    "duration": 7,
    "start_time": "2021-10-06T10:20:51.277Z"
   },
   {
    "duration": 6,
    "start_time": "2021-10-06T10:20:51.287Z"
   },
   {
    "duration": 21,
    "start_time": "2021-10-06T10:20:51.295Z"
   },
   {
    "duration": 45,
    "start_time": "2021-10-06T10:20:51.319Z"
   },
   {
    "duration": 936,
    "start_time": "2021-10-06T10:20:51.368Z"
   },
   {
    "duration": 18,
    "start_time": "2021-10-06T10:20:52.307Z"
   },
   {
    "duration": 5,
    "start_time": "2021-10-06T10:20:52.328Z"
   },
   {
    "duration": 8,
    "start_time": "2021-10-06T10:20:52.358Z"
   },
   {
    "duration": 92,
    "start_time": "2021-10-06T10:20:52.368Z"
   },
   {
    "duration": 12,
    "start_time": "2021-10-06T10:20:52.463Z"
   },
   {
    "duration": 1019,
    "start_time": "2021-10-06T10:20:52.477Z"
   },
   {
    "duration": 382,
    "start_time": "2021-10-06T10:20:53.499Z"
   },
   {
    "duration": 49,
    "start_time": "2021-10-06T10:20:53.884Z"
   },
   {
    "duration": 17,
    "start_time": "2021-10-06T10:20:53.960Z"
   },
   {
    "duration": 19,
    "start_time": "2021-10-06T10:20:53.981Z"
   },
   {
    "duration": 6,
    "start_time": "2021-10-06T10:20:54.003Z"
   },
   {
    "duration": 3173,
    "start_time": "2021-10-06T10:20:54.012Z"
   },
   {
    "duration": 3076,
    "start_time": "2021-10-06T10:20:57.187Z"
   },
   {
    "duration": 3202,
    "start_time": "2021-10-06T10:21:00.266Z"
   },
   {
    "duration": 2297,
    "start_time": "2021-10-06T10:21:03.471Z"
   },
   {
    "duration": 27,
    "start_time": "2021-10-06T10:21:05.772Z"
   },
   {
    "duration": 1444,
    "start_time": "2021-10-06T10:21:05.801Z"
   },
   {
    "duration": 4,
    "start_time": "2021-10-06T10:21:07.247Z"
   },
   {
    "duration": 10,
    "start_time": "2021-10-06T10:21:07.254Z"
   },
   {
    "duration": 7,
    "start_time": "2021-10-06T10:21:07.267Z"
   },
   {
    "duration": 48,
    "start_time": "2021-10-06T10:21:07.277Z"
   },
   {
    "duration": 5,
    "start_time": "2021-10-06T10:21:07.327Z"
   },
   {
    "duration": 18,
    "start_time": "2021-10-06T10:21:07.357Z"
   },
   {
    "duration": 18,
    "start_time": "2021-10-06T10:21:07.379Z"
   },
   {
    "duration": 6,
    "start_time": "2021-10-06T10:21:07.399Z"
   },
   {
    "duration": 10,
    "start_time": "2021-10-06T10:21:07.408Z"
   },
   {
    "duration": 39,
    "start_time": "2021-10-06T10:21:07.420Z"
   },
   {
    "duration": 481596,
    "start_time": "2021-10-06T10:21:07.461Z"
   },
   {
    "duration": -13,
    "start_time": "2021-10-06T10:29:09.191Z"
   },
   {
    "duration": -17,
    "start_time": "2021-10-06T10:29:09.197Z"
   },
   {
    "duration": -20,
    "start_time": "2021-10-06T10:29:09.201Z"
   },
   {
    "duration": -23,
    "start_time": "2021-10-06T10:29:09.205Z"
   },
   {
    "duration": -26,
    "start_time": "2021-10-06T10:29:09.209Z"
   },
   {
    "duration": -29,
    "start_time": "2021-10-06T10:29:09.213Z"
   },
   {
    "duration": 6,
    "start_time": "2021-10-06T11:07:25.021Z"
   },
   {
    "duration": 104,
    "start_time": "2021-10-06T11:07:30.315Z"
   },
   {
    "duration": 68,
    "start_time": "2021-10-06T11:07:47.953Z"
   },
   {
    "duration": 10,
    "start_time": "2021-10-06T11:07:49.821Z"
   },
   {
    "duration": 8,
    "start_time": "2021-10-06T11:08:00.039Z"
   },
   {
    "duration": 10,
    "start_time": "2021-10-06T11:08:00.398Z"
   },
   {
    "duration": 8,
    "start_time": "2021-10-06T11:38:18.431Z"
   },
   {
    "duration": 9,
    "start_time": "2021-10-06T11:38:39.193Z"
   },
   {
    "duration": 10,
    "start_time": "2021-10-06T11:39:07.932Z"
   },
   {
    "duration": 498,
    "start_time": "2021-10-06T11:40:38.687Z"
   },
   {
    "duration": 442,
    "start_time": "2021-10-06T11:41:04.098Z"
   },
   {
    "duration": 107,
    "start_time": "2021-10-06T11:41:35.348Z"
   },
   {
    "duration": 6,
    "start_time": "2021-10-06T11:41:39.095Z"
   },
   {
    "duration": 1383,
    "start_time": "2021-10-06T11:41:55.727Z"
   },
   {
    "duration": 344,
    "start_time": "2021-10-06T11:43:03.339Z"
   },
   {
    "duration": 344,
    "start_time": "2021-10-06T11:51:10.653Z"
   },
   {
    "duration": 10,
    "start_time": "2021-10-06T11:52:44.364Z"
   },
   {
    "duration": 1318,
    "start_time": "2021-10-06T11:52:47.589Z"
   },
   {
    "duration": 9,
    "start_time": "2021-10-06T11:53:32.302Z"
   },
   {
    "duration": 1348,
    "start_time": "2021-10-06T11:53:39.174Z"
   },
   {
    "duration": 8,
    "start_time": "2021-10-06T11:53:46.640Z"
   },
   {
    "duration": 1363,
    "start_time": "2021-10-06T11:53:47.462Z"
   },
   {
    "duration": 8112,
    "start_time": "2021-10-06T11:54:42.763Z"
   },
   {
    "duration": 318,
    "start_time": "2021-10-06T11:56:04.886Z"
   },
   {
    "duration": 11,
    "start_time": "2021-10-06T11:56:14.069Z"
   },
   {
    "duration": 1353,
    "start_time": "2021-10-06T11:56:24.172Z"
   },
   {
    "duration": 8148,
    "start_time": "2021-10-06T11:57:31.261Z"
   },
   {
    "duration": 12,
    "start_time": "2021-10-06T11:57:53.936Z"
   },
   {
    "duration": 1396,
    "start_time": "2021-10-06T11:57:56.868Z"
   },
   {
    "duration": 113,
    "start_time": "2021-10-06T12:00:03.951Z"
   },
   {
    "duration": 18,
    "start_time": "2021-10-06T12:00:29.848Z"
   },
   {
    "duration": 653,
    "start_time": "2021-10-06T12:00:31.309Z"
   },
   {
    "duration": 18,
    "start_time": "2021-10-06T12:00:50.823Z"
   },
   {
    "duration": 577,
    "start_time": "2021-10-06T12:00:51.453Z"
   },
   {
    "duration": 18,
    "start_time": "2021-10-06T12:01:10.029Z"
   },
   {
    "duration": 517,
    "start_time": "2021-10-06T12:01:11.093Z"
   },
   {
    "duration": 504,
    "start_time": "2021-10-06T12:01:19.828Z"
   },
   {
    "duration": 598,
    "start_time": "2021-10-06T12:01:20.559Z"
   },
   {
    "duration": 330,
    "start_time": "2021-10-06T12:04:23.940Z"
   },
   {
    "duration": 308,
    "start_time": "2021-10-06T12:04:35.635Z"
   },
   {
    "duration": 511,
    "start_time": "2021-10-06T12:04:53.774Z"
   },
   {
    "duration": 100,
    "start_time": "2021-10-06T12:05:55.807Z"
   },
   {
    "duration": 100,
    "start_time": "2021-10-06T12:06:02.180Z"
   },
   {
    "duration": 99,
    "start_time": "2021-10-06T12:06:19.630Z"
   },
   {
    "duration": 105,
    "start_time": "2021-10-06T12:06:38.734Z"
   },
   {
    "duration": 99,
    "start_time": "2021-10-06T12:06:42.370Z"
   },
   {
    "duration": 115,
    "start_time": "2021-10-06T12:06:49.876Z"
   },
   {
    "duration": 117,
    "start_time": "2021-10-06T12:06:53.314Z"
   },
   {
    "duration": 299,
    "start_time": "2021-10-06T12:07:53.428Z"
   },
   {
    "duration": 11,
    "start_time": "2021-10-06T12:20:21.263Z"
   },
   {
    "duration": 711,
    "start_time": "2021-10-06T12:20:24.037Z"
   },
   {
    "duration": 11,
    "start_time": "2021-10-06T12:20:55.530Z"
   },
   {
    "duration": 1359,
    "start_time": "2021-10-06T12:20:57.649Z"
   },
   {
    "duration": 103,
    "start_time": "2021-10-06T12:21:18.182Z"
   },
   {
    "duration": 1225,
    "start_time": "2021-10-06T12:21:35.532Z"
   },
   {
    "duration": 12,
    "start_time": "2021-10-06T12:21:44.648Z"
   },
   {
    "duration": 1420,
    "start_time": "2021-10-06T12:21:45.222Z"
   },
   {
    "duration": 1590,
    "start_time": "2021-10-06T12:22:18.827Z"
   },
   {
    "duration": 11,
    "start_time": "2021-10-06T12:23:01.696Z"
   },
   {
    "duration": 1396,
    "start_time": "2021-10-06T12:23:02.714Z"
   },
   {
    "duration": 4,
    "start_time": "2021-10-06T14:15:47.316Z"
   },
   {
    "duration": 330,
    "start_time": "2021-10-06T14:24:13.702Z"
   },
   {
    "duration": 4,
    "start_time": "2021-10-06T14:24:19.513Z"
   },
   {
    "duration": 359,
    "start_time": "2021-10-06T14:24:20.110Z"
   },
   {
    "duration": 16,
    "start_time": "2021-10-06T14:24:45.309Z"
   },
   {
    "duration": 13,
    "start_time": "2021-10-06T14:27:19.972Z"
   },
   {
    "duration": 12,
    "start_time": "2021-10-06T14:27:29.806Z"
   },
   {
    "duration": 14,
    "start_time": "2021-10-06T14:35:20.782Z"
   },
   {
    "duration": 12,
    "start_time": "2021-10-06T14:35:30.872Z"
   },
   {
    "duration": 715,
    "start_time": "2021-10-06T14:36:54.694Z"
   },
   {
    "duration": 1082,
    "start_time": "2021-10-06T14:37:26.606Z"
   },
   {
    "duration": 9,
    "start_time": "2021-10-06T14:38:47.236Z"
   },
   {
    "duration": 9,
    "start_time": "2021-10-06T14:39:07.639Z"
   },
   {
    "duration": 114,
    "start_time": "2021-10-06T14:40:54.830Z"
   },
   {
    "duration": 4,
    "start_time": "2021-10-06T14:41:46.292Z"
   },
   {
    "duration": 343,
    "start_time": "2021-10-06T14:43:40.610Z"
   },
   {
    "duration": 14,
    "start_time": "2021-10-06T14:44:06.875Z"
   },
   {
    "duration": 13,
    "start_time": "2021-10-06T14:44:33.793Z"
   },
   {
    "duration": 11,
    "start_time": "2021-10-06T14:44:44.402Z"
   },
   {
    "duration": 11,
    "start_time": "2021-10-06T14:51:23.461Z"
   },
   {
    "duration": 14,
    "start_time": "2021-10-06T14:56:02.441Z"
   },
   {
    "duration": 27,
    "start_time": "2021-10-06T14:56:21.184Z"
   },
   {
    "duration": 112,
    "start_time": "2021-10-06T15:04:40.012Z"
   },
   {
    "duration": 12,
    "start_time": "2021-10-06T15:10:54.736Z"
   }
  ],
  "kernelspec": {
   "display_name": "Python 3 (ipykernel)",
   "language": "python",
   "name": "python3"
  },
  "language_info": {
   "codemirror_mode": {
    "name": "ipython",
    "version": 3
   },
   "file_extension": ".py",
   "mimetype": "text/x-python",
   "name": "python",
   "nbconvert_exporter": "python",
   "pygments_lexer": "ipython3",
   "version": "3.9.7"
  },
  "toc": {
   "base_numbering": 1,
   "nav_menu": {},
   "number_sections": true,
   "sideBar": true,
   "skip_h1_title": true,
   "title_cell": "Содержание",
   "title_sidebar": "Contents",
   "toc_cell": true,
   "toc_position": {},
   "toc_section_display": true,
   "toc_window_display": true
  }
 },
 "nbformat": 4,
 "nbformat_minor": 2
}
