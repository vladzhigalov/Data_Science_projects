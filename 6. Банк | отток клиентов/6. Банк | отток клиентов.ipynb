{
 "cells": [
  {
   "cell_type": "markdown",
   "metadata": {
    "toc": true
   },
   "source": [
    "<h1>Содержание<span class=\"tocSkip\"></span></h1>\n",
    "<div class=\"toc\"><ul class=\"toc-item\"><li><span><a href=\"#Подготовка-данных\" data-toc-modified-id=\"Подготовка-данных-1\"><span class=\"toc-item-num\">1&nbsp;&nbsp;</span>Подготовка данных</a></span><ul class=\"toc-item\"><li><span><a href=\"#Обработка-попусков\" data-toc-modified-id=\"Обработка-попусков-1.1\"><span class=\"toc-item-num\">1.1&nbsp;&nbsp;</span>Обработка попусков</a></span></li><li><span><a href=\"#Разделение-данных-на-выборки\" data-toc-modified-id=\"Разделение-данных-на-выборки-1.2\"><span class=\"toc-item-num\">1.2&nbsp;&nbsp;</span>Разделение данных на выборки</a></span></li><li><span><a href=\"#Вывод\" data-toc-modified-id=\"Вывод-1.3\"><span class=\"toc-item-num\">1.3&nbsp;&nbsp;</span>Вывод</a></span></li></ul></li><li><span><a href=\"#Исследование-задачи\" data-toc-modified-id=\"Исследование-задачи-2\"><span class=\"toc-item-num\">2&nbsp;&nbsp;</span>Исследование задачи</a></span><ul class=\"toc-item\"><li><span><a href=\"#Классификатор-Древо-решений\" data-toc-modified-id=\"Классификатор-Древо-решений-2.1\"><span class=\"toc-item-num\">2.1&nbsp;&nbsp;</span>Классификатор <strong>Древо решений</strong></a></span></li><li><span><a href=\"#Классификатор-Случайный-лес\" data-toc-modified-id=\"Классификатор-Случайный-лес-2.2\"><span class=\"toc-item-num\">2.2&nbsp;&nbsp;</span>Классификатор <strong>Случайный лес</strong></a></span></li><li><span><a href=\"#Классификатор-Логистическая-регрессия\" data-toc-modified-id=\"Классификатор-Логистическая-регрессия-2.3\"><span class=\"toc-item-num\">2.3&nbsp;&nbsp;</span>Классификатор <strong>Логистическая регрессия</strong></a></span></li><li><span><a href=\"#Вывод\" data-toc-modified-id=\"Вывод-2.4\"><span class=\"toc-item-num\">2.4&nbsp;&nbsp;</span>Вывод</a></span></li></ul></li><li><span><a href=\"#Борьба-с-дисбалансом\" data-toc-modified-id=\"Борьба-с-дисбалансом-3\"><span class=\"toc-item-num\">3&nbsp;&nbsp;</span>Борьба с дисбалансом</a></span><ul class=\"toc-item\"><li><span><a href=\"#Upsampled\" data-toc-modified-id=\"Upsampled-3.1\"><span class=\"toc-item-num\">3.1&nbsp;&nbsp;</span>Upsampled</a></span><ul class=\"toc-item\"><li><span><a href=\"#Классификатор-Древо-решений-upsampled\" data-toc-modified-id=\"Классификатор-Древо-решений-upsampled-3.1.1\"><span class=\"toc-item-num\">3.1.1&nbsp;&nbsp;</span>Классификатор <strong>Древо решений</strong> upsampled</a></span></li><li><span><a href=\"#Классификатор-Случайный-лес-upsampled\" data-toc-modified-id=\"Классификатор-Случайный-лес-upsampled-3.1.2\"><span class=\"toc-item-num\">3.1.2&nbsp;&nbsp;</span>Классификатор <strong>Случайный лес</strong> upsampled</a></span></li><li><span><a href=\"#Классификатор-Логистическая-регресиия-upsampled\" data-toc-modified-id=\"Классификатор-Логистическая-регресиия-upsampled-3.1.3\"><span class=\"toc-item-num\">3.1.3&nbsp;&nbsp;</span>Классификатор <strong>Логистическая регресиия</strong> upsampled</a></span></li></ul></li><li><span><a href=\"#Downsampled\" data-toc-modified-id=\"Downsampled-3.2\"><span class=\"toc-item-num\">3.2&nbsp;&nbsp;</span>Downsampled</a></span><ul class=\"toc-item\"><li><span><a href=\"#Классификатор-Древо-решений-downsampled\" data-toc-modified-id=\"Классификатор-Древо-решений-downsampled-3.2.1\"><span class=\"toc-item-num\">3.2.1&nbsp;&nbsp;</span>Классификатор <strong>Древо решений</strong> downsampled</a></span></li><li><span><a href=\"#Классификатор-Случайный-Лес-downsampled\" data-toc-modified-id=\"Классификатор-Случайный-Лес-downsampled-3.2.2\"><span class=\"toc-item-num\">3.2.2&nbsp;&nbsp;</span>Классификатор <strong>Случайный Лес</strong> downsampled</a></span></li><li><span><a href=\"#Классификатор-Логистическая-Регресиия-downsampled\" data-toc-modified-id=\"Классификатор-Логистическая-Регресиия-downsampled-3.2.3\"><span class=\"toc-item-num\">3.2.3&nbsp;&nbsp;</span>Классификатор <strong>Логистическая Регресиия</strong> downsampled</a></span></li></ul></li><li><span><a href=\"#Вывод\" data-toc-modified-id=\"Вывод-3.3\"><span class=\"toc-item-num\">3.3&nbsp;&nbsp;</span>Вывод</a></span></li></ul></li><li><span><a href=\"#Тестирование-модели\" data-toc-modified-id=\"Тестирование-модели-4\"><span class=\"toc-item-num\">4&nbsp;&nbsp;</span>Тестирование модели</a></span></li><li><span><a href=\"#Вывод\" data-toc-modified-id=\"Вывод-5\"><span class=\"toc-item-num\">5&nbsp;&nbsp;</span>Вывод</a></span>"
   ]
  },
  {
   "cell_type": "markdown",
   "metadata": {},
   "source": [
    "# Структура данных\n",
    "*Признаки*\n",
    "- **RowNumber** — индекс строки в данных\n",
    "- **CustomerId** — уникальный идентификатор клиента\n",
    "- **Surname** — фамилия\n",
    "- **CreditScore** — кредитный рейтинг\n",
    "- **Geography** — страна проживания\n",
    "- **Gender** — пол\n",
    "- **Age** — возраст\n",
    "- **Tenure** — сколько лет человек является клиентом банка\n",
    "- **Balance** — баланс на счёте\n",
    "- **NumOfProducts** — количество продуктов банка, используемых клиентом\n",
    "- **HasCrCard** — наличие кредитной карты\n",
    "- **IsActiveMember** — активность клиента\n",
    "- **EstimatedSalary** — предполагаемая зарплата\n",
    "\n",
    "*Целевой признак*\n",
    "- **Exited** — факт ухода клиента\n",
    "\n",
    "\n",
    "# План работы:\n",
    "- Изучить файл с данными.\n",
    "- Разбить данные на три выборки в соотношении 3:1:1 : обучающая, валидационная и тестовая.\n",
    "- Исследовать три модели классификации: Древо решений, Случайный лес и Логистическая регрессия.\n",
    "- Найти оптимальные параметры для каждой модели, измерять метрику AUC-ROC, провести борьбу с дисбалансом и выбрать наилучшую модель.\n",
    "- Проверить модели на тестовой выборке."
   ]
  },
  {
   "cell_type": "markdown",
   "metadata": {},
   "source": [
    "## Подготовка данных"
   ]
  },
  {
   "cell_type": "markdown",
   "metadata": {},
   "source": [
    "Импортируем библиотеки и прочтем файл"
   ]
  },
  {
   "cell_type": "code",
   "execution_count": 1,
   "metadata": {},
   "outputs": [],
   "source": [
    "import pandas as pd\n",
    "import numpy as np\n",
    "import seaborn as sns\n",
    "import matplotlib.pyplot as plt\n",
    "from sklearn.preprocessing import StandardScaler\n",
    "from sklearn.preprocessing import OrdinalEncoder\n",
    "from sklearn.model_selection import train_test_split\n",
    "from sklearn.tree import DecisionTreeClassifier \n",
    "from sklearn.ensemble import RandomForestClassifier\n",
    "from sklearn.linear_model import LogisticRegression\n",
    "from sklearn.model_selection import GridSearchCV\n",
    "from sklearn.utils import shuffle\n",
    "from sklearn.metrics import accuracy_score\n",
    "from sklearn.metrics import precision_score\n",
    "from sklearn.metrics import recall_score\n",
    "from sklearn.metrics import f1_score\n",
    "from sklearn.metrics import roc_curve\n",
    "from sklearn.metrics import roc_auc_score\n",
    "import warnings\n",
    "warnings.filterwarnings('ignore')\n"
   ]
  },
  {
   "cell_type": "code",
   "execution_count": 2,
   "metadata": {},
   "outputs": [
    {
     "data": {
      "text/html": [
       "<div>\n",
       "<style scoped>\n",
       "    .dataframe tbody tr th:only-of-type {\n",
       "        vertical-align: middle;\n",
       "    }\n",
       "\n",
       "    .dataframe tbody tr th {\n",
       "        vertical-align: top;\n",
       "    }\n",
       "\n",
       "    .dataframe thead th {\n",
       "        text-align: right;\n",
       "    }\n",
       "</style>\n",
       "<table border=\"1\" class=\"dataframe\">\n",
       "  <thead>\n",
       "    <tr style=\"text-align: right;\">\n",
       "      <th></th>\n",
       "      <th>RowNumber</th>\n",
       "      <th>CustomerId</th>\n",
       "      <th>Surname</th>\n",
       "      <th>CreditScore</th>\n",
       "      <th>Geography</th>\n",
       "      <th>Gender</th>\n",
       "      <th>Age</th>\n",
       "      <th>Tenure</th>\n",
       "      <th>Balance</th>\n",
       "      <th>NumOfProducts</th>\n",
       "      <th>HasCrCard</th>\n",
       "      <th>IsActiveMember</th>\n",
       "      <th>EstimatedSalary</th>\n",
       "      <th>Exited</th>\n",
       "    </tr>\n",
       "  </thead>\n",
       "  <tbody>\n",
       "    <tr>\n",
       "      <td>0</td>\n",
       "      <td>1</td>\n",
       "      <td>15634602</td>\n",
       "      <td>Hargrave</td>\n",
       "      <td>619</td>\n",
       "      <td>France</td>\n",
       "      <td>Female</td>\n",
       "      <td>42</td>\n",
       "      <td>2.0</td>\n",
       "      <td>0.00</td>\n",
       "      <td>1</td>\n",
       "      <td>1</td>\n",
       "      <td>1</td>\n",
       "      <td>101348.88</td>\n",
       "      <td>1</td>\n",
       "    </tr>\n",
       "    <tr>\n",
       "      <td>1</td>\n",
       "      <td>2</td>\n",
       "      <td>15647311</td>\n",
       "      <td>Hill</td>\n",
       "      <td>608</td>\n",
       "      <td>Spain</td>\n",
       "      <td>Female</td>\n",
       "      <td>41</td>\n",
       "      <td>1.0</td>\n",
       "      <td>83807.86</td>\n",
       "      <td>1</td>\n",
       "      <td>0</td>\n",
       "      <td>1</td>\n",
       "      <td>112542.58</td>\n",
       "      <td>0</td>\n",
       "    </tr>\n",
       "    <tr>\n",
       "      <td>2</td>\n",
       "      <td>3</td>\n",
       "      <td>15619304</td>\n",
       "      <td>Onio</td>\n",
       "      <td>502</td>\n",
       "      <td>France</td>\n",
       "      <td>Female</td>\n",
       "      <td>42</td>\n",
       "      <td>8.0</td>\n",
       "      <td>159660.80</td>\n",
       "      <td>3</td>\n",
       "      <td>1</td>\n",
       "      <td>0</td>\n",
       "      <td>113931.57</td>\n",
       "      <td>1</td>\n",
       "    </tr>\n",
       "    <tr>\n",
       "      <td>3</td>\n",
       "      <td>4</td>\n",
       "      <td>15701354</td>\n",
       "      <td>Boni</td>\n",
       "      <td>699</td>\n",
       "      <td>France</td>\n",
       "      <td>Female</td>\n",
       "      <td>39</td>\n",
       "      <td>1.0</td>\n",
       "      <td>0.00</td>\n",
       "      <td>2</td>\n",
       "      <td>0</td>\n",
       "      <td>0</td>\n",
       "      <td>93826.63</td>\n",
       "      <td>0</td>\n",
       "    </tr>\n",
       "    <tr>\n",
       "      <td>4</td>\n",
       "      <td>5</td>\n",
       "      <td>15737888</td>\n",
       "      <td>Mitchell</td>\n",
       "      <td>850</td>\n",
       "      <td>Spain</td>\n",
       "      <td>Female</td>\n",
       "      <td>43</td>\n",
       "      <td>2.0</td>\n",
       "      <td>125510.82</td>\n",
       "      <td>1</td>\n",
       "      <td>1</td>\n",
       "      <td>1</td>\n",
       "      <td>79084.10</td>\n",
       "      <td>0</td>\n",
       "    </tr>\n",
       "    <tr>\n",
       "      <td>...</td>\n",
       "      <td>...</td>\n",
       "      <td>...</td>\n",
       "      <td>...</td>\n",
       "      <td>...</td>\n",
       "      <td>...</td>\n",
       "      <td>...</td>\n",
       "      <td>...</td>\n",
       "      <td>...</td>\n",
       "      <td>...</td>\n",
       "      <td>...</td>\n",
       "      <td>...</td>\n",
       "      <td>...</td>\n",
       "      <td>...</td>\n",
       "      <td>...</td>\n",
       "    </tr>\n",
       "    <tr>\n",
       "      <td>9995</td>\n",
       "      <td>9996</td>\n",
       "      <td>15606229</td>\n",
       "      <td>Obijiaku</td>\n",
       "      <td>771</td>\n",
       "      <td>France</td>\n",
       "      <td>Male</td>\n",
       "      <td>39</td>\n",
       "      <td>5.0</td>\n",
       "      <td>0.00</td>\n",
       "      <td>2</td>\n",
       "      <td>1</td>\n",
       "      <td>0</td>\n",
       "      <td>96270.64</td>\n",
       "      <td>0</td>\n",
       "    </tr>\n",
       "    <tr>\n",
       "      <td>9996</td>\n",
       "      <td>9997</td>\n",
       "      <td>15569892</td>\n",
       "      <td>Johnstone</td>\n",
       "      <td>516</td>\n",
       "      <td>France</td>\n",
       "      <td>Male</td>\n",
       "      <td>35</td>\n",
       "      <td>10.0</td>\n",
       "      <td>57369.61</td>\n",
       "      <td>1</td>\n",
       "      <td>1</td>\n",
       "      <td>1</td>\n",
       "      <td>101699.77</td>\n",
       "      <td>0</td>\n",
       "    </tr>\n",
       "    <tr>\n",
       "      <td>9997</td>\n",
       "      <td>9998</td>\n",
       "      <td>15584532</td>\n",
       "      <td>Liu</td>\n",
       "      <td>709</td>\n",
       "      <td>France</td>\n",
       "      <td>Female</td>\n",
       "      <td>36</td>\n",
       "      <td>7.0</td>\n",
       "      <td>0.00</td>\n",
       "      <td>1</td>\n",
       "      <td>0</td>\n",
       "      <td>1</td>\n",
       "      <td>42085.58</td>\n",
       "      <td>1</td>\n",
       "    </tr>\n",
       "    <tr>\n",
       "      <td>9998</td>\n",
       "      <td>9999</td>\n",
       "      <td>15682355</td>\n",
       "      <td>Sabbatini</td>\n",
       "      <td>772</td>\n",
       "      <td>Germany</td>\n",
       "      <td>Male</td>\n",
       "      <td>42</td>\n",
       "      <td>3.0</td>\n",
       "      <td>75075.31</td>\n",
       "      <td>2</td>\n",
       "      <td>1</td>\n",
       "      <td>0</td>\n",
       "      <td>92888.52</td>\n",
       "      <td>1</td>\n",
       "    </tr>\n",
       "    <tr>\n",
       "      <td>9999</td>\n",
       "      <td>10000</td>\n",
       "      <td>15628319</td>\n",
       "      <td>Walker</td>\n",
       "      <td>792</td>\n",
       "      <td>France</td>\n",
       "      <td>Female</td>\n",
       "      <td>28</td>\n",
       "      <td>NaN</td>\n",
       "      <td>130142.79</td>\n",
       "      <td>1</td>\n",
       "      <td>1</td>\n",
       "      <td>0</td>\n",
       "      <td>38190.78</td>\n",
       "      <td>0</td>\n",
       "    </tr>\n",
       "  </tbody>\n",
       "</table>\n",
       "<p>10000 rows × 14 columns</p>\n",
       "</div>"
      ],
      "text/plain": [
       "      RowNumber  CustomerId    Surname  CreditScore Geography  Gender  Age  \\\n",
       "0             1    15634602   Hargrave          619    France  Female   42   \n",
       "1             2    15647311       Hill          608     Spain  Female   41   \n",
       "2             3    15619304       Onio          502    France  Female   42   \n",
       "3             4    15701354       Boni          699    France  Female   39   \n",
       "4             5    15737888   Mitchell          850     Spain  Female   43   \n",
       "...         ...         ...        ...          ...       ...     ...  ...   \n",
       "9995       9996    15606229   Obijiaku          771    France    Male   39   \n",
       "9996       9997    15569892  Johnstone          516    France    Male   35   \n",
       "9997       9998    15584532        Liu          709    France  Female   36   \n",
       "9998       9999    15682355  Sabbatini          772   Germany    Male   42   \n",
       "9999      10000    15628319     Walker          792    France  Female   28   \n",
       "\n",
       "      Tenure    Balance  NumOfProducts  HasCrCard  IsActiveMember  \\\n",
       "0        2.0       0.00              1          1               1   \n",
       "1        1.0   83807.86              1          0               1   \n",
       "2        8.0  159660.80              3          1               0   \n",
       "3        1.0       0.00              2          0               0   \n",
       "4        2.0  125510.82              1          1               1   \n",
       "...      ...        ...            ...        ...             ...   \n",
       "9995     5.0       0.00              2          1               0   \n",
       "9996    10.0   57369.61              1          1               1   \n",
       "9997     7.0       0.00              1          0               1   \n",
       "9998     3.0   75075.31              2          1               0   \n",
       "9999     NaN  130142.79              1          1               0   \n",
       "\n",
       "      EstimatedSalary  Exited  \n",
       "0           101348.88       1  \n",
       "1           112542.58       0  \n",
       "2           113931.57       1  \n",
       "3            93826.63       0  \n",
       "4            79084.10       0  \n",
       "...               ...     ...  \n",
       "9995         96270.64       0  \n",
       "9996        101699.77       0  \n",
       "9997         42085.58       1  \n",
       "9998         92888.52       1  \n",
       "9999         38190.78       0  \n",
       "\n",
       "[10000 rows x 14 columns]"
      ]
     },
     "execution_count": 2,
     "metadata": {},
     "output_type": "execute_result"
    }
   ],
   "source": [
    "data = pd.read_csv('/datasets/Churn.csv')\n",
    "data"
   ]
  },
  {
   "cell_type": "markdown",
   "metadata": {},
   "source": [
    "Удалим столбцы содеражищие: индекс строки в данных, уникальный идентификатор клиента\n",
    "и фамилию."
   ]
  },
  {
   "cell_type": "code",
   "execution_count": 3,
   "metadata": {},
   "outputs": [],
   "source": [
    "data = data.drop([\"RowNumber\",\"CustomerId\",\"Surname\"], axis = 1)"
   ]
  },
  {
   "cell_type": "code",
   "execution_count": 4,
   "metadata": {},
   "outputs": [
    {
     "name": "stdout",
     "output_type": "stream",
     "text": [
      "<class 'pandas.core.frame.DataFrame'>\n",
      "RangeIndex: 10000 entries, 0 to 9999\n",
      "Data columns (total 11 columns):\n",
      "CreditScore        10000 non-null int64\n",
      "Geography          10000 non-null object\n",
      "Gender             10000 non-null object\n",
      "Age                10000 non-null int64\n",
      "Tenure             9091 non-null float64\n",
      "Balance            10000 non-null float64\n",
      "NumOfProducts      10000 non-null int64\n",
      "HasCrCard          10000 non-null int64\n",
      "IsActiveMember     10000 non-null int64\n",
      "EstimatedSalary    10000 non-null float64\n",
      "Exited             10000 non-null int64\n",
      "dtypes: float64(3), int64(6), object(2)\n",
      "memory usage: 859.5+ KB\n"
     ]
    }
   ],
   "source": [
    "data.info()"
   ]
  },
  {
   "cell_type": "code",
   "execution_count": 5,
   "metadata": {},
   "outputs": [
    {
     "data": {
      "text/html": [
       "<div>\n",
       "<style scoped>\n",
       "    .dataframe tbody tr th:only-of-type {\n",
       "        vertical-align: middle;\n",
       "    }\n",
       "\n",
       "    .dataframe tbody tr th {\n",
       "        vertical-align: top;\n",
       "    }\n",
       "\n",
       "    .dataframe thead th {\n",
       "        text-align: right;\n",
       "    }\n",
       "</style>\n",
       "<table border=\"1\" class=\"dataframe\">\n",
       "  <thead>\n",
       "    <tr style=\"text-align: right;\">\n",
       "      <th></th>\n",
       "      <th>count</th>\n",
       "      <th>mean</th>\n",
       "      <th>std</th>\n",
       "      <th>min</th>\n",
       "      <th>25%</th>\n",
       "      <th>50%</th>\n",
       "      <th>75%</th>\n",
       "      <th>max</th>\n",
       "    </tr>\n",
       "  </thead>\n",
       "  <tbody>\n",
       "    <tr>\n",
       "      <td>CreditScore</td>\n",
       "      <td>10000.0</td>\n",
       "      <td>650.528800</td>\n",
       "      <td>96.653299</td>\n",
       "      <td>350.00</td>\n",
       "      <td>584.00</td>\n",
       "      <td>652.000</td>\n",
       "      <td>718.0000</td>\n",
       "      <td>850.00</td>\n",
       "    </tr>\n",
       "    <tr>\n",
       "      <td>Age</td>\n",
       "      <td>10000.0</td>\n",
       "      <td>38.921800</td>\n",
       "      <td>10.487806</td>\n",
       "      <td>18.00</td>\n",
       "      <td>32.00</td>\n",
       "      <td>37.000</td>\n",
       "      <td>44.0000</td>\n",
       "      <td>92.00</td>\n",
       "    </tr>\n",
       "    <tr>\n",
       "      <td>Tenure</td>\n",
       "      <td>9091.0</td>\n",
       "      <td>4.997690</td>\n",
       "      <td>2.894723</td>\n",
       "      <td>0.00</td>\n",
       "      <td>2.00</td>\n",
       "      <td>5.000</td>\n",
       "      <td>7.0000</td>\n",
       "      <td>10.00</td>\n",
       "    </tr>\n",
       "    <tr>\n",
       "      <td>Balance</td>\n",
       "      <td>10000.0</td>\n",
       "      <td>76485.889288</td>\n",
       "      <td>62397.405202</td>\n",
       "      <td>0.00</td>\n",
       "      <td>0.00</td>\n",
       "      <td>97198.540</td>\n",
       "      <td>127644.2400</td>\n",
       "      <td>250898.09</td>\n",
       "    </tr>\n",
       "    <tr>\n",
       "      <td>NumOfProducts</td>\n",
       "      <td>10000.0</td>\n",
       "      <td>1.530200</td>\n",
       "      <td>0.581654</td>\n",
       "      <td>1.00</td>\n",
       "      <td>1.00</td>\n",
       "      <td>1.000</td>\n",
       "      <td>2.0000</td>\n",
       "      <td>4.00</td>\n",
       "    </tr>\n",
       "    <tr>\n",
       "      <td>HasCrCard</td>\n",
       "      <td>10000.0</td>\n",
       "      <td>0.705500</td>\n",
       "      <td>0.455840</td>\n",
       "      <td>0.00</td>\n",
       "      <td>0.00</td>\n",
       "      <td>1.000</td>\n",
       "      <td>1.0000</td>\n",
       "      <td>1.00</td>\n",
       "    </tr>\n",
       "    <tr>\n",
       "      <td>IsActiveMember</td>\n",
       "      <td>10000.0</td>\n",
       "      <td>0.515100</td>\n",
       "      <td>0.499797</td>\n",
       "      <td>0.00</td>\n",
       "      <td>0.00</td>\n",
       "      <td>1.000</td>\n",
       "      <td>1.0000</td>\n",
       "      <td>1.00</td>\n",
       "    </tr>\n",
       "    <tr>\n",
       "      <td>EstimatedSalary</td>\n",
       "      <td>10000.0</td>\n",
       "      <td>100090.239881</td>\n",
       "      <td>57510.492818</td>\n",
       "      <td>11.58</td>\n",
       "      <td>51002.11</td>\n",
       "      <td>100193.915</td>\n",
       "      <td>149388.2475</td>\n",
       "      <td>199992.48</td>\n",
       "    </tr>\n",
       "    <tr>\n",
       "      <td>Exited</td>\n",
       "      <td>10000.0</td>\n",
       "      <td>0.203700</td>\n",
       "      <td>0.402769</td>\n",
       "      <td>0.00</td>\n",
       "      <td>0.00</td>\n",
       "      <td>0.000</td>\n",
       "      <td>0.0000</td>\n",
       "      <td>1.00</td>\n",
       "    </tr>\n",
       "  </tbody>\n",
       "</table>\n",
       "</div>"
      ],
      "text/plain": [
       "                   count           mean           std     min       25%  \\\n",
       "CreditScore      10000.0     650.528800     96.653299  350.00    584.00   \n",
       "Age              10000.0      38.921800     10.487806   18.00     32.00   \n",
       "Tenure            9091.0       4.997690      2.894723    0.00      2.00   \n",
       "Balance          10000.0   76485.889288  62397.405202    0.00      0.00   \n",
       "NumOfProducts    10000.0       1.530200      0.581654    1.00      1.00   \n",
       "HasCrCard        10000.0       0.705500      0.455840    0.00      0.00   \n",
       "IsActiveMember   10000.0       0.515100      0.499797    0.00      0.00   \n",
       "EstimatedSalary  10000.0  100090.239881  57510.492818   11.58  51002.11   \n",
       "Exited           10000.0       0.203700      0.402769    0.00      0.00   \n",
       "\n",
       "                        50%          75%        max  \n",
       "CreditScore         652.000     718.0000     850.00  \n",
       "Age                  37.000      44.0000      92.00  \n",
       "Tenure                5.000       7.0000      10.00  \n",
       "Balance           97198.540  127644.2400  250898.09  \n",
       "NumOfProducts         1.000       2.0000       4.00  \n",
       "HasCrCard             1.000       1.0000       1.00  \n",
       "IsActiveMember        1.000       1.0000       1.00  \n",
       "EstimatedSalary  100193.915  149388.2475  199992.48  \n",
       "Exited                0.000       0.0000       1.00  "
      ]
     },
     "execution_count": 5,
     "metadata": {},
     "output_type": "execute_result"
    }
   ],
   "source": [
    "data.describe().T"
   ]
  },
  {
   "cell_type": "code",
   "execution_count": 6,
   "metadata": {
    "scrolled": true
   },
   "outputs": [
    {
     "name": "stdout",
     "output_type": "stream",
     "text": [
      "Процент нулевых значений в Balance — баланс на счёте - 36.17%\n",
      "Процент нулевых значений в IsActiveMember — активность клиента - 48.49%\n",
      "Процент нулевых значений в HasCrCard — наличие кредитной карты - 29.45%\n",
      "Процент нулевых значений в Tenure — сколько лет человек является клиентом банка - 3.82%\n"
     ]
    }
   ],
   "source": [
    "print('Процент нулевых значений в Balance — баланс на счёте - {:.2%}'.format(data[data['Balance'] == 0].shape[0]/data.shape[0]))\n",
    "print('Процент нулевых значений в IsActiveMember — активность клиента - {:.2%}'.format(data[data['IsActiveMember'] == 0].shape[0]/data.shape[0]))\n",
    "print('Процент нулевых значений в HasCrCard — наличие кредитной карты - {:.2%}'.format(data[data['HasCrCard'] == 0].shape[0]/data.shape[0]))\n",
    "print('Процент нулевых значений в Tenure — сколько лет человек является клиентом банка - {:.2%}'.format(data[data['Tenure'] == 0].shape[0]/data.shape[0]))"
   ]
  },
  {
   "cell_type": "code",
   "execution_count": 7,
   "metadata": {},
   "outputs": [
    {
     "data": {
      "text/plain": [
       "1    5151\n",
       "0    4849\n",
       "Name: IsActiveMember, dtype: int64"
      ]
     },
     "execution_count": 7,
     "metadata": {},
     "output_type": "execute_result"
    }
   ],
   "source": [
    "data['IsActiveMember'].value_counts()"
   ]
  },
  {
   "cell_type": "code",
   "execution_count": 8,
   "metadata": {},
   "outputs": [
    {
     "data": {
      "text/plain": [
       "1    7055\n",
       "0    2945\n",
       "Name: HasCrCard, dtype: int64"
      ]
     },
     "execution_count": 8,
     "metadata": {},
     "output_type": "execute_result"
    }
   ],
   "source": [
    "data['HasCrCard'].value_counts()"
   ]
  },
  {
   "cell_type": "code",
   "execution_count": 9,
   "metadata": {},
   "outputs": [
    {
     "data": {
      "text/plain": [
       "CreditScore          int64\n",
       "Geography           object\n",
       "Gender              object\n",
       "Age                  int64\n",
       "Tenure             float64\n",
       "Balance            float64\n",
       "NumOfProducts        int64\n",
       "HasCrCard            int64\n",
       "IsActiveMember       int64\n",
       "EstimatedSalary    float64\n",
       "Exited               int64\n",
       "dtype: object"
      ]
     },
     "execution_count": 9,
     "metadata": {},
     "output_type": "execute_result"
    }
   ],
   "source": [
    "data.dtypes"
   ]
  },
  {
   "cell_type": "code",
   "execution_count": 10,
   "metadata": {},
   "outputs": [
    {
     "data": {
      "text/plain": [
       "CreditScore         460\n",
       "Geography             3\n",
       "Gender                2\n",
       "Age                  70\n",
       "Tenure               11\n",
       "Balance            6382\n",
       "NumOfProducts         4\n",
       "HasCrCard             2\n",
       "IsActiveMember        2\n",
       "EstimatedSalary    9999\n",
       "Exited                2\n",
       "dtype: int64"
      ]
     },
     "execution_count": 10,
     "metadata": {},
     "output_type": "execute_result"
    }
   ],
   "source": [
    "data.nunique()"
   ]
  },
  {
   "cell_type": "code",
   "execution_count": 11,
   "metadata": {},
   "outputs": [
    {
     "data": {
      "text/plain": [
       "CreditScore          0\n",
       "Geography            0\n",
       "Gender               0\n",
       "Age                  0\n",
       "Tenure             909\n",
       "Balance              0\n",
       "NumOfProducts        0\n",
       "HasCrCard            0\n",
       "IsActiveMember       0\n",
       "EstimatedSalary      0\n",
       "Exited               0\n",
       "dtype: int64"
      ]
     },
     "execution_count": 11,
     "metadata": {},
     "output_type": "execute_result"
    }
   ],
   "source": [
    "data.isnull().sum()"
   ]
  },
  {
   "cell_type": "code",
   "execution_count": 12,
   "metadata": {},
   "outputs": [
    {
     "data": {
      "text/plain": [
       "0    292\n",
       "1     90\n",
       "Name: Exited, dtype: int64"
      ]
     },
     "execution_count": 12,
     "metadata": {},
     "output_type": "execute_result"
    }
   ],
   "source": [
    "data.loc[data['Tenure'] == 0, 'Exited'].value_counts()"
   ]
  },
  {
   "cell_type": "code",
   "execution_count": 13,
   "metadata": {},
   "outputs": [
    {
     "data": {
      "image/png": "[encoded data removed]",
      "text/plain": [
       "<Figure size 1152x432 with 2 Axes>"
      ]
     },
     "metadata": {
      "needs_background": "light"
     },
     "output_type": "display_data"
    }
   ],
   "source": [
    "plt.figure(figsize=(16, 6))\n",
    "heatmap = sns.heatmap(data.corr(), vmin=-1, vmax=1, annot=True)\n",
    "heatmap.set_title('Кореляционная Heatmap', fontdict={'fontsize':18}, pad=12);"
   ]
  },
  {
   "cell_type": "code",
   "execution_count": 14,
   "metadata": {},
   "outputs": [
    {
     "data": {
      "text/plain": [
       "0"
      ]
     },
     "execution_count": 14,
     "metadata": {},
     "output_type": "execute_result"
    }
   ],
   "source": [
    "data.duplicated().sum()"
   ]
  },
  {
   "cell_type": "code",
   "execution_count": 15,
   "metadata": {},
   "outputs": [
    {
     "data": {
      "text/html": [
       "<div>\n",
       "<style scoped>\n",
       "    .dataframe tbody tr th:only-of-type {\n",
       "        vertical-align: middle;\n",
       "    }\n",
       "\n",
       "    .dataframe tbody tr th {\n",
       "        vertical-align: top;\n",
       "    }\n",
       "\n",
       "    .dataframe thead th {\n",
       "        text-align: right;\n",
       "    }\n",
       "</style>\n",
       "<table border=\"1\" class=\"dataframe\">\n",
       "  <thead>\n",
       "    <tr style=\"text-align: right;\">\n",
       "      <th></th>\n",
       "      <th>Gender</th>\n",
       "      <th>Exited</th>\n",
       "    </tr>\n",
       "  </thead>\n",
       "  <tbody>\n",
       "    <tr>\n",
       "      <td>0</td>\n",
       "      <td>Female</td>\n",
       "      <td>0.250715</td>\n",
       "    </tr>\n",
       "    <tr>\n",
       "      <td>1</td>\n",
       "      <td>Male</td>\n",
       "      <td>0.164559</td>\n",
       "    </tr>\n",
       "  </tbody>\n",
       "</table>\n",
       "</div>"
      ],
      "text/plain": [
       "   Gender    Exited\n",
       "0  Female  0.250715\n",
       "1    Male  0.164559"
      ]
     },
     "execution_count": 15,
     "metadata": {},
     "output_type": "execute_result"
    }
   ],
   "source": [
    "data.groupby('Gender').Exited.mean().reset_index()"
   ]
  },
  {
   "cell_type": "code",
   "execution_count": 16,
   "metadata": {},
   "outputs": [
    {
     "data": {
      "text/html": [
       "<div>\n",
       "<style scoped>\n",
       "    .dataframe tbody tr th:only-of-type {\n",
       "        vertical-align: middle;\n",
       "    }\n",
       "\n",
       "    .dataframe tbody tr th {\n",
       "        vertical-align: top;\n",
       "    }\n",
       "\n",
       "    .dataframe thead th {\n",
       "        text-align: right;\n",
       "    }\n",
       "</style>\n",
       "<table border=\"1\" class=\"dataframe\">\n",
       "  <thead>\n",
       "    <tr style=\"text-align: right;\">\n",
       "      <th></th>\n",
       "      <th>Tenure</th>\n",
       "      <th>Exited</th>\n",
       "    </tr>\n",
       "  </thead>\n",
       "  <tbody>\n",
       "    <tr>\n",
       "      <td>0</td>\n",
       "      <td>0.0</td>\n",
       "      <td>0.235602</td>\n",
       "    </tr>\n",
       "    <tr>\n",
       "      <td>1</td>\n",
       "      <td>1.0</td>\n",
       "      <td>0.223739</td>\n",
       "    </tr>\n",
       "    <tr>\n",
       "      <td>9</td>\n",
       "      <td>9.0</td>\n",
       "      <td>0.219955</td>\n",
       "    </tr>\n",
       "    <tr>\n",
       "      <td>3</td>\n",
       "      <td>3.0</td>\n",
       "      <td>0.213362</td>\n",
       "    </tr>\n",
       "    <tr>\n",
       "      <td>4</td>\n",
       "      <td>4.0</td>\n",
       "      <td>0.207910</td>\n",
       "    </tr>\n",
       "    <tr>\n",
       "      <td>10</td>\n",
       "      <td>10.0</td>\n",
       "      <td>0.206278</td>\n",
       "    </tr>\n",
       "    <tr>\n",
       "      <td>5</td>\n",
       "      <td>5.0</td>\n",
       "      <td>0.201726</td>\n",
       "    </tr>\n",
       "    <tr>\n",
       "      <td>6</td>\n",
       "      <td>6.0</td>\n",
       "      <td>0.200908</td>\n",
       "    </tr>\n",
       "    <tr>\n",
       "      <td>2</td>\n",
       "      <td>2.0</td>\n",
       "      <td>0.194737</td>\n",
       "    </tr>\n",
       "    <tr>\n",
       "      <td>8</td>\n",
       "      <td>8.0</td>\n",
       "      <td>0.186495</td>\n",
       "    </tr>\n",
       "    <tr>\n",
       "      <td>7</td>\n",
       "      <td>7.0</td>\n",
       "      <td>0.172973</td>\n",
       "    </tr>\n",
       "  </tbody>\n",
       "</table>\n",
       "</div>"
      ],
      "text/plain": [
       "    Tenure    Exited\n",
       "0      0.0  0.235602\n",
       "1      1.0  0.223739\n",
       "9      9.0  0.219955\n",
       "3      3.0  0.213362\n",
       "4      4.0  0.207910\n",
       "10    10.0  0.206278\n",
       "5      5.0  0.201726\n",
       "6      6.0  0.200908\n",
       "2      2.0  0.194737\n",
       "8      8.0  0.186495\n",
       "7      7.0  0.172973"
      ]
     },
     "execution_count": 16,
     "metadata": {},
     "output_type": "execute_result"
    }
   ],
   "source": [
    "data.groupby('Tenure').Exited.mean().reset_index().sort_values(by='Exited',ascending=False)"
   ]
  },
  {
   "cell_type": "code",
   "execution_count": 17,
   "metadata": {},
   "outputs": [
    {
     "data": {
      "text/html": [
       "<div>\n",
       "<style scoped>\n",
       "    .dataframe tbody tr th:only-of-type {\n",
       "        vertical-align: middle;\n",
       "    }\n",
       "\n",
       "    .dataframe tbody tr th {\n",
       "        vertical-align: top;\n",
       "    }\n",
       "\n",
       "    .dataframe thead th {\n",
       "        text-align: right;\n",
       "    }\n",
       "</style>\n",
       "<table border=\"1\" class=\"dataframe\">\n",
       "  <thead>\n",
       "    <tr style=\"text-align: right;\">\n",
       "      <th></th>\n",
       "      <th>Exited</th>\n",
       "    </tr>\n",
       "  </thead>\n",
       "  <tbody>\n",
       "    <tr>\n",
       "      <td>Exited</td>\n",
       "      <td>1.000000</td>\n",
       "    </tr>\n",
       "    <tr>\n",
       "      <td>Age</td>\n",
       "      <td>0.285323</td>\n",
       "    </tr>\n",
       "    <tr>\n",
       "      <td>Balance</td>\n",
       "      <td>0.118533</td>\n",
       "    </tr>\n",
       "    <tr>\n",
       "      <td>EstimatedSalary</td>\n",
       "      <td>0.012097</td>\n",
       "    </tr>\n",
       "    <tr>\n",
       "      <td>HasCrCard</td>\n",
       "      <td>-0.007138</td>\n",
       "    </tr>\n",
       "    <tr>\n",
       "      <td>Tenure</td>\n",
       "      <td>-0.016761</td>\n",
       "    </tr>\n",
       "    <tr>\n",
       "      <td>CreditScore</td>\n",
       "      <td>-0.027094</td>\n",
       "    </tr>\n",
       "    <tr>\n",
       "      <td>NumOfProducts</td>\n",
       "      <td>-0.047820</td>\n",
       "    </tr>\n",
       "    <tr>\n",
       "      <td>IsActiveMember</td>\n",
       "      <td>-0.156128</td>\n",
       "    </tr>\n",
       "  </tbody>\n",
       "</table>\n",
       "</div>"
      ],
      "text/plain": [
       "                   Exited\n",
       "Exited           1.000000\n",
       "Age              0.285323\n",
       "Balance          0.118533\n",
       "EstimatedSalary  0.012097\n",
       "HasCrCard       -0.007138\n",
       "Tenure          -0.016761\n",
       "CreditScore     -0.027094\n",
       "NumOfProducts   -0.047820\n",
       "IsActiveMember  -0.156128"
      ]
     },
     "execution_count": 17,
     "metadata": {},
     "output_type": "execute_result"
    }
   ],
   "source": [
    "data.corr()[['Exited']].sort_values(by='Exited', ascending=False)"
   ]
  },
  {
   "cell_type": "code",
   "execution_count": 18,
   "metadata": {},
   "outputs": [
    {
     "data": {
      "text/plain": [
       "0    0.7963\n",
       "1    0.2037\n",
       "Name: Exited, dtype: float64"
      ]
     },
     "execution_count": 18,
     "metadata": {},
     "output_type": "execute_result"
    }
   ],
   "source": [
    "data['Exited'].value_counts(normalize=True)"
   ]
  },
  {
   "cell_type": "code",
   "execution_count": 19,
   "metadata": {},
   "outputs": [
    {
     "data": {
      "text/plain": [
       "<matplotlib.axes._subplots.AxesSubplot at 0x7f079ded3d50>"
      ]
     },
     "execution_count": 19,
     "metadata": {},
     "output_type": "execute_result"
    },
    {
     "data": {
      "image/png": "[encoded data removed]",
      "text/plain": [
       "<Figure size 720x432 with 1 Axes>"
      ]
     },
     "metadata": {},
     "output_type": "display_data"
    }
   ],
   "source": [
    "sns.set(palette='mako', context='talk',style='darkgrid')\n",
    "data['Exited'].value_counts().plot(kind='bar',grid=True,figsize=(10,6),title='Соотношение тех, кто остался и тех кто ушел')"
   ]
  },
  {
   "cell_type": "code",
   "execution_count": 20,
   "metadata": {},
   "outputs": [],
   "source": [
    "numerics = ['int16', 'int32', 'int64', 'float16', 'float32', 'float64']\n",
    "objects = ['object']\n",
    "newframe = data.select_dtypes(include=numerics)\n",
    "newframe_object = data.select_dtypes(include=objects)"
   ]
  },
  {
   "cell_type": "code",
   "execution_count": 21,
   "metadata": {},
   "outputs": [],
   "source": [
    "numeric_columns = newframe.columns[:-1]"
   ]
  },
  {
   "cell_type": "code",
   "execution_count": 22,
   "metadata": {},
   "outputs": [
    {
     "data": {
      "text/plain": [
       "Index(['CreditScore', 'Age', 'Tenure', 'Balance', 'NumOfProducts', 'HasCrCard',\n",
       "       'IsActiveMember', 'EstimatedSalary'],\n",
       "      dtype='object')"
      ]
     },
     "execution_count": 22,
     "metadata": {},
     "output_type": "execute_result"
    }
   ],
   "source": [
    "numeric_columns"
   ]
  },
  {
   "cell_type": "markdown",
   "metadata": {},
   "source": [
    "**Промежуточные выводы:** Ознакомились с данными и выявили дисбаланс в данных. Проверили данные на дубликаты и на мультиколлинеарность. Избавились от лишних столбцов в данных. Подготовили данные для дальнейшей стандартизации."
   ]
  },
  {
   "cell_type": "markdown",
   "metadata": {},
   "source": [
    "### Обработка попусков"
   ]
  },
  {
   "cell_type": "code",
   "execution_count": 23,
   "metadata": {},
   "outputs": [
    {
     "data": {
      "text/html": [
       "<div>\n",
       "<style scoped>\n",
       "    .dataframe tbody tr th:only-of-type {\n",
       "        vertical-align: middle;\n",
       "    }\n",
       "\n",
       "    .dataframe tbody tr th {\n",
       "        vertical-align: top;\n",
       "    }\n",
       "\n",
       "    .dataframe thead th {\n",
       "        text-align: right;\n",
       "    }\n",
       "</style>\n",
       "<table border=\"1\" class=\"dataframe\">\n",
       "  <thead>\n",
       "    <tr style=\"text-align: right;\">\n",
       "      <th></th>\n",
       "      <th>CreditScore</th>\n",
       "      <th>Geography</th>\n",
       "      <th>Gender</th>\n",
       "      <th>Age</th>\n",
       "      <th>Tenure</th>\n",
       "      <th>Balance</th>\n",
       "      <th>NumOfProducts</th>\n",
       "      <th>HasCrCard</th>\n",
       "      <th>IsActiveMember</th>\n",
       "      <th>EstimatedSalary</th>\n",
       "      <th>Exited</th>\n",
       "    </tr>\n",
       "  </thead>\n",
       "  <tbody>\n",
       "    <tr>\n",
       "      <td>30</td>\n",
       "      <td>591</td>\n",
       "      <td>Spain</td>\n",
       "      <td>Female</td>\n",
       "      <td>39</td>\n",
       "      <td>NaN</td>\n",
       "      <td>0.00</td>\n",
       "      <td>3</td>\n",
       "      <td>1</td>\n",
       "      <td>0</td>\n",
       "      <td>140469.38</td>\n",
       "      <td>1</td>\n",
       "    </tr>\n",
       "    <tr>\n",
       "      <td>48</td>\n",
       "      <td>550</td>\n",
       "      <td>Germany</td>\n",
       "      <td>Male</td>\n",
       "      <td>38</td>\n",
       "      <td>NaN</td>\n",
       "      <td>103391.38</td>\n",
       "      <td>1</td>\n",
       "      <td>0</td>\n",
       "      <td>1</td>\n",
       "      <td>90878.13</td>\n",
       "      <td>0</td>\n",
       "    </tr>\n",
       "    <tr>\n",
       "      <td>51</td>\n",
       "      <td>585</td>\n",
       "      <td>Germany</td>\n",
       "      <td>Male</td>\n",
       "      <td>36</td>\n",
       "      <td>NaN</td>\n",
       "      <td>146050.97</td>\n",
       "      <td>2</td>\n",
       "      <td>0</td>\n",
       "      <td>0</td>\n",
       "      <td>86424.57</td>\n",
       "      <td>0</td>\n",
       "    </tr>\n",
       "    <tr>\n",
       "      <td>53</td>\n",
       "      <td>655</td>\n",
       "      <td>Germany</td>\n",
       "      <td>Male</td>\n",
       "      <td>41</td>\n",
       "      <td>NaN</td>\n",
       "      <td>125561.97</td>\n",
       "      <td>1</td>\n",
       "      <td>0</td>\n",
       "      <td>0</td>\n",
       "      <td>164040.94</td>\n",
       "      <td>1</td>\n",
       "    </tr>\n",
       "    <tr>\n",
       "      <td>60</td>\n",
       "      <td>742</td>\n",
       "      <td>Germany</td>\n",
       "      <td>Male</td>\n",
       "      <td>35</td>\n",
       "      <td>NaN</td>\n",
       "      <td>136857.00</td>\n",
       "      <td>1</td>\n",
       "      <td>0</td>\n",
       "      <td>0</td>\n",
       "      <td>84509.57</td>\n",
       "      <td>0</td>\n",
       "    </tr>\n",
       "    <tr>\n",
       "      <td>...</td>\n",
       "      <td>...</td>\n",
       "      <td>...</td>\n",
       "      <td>...</td>\n",
       "      <td>...</td>\n",
       "      <td>...</td>\n",
       "      <td>...</td>\n",
       "      <td>...</td>\n",
       "      <td>...</td>\n",
       "      <td>...</td>\n",
       "      <td>...</td>\n",
       "      <td>...</td>\n",
       "    </tr>\n",
       "    <tr>\n",
       "      <td>9944</td>\n",
       "      <td>744</td>\n",
       "      <td>Germany</td>\n",
       "      <td>Male</td>\n",
       "      <td>41</td>\n",
       "      <td>NaN</td>\n",
       "      <td>190409.34</td>\n",
       "      <td>2</td>\n",
       "      <td>1</td>\n",
       "      <td>1</td>\n",
       "      <td>138361.48</td>\n",
       "      <td>0</td>\n",
       "    </tr>\n",
       "    <tr>\n",
       "      <td>9956</td>\n",
       "      <td>520</td>\n",
       "      <td>France</td>\n",
       "      <td>Female</td>\n",
       "      <td>46</td>\n",
       "      <td>NaN</td>\n",
       "      <td>85216.61</td>\n",
       "      <td>1</td>\n",
       "      <td>1</td>\n",
       "      <td>0</td>\n",
       "      <td>117369.52</td>\n",
       "      <td>1</td>\n",
       "    </tr>\n",
       "    <tr>\n",
       "      <td>9964</td>\n",
       "      <td>479</td>\n",
       "      <td>France</td>\n",
       "      <td>Male</td>\n",
       "      <td>34</td>\n",
       "      <td>NaN</td>\n",
       "      <td>117593.48</td>\n",
       "      <td>2</td>\n",
       "      <td>0</td>\n",
       "      <td>0</td>\n",
       "      <td>113308.29</td>\n",
       "      <td>0</td>\n",
       "    </tr>\n",
       "    <tr>\n",
       "      <td>9985</td>\n",
       "      <td>659</td>\n",
       "      <td>France</td>\n",
       "      <td>Male</td>\n",
       "      <td>36</td>\n",
       "      <td>NaN</td>\n",
       "      <td>123841.49</td>\n",
       "      <td>2</td>\n",
       "      <td>1</td>\n",
       "      <td>0</td>\n",
       "      <td>96833.00</td>\n",
       "      <td>0</td>\n",
       "    </tr>\n",
       "    <tr>\n",
       "      <td>9999</td>\n",
       "      <td>792</td>\n",
       "      <td>France</td>\n",
       "      <td>Female</td>\n",
       "      <td>28</td>\n",
       "      <td>NaN</td>\n",
       "      <td>130142.79</td>\n",
       "      <td>1</td>\n",
       "      <td>1</td>\n",
       "      <td>0</td>\n",
       "      <td>38190.78</td>\n",
       "      <td>0</td>\n",
       "    </tr>\n",
       "  </tbody>\n",
       "</table>\n",
       "<p>909 rows × 11 columns</p>\n",
       "</div>"
      ],
      "text/plain": [
       "      CreditScore Geography  Gender  Age  Tenure    Balance  NumOfProducts  \\\n",
       "30            591     Spain  Female   39     NaN       0.00              3   \n",
       "48            550   Germany    Male   38     NaN  103391.38              1   \n",
       "51            585   Germany    Male   36     NaN  146050.97              2   \n",
       "53            655   Germany    Male   41     NaN  125561.97              1   \n",
       "60            742   Germany    Male   35     NaN  136857.00              1   \n",
       "...           ...       ...     ...  ...     ...        ...            ...   \n",
       "9944          744   Germany    Male   41     NaN  190409.34              2   \n",
       "9956          520    France  Female   46     NaN   85216.61              1   \n",
       "9964          479    France    Male   34     NaN  117593.48              2   \n",
       "9985          659    France    Male   36     NaN  123841.49              2   \n",
       "9999          792    France  Female   28     NaN  130142.79              1   \n",
       "\n",
       "      HasCrCard  IsActiveMember  EstimatedSalary  Exited  \n",
       "30            1               0        140469.38       1  \n",
       "48            0               1         90878.13       0  \n",
       "51            0               0         86424.57       0  \n",
       "53            0               0        164040.94       1  \n",
       "60            0               0         84509.57       0  \n",
       "...         ...             ...              ...     ...  \n",
       "9944          1               1        138361.48       0  \n",
       "9956          1               0        117369.52       1  \n",
       "9964          0               0        113308.29       0  \n",
       "9985          1               0         96833.00       0  \n",
       "9999          1               0         38190.78       0  \n",
       "\n",
       "[909 rows x 11 columns]"
      ]
     },
     "execution_count": 23,
     "metadata": {},
     "output_type": "execute_result"
    }
   ],
   "source": [
    "data[data['Tenure'].isnull()]"
   ]
  },
  {
   "cell_type": "markdown",
   "metadata": {},
   "source": [
    "Пустые значения заполним на ноль."
   ]
  },
  {
   "cell_type": "code",
   "execution_count": 24,
   "metadata": {},
   "outputs": [
    {
     "name": "stdout",
     "output_type": "stream",
     "text": [
      "<class 'pandas.core.frame.DataFrame'>\n",
      "RangeIndex: 10000 entries, 0 to 9999\n",
      "Data columns (total 11 columns):\n",
      "CreditScore        10000 non-null int64\n",
      "Geography          10000 non-null object\n",
      "Gender             10000 non-null object\n",
      "Age                10000 non-null int64\n",
      "Tenure             10000 non-null float64\n",
      "Balance            10000 non-null float64\n",
      "NumOfProducts      10000 non-null int64\n",
      "HasCrCard          10000 non-null int64\n",
      "IsActiveMember     10000 non-null int64\n",
      "EstimatedSalary    10000 non-null float64\n",
      "Exited             10000 non-null int64\n",
      "dtypes: float64(3), int64(6), object(2)\n",
      "memory usage: 859.5+ KB\n",
      "\n",
      "Процент нулевых значений в Tenure после fillna  - 12.91%\n"
     ]
    }
   ],
   "source": [
    "data = data.fillna(0)\n",
    "data.info()\n",
    "print()\n",
    "print('Процент нулевых значений в Tenure после fillna  - {:.2%}'.format(data[data['Tenure'] == 0].shape[0]/\n",
    "    data.shape[0]))"
   ]
  },
  {
   "cell_type": "markdown",
   "metadata": {},
   "source": [
    "### Разделение данных на выборки"
   ]
  },
  {
   "cell_type": "markdown",
   "metadata": {},
   "source": [
    "Обработаем данные техникой OHE, чтобы все признаки стали количественные. Разделим данные на тренировочную, валидационную и тестовую выборки. Так как перед нами стоит задача классификации за целевой признак примем столбец Exited — факт ухода клиента."
   ]
  },
  {
   "cell_type": "code",
   "execution_count": 78,
   "metadata": {},
   "outputs": [
    {
     "name": "stdout",
     "output_type": "stream",
     "text": [
      "Размер обучающей выборки - 6700\n",
      "Размер валидациооной выборки - 1650\n",
      "Размер тестовой выборки - 1650\n"
     ]
    }
   ],
   "source": [
    "data = pd.get_dummies(data,drop_first=True)\n",
    "\n",
    "\n",
    "train_data, split_data = train_test_split(data, test_size=0.33, random_state=12345)\n",
    "valid_data, test_data = train_test_split(split_data, test_size=0.5, random_state=12345)\n",
    "\n",
    "\n",
    "print('Размер обучающей выборки - {}'.format(train_data.shape[0]))\n",
    "print('Размер валидациооной выборки - {}'.format(valid_data.shape[0]))\n",
    "print('Размер тестовой выборки - {}'.format(test_data.shape[0]))\n"
   ]
  },
  {
   "cell_type": "code",
   "execution_count": 26,
   "metadata": {},
   "outputs": [],
   "source": [
    "#тест\n",
    "test_data_features = test_data.drop(['Exited'],axis=1)\n",
    "test_data_target = test_data['Exited']\n",
    "\n",
    "#обучение\n",
    "train_data_features = train_data.drop(['Exited'],axis=1)\n",
    "train_data_target = train_data['Exited']\n",
    "\n",
    "#валидация\n",
    "valid_data_features = valid_data.drop(['Exited'],axis=1)\n",
    "valid_data_target = valid_data['Exited']"
   ]
  },
  {
   "cell_type": "code",
   "execution_count": 27,
   "metadata": {},
   "outputs": [],
   "source": [
    "#преобразование масштаба методом стандартизации\n",
    "scaler=StandardScaler()\n",
    "scaler.fit(train_data_features[numeric_columns])\n",
    "train_data_features[numeric_columns]=scaler.transform(train_data_features[numeric_columns])\n",
    "valid_data_features[numeric_columns]=scaler.transform(valid_data_features[numeric_columns])\n",
    "test_data_features[numeric_columns]=scaler.transform(test_data_features[numeric_columns])"
   ]
  },
  {
   "cell_type": "markdown",
   "metadata": {},
   "source": [
    "### Вывод"
   ]
  },
  {
   "cell_type": "markdown",
   "metadata": {},
   "source": [
    "Ознакомились и тщательно подготовили данные для выбора наилучшей модели и прогноза целевого призака Exited - факт ухода клиента. \n",
    "- Обработали пропуска, избавились от ненужных столбцов, проверили данные на дубликаты и коллинеарность, обработали данные техникой OHE, разделили данные на 3 выборки.\n",
    "\n",
    "У нас явный дисбаланс в данных, далее будем применять методы upsampling и downsampling, но вначале прогоним через имеющиеся данные модели машинного обучения и посмотрим на результаты."
   ]
  },
  {
   "cell_type": "markdown",
   "metadata": {},
   "source": [
    "## Исследование задачи"
   ]
  },
  {
   "cell_type": "markdown",
   "metadata": {},
   "source": [
    "### Классификатор **Древо решений**"
   ]
  },
  {
   "cell_type": "code",
   "execution_count": 28,
   "metadata": {},
   "outputs": [
    {
     "name": "stdout",
     "output_type": "stream",
     "text": [
      "\n",
      "\u001b[1mЛучшая глубина дерева:\u001b[0m 5\n",
      "\u001b[1mЛучшая accuracy:\u001b[0m 0.8484848484848485\n",
      "\u001b[1mЛучшая F1:\u001b[0m 0.5598591549295775\n"
     ]
    }
   ],
   "source": [
    "best_DTree_model = None\n",
    "best_DTree_accuracy = 0\n",
    "best_DTree_depth = 0\n",
    "best_DTree_f1 = 0\n",
    "best_max_features = 0\n",
    "\n",
    "for depth in range(1,21):\n",
    "        DTree_model = DecisionTreeClassifier(random_state=12345,\n",
    "                                         max_depth = depth)\n",
    "        DTree_model.fit(train_data_features, train_data_target)\n",
    "        predictions_valid_DTree =  DTree_model.predict(valid_data_features)\n",
    "        DTree_accuracy = accuracy_score(valid_data_target, predictions_valid_DTree)\n",
    "        DTree_f1 = f1_score(valid_data_target, predictions_valid_DTree)\n",
    "        #print('max_depth=', depth,'-', end='')\n",
    "        #print('F1:',f1_score(valid_data_target, predictions_valid_DTree))\n",
    "   \n",
    "        if DTree_f1 > best_DTree_f1:\n",
    "            best_DTree_depth = depth\n",
    "            best_DTree_accuracy = DTree_accuracy\n",
    "            best_DTree_model = DTree_model\n",
    "            best_DTree_f1 = DTree_f1\n",
    "            \n",
    "\n",
    "print()\n",
    "print('\\033[1mЛучшая глубина дерева:\\033[0m', best_DTree_depth)\n",
    "print('\\033[1mЛучшая accuracy:\\033[0m', best_DTree_accuracy)\n",
    "print('\\033[1mЛучшая F1:\\033[0m', best_DTree_f1)\n"
   ]
  },
  {
   "cell_type": "code",
   "execution_count": 29,
   "metadata": {},
   "outputs": [
    {
     "data": {
      "text/plain": [
       "DecisionTreeClassifier(class_weight=None, criterion='gini', max_depth=5,\n",
       "                       max_features=None, max_leaf_nodes=None,\n",
       "                       min_impurity_decrease=0.0, min_impurity_split=None,\n",
       "                       min_samples_leaf=1, min_samples_split=2,\n",
       "                       min_weight_fraction_leaf=0.0, presort=False,\n",
       "                       random_state=12345, splitter='best')"
      ]
     },
     "execution_count": 29,
     "metadata": {},
     "output_type": "execute_result"
    }
   ],
   "source": [
    "best_DTree_model"
   ]
  },
  {
   "cell_type": "code",
   "execution_count": 30,
   "metadata": {},
   "outputs": [
    {
     "data": {
      "text/plain": [
       "DecisionTreeClassifier(class_weight=None, criterion='gini', max_depth=5,\n",
       "                       max_features=None, max_leaf_nodes=None,\n",
       "                       min_impurity_decrease=0.0, min_impurity_split=None,\n",
       "                       min_samples_leaf=1, min_samples_split=2,\n",
       "                       min_weight_fraction_leaf=0.0, presort=False,\n",
       "                       random_state=12345, splitter='best')"
      ]
     },
     "execution_count": 30,
     "metadata": {},
     "output_type": "execute_result"
    }
   ],
   "source": [
    "best_DTree_model"
   ]
  },
  {
   "cell_type": "code",
   "execution_count": 31,
   "metadata": {},
   "outputs": [
    {
     "name": "stdout",
     "output_type": "stream",
     "text": [
      "Глубина дерева: 5\n",
      "Accuracy при criterion = entropy: 0.8539393939393939\n",
      "F1 при criterion = entropy: 0.588034188034188\n"
     ]
    }
   ],
   "source": [
    "DTree_model = DecisionTreeClassifier(random_state=12345, max_depth = 5, criterion='entropy')\n",
    "DTree_model.fit(train_data_features, train_data_target)\n",
    "predictions_valid_DTree =  DTree_model.predict(valid_data_features)\n",
    "DTree_accuracy = accuracy_score(valid_data_target, predictions_valid_DTree)\n",
    "DTree_f1 = f1_score(valid_data_target, predictions_valid_DTree)\n",
    "\n",
    "print('Глубина дерева: 5') \n",
    "print('Accuracy при criterion = entropy:', DTree_accuracy)\n",
    "print('F1 при criterion = entropy:', DTree_f1)"
   ]
  },
  {
   "cell_type": "code",
   "execution_count": 32,
   "metadata": {},
   "outputs": [
    {
     "name": "stdout",
     "output_type": "stream",
     "text": [
      "Глубина дерева: 5\n",
      "Accuracy при splitter = random: 0.8151515151515152\n",
      "F1 при criterion = entropy: 0.36325678496868474\n"
     ]
    }
   ],
   "source": [
    "DTree_model = DecisionTreeClassifier(random_state=12345, max_depth = 5, criterion='gini',splitter='random')\n",
    "DTree_model.fit(train_data_features, train_data_target)\n",
    "predictions_valid_DTree =  DTree_model.predict(valid_data_features)\n",
    "DTree_accuracy = accuracy_score(valid_data_target, predictions_valid_DTree)\n",
    "DTree_f1 = f1_score(valid_data_target, predictions_valid_DTree)\n",
    "\n",
    "print('Глубина дерева: 5') \n",
    "print('Accuracy при splitter = random:', DTree_accuracy)\n",
    "print('F1 при criterion = entropy:', DTree_f1)"
   ]
  },
  {
   "cell_type": "code",
   "execution_count": 33,
   "metadata": {},
   "outputs": [
    {
     "name": "stdout",
     "output_type": "stream",
     "text": [
      "DecisionTreeClassifier(class_weight=None, criterion='gini', max_depth=5,\n",
      "                       max_features=None, max_leaf_nodes=None,\n",
      "                       min_impurity_decrease=0.0, min_impurity_split=None,\n",
      "                       min_samples_leaf=1, min_samples_split=2,\n",
      "                       min_weight_fraction_leaf=0.0, presort=False,\n",
      "                       random_state=12345, splitter='best')\n",
      "F1: 0.5598591549295775\n"
     ]
    }
   ],
   "source": [
    "print(best_DTree_model)\n",
    "print('F1:',best_DTree_f1)"
   ]
  },
  {
   "cell_type": "markdown",
   "metadata": {},
   "source": [
    "**Промежуточный вывод:** \n",
    "Наилучшая глубина дерева = 5, а функция, которая измеряет качество - gini, F1: 0.559"
   ]
  },
  {
   "cell_type": "markdown",
   "metadata": {},
   "source": [
    "### Классификатор **Случайный лес**"
   ]
  },
  {
   "cell_type": "code",
   "execution_count": 34,
   "metadata": {},
   "outputs": [
    {
     "name": "stdout",
     "output_type": "stream",
     "text": [
      "\u001b[1mГлубина дерева\u001b[0m - лучшая показатель: 10\n",
      "\u001b[1mAccuracy\u001b[0m - лучшая показатель: 0.8593939393939394\n",
      "\u001b[1mEstim\u001b[0m - лучшая показатель: 100\n",
      "\u001b[1mF1\u001b[0m - лучшая показатель: 0.5750915750915752\n"
     ]
    }
   ],
   "source": [
    "best_RandomF_model = None\n",
    "best_RandomF_accuracy = 0\n",
    "best_RandomF_estim = 0\n",
    "best_RandomF_depth = 0\n",
    "best_RandomF_f1 = 0\n",
    "\n",
    "for est in range(10,101,10):\n",
    "    for depth in range(1,11):\n",
    "        RandomF_model = RandomForestClassifier(random_state=12345, n_estimators = est, max_depth=depth)\n",
    "        RandomF_model.fit(train_data_features, train_data_target)\n",
    "        prediction_valid_RandomF = RandomF_model.predict(valid_data_features)\n",
    "        RandomF_accuracy = accuracy_score(valid_data_target, prediction_valid_RandomF)\n",
    "        RandomF_f1 = f1_score(valid_data_target, prediction_valid_RandomF)\n",
    "        #print('max_depth=', depth,':',end='')\n",
    "        #print('n_estimators=', est,':', end='')\n",
    "        #print(RandomF_f1)\n",
    "       \n",
    "        if RandomF_f1 > best_RandomF_f1:\n",
    "            best_RandomF_accuracy = RandomF_accuracy\n",
    "            best_RandomF_estim = est\n",
    "            best_RandomF_depth = depth\n",
    "            best_RandomF_model = RandomF_model\n",
    "            best_RandomF_f1 = RandomF_f1\n",
    "\n",
    "            \n",
    "print('\\033[1mГлубина дерева\\033[0m - лучшая показатель:', best_RandomF_depth) \n",
    "print('\\033[1mAccuracy\\033[0m - лучшая показатель:', best_RandomF_accuracy)\n",
    "print('\\033[1mEstim\\033[0m - лучшая показатель:', best_RandomF_estim)\n",
    "print('\\033[1mF1\\033[0m - лучшая показатель:', best_RandomF_f1)"
   ]
  },
  {
   "cell_type": "code",
   "execution_count": 35,
   "metadata": {},
   "outputs": [
    {
     "data": {
      "text/plain": [
       "RandomForestClassifier(bootstrap=True, class_weight=None, criterion='gini',\n",
       "                       max_depth=10, max_features='auto', max_leaf_nodes=None,\n",
       "                       min_impurity_decrease=0.0, min_impurity_split=None,\n",
       "                       min_samples_leaf=1, min_samples_split=2,\n",
       "                       min_weight_fraction_leaf=0.0, n_estimators=100,\n",
       "                       n_jobs=None, oob_score=False, random_state=12345,\n",
       "                       verbose=0, warm_start=False)"
      ]
     },
     "execution_count": 35,
     "metadata": {},
     "output_type": "execute_result"
    }
   ],
   "source": [
    "best_RandomF_model"
   ]
  },
  {
   "cell_type": "code",
   "execution_count": 36,
   "metadata": {},
   "outputs": [
    {
     "name": "stdout",
     "output_type": "stream",
     "text": [
      "Глубина дерева: 10\n",
      "Estim: 100\n",
      "Accuracy при criterion = entropy : 0.8612121212121212\n",
      "F1 при criterion = entropy : 0.575139146567718\n"
     ]
    }
   ],
   "source": [
    "RandomF_model = RandomForestClassifier(random_state=12345, n_estimators=100, max_depth=10, criterion='entropy')\n",
    "RandomF_model.fit(train_data_features, train_data_target)\n",
    "prediction_valid_RandomF = RandomF_model.predict(valid_data_features)\n",
    "RandomF_accuracy = accuracy_score(valid_data_target, prediction_valid_RandomF)\n",
    "RandomF_f1 = f1_score(valid_data_target, prediction_valid_RandomF)\n",
    "\n",
    "print('Глубина дерева: 10') \n",
    "print('Estim: 100')\n",
    "print('Accuracy при criterion = entropy :', RandomF_accuracy)\n",
    "print('F1 при criterion = entropy :', RandomF_f1)"
   ]
  },
  {
   "cell_type": "markdown",
   "metadata": {},
   "source": [
    "**Промежуточный вывод:** Наилучшая глубина - 10, число деревьев - 100, функция, которая измеряет качество - gini, F1: 0.575."
   ]
  },
  {
   "cell_type": "markdown",
   "metadata": {},
   "source": [
    "### Классификатор **Логистическая регрессия**"
   ]
  },
  {
   "cell_type": "code",
   "execution_count": 37,
   "metadata": {
    "scrolled": true
   },
   "outputs": [
    {
     "name": "stdout",
     "output_type": "stream",
     "text": [
      "\u001b[1mЛучшее кол-во итерраций:\u001b[0m 2\n",
      "\u001b[1mЛучшая F1:\u001b[0m 0.31492842535787324\n"
     ]
    }
   ],
   "source": [
    "best_Logistic_model = None\n",
    "best_Logistic_iter = 0\n",
    "best_Logistic_accuracy = 0\n",
    "best_Logistic_f1 = 0\n",
    "\n",
    "for itera in range(1,51):\n",
    "    Logistic_model = LogisticRegression(random_state=12345, max_iter = itera, solver = 'saga')\n",
    "    Logistic_model.fit(train_data_features, train_data_target)\n",
    "    prediction_valid_Logistic = Logistic_model.predict(valid_data_features)\n",
    "    Logistic_accuracy = accuracy_score(valid_data_target, prediction_valid_Logistic)\n",
    "    Logistic_f1 = f1_score(valid_data_target, prediction_valid_Logistic)\n",
    "    #print('Кол-во итерраций', itera,'- F1 -', Logistic_f1)\n",
    "    if Logistic_f1 > best_Logistic_f1:\n",
    "        best_Logistic_iter = itera\n",
    "        best_Logistic_accuracy = Logistic_accuracy\n",
    "        best_Logistic_model = Logistic_model\n",
    "        best_Logistic_f1 = Logistic_f1\n",
    "        \n",
    "\n",
    "print('\\033[1mЛучшее кол-во итерраций:\\033[0m', best_Logistic_iter)\n",
    "print('\\033[1mЛучшая F1:\\033[0m', best_Logistic_f1)"
   ]
  },
  {
   "cell_type": "code",
   "execution_count": 38,
   "metadata": {},
   "outputs": [
    {
     "data": {
      "text/plain": [
       "LogisticRegression(C=1.0, class_weight=None, dual=False, fit_intercept=True,\n",
       "                   intercept_scaling=1, l1_ratio=None, max_iter=2,\n",
       "                   multi_class='warn', n_jobs=None, penalty='l2',\n",
       "                   random_state=12345, solver='saga', tol=0.0001, verbose=0,\n",
       "                   warm_start=False)"
      ]
     },
     "execution_count": 38,
     "metadata": {},
     "output_type": "execute_result"
    }
   ],
   "source": [
    "best_Logistic_model"
   ]
  },
  {
   "cell_type": "code",
   "execution_count": 39,
   "metadata": {},
   "outputs": [
    {
     "name": "stdout",
     "output_type": "stream",
     "text": [
      "\u001b[1mЛучшая F1:\u001b[0m 0.29979466119096504\n"
     ]
    }
   ],
   "source": [
    "Logistic_model = LogisticRegression(max_iter = 5, solver = 'warn')\n",
    "Logistic_model.fit(train_data_features, train_data_target)\n",
    "prediction_valid_Logistic = Logistic_model.predict(valid_data_features)\n",
    "Logistic_f1 = f1_score(valid_data_target, prediction_valid_Logistic)\n",
    "\n",
    "print('\\033[1mЛучшая F1:\\033[0m', Logistic_f1)"
   ]
  },
  {
   "cell_type": "code",
   "execution_count": 40,
   "metadata": {},
   "outputs": [
    {
     "name": "stdout",
     "output_type": "stream",
     "text": [
      "Случайный лес - F1: 0.5750915750915752\n",
      "Древо решений - F1: 0.5598591549295775\n",
      "Логистическая регрессия - F1: 0.31492842535787324\n"
     ]
    }
   ],
   "source": [
    "print('Случайный лес - F1:', best_RandomF_f1)\n",
    "print('Древо решений - F1:', best_DTree_f1)\n",
    "print('Логистическая регрессия - F1:', best_Logistic_f1)"
   ]
  },
  {
   "cell_type": "markdown",
   "metadata": {},
   "source": [
    "### Вывод"
   ]
  },
  {
   "cell_type": "markdown",
   "metadata": {},
   "source": [
    "Обучили три модели на несбалансированных данных, лучший показатель F1-меры на валидационной выборке показала модель классификатора Случайного Леса. Приступим к следующему этапу и посмотрим как измениться показатель f1-меры после методов увеличение и уменьшения выборки."
   ]
  },
  {
   "cell_type": "markdown",
   "metadata": {},
   "source": [
    "## Борьба с дисбалансом"
   ]
  },
  {
   "cell_type": "markdown",
   "metadata": {},
   "source": [
    "Увеличение выборки"
   ]
  },
  {
   "cell_type": "code",
   "execution_count": 41,
   "metadata": {},
   "outputs": [],
   "source": [
    "def upsampling(features,target,repeat):\n",
    "    target_one=target[target==1]\n",
    "    target_null=target[target==0]\n",
    "    features_one=features[target==1]\n",
    "    features_null=features[target==0]\n",
    "    \n",
    "    features_upsampled = pd.concat([features_null]+[features_one]*repeat)\n",
    "    target_upsampled = pd.concat([target_null]+[target_one]*repeat)\n",
    "    \n",
    "    features_upsampled, target_upsampled = shuffle(features_upsampled, target_upsampled, random_state=123456)\n",
    "    \n",
    "    return features_upsampled, target_upsampled"
   ]
  },
  {
   "cell_type": "code",
   "execution_count": 42,
   "metadata": {},
   "outputs": [],
   "source": [
    "features_up, target_up = upsampling(train_data_features, train_data_target, 10)"
   ]
  },
  {
   "cell_type": "markdown",
   "metadata": {},
   "source": [
    "Уменьшение выборки"
   ]
  },
  {
   "cell_type": "code",
   "execution_count": 43,
   "metadata": {},
   "outputs": [],
   "source": [
    "def downsample(features,target,fraction):\n",
    "    target_one=target[target==1]\n",
    "    target_zero=target[target==0]\n",
    "    features_one=features[target==1]\n",
    "    features_zero=features[target==0]\n",
    "    \n",
    "    features_downsampled = pd.concat([features_zero.sample(frac=fraction, random_state=12345)]+[features_one])\n",
    "    target_downsampled = pd.concat([target_zero.sample(frac=fraction, random_state=12345)]+[target_one])\n",
    "    \n",
    "    features_downsampled, target_downsampled = shuffle(features_downsampled, target_downsampled, random_state=12345)\n",
    "    \n",
    "    return features_downsampled, target_downsampled"
   ]
  },
  {
   "cell_type": "code",
   "execution_count": 44,
   "metadata": {},
   "outputs": [],
   "source": [
    "features_down, target_down = downsample(train_data_features, train_data_target, 0.1)"
   ]
  },
  {
   "cell_type": "markdown",
   "metadata": {},
   "source": [
    "**Промежуточный вывод:** Подготовили данные и можем приступать к следующему этапу."
   ]
  },
  {
   "cell_type": "markdown",
   "metadata": {},
   "source": [
    "### Upsampled"
   ]
  },
  {
   "cell_type": "markdown",
   "metadata": {},
   "source": [
    "#### Классификатор **Древо решений** upsampled"
   ]
  },
  {
   "cell_type": "code",
   "execution_count": 45,
   "metadata": {},
   "outputs": [
    {
     "name": "stdout",
     "output_type": "stream",
     "text": [
      "\n",
      "\u001b[1mЛучшая глубина дерева:\u001b[0m 5\n",
      "\u001b[1mЛучшая accuracy:\u001b[0m 0.8096969696969697\n",
      "\u001b[1mЛучшая F1:\u001b[0m 0.6055276381909548\n"
     ]
    }
   ],
   "source": [
    "best_DTree_model_up = None\n",
    "best_DTree_accuracy_up = 0\n",
    "best_DTree_depth_up = 0\n",
    "best_DTree_f1_up = 0\n",
    "\n",
    "\n",
    "for depth in range(1,11,1):\n",
    "    DTree_model_up = DecisionTreeClassifier(random_state=12345, max_depth = depth, class_weight='balanced')\n",
    "    DTree_model_up.fit(features_up, target_up)\n",
    "    predictions_valid_DTree_up =  DTree_model_up.predict(valid_data_features)\n",
    "    DTree_accuracy_up = accuracy_score(valid_data_target, predictions_valid_DTree_up)\n",
    "    DTree_f1_up = f1_score(valid_data_target, predictions_valid_DTree_up)\n",
    "    #print('max_depth=', depth,':',end='')\n",
    "    #print(accuracy_score(valid_data_target, predictions_valid_DTree_up),end='')\n",
    "    #print('F1:',f1_score(valid_data_target, predictions_valid_DTree_up))\n",
    "   \n",
    "    if DTree_f1_up > best_DTree_f1_up:\n",
    "        best_DTree_depth_up = depth\n",
    "        best_DTree_accuracy_up = DTree_accuracy_up\n",
    "        best_DTree_model_up = DTree_model_up\n",
    "        best_DTree_f1_up = DTree_f1_up\n",
    "\n",
    "print()\n",
    "print('\\033[1mЛучшая глубина дерева:\\033[0m', best_DTree_depth_up) \n",
    "print('\\033[1mЛучшая accuracy:\\033[0m', best_DTree_accuracy_up)\n",
    "print('\\033[1mЛучшая F1:\\033[0m', best_DTree_f1_up)"
   ]
  },
  {
   "cell_type": "markdown",
   "metadata": {},
   "source": [
    "Исследуем изменение гиперпараметров"
   ]
  },
  {
   "cell_type": "code",
   "execution_count": 46,
   "metadata": {},
   "outputs": [
    {
     "data": {
      "text/plain": [
       "DecisionTreeClassifier(class_weight='balanced', criterion='gini', max_depth=5,\n",
       "                       max_features=None, max_leaf_nodes=None,\n",
       "                       min_impurity_decrease=0.0, min_impurity_split=None,\n",
       "                       min_samples_leaf=1, min_samples_split=2,\n",
       "                       min_weight_fraction_leaf=0.0, presort=False,\n",
       "                       random_state=12345, splitter='best')"
      ]
     },
     "execution_count": 46,
     "metadata": {},
     "output_type": "execute_result"
    }
   ],
   "source": [
    "best_DTree_model_up"
   ]
  },
  {
   "cell_type": "code",
   "execution_count": 47,
   "metadata": {},
   "outputs": [
    {
     "name": "stdout",
     "output_type": "stream",
     "text": [
      "Глубина дерева: 5\n",
      "Accuracy при criterion = entropy: 0.8036363636363636\n",
      "F1 при criterion = entropy: 0.599009900990099\n"
     ]
    }
   ],
   "source": [
    "DTree_model_up = DecisionTreeClassifier(class_weight='balanced', random_state=12345, max_depth = 5, criterion = 'entropy')\n",
    "DTree_model_up.fit(features_up, target_up)\n",
    "predictions_valid_DTree_up =  DTree_model_up.predict(valid_data_features)\n",
    "DTree_accuracy_up = accuracy_score(valid_data_target, predictions_valid_DTree_up)\n",
    "DTree_f1_up = f1_score(valid_data_target, predictions_valid_DTree_up)\n",
    "\n",
    "print('Глубина дерева: 5') \n",
    "print('Accuracy при criterion = entropy:', DTree_accuracy_up)\n",
    "print('F1 при criterion = entropy:', DTree_f1_up)"
   ]
  },
  {
   "cell_type": "code",
   "execution_count": 48,
   "metadata": {},
   "outputs": [
    {
     "name": "stdout",
     "output_type": "stream",
     "text": [
      "DecisionTreeClassifier(class_weight='balanced', criterion='gini', max_depth=5,\n",
      "                       max_features=None, max_leaf_nodes=None,\n",
      "                       min_impurity_decrease=0.0, min_impurity_split=None,\n",
      "                       min_samples_leaf=1, min_samples_split=2,\n",
      "                       min_weight_fraction_leaf=0.0, presort=False,\n",
      "                       random_state=12345, splitter='best')\n",
      "F1: 0.6055276381909548\n"
     ]
    }
   ],
   "source": [
    "print(best_DTree_model_up)\n",
    "print('F1:', best_DTree_f1_up)"
   ]
  },
  {
   "cell_type": "markdown",
   "metadata": {},
   "source": [
    "- метрика **AUC-ROC** для классификатора **Древо решений**"
   ]
  },
  {
   "cell_type": "code",
   "execution_count": 49,
   "metadata": {},
   "outputs": [
    {
     "data": {
      "image/png": "[encoded data removed]",
      "text/plain": [
       "<Figure size 720x288 with 1 Axes>"
      ]
     },
     "metadata": {},
     "output_type": "display_data"
    },
    {
     "name": "stdout",
     "output_type": "stream",
     "text": [
      "AUC-ROC: 0.8382049068842853\n"
     ]
    }
   ],
   "source": [
    "proba_DTree_up = best_DTree_model_up.predict_proba(valid_data_features)\n",
    "proba_one_valid_DTree_up = proba_DTree_up[:,1]\n",
    "fpr, tpr, thresholds = roc_curve(valid_data_target, proba_one_valid_DTree_up)\n",
    "roc_auc_DTree_up = roc_auc_score(valid_data_target, proba_one_valid_DTree_up)\n",
    "\n",
    "plt.figure(figsize=(10,4))\n",
    "plt.plot([0,1],[0,1], linestyle='--')\n",
    "plt.plot(fpr, tpr)\n",
    "plt.xlim([0.0,1.0])\n",
    "plt.ylim([0.0,1.0])\n",
    "plt.xlabel('False Positive Rate')\n",
    "plt.ylabel('True Positive Rate')\n",
    "plt.title('Roc-curve | Decision Tree')\n",
    "plt.show()\n",
    "\n",
    "print('AUC-ROC:', roc_auc_DTree_up)"
   ]
  },
  {
   "cell_type": "markdown",
   "metadata": {},
   "source": [
    "#### Классификатор **Случайный лес** upsampled"
   ]
  },
  {
   "cell_type": "code",
   "execution_count": 50,
   "metadata": {},
   "outputs": [
    {
     "name": "stdout",
     "output_type": "stream",
     "text": [
      "\u001b[1mГлубина дерева\u001b[0m - лучшая показатель: 9\n",
      "\u001b[1mAccuracy\u001b[0m - лучшая показатель: 0.8206060606060606\n",
      "\u001b[1mEstim\u001b[0m - лучшая показатель: 50\n",
      "\u001b[1mF1\u001b[0m - лучшая показатель: 0.6327543424317618\n"
     ]
    }
   ],
   "source": [
    "best_RandomF_model_up = None\n",
    "best_RandomF_accuracy_up = 0\n",
    "best_RandomF_estim_up = 0\n",
    "best_RandomF_depth_up = 0\n",
    "best_RandomF_f1_up = 0\n",
    "\n",
    "for est in range(10,101,10):\n",
    "    for depth in range(1,11):\n",
    "        RandomF_model_up = RandomForestClassifier(class_weight='balanced', random_state=12345, n_estimators = est, max_depth=depth)\n",
    "        RandomF_model_up.fit(features_up, target_up)\n",
    "        prediction_valid_RandomF_up = RandomF_model_up.predict(valid_data_features)\n",
    "        RandomF_accuracy_up = accuracy_score(valid_data_target, prediction_valid_RandomF_up)\n",
    "        RandomF_f1_up = f1_score(valid_data_target, prediction_valid_RandomF_up)\n",
    "        #print('max_depth=', depth,':',end='')\n",
    "        #print('n_estimators=', est,':', end='')\n",
    "        #print(RandomF_f1_up)\n",
    "        if RandomF_f1_up > best_RandomF_f1_up:\n",
    "            best_RandomF_accuracy_up = RandomF_accuracy_up\n",
    "            best_RandomF_estim_up = est\n",
    "            best_RandomF_depth_up = depth\n",
    "            best_RandomF_model_up = RandomF_model_up\n",
    "            best_RandomF_f1_up = RandomF_f1_up\n",
    "\n",
    "\n",
    "            \n",
    "print('\\033[1mГлубина дерева\\033[0m - лучшая показатель:', best_RandomF_depth_up) \n",
    "print('\\033[1mAccuracy\\033[0m - лучшая показатель:', best_RandomF_accuracy_up)\n",
    "print('\\033[1mEstim\\033[0m - лучшая показатель:', best_RandomF_estim_up)\n",
    "print('\\033[1mF1\\033[0m - лучшая показатель:', best_RandomF_f1_up)"
   ]
  },
  {
   "cell_type": "code",
   "execution_count": 51,
   "metadata": {
    "scrolled": true
   },
   "outputs": [
    {
     "data": {
      "text/plain": [
       "RandomForestClassifier(bootstrap=True, class_weight='balanced',\n",
       "                       criterion='gini', max_depth=9, max_features='auto',\n",
       "                       max_leaf_nodes=None, min_impurity_decrease=0.0,\n",
       "                       min_impurity_split=None, min_samples_leaf=1,\n",
       "                       min_samples_split=2, min_weight_fraction_leaf=0.0,\n",
       "                       n_estimators=50, n_jobs=None, oob_score=False,\n",
       "                       random_state=12345, verbose=0, warm_start=False)"
      ]
     },
     "execution_count": 51,
     "metadata": {},
     "output_type": "execute_result"
    }
   ],
   "source": [
    "best_RandomF_model_up"
   ]
  },
  {
   "cell_type": "code",
   "execution_count": 52,
   "metadata": {},
   "outputs": [
    {
     "name": "stdout",
     "output_type": "stream",
     "text": [
      "F1 - criterion - entropy: 0.6176836861768368\n"
     ]
    }
   ],
   "source": [
    "RandomF_model_up = RandomForestClassifier(criterion='entropy',\n",
    "                                          class_weight='balanced', random_state=12345, \n",
    "                                          n_estimators =50, max_depth=9)\n",
    "RandomF_model_up.fit(features_up, target_up)\n",
    "prediction_valid_RandomF_up = RandomF_model_up.predict(valid_data_features)\n",
    "RandomF_accuracy_up = accuracy_score(valid_data_target, prediction_valid_RandomF_up)\n",
    "RandomF_f1_up = f1_score(valid_data_target, prediction_valid_RandomF_up)\n",
    "\n",
    "print('F1 - criterion - entropy:',RandomF_f1_up)"
   ]
  },
  {
   "cell_type": "code",
   "execution_count": 53,
   "metadata": {},
   "outputs": [
    {
     "data": {
      "text/plain": [
       "RandomForestClassifier(bootstrap=True, class_weight='balanced',\n",
       "                       criterion='gini', max_depth=9, max_features='auto',\n",
       "                       max_leaf_nodes=None, min_impurity_decrease=0.0,\n",
       "                       min_impurity_split=None, min_samples_leaf=1,\n",
       "                       min_samples_split=2, min_weight_fraction_leaf=0.0,\n",
       "                       n_estimators=50, n_jobs=None, oob_score=False,\n",
       "                       random_state=12345, verbose=0, warm_start=False)"
      ]
     },
     "execution_count": 53,
     "metadata": {},
     "output_type": "execute_result"
    }
   ],
   "source": [
    "best_RandomF_model_up"
   ]
  },
  {
   "cell_type": "markdown",
   "metadata": {},
   "source": [
    "- метрика **AUC-ROC** для классификатора **Случайный лес**"
   ]
  },
  {
   "cell_type": "code",
   "execution_count": 54,
   "metadata": {},
   "outputs": [
    {
     "data": {
      "image/png": "[encoded data removed]",
      "text/plain": [
       "<Figure size 720x288 with 1 Axes>"
      ]
     },
     "metadata": {},
     "output_type": "display_data"
    },
    {
     "name": "stdout",
     "output_type": "stream",
     "text": [
      "AUC-ROC: 0.8567757376020086\n"
     ]
    }
   ],
   "source": [
    "proba_RandomF_up = best_RandomF_model_up.predict_proba(valid_data_features)\n",
    "proba_one_valid_RandomF_up = proba_RandomF_up[:,1]\n",
    "fpr, tpr, thresholds = roc_curve(valid_data_target, proba_one_valid_RandomF_up)\n",
    "roc_auc_RandomF_up = roc_auc_score(valid_data_target, proba_one_valid_RandomF_up)\n",
    "\n",
    "plt.figure(figsize=(10,4))\n",
    "plt.plot([0,1],[0,1], linestyle='--')\n",
    "plt.plot(fpr, tpr)\n",
    "plt.xlim([0.0,1.0])\n",
    "plt.ylim([0.0,1.0])\n",
    "plt.xlabel('False Positive Rate')\n",
    "plt.ylabel('True Positive Rate')\n",
    "plt.title('Roc-curve | Random Forest')\n",
    "plt.show()\n",
    "\n",
    "print('AUC-ROC:',roc_auc_RandomF_up)"
   ]
  },
  {
   "cell_type": "markdown",
   "metadata": {},
   "source": [
    "#### Классификатор **Логистическая регресиия** upsampled"
   ]
  },
  {
   "cell_type": "code",
   "execution_count": 55,
   "metadata": {},
   "outputs": [
    {
     "name": "stdout",
     "output_type": "stream",
     "text": [
      "\u001b[1mЛучшее кол-во итерраций:\u001b[0m 2\n",
      "\u001b[1mЛучшая F1:\u001b[0m 0.49590163934426224\n"
     ]
    }
   ],
   "source": [
    "best_Logistic_model_up = None\n",
    "best_Logistic_iter_up = 0\n",
    "best_Logistic_accuracy_up = 0\n",
    "best_Logistic_f1_up = 0\n",
    "\n",
    "for itera in range(1,51):\n",
    "    Logistic_model_up = LogisticRegression(random_state=12345, class_weight='balanced',\n",
    "                                           max_iter = itera)\n",
    "    Logistic_model_up.fit(features_up, target_up)\n",
    "    prediction_valid_Logistic_up = Logistic_model_up.predict(valid_data_features)\n",
    "    Logistic_accuracy_up = accuracy_score(valid_data_target, prediction_valid_Logistic_up)\n",
    "    Logistic_f1_up = f1_score(valid_data_target, prediction_valid_Logistic_up)\n",
    "    #print('Кол-во итерраций', itera,'- F1 -', Logistic_f1_up)\n",
    "    if Logistic_f1_up > best_Logistic_f1_up:\n",
    "        best_Logistic_iter_up = itera\n",
    "        best_Logistic_accuracy_up = Logistic_accuracy_up\n",
    "        best_Logistic_model_up = Logistic_model_up\n",
    "        best_Logistic_f1_up = Logistic_f1_up\n",
    "        \n",
    "\n",
    "print('\\033[1mЛучшее кол-во итерраций:\\033[0m', best_Logistic_iter_up)\n",
    "print('\\033[1mЛучшая F1:\\033[0m', best_Logistic_f1_up)"
   ]
  },
  {
   "cell_type": "code",
   "execution_count": 56,
   "metadata": {},
   "outputs": [
    {
     "data": {
      "text/plain": [
       "LogisticRegression(C=1.0, class_weight='balanced', dual=False,\n",
       "                   fit_intercept=True, intercept_scaling=1, l1_ratio=None,\n",
       "                   max_iter=2, multi_class='warn', n_jobs=None, penalty='l2',\n",
       "                   random_state=12345, solver='warn', tol=0.0001, verbose=0,\n",
       "                   warm_start=False)"
      ]
     },
     "execution_count": 56,
     "metadata": {},
     "output_type": "execute_result"
    }
   ],
   "source": [
    "best_Logistic_model_up"
   ]
  },
  {
   "cell_type": "code",
   "execution_count": 57,
   "metadata": {},
   "outputs": [
    {
     "name": "stdout",
     "output_type": "stream",
     "text": [
      "\u001b[1mTочность:\u001b[0m 0.693939393939394\n",
      "\u001b[1mF1:\u001b[0m 0.48205128205128206\n"
     ]
    }
   ],
   "source": [
    "Logistic_model_up = LogisticRegression(class_weight='balanced', max_iter=2,\n",
    "                                       solver='saga', random_state=12345)\n",
    "Logistic_model_up.fit(features_up, target_up)\n",
    "prediction_up = Logistic_model_up.predict(valid_data_features)\n",
    "Logistic_accuracy_up = accuracy_score(valid_data_target, prediction_up)\n",
    "Logistic_f1_up = f1_score(valid_data_target, prediction_up)\n",
    "     \n",
    "print('\\033[1mTочность:\\033[0m', Logistic_accuracy_up)\n",
    "print('\\033[1mF1:\\033[0m', Logistic_f1_up)"
   ]
  },
  {
   "cell_type": "code",
   "execution_count": 58,
   "metadata": {},
   "outputs": [
    {
     "name": "stdout",
     "output_type": "stream",
     "text": [
      "LogisticRegression(C=1.0, class_weight='balanced', dual=False,\n",
      "                   fit_intercept=True, intercept_scaling=1, l1_ratio=None,\n",
      "                   max_iter=2, multi_class='warn', n_jobs=None, penalty='l2',\n",
      "                   random_state=12345, solver='warn', tol=0.0001, verbose=0,\n",
      "                   warm_start=False)\n",
      "\u001b[1mЛучшая F1:\u001b[0m 0.49590163934426224\n"
     ]
    }
   ],
   "source": [
    "print(best_Logistic_model_up)\n",
    "print('\\033[1mЛучшая F1:\\033[0m', best_Logistic_f1_up)"
   ]
  },
  {
   "cell_type": "markdown",
   "metadata": {},
   "source": [
    "- метрика **AUC-ROC** для классификатора **Логическая регрессия**"
   ]
  },
  {
   "cell_type": "code",
   "execution_count": 59,
   "metadata": {},
   "outputs": [
    {
     "data": {
      "image/png": "[encoded data removed]",
      "text/plain": [
       "<Figure size 720x288 with 1 Axes>"
      ]
     },
     "metadata": {},
     "output_type": "display_data"
    },
    {
     "name": "stdout",
     "output_type": "stream",
     "text": [
      "AUC-ROC: 0.7538493059914906\n"
     ]
    }
   ],
   "source": [
    "proba_Logistic_up = Logistic_model_up.predict_proba(valid_data_features)\n",
    "proba_one_valid_Logistic_up = proba_Logistic_up[:,1]\n",
    "fpr, tpr, thresholds = roc_curve(valid_data_target, proba_one_valid_Logistic_up)\n",
    "roc_auc_Logistic_up = roc_auc_score(valid_data_target, proba_one_valid_Logistic_up)\n",
    "\n",
    "plt.figure(figsize=(10,4))\n",
    "plt.plot([0,1],[0,1], linestyle='--')\n",
    "plt.plot(fpr, tpr)\n",
    "plt.xlim([0.0,1.0])\n",
    "plt.ylim([0.0,1.0])\n",
    "plt.xlabel('False Positive Rate')\n",
    "plt.ylabel('True Positive Rate')\n",
    "plt.title('Roc-curve | Logistic Regression')\n",
    "plt.show()\n",
    "\n",
    "print('AUC-ROC:', roc_auc_Logistic_up)"
   ]
  },
  {
   "cell_type": "code",
   "execution_count": 60,
   "metadata": {},
   "outputs": [
    {
     "name": "stdout",
     "output_type": "stream",
     "text": [
      "Upsampled data\n",
      "DTree - F1: 0.6055276381909548 - AUC-ROC: 0.8382049068842853\n",
      "RandomF - F1: 0.6327543424317618 - AUC-ROC: 0.8567757376020086\n",
      "Logistic - F1: 0.49590163934426224 - AUC-ROC: 0.7538493059914906\n"
     ]
    }
   ],
   "source": [
    "print('Upsampled data')\n",
    "print('DTree - F1:',best_DTree_f1_up, '- AUC-ROC:', roc_auc_DTree_up)\n",
    "print('RandomF - F1:',best_RandomF_f1_up,'- AUC-ROC:', roc_auc_RandomF_up)\n",
    "print('Logistic - F1:',best_Logistic_f1_up,'- AUC-ROC:', roc_auc_Logistic_up)"
   ]
  },
  {
   "cell_type": "markdown",
   "metadata": {},
   "source": [
    "**Промежуточные выводы:** На увеличенной выборке наилучшие показатели продемонстрировал классификатор Случайного леса - F1: 0.632, AUC-ROC: 0.856."
   ]
  },
  {
   "cell_type": "markdown",
   "metadata": {},
   "source": [
    "### Downsampled"
   ]
  },
  {
   "cell_type": "markdown",
   "metadata": {},
   "source": [
    "#### Классификатор **Древо решений** downsampled"
   ]
  },
  {
   "cell_type": "code",
   "execution_count": 61,
   "metadata": {},
   "outputs": [
    {
     "name": "stdout",
     "output_type": "stream",
     "text": [
      "\n",
      "\u001b[1mЛучшая глубина дерева:\u001b[0m 3\n",
      "\u001b[1mЛучшая accuracy:\u001b[0m 0.8066666666666666\n",
      "\u001b[1mЛучшая F1:\u001b[0m 0.572958500669344\n"
     ]
    }
   ],
   "source": [
    "best_DTree_model_down = None\n",
    "best_DTree_accuracy_down = 0\n",
    "best_DTree_depth_down = 0\n",
    "best_DTree_f1_down = 0\n",
    "\n",
    "for depth in range(1,51,1):\n",
    "    DTree_model_down = DecisionTreeClassifier(random_state=12345,\n",
    "                                              max_depth = depth, class_weight='balanced')\n",
    "    DTree_model_down.fit(features_down, target_down)\n",
    "    predictions_valid_DTree_down =  DTree_model_down.predict(valid_data_features)\n",
    "    DTree_accuracy_down = accuracy_score(valid_data_target, predictions_valid_DTree_down)\n",
    "    DTree_f1_down = f1_score(valid_data_target, predictions_valid_DTree_down)\n",
    "    #print('max_depth=', depth,':',end='')\n",
    "    #print(accuracy_score(valid_data_target, predictions_valid_DTree_down),end='')\n",
    "    #print('F1:',f1_score(valid_data_target, predictions_valid_DTree_down))\n",
    "   \n",
    "    if DTree_f1_down > best_DTree_f1_down:\n",
    "        best_DTree_depth_down = depth\n",
    "        best_DTree_accuracy_down = DTree_accuracy_down\n",
    "        best_DTree_model_down = DTree_model_down\n",
    "        best_DTree_f1_down = DTree_f1_down\n",
    "\n",
    "print()\n",
    "print('\\033[1mЛучшая глубина дерева:\\033[0m', best_DTree_depth_down) \n",
    "print('\\033[1mЛучшая accuracy:\\033[0m', best_DTree_accuracy_down)\n",
    "print('\\033[1mЛучшая F1:\\033[0m', best_DTree_f1_down)"
   ]
  },
  {
   "cell_type": "code",
   "execution_count": 62,
   "metadata": {},
   "outputs": [
    {
     "data": {
      "text/plain": [
       "DecisionTreeClassifier(class_weight='balanced', criterion='gini', max_depth=3,\n",
       "                       max_features=None, max_leaf_nodes=None,\n",
       "                       min_impurity_decrease=0.0, min_impurity_split=None,\n",
       "                       min_samples_leaf=1, min_samples_split=2,\n",
       "                       min_weight_fraction_leaf=0.0, presort=False,\n",
       "                       random_state=12345, splitter='best')"
      ]
     },
     "execution_count": 62,
     "metadata": {},
     "output_type": "execute_result"
    }
   ],
   "source": [
    "best_DTree_model_down"
   ]
  },
  {
   "cell_type": "code",
   "execution_count": 63,
   "metadata": {},
   "outputs": [
    {
     "name": "stdout",
     "output_type": "stream",
     "text": [
      "Глубина дерева: 3\n",
      "Accuracy при criterion = entropy : 0.8066666666666666\n",
      "F1 при criterion = entropy : 0.572958500669344\n"
     ]
    }
   ],
   "source": [
    "DTree_model_down = DecisionTreeClassifier(random_state=12345, max_depth = 3, \n",
    "                                          class_weight='balanced',criterion='entropy')\n",
    "DTree_model_down.fit(features_down, target_down)\n",
    "predictions_valid_DTree_down =  DTree_model_down.predict(valid_data_features)\n",
    "DTree_accuracy_down = accuracy_score(valid_data_target, predictions_valid_DTree_down)\n",
    "DTree_f1_down = f1_score(valid_data_target, predictions_valid_DTree_down)\n",
    "\n",
    "print('Глубина дерева: 3') \n",
    "print('Accuracy при criterion = entropy :', DTree_accuracy_down)\n",
    "print('F1 при criterion = entropy :', DTree_f1_down)"
   ]
  },
  {
   "cell_type": "code",
   "execution_count": 64,
   "metadata": {},
   "outputs": [
    {
     "name": "stdout",
     "output_type": "stream",
     "text": [
      "Глубина дерева: 3\n",
      "Accuracy при splitter = random : 0.6266666666666667\n",
      "F1 при splitter= random : 0.4430379746835443\n"
     ]
    }
   ],
   "source": [
    "DTree_model_down = DecisionTreeClassifier(random_state=12345, max_depth = 3, class_weight='balanced', splitter='random')\n",
    "DTree_model_down.fit(features_down, target_down)\n",
    "predictions_valid_DTree_down =  DTree_model_down.predict(valid_data_features)\n",
    "DTree_accuracy_down = accuracy_score(valid_data_target, predictions_valid_DTree_down)\n",
    "DTree_f1_down = f1_score(valid_data_target, predictions_valid_DTree_down)\n",
    "\n",
    "print('Глубина дерева: 3') \n",
    "print('Accuracy при splitter = random :', DTree_accuracy_down)\n",
    "print('F1 при splitter= random :', DTree_f1_down)"
   ]
  },
  {
   "cell_type": "markdown",
   "metadata": {},
   "source": [
    "- метрика **AUC-ROC** для классификатора **Древо решений**"
   ]
  },
  {
   "cell_type": "code",
   "execution_count": 65,
   "metadata": {},
   "outputs": [
    {
     "data": {
      "image/png": "[encoded data removed]",
      "text/plain": [
       "<Figure size 720x288 with 1 Axes>"
      ]
     },
     "metadata": {},
     "output_type": "display_data"
    },
    {
     "name": "stdout",
     "output_type": "stream",
     "text": [
      "AUC-ROC: 0.7956936161679571\n"
     ]
    }
   ],
   "source": [
    "proba_DTree_down = best_DTree_model_down.predict_proba(valid_data_features)\n",
    "proba_one_valid_DTree_down = proba_DTree_down[:,1]\n",
    "fpr, tpr, thresholds = roc_curve(valid_data_target, proba_one_valid_DTree_down)\n",
    "roc_auc_DTree_down = roc_auc_score(valid_data_target, proba_one_valid_DTree_down)\n",
    "\n",
    "sns.set(palette='mako', context='talk',style='darkgrid')\n",
    "plt.figure(figsize=(10,4))\n",
    "plt.plot([0,1],[0,1], linestyle='--')\n",
    "plt.plot(fpr, tpr)\n",
    "plt.xlim([0.0,1.0])\n",
    "plt.ylim([0.0,1.0])\n",
    "plt.xlabel('False Positive Rate')\n",
    "plt.ylabel('True Positive Rate')\n",
    "plt.title('Roc-curve | Decision Tree')\n",
    "plt.show()\n",
    "\n",
    "print('AUC-ROC:', roc_auc_DTree_down)"
   ]
  },
  {
   "cell_type": "markdown",
   "metadata": {},
   "source": [
    "#### Классификатор **Случайный Лес** downsampled"
   ]
  },
  {
   "cell_type": "code",
   "execution_count": 66,
   "metadata": {},
   "outputs": [
    {
     "name": "stdout",
     "output_type": "stream",
     "text": [
      "\u001b[1mГлубина дерева\u001b[0m - лучшая показатель: 5\n",
      "\u001b[1mAccuracy\u001b[0m - лучшая показатель: 0.7824242424242425\n",
      "\u001b[1mEstim\u001b[0m - лучшая показатель: 60\n",
      "\u001b[1mF1\u001b[0m - лучшая показатель: 0.6015538290788013\n"
     ]
    }
   ],
   "source": [
    "best_RandomF_model_down = None\n",
    "best_RandomF_accuracy_down = 0\n",
    "best_RandomF_estim_down = 0\n",
    "best_RandomF_depth_down = 0\n",
    "best_RandomF_f1_down = 0\n",
    "\n",
    "\n",
    "for est in range(10,101,10):\n",
    "    for depth in range(1,11):\n",
    "        RandomF_model_down = RandomForestClassifier(class_weight='balanced', random_state=12345, n_estimators = est, max_depth=depth)\n",
    "        RandomF_model_down.fit(features_down, target_down)\n",
    "        prediction_valid_RandomF_down = RandomF_model_down.predict(valid_data_features)\n",
    "        RandomF_accuracy_down = accuracy_score(valid_data_target, prediction_valid_RandomF_down)\n",
    "        RandomF_f1_down = f1_score(valid_data_target, prediction_valid_RandomF_down)\n",
    "        #print('max_depth=', depth,'- est - ', est, '- F1 -', RandomF_f1_down)\n",
    "        if RandomF_f1_down > best_RandomF_f1_down:\n",
    "            best_RandomF_accuracy_down = RandomF_accuracy_down\n",
    "            best_RandomF_estim_down = est\n",
    "            best_RandomF_depth_down = depth\n",
    "            best_RandomF_model_down = RandomF_model_down\n",
    "            best_RandomF_f1_down = RandomF_f1_down\n",
    "\n",
    "\n",
    "print('\\033[1mГлубина дерева\\033[0m - лучшая показатель:', best_RandomF_depth_down) \n",
    "print('\\033[1mAccuracy\\033[0m - лучшая показатель:', best_RandomF_accuracy_down)\n",
    "print('\\033[1mEstim\\033[0m - лучшая показатель:', best_RandomF_estim_down)\n",
    "print('\\033[1mF1\\033[0m - лучшая показатель:', best_RandomF_f1_down)"
   ]
  },
  {
   "cell_type": "code",
   "execution_count": 67,
   "metadata": {},
   "outputs": [
    {
     "data": {
      "text/plain": [
       "RandomForestClassifier(bootstrap=True, class_weight='balanced',\n",
       "                       criterion='gini', max_depth=5, max_features='auto',\n",
       "                       max_leaf_nodes=None, min_impurity_decrease=0.0,\n",
       "                       min_impurity_split=None, min_samples_leaf=1,\n",
       "                       min_samples_split=2, min_weight_fraction_leaf=0.0,\n",
       "                       n_estimators=60, n_jobs=None, oob_score=False,\n",
       "                       random_state=12345, verbose=0, warm_start=False)"
      ]
     },
     "execution_count": 67,
     "metadata": {},
     "output_type": "execute_result"
    }
   ],
   "source": [
    "best_RandomF_model_down"
   ]
  },
  {
   "cell_type": "code",
   "execution_count": 68,
   "metadata": {},
   "outputs": [
    {
     "name": "stdout",
     "output_type": "stream",
     "text": [
      "Глубина дерева: 5\n",
      "Estim: 60\n",
      "Accuracy при criterion = entropy : 0.7878787878787878\n",
      "F1 при criterion = entropy : 0.6013667425968109\n"
     ]
    }
   ],
   "source": [
    "RandomF_model_down = RandomForestClassifier(class_weight='balanced', random_state=12345, \n",
    "                                            criterion='entropy', \n",
    "                                            n_estimators = 60, max_depth=5)\n",
    "RandomF_model_down.fit(features_down, target_down)\n",
    "prediction_valid_RandomF_down = RandomF_model_down.predict(valid_data_features)\n",
    "RandomF_accuracy_down = accuracy_score(valid_data_target, prediction_valid_RandomF_down)\n",
    "RandomF_f1_down = f1_score(valid_data_target, prediction_valid_RandomF_down)\n",
    "\n",
    "print('Глубина дерева: 5') \n",
    "print('Estim: 60')\n",
    "print('Accuracy при criterion = entropy :',RandomF_accuracy_down)\n",
    "print('F1 при criterion = entropy :',RandomF_f1_down)"
   ]
  },
  {
   "cell_type": "code",
   "execution_count": 69,
   "metadata": {},
   "outputs": [
    {
     "name": "stdout",
     "output_type": "stream",
     "text": [
      "Глубина дерева: 5\n",
      "Estim: 60\n",
      "Accuracy при bootstrap= False : 0.7854545454545454\n",
      "F1 при bootstrap= False : 0.5968109339407744\n"
     ]
    }
   ],
   "source": [
    "RandomF_model_down = RandomForestClassifier(class_weight='balanced', \n",
    "                                            random_state=12345, bootstrap=False, \n",
    "                                            n_estimators = 60, max_depth=5)\n",
    "RandomF_model_down.fit(features_down, target_down)\n",
    "prediction_valid_RandomF_down = RandomF_model_down.predict(valid_data_features)\n",
    "RandomF_accuracy_down = accuracy_score(valid_data_target, prediction_valid_RandomF_down)\n",
    "RandomF_f1_down = f1_score(valid_data_target, prediction_valid_RandomF_down)\n",
    "\n",
    "print('Глубина дерева: 5') \n",
    "print('Estim: 60')\n",
    "print('Accuracy при bootstrap= False :',RandomF_accuracy_down)\n",
    "print('F1 при bootstrap= False :',RandomF_f1_down)"
   ]
  },
  {
   "cell_type": "markdown",
   "metadata": {},
   "source": [
    "- метрика **AUC-ROC** для классификатора **Случайный лес**"
   ]
  },
  {
   "cell_type": "code",
   "execution_count": 70,
   "metadata": {},
   "outputs": [
    {
     "data": {
      "image/png": "[encoded data removed]",
      "text/plain": [
       "<Figure size 720x288 with 1 Axes>"
      ]
     },
     "metadata": {},
     "output_type": "display_data"
    },
    {
     "name": "stdout",
     "output_type": "stream",
     "text": [
      "AUC-ROC: 0.8474140336193067\n"
     ]
    }
   ],
   "source": [
    "proba_RandomF_down = best_RandomF_model_down.predict_proba(valid_data_features)\n",
    "proba_one_valid_RandomF_down = proba_RandomF_down[:,1]\n",
    "fpr, tpr, thresholds = roc_curve(valid_data_target, proba_one_valid_RandomF_down)\n",
    "roc_auc_RandomF_down = roc_auc_score(valid_data_target, proba_one_valid_RandomF_down)\n",
    "\n",
    "plt.figure(figsize=(10,4))\n",
    "plt.plot([0,1],[0,1], linestyle='--')\n",
    "plt.plot(fpr, tpr)\n",
    "plt.xlim([0.0,1.0])\n",
    "plt.ylim([0.0,1.0])\n",
    "plt.xlabel('False Positive Rate')\n",
    "plt.ylabel('True Positive Rate')\n",
    "plt.title('Roc-curve | Random Forest')\n",
    "plt.show()\n",
    "\n",
    "print('AUC-ROC:',roc_auc_RandomF_down)"
   ]
  },
  {
   "cell_type": "markdown",
   "metadata": {},
   "source": [
    "#### Классификатор **Логистическая Регресиия** downsampled"
   ]
  },
  {
   "cell_type": "code",
   "execution_count": 71,
   "metadata": {},
   "outputs": [
    {
     "name": "stdout",
     "output_type": "stream",
     "text": [
      "\u001b[1mЛучшее кол-во итерраций:\u001b[0m 3\n",
      "\u001b[1mЛучшая F1:\u001b[0m 0.48310139165009947\n"
     ]
    }
   ],
   "source": [
    "best_Logistic_model_down = None\n",
    "best_Logistic_iter_down = 0\n",
    "best_Logistic_accuracy_down = 0\n",
    "best_Logistic_f1_down = 0\n",
    "\n",
    "for max_iter in range(1,101):\n",
    "    Logistic_model_down = LogisticRegression(class_weight='balanced', \n",
    "                                             random_state=123456, max_iter=max_iter)\n",
    "    Logistic_model_down.fit(features_down, target_down)\n",
    "    prediction_valid_Logistic_down = Logistic_model_down.predict(valid_data_features)\n",
    "    Logistic_accuracy_down = accuracy_score(valid_data_target, prediction_valid_Logistic_down)\n",
    "    Logistic_f1_down = f1_score(valid_data_target, prediction_valid_Logistic_down)\n",
    "    #print('Кол-во итерраций', max_iter,'- F1 -', Logistic_f1_down)\n",
    "    if Logistic_f1_down > best_Logistic_f1_down:\n",
    "        best_Logistic_iter_down = max_iter\n",
    "        best_Logistic_accuracy_down = Logistic_accuracy_down\n",
    "        best_Logistic_model_down = Logistic_model_down\n",
    "        best_Logistic_f1_down = Logistic_f1_down\n",
    "\n",
    "print('\\033[1mЛучшее кол-во итерраций:\\033[0m', best_Logistic_iter_down)\n",
    "print('\\033[1mЛучшая F1:\\033[0m', best_Logistic_f1_down)"
   ]
  },
  {
   "cell_type": "code",
   "execution_count": 72,
   "metadata": {},
   "outputs": [
    {
     "data": {
      "text/plain": [
       "LogisticRegression(C=1.0, class_weight='balanced', dual=False,\n",
       "                   fit_intercept=True, intercept_scaling=1, l1_ratio=None,\n",
       "                   max_iter=3, multi_class='warn', n_jobs=None, penalty='l2',\n",
       "                   random_state=123456, solver='warn', tol=0.0001, verbose=0,\n",
       "                   warm_start=False)"
      ]
     },
     "execution_count": 72,
     "metadata": {},
     "output_type": "execute_result"
    }
   ],
   "source": [
    "best_Logistic_model_down"
   ]
  },
  {
   "cell_type": "markdown",
   "metadata": {},
   "source": [
    "- метрика **AUC-ROC** для классификатора **Логическая регрессия**"
   ]
  },
  {
   "cell_type": "code",
   "execution_count": 73,
   "metadata": {},
   "outputs": [
    {
     "data": {
      "image/png": "[encoded data removed]",
      "text/plain": [
       "<Figure size 720x288 with 1 Axes>"
      ]
     },
     "metadata": {},
     "output_type": "display_data"
    },
    {
     "name": "stdout",
     "output_type": "stream",
     "text": [
      "AUC-ROC: 0.760643352863221\n"
     ]
    }
   ],
   "source": [
    "proba_Logistic_down = Logistic_model_down.predict_proba(valid_data_features)\n",
    "proba_one_valid_Logistic_down = proba_Logistic_down[:,1]\n",
    "fpr, tpr, thresholds = roc_curve(valid_data_target, proba_one_valid_Logistic_down)\n",
    "roc_auc_Logistic_down = roc_auc_score(valid_data_target, proba_one_valid_Logistic_down)\n",
    "\n",
    "plt.figure(figsize=(10,4))\n",
    "plt.plot([0,1],[0,1], linestyle='--')\n",
    "plt.plot(fpr, tpr)\n",
    "plt.xlim([0.0,1.0])\n",
    "plt.ylim([0.0,1.0])\n",
    "plt.xlabel('False Positive Rate')\n",
    "plt.ylabel('True Positive Rate')\n",
    "plt.title('Roc-curve | Logistic Regression')\n",
    "plt.show()\n",
    "\n",
    "print('AUC-ROC:', roc_auc_Logistic_down)"
   ]
  },
  {
   "cell_type": "code",
   "execution_count": 74,
   "metadata": {},
   "outputs": [
    {
     "name": "stdout",
     "output_type": "stream",
     "text": [
      "Downsampled vs Upsampled\n",
      "\n",
      "Случайный лес - F1: 0.6015538290788013 vs 0.6327543424317618\n",
      "Древо решений - F1: 0.572958500669344 vs 0.6055276381909548\n",
      "Логистическая регрессия - F1: 0.48310139165009947 vs 0.48205128205128206\n",
      "\n",
      "Случайный лес - AUC-ROC: 0.8474140336193067 vs 0.8567757376020086\n",
      "Древо решений - AUC-ROC: 0.7956936161679571 vs 0.8382049068842853\n",
      "Логистическая регрессия - AUC-ROC: 0.760643352863221 vs 0.7538493059914906\n"
     ]
    }
   ],
   "source": [
    "print('Downsampled vs Upsampled')\n",
    "print()\n",
    "print('Случайный лес - F1:', best_RandomF_f1_down, 'vs', best_RandomF_f1_up)\n",
    "print('Древо решений - F1:', best_DTree_f1_down, 'vs', best_DTree_f1_up)\n",
    "print('Логистическая регрессия - F1:', Logistic_f1_down, 'vs', Logistic_f1_up)\n",
    "print()\n",
    "print('Случайный лес - AUC-ROC:', roc_auc_RandomF_down, 'vs', roc_auc_RandomF_up)\n",
    "print('Древо решений - AUC-ROC:', roc_auc_DTree_down, 'vs', roc_auc_DTree_up)\n",
    "print('Логистическая регрессия - AUC-ROC:', roc_auc_Logistic_down, 'vs', roc_auc_Logistic_up)"
   ]
  },
  {
   "cell_type": "markdown",
   "metadata": {},
   "source": [
    "### Вывод"
   ]
  },
  {
   "cell_type": "markdown",
   "metadata": {},
   "source": [
    "Итак, после борьбы с дисбалансом, в нашем случае, наилучшие показатели у upsampling - увеличение выборки, а именно у классификатора Случайного Леса. Выберем её и прогоним через тестовую выборку."
   ]
  },
  {
   "cell_type": "markdown",
   "metadata": {},
   "source": [
    "## Тестирование модели"
   ]
  },
  {
   "cell_type": "markdown",
   "metadata": {},
   "source": [
    "- Класификатор **Случайный Лес** upsampled"
   ]
  },
  {
   "cell_type": "code",
   "execution_count": 75,
   "metadata": {},
   "outputs": [
    {
     "name": "stdout",
     "output_type": "stream",
     "text": [
      "F1 -  0.6209476309226933\n",
      "AUC-ROC - 0.7871818224963332\n"
     ]
    }
   ],
   "source": [
    "test_RandomF_model_up_predictions = best_RandomF_model_up.predict(test_data_features)\n",
    "test_RandomF_f1_up = f1_score(test_data_target, test_RandomF_model_up_predictions)\n",
    "test_RandomF_roc_auc_up = roc_auc_score(test_data_target, test_RandomF_model_up_predictions)\n",
    "print('F1 - ',test_RandomF_f1_up)\n",
    "print('AUC-ROC -',test_RandomF_roc_auc_up)"
   ]
  },
  {
   "cell_type": "markdown",
   "metadata": {},
   "source": [
    "Соединим тренировочную и валидационную выборки и проверим на тестовой выборке."
   ]
  },
  {
   "cell_type": "code",
   "execution_count": 76,
   "metadata": {},
   "outputs": [],
   "source": [
    "features_concat = pd.concat([train_data_features, valid_data_features])\n",
    "target_concat = pd.concat([train_data_target, valid_data_target])\n",
    "#target_concat.shape[0]"
   ]
  },
  {
   "cell_type": "code",
   "execution_count": 77,
   "metadata": {},
   "outputs": [
    {
     "name": "stdout",
     "output_type": "stream",
     "text": [
      "F1: 0.6074270557029178\n",
      "AUC-Roc: 0.7681708367138927\n"
     ]
    }
   ],
   "source": [
    "test = best_RandomF_model_up.fit(features_concat, target_concat)\n",
    "predict = test.predict(test_data_features)\n",
    "test_f1 = f1_score(test_data_target, predict)\n",
    "test_roc_auc = roc_auc_score(test_data_target, predict)\n",
    "print('F1:',test_f1)\n",
    "print('AUC-Roc:',test_roc_auc)"
   ]
  },
  {
   "cell_type": "markdown",
   "metadata": {},
   "source": [
    "**Промежуточный вывод:** Классификатору Случайный Лес удалось превысить установленный порог F1-метрики 0.59."
   ]
  },
  {
   "cell_type": "markdown",
   "metadata": {},
   "source": [
    "## Вывод"
   ]
  },
  {
   "cell_type": "markdown",
   "metadata": {},
   "source": [
    "Для решение поставленной задачи, а именно - прогноз, уйдет ли клиент из банка в ближайшее время, мы подготовили и обработали данные для осущетслвения машинного обучения. Провели борьбу с дисбалансом и выбрали наилучшую модель. Классификатор Случайный Лес показал наилучшие результаты, как на валидационной, так и на тестовой выборке, и может быть рекомендован клиенту для осуществления прогноза."
   ]
  }
 ],
 "metadata": {
  "ExecuteTimeLog": [
   {
    "duration": 1415,
    "start_time": "2021-09-02T11:03:01.889Z"
   },
   {
    "duration": 48,
    "start_time": "2021-09-02T11:03:06.583Z"
   },
   {
    "duration": 9,
    "start_time": "2021-09-02T11:03:39.880Z"
   },
   {
    "duration": 224,
    "start_time": "2021-09-02T11:04:02.808Z"
   },
   {
    "duration": 40,
    "start_time": "2021-09-02T11:04:11.106Z"
   },
   {
    "duration": 5,
    "start_time": "2021-09-02T11:04:32.347Z"
   },
   {
    "duration": 21,
    "start_time": "2021-09-02T11:05:04.171Z"
   },
   {
    "duration": 8,
    "start_time": "2021-09-02T11:06:14.273Z"
   },
   {
    "duration": 17,
    "start_time": "2021-09-02T11:07:00.094Z"
   },
   {
    "duration": 784,
    "start_time": "2021-09-02T11:07:28.919Z"
   },
   {
    "duration": 62078,
    "start_time": "2021-09-02T11:39:25.894Z"
   },
   {
    "duration": 14,
    "start_time": "2021-09-02T13:06:42.246Z"
   },
   {
    "duration": 10,
    "start_time": "2021-09-02T13:06:56.063Z"
   },
   {
    "duration": 1257,
    "start_time": "2021-09-02T13:21:43.151Z"
   },
   {
    "duration": 868,
    "start_time": "2021-09-02T13:21:52.351Z"
   },
   {
    "duration": 686,
    "start_time": "2021-09-02T13:24:46.334Z"
   },
   {
    "duration": 11,
    "start_time": "2021-09-02T13:24:58.836Z"
   },
   {
    "duration": 8,
    "start_time": "2021-09-02T13:25:11.051Z"
   },
   {
    "duration": 11,
    "start_time": "2021-09-02T13:25:16.959Z"
   },
   {
    "duration": 11,
    "start_time": "2021-09-02T13:25:34.503Z"
   },
   {
    "duration": 10,
    "start_time": "2021-09-02T13:28:56.750Z"
   },
   {
    "duration": 11,
    "start_time": "2021-09-02T13:29:39.449Z"
   },
   {
    "duration": 12,
    "start_time": "2021-09-02T13:32:12.491Z"
   },
   {
    "duration": 32,
    "start_time": "2021-09-02T13:33:30.735Z"
   },
   {
    "duration": 2348,
    "start_time": "2021-09-02T13:33:31.629Z"
   },
   {
    "duration": 3288,
    "start_time": "2021-09-02T13:34:09.548Z"
   },
   {
    "duration": 2528,
    "start_time": "2021-09-02T13:34:21.988Z"
   },
   {
    "duration": 1634,
    "start_time": "2021-09-03T13:02:40.387Z"
   },
   {
    "duration": 67,
    "start_time": "2021-09-03T13:02:42.023Z"
   },
   {
    "duration": 11,
    "start_time": "2021-09-03T13:02:42.093Z"
   },
   {
    "duration": 84,
    "start_time": "2021-09-03T13:02:42.107Z"
   },
   {
    "duration": 7,
    "start_time": "2021-09-03T13:02:42.193Z"
   },
   {
    "duration": 53,
    "start_time": "2021-09-03T13:02:42.203Z"
   },
   {
    "duration": 9,
    "start_time": "2021-09-03T13:02:42.258Z"
   },
   {
    "duration": 1213,
    "start_time": "2021-09-03T13:02:42.270Z"
   },
   {
    "duration": 91593,
    "start_time": "2021-09-03T13:02:43.485Z"
   },
   {
    "duration": 17,
    "start_time": "2021-09-03T13:04:15.081Z"
   },
   {
    "duration": 59,
    "start_time": "2021-09-03T13:04:15.101Z"
   },
   {
    "duration": 15,
    "start_time": "2021-09-03T13:04:15.162Z"
   },
   {
    "duration": 17,
    "start_time": "2021-09-03T13:04:15.179Z"
   },
   {
    "duration": 9,
    "start_time": "2021-09-03T13:12:51.872Z"
   },
   {
    "duration": 530,
    "start_time": "2021-09-03T13:13:19.120Z"
   },
   {
    "duration": 316,
    "start_time": "2021-09-03T13:13:27.145Z"
   },
   {
    "duration": 1601,
    "start_time": "2021-09-04T11:44:06.832Z"
   },
   {
    "duration": 66,
    "start_time": "2021-09-04T11:44:08.436Z"
   },
   {
    "duration": 13,
    "start_time": "2021-09-04T11:44:08.509Z"
   },
   {
    "duration": 95,
    "start_time": "2021-09-04T11:44:08.738Z"
   },
   {
    "duration": 9,
    "start_time": "2021-09-04T11:44:10.352Z"
   },
   {
    "duration": 33,
    "start_time": "2021-09-04T11:44:10.628Z"
   },
   {
    "duration": 461,
    "start_time": "2021-09-04T11:44:57.434Z"
   },
   {
    "duration": 30,
    "start_time": "2021-09-04T11:45:07.109Z"
   },
   {
    "duration": 9,
    "start_time": "2021-09-04T11:45:07.263Z"
   },
   {
    "duration": 1342,
    "start_time": "2021-09-04T11:45:07.438Z"
   },
   {
    "duration": 283,
    "start_time": "2021-09-04T11:45:08.783Z"
   },
   {
    "duration": 16,
    "start_time": "2021-09-04T11:45:18.752Z"
   },
   {
    "duration": 14,
    "start_time": "2021-09-04T11:45:18.934Z"
   },
   {
    "duration": 20,
    "start_time": "2021-09-04T11:45:19.122Z"
   },
   {
    "duration": 15,
    "start_time": "2021-09-04T11:45:19.342Z"
   },
   {
    "duration": 9,
    "start_time": "2021-09-04T11:45:20.160Z"
   },
   {
    "duration": 320,
    "start_time": "2021-09-04T11:45:21.850Z"
   },
   {
    "duration": 777,
    "start_time": "2021-09-04T11:46:36.426Z"
   },
   {
    "duration": 6,
    "start_time": "2021-09-04T11:50:16.336Z"
   },
   {
    "duration": 7,
    "start_time": "2021-09-04T11:50:23.970Z"
   },
   {
    "duration": 9,
    "start_time": "2021-09-04T11:51:01.421Z"
   },
   {
    "duration": 7,
    "start_time": "2021-09-04T11:51:49.116Z"
   },
   {
    "duration": 9,
    "start_time": "2021-09-04T11:51:54.626Z"
   },
   {
    "duration": 8,
    "start_time": "2021-09-04T11:55:17.126Z"
   },
   {
    "duration": 33,
    "start_time": "2021-09-04T11:55:33.048Z"
   },
   {
    "duration": 361,
    "start_time": "2021-09-04T11:55:49.002Z"
   },
   {
    "duration": 29,
    "start_time": "2021-09-04T11:55:57.863Z"
   },
   {
    "duration": 398,
    "start_time": "2021-09-04T11:56:01.405Z"
   },
   {
    "duration": 10,
    "start_time": "2021-09-04T12:07:31.288Z"
   },
   {
    "duration": 347,
    "start_time": "2021-09-04T12:09:10.147Z"
   },
   {
    "duration": 12,
    "start_time": "2021-09-04T12:09:17.040Z"
   },
   {
    "duration": 12,
    "start_time": "2021-09-04T12:09:23.246Z"
   },
   {
    "duration": 92,
    "start_time": "2021-09-04T12:09:29.890Z"
   },
   {
    "duration": 9,
    "start_time": "2021-09-04T12:09:33.512Z"
   },
   {
    "duration": 9,
    "start_time": "2021-09-04T12:09:42.189Z"
   },
   {
    "duration": 9,
    "start_time": "2021-09-04T12:09:45.510Z"
   },
   {
    "duration": 9,
    "start_time": "2021-09-04T12:09:50.624Z"
   },
   {
    "duration": 36,
    "start_time": "2021-09-04T12:14:13.088Z"
   },
   {
    "duration": 10,
    "start_time": "2021-09-04T12:14:24.048Z"
   },
   {
    "duration": 40,
    "start_time": "2021-09-04T12:14:34.528Z"
   },
   {
    "duration": 14,
    "start_time": "2021-09-04T12:14:34.874Z"
   },
   {
    "duration": 1378,
    "start_time": "2021-09-04T12:14:36.594Z"
   },
   {
    "duration": 22,
    "start_time": "2021-09-04T12:14:37.975Z"
   },
   {
    "duration": 12,
    "start_time": "2021-09-04T12:14:38.000Z"
   },
   {
    "duration": 55,
    "start_time": "2021-09-04T12:14:38.015Z"
   },
   {
    "duration": 17,
    "start_time": "2021-09-04T12:14:41.994Z"
   },
   {
    "duration": 9,
    "start_time": "2021-09-04T12:14:42.612Z"
   },
   {
    "duration": 302,
    "start_time": "2021-09-04T12:14:44.530Z"
   },
   {
    "duration": 12,
    "start_time": "2021-09-04T12:15:00.089Z"
   },
   {
    "duration": 1524,
    "start_time": "2021-09-04T12:15:12.497Z"
   },
   {
    "duration": 69,
    "start_time": "2021-09-04T12:15:14.024Z"
   },
   {
    "duration": 12,
    "start_time": "2021-09-04T12:15:14.097Z"
   },
   {
    "duration": 61,
    "start_time": "2021-09-04T12:15:19.545Z"
   },
   {
    "duration": 7,
    "start_time": "2021-09-04T12:15:21.863Z"
   },
   {
    "duration": 32,
    "start_time": "2021-09-04T12:15:24.338Z"
   },
   {
    "duration": 9,
    "start_time": "2021-09-04T12:15:24.811Z"
   },
   {
    "duration": 37,
    "start_time": "2021-09-04T12:15:42.629Z"
   },
   {
    "duration": 9,
    "start_time": "2021-09-04T12:15:44.756Z"
   },
   {
    "duration": 9,
    "start_time": "2021-09-04T12:16:07.660Z"
   },
   {
    "duration": 35,
    "start_time": "2021-09-04T12:16:48.033Z"
   },
   {
    "duration": 9,
    "start_time": "2021-09-04T12:16:50.395Z"
   },
   {
    "duration": 1507,
    "start_time": "2021-09-04T12:17:18.114Z"
   },
   {
    "duration": 65,
    "start_time": "2021-09-04T12:17:19.624Z"
   },
   {
    "duration": 11,
    "start_time": "2021-09-04T12:17:19.692Z"
   },
   {
    "duration": 83,
    "start_time": "2021-09-04T12:17:19.706Z"
   },
   {
    "duration": 7,
    "start_time": "2021-09-04T12:17:19.792Z"
   },
   {
    "duration": 37,
    "start_time": "2021-09-04T12:17:19.801Z"
   },
   {
    "duration": 32,
    "start_time": "2021-09-04T12:17:19.840Z"
   },
   {
    "duration": 21,
    "start_time": "2021-09-04T12:17:19.876Z"
   },
   {
    "duration": 1380,
    "start_time": "2021-09-04T12:17:19.994Z"
   },
   {
    "duration": 17,
    "start_time": "2021-09-04T12:17:21.377Z"
   },
   {
    "duration": 14,
    "start_time": "2021-09-04T12:17:21.397Z"
   },
   {
    "duration": 24,
    "start_time": "2021-09-04T12:17:21.413Z"
   },
   {
    "duration": 16,
    "start_time": "2021-09-04T12:17:21.468Z"
   },
   {
    "duration": 8,
    "start_time": "2021-09-04T12:17:21.487Z"
   },
   {
    "duration": 334,
    "start_time": "2021-09-04T12:17:21.498Z"
   },
   {
    "duration": 36,
    "start_time": "2021-09-04T12:24:07.392Z"
   },
   {
    "duration": 11,
    "start_time": "2021-09-04T12:30:44.392Z"
   },
   {
    "duration": 19,
    "start_time": "2021-09-04T12:30:53.567Z"
   },
   {
    "duration": 448,
    "start_time": "2021-09-04T12:31:59.026Z"
   },
   {
    "duration": 9,
    "start_time": "2021-09-04T12:32:04.824Z"
   },
   {
    "duration": 19,
    "start_time": "2021-09-04T12:33:19.884Z"
   },
   {
    "duration": 94,
    "start_time": "2021-09-04T12:33:53.601Z"
   },
   {
    "duration": 36,
    "start_time": "2021-09-04T12:33:57.469Z"
   },
   {
    "duration": 125927,
    "start_time": "2021-09-04T12:34:56.642Z"
   },
   {
    "duration": 2334,
    "start_time": "2021-09-04T12:38:14.328Z"
   },
   {
    "duration": 1090,
    "start_time": "2021-09-04T12:40:12.577Z"
   },
   {
    "duration": 605,
    "start_time": "2021-09-04T12:40:47.081Z"
   },
   {
    "duration": 621,
    "start_time": "2021-09-04T12:41:02.714Z"
   },
   {
    "duration": 833,
    "start_time": "2021-09-04T12:41:16.248Z"
   },
   {
    "duration": 553,
    "start_time": "2021-09-04T12:41:33.608Z"
   },
   {
    "duration": 552,
    "start_time": "2021-09-04T12:41:52.737Z"
   },
   {
    "duration": 574,
    "start_time": "2021-09-04T12:42:12.938Z"
   },
   {
    "duration": 550,
    "start_time": "2021-09-04T12:42:20.497Z"
   },
   {
    "duration": 398,
    "start_time": "2021-09-04T12:43:10.492Z"
   },
   {
    "duration": 418,
    "start_time": "2021-09-04T12:43:22.058Z"
   },
   {
    "duration": 17,
    "start_time": "2021-09-04T12:45:21.959Z"
   },
   {
    "duration": 9,
    "start_time": "2021-09-04T12:52:09.036Z"
   },
   {
    "duration": 8,
    "start_time": "2021-09-04T12:52:34.116Z"
   },
   {
    "duration": 17,
    "start_time": "2021-09-04T12:54:07.109Z"
   },
   {
    "duration": 17,
    "start_time": "2021-09-04T12:54:18.748Z"
   },
   {
    "duration": 7,
    "start_time": "2021-09-04T12:56:13.755Z"
   },
   {
    "duration": 19,
    "start_time": "2021-09-04T12:56:43.769Z"
   },
   {
    "duration": 19,
    "start_time": "2021-09-04T12:56:58.158Z"
   },
   {
    "duration": 19,
    "start_time": "2021-09-04T12:57:32.872Z"
   },
   {
    "duration": 13,
    "start_time": "2021-09-04T13:00:27.082Z"
   },
   {
    "duration": 102,
    "start_time": "2021-09-04T13:01:42.975Z"
   },
   {
    "duration": 125,
    "start_time": "2021-09-04T13:02:04.390Z"
   },
   {
    "duration": 99,
    "start_time": "2021-09-04T13:02:24.096Z"
   },
   {
    "duration": 15,
    "start_time": "2021-09-04T13:02:33.249Z"
   },
   {
    "duration": 14,
    "start_time": "2021-09-04T13:02:55.033Z"
   },
   {
    "duration": 14,
    "start_time": "2021-09-04T13:03:36.469Z"
   },
   {
    "duration": 10,
    "start_time": "2021-09-04T13:04:56.043Z"
   },
   {
    "duration": 426,
    "start_time": "2021-09-04T13:05:36.560Z"
   },
   {
    "duration": 644,
    "start_time": "2021-09-04T13:10:58.267Z"
   },
   {
    "duration": 43,
    "start_time": "2021-09-04T13:11:00.180Z"
   },
   {
    "duration": 4013,
    "start_time": "2021-09-04T13:11:03.109Z"
   },
   {
    "duration": 6,
    "start_time": "2021-09-04T13:12:46.721Z"
   },
   {
    "duration": 495,
    "start_time": "2021-09-04T13:13:09.382Z"
   },
   {
    "duration": 420,
    "start_time": "2021-09-04T13:13:32.270Z"
   },
   {
    "duration": 427,
    "start_time": "2021-09-04T13:13:40.448Z"
   },
   {
    "duration": 19076,
    "start_time": "2021-09-04T13:14:10.337Z"
   },
   {
    "duration": 6,
    "start_time": "2021-09-04T13:15:01.294Z"
   },
   {
    "duration": 370,
    "start_time": "2021-09-04T13:15:36.789Z"
   },
   {
    "duration": 547,
    "start_time": "2021-09-04T13:16:07.737Z"
   },
   {
    "duration": 26433,
    "start_time": "2021-09-04T13:16:41.836Z"
   },
   {
    "duration": 10111,
    "start_time": "2021-09-04T13:19:34.422Z"
   },
   {
    "duration": 4130,
    "start_time": "2021-09-04T13:19:49.528Z"
   },
   {
    "duration": 42,
    "start_time": "2021-09-04T13:21:18.697Z"
   },
   {
    "duration": 52,
    "start_time": "2021-09-04T13:21:19.691Z"
   },
   {
    "duration": 42,
    "start_time": "2021-09-04T13:21:44.839Z"
   },
   {
    "duration": 392,
    "start_time": "2021-09-04T13:27:12.513Z"
   },
   {
    "duration": 3937,
    "start_time": "2021-09-04T13:27:22.088Z"
   },
   {
    "duration": 3948,
    "start_time": "2021-09-04T13:28:10.719Z"
   },
   {
    "duration": 115,
    "start_time": "2021-09-04T13:28:38.897Z"
   },
   {
    "duration": 4135,
    "start_time": "2021-09-04T13:28:45.234Z"
   },
   {
    "duration": 3937,
    "start_time": "2021-09-04T13:29:24.150Z"
   },
   {
    "duration": 600,
    "start_time": "2021-09-04T13:31:37.816Z"
   },
   {
    "duration": 443,
    "start_time": "2021-09-04T13:32:08.865Z"
   },
   {
    "duration": 3934,
    "start_time": "2021-09-04T13:32:41.987Z"
   },
   {
    "duration": 3972,
    "start_time": "2021-09-04T13:32:55.041Z"
   },
   {
    "duration": 19518,
    "start_time": "2021-09-04T13:39:35.618Z"
   },
   {
    "duration": 3958,
    "start_time": "2021-09-04T13:41:09.331Z"
   },
   {
    "duration": 19730,
    "start_time": "2021-09-04T13:42:16.591Z"
   },
   {
    "duration": 3,
    "start_time": "2021-09-04T13:42:38.582Z"
   },
   {
    "duration": 126,
    "start_time": "2021-09-04T13:42:45.503Z"
   },
   {
    "duration": 114,
    "start_time": "2021-09-04T13:43:08.629Z"
   },
   {
    "duration": 3934,
    "start_time": "2021-09-04T13:43:24.268Z"
   },
   {
    "duration": 6,
    "start_time": "2021-09-04T13:43:36.099Z"
   },
   {
    "duration": 534,
    "start_time": "2021-09-04T13:43:36.687Z"
   },
   {
    "duration": 435,
    "start_time": "2021-09-04T13:43:37.625Z"
   },
   {
    "duration": 19286,
    "start_time": "2021-09-04T13:43:45.832Z"
   },
   {
    "duration": 376,
    "start_time": "2021-09-04T13:45:21.193Z"
   },
   {
    "duration": 450,
    "start_time": "2021-09-04T13:45:22.240Z"
   },
   {
    "duration": 26182,
    "start_time": "2021-09-04T13:46:13.991Z"
   },
   {
    "duration": 26690,
    "start_time": "2021-09-04T13:47:39.283Z"
   },
   {
    "duration": 25962,
    "start_time": "2021-09-04T13:48:42.107Z"
   },
   {
    "duration": 44,
    "start_time": "2021-09-04T13:51:29.657Z"
   },
   {
    "duration": 51,
    "start_time": "2021-09-04T13:51:32.697Z"
   },
   {
    "duration": 26825,
    "start_time": "2021-09-04T13:51:55.746Z"
   },
   {
    "duration": 1497,
    "start_time": "2021-09-06T10:33:07.880Z"
   },
   {
    "duration": 59,
    "start_time": "2021-09-06T10:33:09.379Z"
   },
   {
    "duration": 10,
    "start_time": "2021-09-06T10:33:09.441Z"
   },
   {
    "duration": 44,
    "start_time": "2021-09-06T10:33:09.453Z"
   },
   {
    "duration": 12,
    "start_time": "2021-09-06T10:33:09.499Z"
   },
   {
    "duration": 32,
    "start_time": "2021-09-06T10:33:09.513Z"
   },
   {
    "duration": 6,
    "start_time": "2021-09-06T10:33:09.547Z"
   },
   {
    "duration": 7,
    "start_time": "2021-09-06T10:33:09.556Z"
   },
   {
    "duration": 28,
    "start_time": "2021-09-06T10:33:09.564Z"
   },
   {
    "duration": 7,
    "start_time": "2021-09-06T10:33:09.594Z"
   },
   {
    "duration": 8,
    "start_time": "2021-09-06T10:33:09.637Z"
   },
   {
    "duration": 887,
    "start_time": "2021-09-06T10:33:11.492Z"
   },
   {
    "duration": 13,
    "start_time": "2021-09-06T10:33:12.381Z"
   },
   {
    "duration": 10,
    "start_time": "2021-09-06T10:33:12.396Z"
   },
   {
    "duration": 12,
    "start_time": "2021-09-06T10:33:12.560Z"
   },
   {
    "duration": 13,
    "start_time": "2021-09-06T10:33:12.718Z"
   },
   {
    "duration": 7,
    "start_time": "2021-09-06T10:33:16.149Z"
   },
   {
    "duration": 203,
    "start_time": "2021-09-06T10:33:16.337Z"
   },
   {
    "duration": 24,
    "start_time": "2021-09-06T10:33:16.676Z"
   },
   {
    "duration": 15,
    "start_time": "2021-09-06T10:33:20.168Z"
   },
   {
    "duration": 899,
    "start_time": "2021-09-06T10:34:11.797Z"
   },
   {
    "duration": 443,
    "start_time": "2021-09-06T10:34:19.798Z"
   },
   {
    "duration": 459,
    "start_time": "2021-09-06T10:34:32.346Z"
   },
   {
    "duration": 1212,
    "start_time": "2021-09-06T10:37:28.308Z"
   },
   {
    "duration": 66240,
    "start_time": "2021-09-06T10:37:40.739Z"
   },
   {
    "duration": 495,
    "start_time": "2021-09-06T11:02:25.598Z"
   },
   {
    "duration": 37,
    "start_time": "2021-09-06T11:02:27.281Z"
   },
   {
    "duration": 1129,
    "start_time": "2021-09-06T11:02:47.601Z"
   },
   {
    "duration": 4,
    "start_time": "2021-09-06T11:03:46.628Z"
   },
   {
    "duration": 66,
    "start_time": "2021-09-06T11:03:48.848Z"
   },
   {
    "duration": 8,
    "start_time": "2021-09-06T11:03:50.228Z"
   },
   {
    "duration": 42,
    "start_time": "2021-09-06T11:03:50.793Z"
   },
   {
    "duration": 11,
    "start_time": "2021-09-06T11:03:50.981Z"
   },
   {
    "duration": 7,
    "start_time": "2021-09-06T11:03:51.152Z"
   },
   {
    "duration": 8,
    "start_time": "2021-09-06T11:03:51.334Z"
   },
   {
    "duration": 5,
    "start_time": "2021-09-06T11:03:51.498Z"
   },
   {
    "duration": 21,
    "start_time": "2021-09-06T11:03:51.664Z"
   },
   {
    "duration": 8,
    "start_time": "2021-09-06T11:03:51.830Z"
   },
   {
    "duration": 8,
    "start_time": "2021-09-06T11:03:51.985Z"
   },
   {
    "duration": 848,
    "start_time": "2021-09-06T11:03:52.152Z"
   },
   {
    "duration": 12,
    "start_time": "2021-09-06T11:03:53.002Z"
   },
   {
    "duration": 27,
    "start_time": "2021-09-06T11:03:53.016Z"
   },
   {
    "duration": 11,
    "start_time": "2021-09-06T11:03:53.045Z"
   },
   {
    "duration": 23,
    "start_time": "2021-09-06T11:03:53.058Z"
   },
   {
    "duration": 18,
    "start_time": "2021-09-06T11:03:53.084Z"
   },
   {
    "duration": 189,
    "start_time": "2021-09-06T11:03:53.172Z"
   },
   {
    "duration": 24,
    "start_time": "2021-09-06T11:03:53.527Z"
   },
   {
    "duration": 15,
    "start_time": "2021-09-06T11:03:53.698Z"
   },
   {
    "duration": 477,
    "start_time": "2021-09-06T11:03:54.042Z"
   },
   {
    "duration": 40,
    "start_time": "2021-09-06T11:03:54.522Z"
   },
   {
    "duration": 802,
    "start_time": "2021-09-06T11:03:54.564Z"
   },
   {
    "duration": -122,
    "start_time": "2021-09-06T11:03:55.490Z"
   },
   {
    "duration": 23,
    "start_time": "2021-09-06T11:04:48.663Z"
   },
   {
    "duration": 3,
    "start_time": "2021-09-06T11:04:53.549Z"
   },
   {
    "duration": 3455,
    "start_time": "2021-09-06T11:04:54.780Z"
   },
   {
    "duration": 6,
    "start_time": "2021-09-06T11:05:01.807Z"
   },
   {
    "duration": 441,
    "start_time": "2021-09-06T11:05:02.861Z"
   },
   {
    "duration": 352,
    "start_time": "2021-09-06T11:05:05.831Z"
   },
   {
    "duration": 15705,
    "start_time": "2021-09-06T11:05:15.994Z"
   },
   {
    "duration": 6,
    "start_time": "2021-09-06T11:05:56.312Z"
   },
   {
    "duration": 313,
    "start_time": "2021-09-06T11:05:58.819Z"
   },
   {
    "duration": 375,
    "start_time": "2021-09-06T11:06:01.402Z"
   },
   {
    "duration": 25053,
    "start_time": "2021-09-06T11:06:05.513Z"
   },
   {
    "duration": 24884,
    "start_time": "2021-09-06T11:07:23.879Z"
   },
   {
    "duration": 5,
    "start_time": "2021-09-06T11:10:56.757Z"
   },
   {
    "duration": 52,
    "start_time": "2021-09-06T11:10:57.607Z"
   },
   {
    "duration": 10,
    "start_time": "2021-09-06T11:10:58.034Z"
   },
   {
    "duration": 40,
    "start_time": "2021-09-06T11:10:58.248Z"
   },
   {
    "duration": 12,
    "start_time": "2021-09-06T11:10:58.423Z"
   },
   {
    "duration": 6,
    "start_time": "2021-09-06T11:10:58.593Z"
   },
   {
    "duration": 6,
    "start_time": "2021-09-06T11:10:58.757Z"
   },
   {
    "duration": 7,
    "start_time": "2021-09-06T11:10:58.920Z"
   },
   {
    "duration": 21,
    "start_time": "2021-09-06T11:10:59.105Z"
   },
   {
    "duration": 7,
    "start_time": "2021-09-06T11:10:59.265Z"
   },
   {
    "duration": 7,
    "start_time": "2021-09-06T11:10:59.433Z"
   },
   {
    "duration": 884,
    "start_time": "2021-09-06T11:10:59.611Z"
   },
   {
    "duration": 12,
    "start_time": "2021-09-06T11:11:00.497Z"
   },
   {
    "duration": 11,
    "start_time": "2021-09-06T11:11:00.511Z"
   },
   {
    "duration": 12,
    "start_time": "2021-09-06T11:11:00.541Z"
   },
   {
    "duration": 15,
    "start_time": "2021-09-06T11:11:00.555Z"
   },
   {
    "duration": 7,
    "start_time": "2021-09-06T11:11:00.722Z"
   },
   {
    "duration": 197,
    "start_time": "2021-09-06T11:11:00.943Z"
   },
   {
    "duration": 21,
    "start_time": "2021-09-06T11:11:01.983Z"
   },
   {
    "duration": 14,
    "start_time": "2021-09-06T11:11:02.162Z"
   },
   {
    "duration": 462,
    "start_time": "2021-09-06T11:11:03.045Z"
   },
   {
    "duration": 35,
    "start_time": "2021-09-06T11:11:03.509Z"
   },
   {
    "duration": 29,
    "start_time": "2021-09-06T11:16:10.229Z"
   },
   {
    "duration": 1209,
    "start_time": "2021-09-06T11:16:25.822Z"
   },
   {
    "duration": 30,
    "start_time": "2021-09-06T11:16:39.222Z"
   },
   {
    "duration": 41,
    "start_time": "2021-09-06T11:16:56.384Z"
   },
   {
    "duration": 42,
    "start_time": "2021-09-06T11:17:16.721Z"
   },
   {
    "duration": 48,
    "start_time": "2021-09-06T11:17:30.463Z"
   },
   {
    "duration": 36,
    "start_time": "2021-09-06T11:19:34.728Z"
   },
   {
    "duration": 21,
    "start_time": "2021-09-06T11:19:37.188Z"
   },
   {
    "duration": 21,
    "start_time": "2021-09-06T11:19:55.064Z"
   },
   {
    "duration": 35,
    "start_time": "2021-09-06T11:19:55.487Z"
   },
   {
    "duration": 2103,
    "start_time": "2021-09-06T11:28:16.681Z"
   },
   {
    "duration": 4116,
    "start_time": "2021-09-06T11:29:08.710Z"
   },
   {
    "duration": 4065,
    "start_time": "2021-09-06T11:29:57.041Z"
   },
   {
    "duration": 745,
    "start_time": "2021-09-06T11:32:13.926Z"
   },
   {
    "duration": 127,
    "start_time": "2021-09-06T11:38:17.628Z"
   },
   {
    "duration": 32,
    "start_time": "2021-09-06T11:38:19.467Z"
   },
   {
    "duration": 2,
    "start_time": "2021-09-06T11:38:29.492Z"
   },
   {
    "duration": 8267,
    "start_time": "2021-09-06T11:39:31.588Z"
   },
   {
    "duration": 6,
    "start_time": "2021-09-06T11:40:34.654Z"
   },
   {
    "duration": 440,
    "start_time": "2021-09-06T11:40:38.121Z"
   },
   {
    "duration": 350,
    "start_time": "2021-09-06T11:40:40.914Z"
   },
   {
    "duration": 34424,
    "start_time": "2021-09-06T11:41:30.832Z"
   },
   {
    "duration": 5,
    "start_time": "2021-09-06T11:43:43.326Z"
   },
   {
    "duration": 320,
    "start_time": "2021-09-06T11:43:45.874Z"
   },
   {
    "duration": 371,
    "start_time": "2021-09-06T11:43:47.234Z"
   },
   {
    "duration": 25004,
    "start_time": "2021-09-06T11:44:40.750Z"
   },
   {
    "duration": 20,
    "start_time": "2021-09-06T11:45:49.249Z"
   },
   {
    "duration": 27,
    "start_time": "2021-09-06T11:46:04.999Z"
   },
   {
    "duration": 4,
    "start_time": "2021-09-06T11:48:56.069Z"
   },
   {
    "duration": 944,
    "start_time": "2021-09-06T11:49:47.176Z"
   },
   {
    "duration": 939,
    "start_time": "2021-09-06T11:50:25.315Z"
   },
   {
    "duration": 892,
    "start_time": "2021-09-06T11:51:02.225Z"
   },
   {
    "duration": 27,
    "start_time": "2021-09-06T11:51:18.415Z"
   },
   {
    "duration": 61,
    "start_time": "2021-09-06T11:52:35.381Z"
   },
   {
    "duration": 30,
    "start_time": "2021-09-06T11:53:52.386Z"
   },
   {
    "duration": 1075,
    "start_time": "2021-09-06T11:54:04.190Z"
   },
   {
    "duration": 98,
    "start_time": "2021-09-06T11:54:13.943Z"
   },
   {
    "duration": 4,
    "start_time": "2021-09-07T11:41:20.734Z"
   },
   {
    "duration": 41,
    "start_time": "2021-09-07T11:41:20.924Z"
   },
   {
    "duration": 9,
    "start_time": "2021-09-07T11:41:21.138Z"
   },
   {
    "duration": 38,
    "start_time": "2021-09-07T11:41:21.360Z"
   },
   {
    "duration": 12,
    "start_time": "2021-09-07T11:41:21.553Z"
   },
   {
    "duration": 7,
    "start_time": "2021-09-07T11:41:21.979Z"
   },
   {
    "duration": 8,
    "start_time": "2021-09-07T11:41:22.460Z"
   },
   {
    "duration": 7,
    "start_time": "2021-09-07T11:41:22.648Z"
   },
   {
    "duration": 32,
    "start_time": "2021-09-07T11:41:22.826Z"
   },
   {
    "duration": 11,
    "start_time": "2021-09-07T11:41:23.232Z"
   },
   {
    "duration": 9,
    "start_time": "2021-09-07T11:41:23.675Z"
   },
   {
    "duration": 1155,
    "start_time": "2021-09-07T11:41:23.927Z"
   },
   {
    "duration": 18,
    "start_time": "2021-09-07T11:41:25.085Z"
   },
   {
    "duration": 12,
    "start_time": "2021-09-07T11:41:25.105Z"
   },
   {
    "duration": 13,
    "start_time": "2021-09-07T11:41:25.119Z"
   },
   {
    "duration": 15,
    "start_time": "2021-09-07T11:41:25.469Z"
   },
   {
    "duration": 8,
    "start_time": "2021-09-07T11:41:25.854Z"
   },
   {
    "duration": 171,
    "start_time": "2021-09-07T11:41:26.606Z"
   },
   {
    "duration": 22,
    "start_time": "2021-09-07T11:41:27.676Z"
   },
   {
    "duration": 13,
    "start_time": "2021-09-07T11:41:29.003Z"
   },
   {
    "duration": 3185,
    "start_time": "2021-09-07T11:41:31.401Z"
   },
   {
    "duration": 126,
    "start_time": "2021-09-07T11:42:22.008Z"
   },
   {
    "duration": 28,
    "start_time": "2021-09-07T11:42:26.446Z"
   },
   {
    "duration": 3,
    "start_time": "2021-09-07T11:42:28.083Z"
   },
   {
    "duration": 8682,
    "start_time": "2021-09-07T11:43:27.034Z"
   },
   {
    "duration": 5,
    "start_time": "2021-09-07T11:43:50.904Z"
   },
   {
    "duration": 609,
    "start_time": "2021-09-07T11:43:57.428Z"
   },
   {
    "duration": 559,
    "start_time": "2021-09-07T11:43:58.893Z"
   },
   {
    "duration": 35930,
    "start_time": "2021-09-07T11:44:52.169Z"
   },
   {
    "duration": 1003,
    "start_time": "2021-09-07T11:45:28.101Z"
   },
   {
    "duration": 841,
    "start_time": "2021-09-07T11:45:40.520Z"
   },
   {
    "duration": 697,
    "start_time": "2021-09-07T11:46:51.573Z"
   },
   {
    "duration": 1111,
    "start_time": "2021-09-07T11:47:13.714Z"
   },
   {
    "duration": 24801,
    "start_time": "2021-09-07T11:48:02.913Z"
   },
   {
    "duration": 25402,
    "start_time": "2021-09-07T13:01:46.391Z"
   },
   {
    "duration": 25610,
    "start_time": "2021-09-07T13:02:29.581Z"
   },
   {
    "duration": 501513,
    "start_time": "2021-09-07T13:05:38.793Z"
   },
   {
    "duration": 25006,
    "start_time": "2021-09-07T13:16:35.491Z"
   },
   {
    "duration": 21,
    "start_time": "2021-09-07T13:19:30.098Z"
   },
   {
    "duration": 29,
    "start_time": "2021-09-07T13:19:33.022Z"
   },
   {
    "duration": 242,
    "start_time": "2021-09-07T13:19:41.534Z"
   },
   {
    "duration": 1269,
    "start_time": "2021-09-07T13:20:29.932Z"
   },
   {
    "duration": 52,
    "start_time": "2021-09-07T13:20:31.203Z"
   },
   {
    "duration": 9,
    "start_time": "2021-09-07T13:20:31.257Z"
   },
   {
    "duration": 51,
    "start_time": "2021-09-07T13:20:31.268Z"
   },
   {
    "duration": 11,
    "start_time": "2021-09-07T13:20:31.321Z"
   },
   {
    "duration": 30,
    "start_time": "2021-09-07T13:20:31.334Z"
   },
   {
    "duration": 22,
    "start_time": "2021-09-07T13:20:31.366Z"
   },
   {
    "duration": 28,
    "start_time": "2021-09-07T13:20:31.390Z"
   },
   {
    "duration": 33,
    "start_time": "2021-09-07T13:20:32.097Z"
   },
   {
    "duration": 9,
    "start_time": "2021-09-07T13:20:32.309Z"
   },
   {
    "duration": 6,
    "start_time": "2021-09-07T13:20:32.491Z"
   },
   {
    "duration": 874,
    "start_time": "2021-09-07T13:20:32.671Z"
   },
   {
    "duration": 11,
    "start_time": "2021-09-07T13:20:33.547Z"
   },
   {
    "duration": 31,
    "start_time": "2021-09-07T13:20:33.560Z"
   },
   {
    "duration": 11,
    "start_time": "2021-09-07T13:20:33.719Z"
   },
   {
    "duration": 11,
    "start_time": "2021-09-07T13:20:34.004Z"
   },
   {
    "duration": 7,
    "start_time": "2021-09-07T13:20:34.461Z"
   },
   {
    "duration": 167,
    "start_time": "2021-09-07T13:20:34.805Z"
   },
   {
    "duration": 20,
    "start_time": "2021-09-07T13:20:35.641Z"
   },
   {
    "duration": 13,
    "start_time": "2021-09-07T13:20:36.085Z"
   },
   {
    "duration": 3059,
    "start_time": "2021-09-07T13:20:38.202Z"
   },
   {
    "duration": 161,
    "start_time": "2021-09-07T13:20:41.263Z"
   },
   {
    "duration": 29,
    "start_time": "2021-09-07T13:20:43.333Z"
   },
   {
    "duration": 3,
    "start_time": "2021-09-07T13:20:45.731Z"
   },
   {
    "duration": 8569,
    "start_time": "2021-09-07T13:20:47.653Z"
   },
   {
    "duration": 4,
    "start_time": "2021-09-07T13:21:04.748Z"
   },
   {
    "duration": 983,
    "start_time": "2021-09-07T13:21:06.455Z"
   },
   {
    "duration": 823,
    "start_time": "2021-09-07T13:21:11.084Z"
   },
   {
    "duration": 34889,
    "start_time": "2021-09-07T13:21:36.929Z"
   },
   {
    "duration": 4,
    "start_time": "2021-09-07T13:22:50.060Z"
   },
   {
    "duration": 663,
    "start_time": "2021-09-07T13:22:50.840Z"
   },
   {
    "duration": 1273,
    "start_time": "2021-09-07T13:22:52.355Z"
   },
   {
    "duration": 353,
    "start_time": "2021-09-07T13:24:00.844Z"
   },
   {
    "duration": 19,
    "start_time": "2021-09-07T13:24:10.247Z"
   },
   {
    "duration": 28,
    "start_time": "2021-09-07T13:24:11.255Z"
   },
   {
    "duration": 429,
    "start_time": "2021-09-07T13:24:45.338Z"
   },
   {
    "duration": 32,
    "start_time": "2021-09-07T13:24:59.870Z"
   },
   {
    "duration": 239,
    "start_time": "2021-09-07T13:29:30.288Z"
   },
   {
    "duration": 4,
    "start_time": "2021-09-07T13:29:37.111Z"
   },
   {
    "duration": 579,
    "start_time": "2021-09-07T13:29:38.780Z"
   },
   {
    "duration": 4,
    "start_time": "2021-09-07T13:29:59.039Z"
   },
   {
    "duration": 763,
    "start_time": "2021-09-07T13:30:01.755Z"
   },
   {
    "duration": 5,
    "start_time": "2021-09-07T13:31:26.372Z"
   },
   {
    "duration": 677,
    "start_time": "2021-09-07T13:31:27.972Z"
   },
   {
    "duration": 4,
    "start_time": "2021-09-07T13:33:18.143Z"
   },
   {
    "duration": 4,
    "start_time": "2021-09-07T13:33:47.725Z"
   },
   {
    "duration": 360,
    "start_time": "2021-09-07T13:33:48.635Z"
   },
   {
    "duration": 24015,
    "start_time": "2021-09-07T13:48:43.959Z"
   },
   {
    "duration": 23209,
    "start_time": "2021-09-07T13:50:13.920Z"
   },
   {
    "duration": 23777,
    "start_time": "2021-09-07T13:51:23.264Z"
   },
   {
    "duration": 51964,
    "start_time": "2021-09-07T13:51:55.971Z"
   },
   {
    "duration": 56759,
    "start_time": "2021-09-07T13:56:10.548Z"
   },
   {
    "duration": 149662,
    "start_time": "2021-09-07T13:58:52.867Z"
   },
   {
    "duration": 52912,
    "start_time": "2021-09-07T14:05:32.465Z"
   },
   {
    "duration": 52002,
    "start_time": "2021-09-07T14:07:28.332Z"
   },
   {
    "duration": 410,
    "start_time": "2021-09-07T14:13:05.212Z"
   },
   {
    "duration": 5,
    "start_time": "2021-09-07T14:13:15.464Z"
   },
   {
    "duration": 2492,
    "start_time": "2021-09-07T14:15:01.651Z"
   },
   {
    "duration": 2114,
    "start_time": "2021-09-07T14:16:51.867Z"
   },
   {
    "duration": 96064,
    "start_time": "2021-09-07T14:20:15.602Z"
   },
   {
    "duration": 97448,
    "start_time": "2021-09-07T14:23:19.897Z"
   },
   {
    "duration": 98799,
    "start_time": "2021-09-07T14:36:39.249Z"
   },
   {
    "duration": 321413,
    "start_time": "2021-09-07T14:39:13.926Z"
   },
   {
    "duration": 4,
    "start_time": "2021-09-07T14:47:11.775Z"
   },
   {
    "duration": 245,
    "start_time": "2021-09-07T14:49:47.860Z"
   },
   {
    "duration": 1966,
    "start_time": "2021-09-07T14:50:01.657Z"
   },
   {
    "duration": 3197,
    "start_time": "2021-09-07T14:51:40.821Z"
   },
   {
    "duration": 16731,
    "start_time": "2021-09-07T15:04:33.068Z"
   },
   {
    "duration": 479,
    "start_time": "2021-09-07T15:06:55.314Z"
   },
   {
    "duration": 524,
    "start_time": "2021-09-07T15:07:06.968Z"
   },
   {
    "duration": 450,
    "start_time": "2021-09-07T15:08:19.547Z"
   },
   {
    "duration": 567,
    "start_time": "2021-09-07T15:08:26.125Z"
   },
   {
    "duration": 192,
    "start_time": "2021-09-07T15:08:30.720Z"
   },
   {
    "duration": 259,
    "start_time": "2021-09-07T15:09:14.435Z"
   },
   {
    "duration": 16649,
    "start_time": "2021-09-07T15:12:03.244Z"
   },
   {
    "duration": 191,
    "start_time": "2021-09-07T15:13:53.308Z"
   },
   {
    "duration": 227,
    "start_time": "2021-09-07T15:14:08.165Z"
   },
   {
    "duration": 5,
    "start_time": "2021-09-07T15:14:16.403Z"
   },
   {
    "duration": 254,
    "start_time": "2021-09-07T15:17:17.239Z"
   },
   {
    "duration": 228,
    "start_time": "2021-09-07T15:17:37.965Z"
   },
   {
    "duration": 432,
    "start_time": "2021-09-07T15:18:10.064Z"
   },
   {
    "duration": 293,
    "start_time": "2021-09-07T15:18:30.713Z"
   },
   {
    "duration": 238,
    "start_time": "2021-09-07T15:18:41.756Z"
   },
   {
    "duration": 637,
    "start_time": "2021-09-07T15:19:20.974Z"
   },
   {
    "duration": 38203,
    "start_time": "2021-09-07T15:20:04.793Z"
   },
   {
    "duration": 4,
    "start_time": "2021-09-07T15:29:33.560Z"
   },
   {
    "duration": 254,
    "start_time": "2021-09-07T15:29:37.108Z"
   },
   {
    "duration": 4,
    "start_time": "2021-09-07T15:29:51.762Z"
   },
   {
    "duration": 130,
    "start_time": "2021-09-07T15:29:52.885Z"
   },
   {
    "duration": 1582,
    "start_time": "2021-09-07T15:33:42.676Z"
   },
   {
    "duration": 4,
    "start_time": "2021-09-07T15:34:31.804Z"
   },
   {
    "duration": 69,
    "start_time": "2021-09-07T15:39:41.990Z"
   },
   {
    "duration": 60,
    "start_time": "2021-09-07T15:40:54.022Z"
   },
   {
    "duration": 308,
    "start_time": "2021-09-07T15:43:36.581Z"
   },
   {
    "duration": 15515,
    "start_time": "2021-09-07T15:43:57.805Z"
   },
   {
    "duration": 5,
    "start_time": "2021-09-07T15:47:01.680Z"
   },
   {
    "duration": 259,
    "start_time": "2021-09-07T15:50:09.434Z"
   },
   {
    "duration": 285,
    "start_time": "2021-09-07T15:50:26.590Z"
   },
   {
    "duration": 313,
    "start_time": "2021-09-07T15:51:30.567Z"
   },
   {
    "duration": 246,
    "start_time": "2021-09-07T15:52:37.449Z"
   },
   {
    "duration": 4,
    "start_time": "2021-09-07T15:52:55.733Z"
   },
   {
    "duration": 4,
    "start_time": "2021-09-07T15:54:46.037Z"
   },
   {
    "duration": 142,
    "start_time": "2021-09-07T15:55:04.252Z"
   },
   {
    "duration": 4,
    "start_time": "2021-09-07T15:55:05.620Z"
   },
   {
    "duration": 3,
    "start_time": "2021-09-07T15:55:06.608Z"
   },
   {
    "duration": 4,
    "start_time": "2021-09-07T15:58:11.668Z"
   },
   {
    "duration": 718,
    "start_time": "2021-09-07T15:58:12.173Z"
   },
   {
    "duration": 4,
    "start_time": "2021-09-07T15:58:13.666Z"
   },
   {
    "duration": 314,
    "start_time": "2021-09-07T15:58:14.421Z"
   },
   {
    "duration": 4,
    "start_time": "2021-09-07T16:00:32.625Z"
   },
   {
    "duration": 736,
    "start_time": "2021-09-07T16:00:33.049Z"
   },
   {
    "duration": 4,
    "start_time": "2021-09-07T16:00:33.792Z"
   },
   {
    "duration": 213,
    "start_time": "2021-09-07T16:00:34.402Z"
   },
   {
    "duration": 53690,
    "start_time": "2021-09-07T16:00:36.873Z"
   },
   {
    "duration": 5,
    "start_time": "2021-09-07T16:01:40.182Z"
   },
   {
    "duration": 2522,
    "start_time": "2021-09-07T16:01:41.846Z"
   },
   {
    "duration": 2125,
    "start_time": "2021-09-07T16:01:50.004Z"
   },
   {
    "duration": 2051,
    "start_time": "2021-09-07T16:02:07.298Z"
   },
   {
    "duration": 1192,
    "start_time": "2021-09-07T16:11:06.982Z"
   },
   {
    "duration": 47,
    "start_time": "2021-09-07T16:11:08.177Z"
   },
   {
    "duration": 9,
    "start_time": "2021-09-07T16:11:08.226Z"
   },
   {
    "duration": 35,
    "start_time": "2021-09-07T16:11:08.236Z"
   },
   {
    "duration": 11,
    "start_time": "2021-09-07T16:11:09.141Z"
   },
   {
    "duration": 6,
    "start_time": "2021-09-07T16:11:09.712Z"
   },
   {
    "duration": 6,
    "start_time": "2021-09-07T16:11:10.112Z"
   },
   {
    "duration": 5,
    "start_time": "2021-09-07T16:11:10.410Z"
   },
   {
    "duration": 23,
    "start_time": "2021-09-07T16:11:10.612Z"
   },
   {
    "duration": 7,
    "start_time": "2021-09-07T16:11:10.870Z"
   },
   {
    "duration": 7,
    "start_time": "2021-09-07T16:11:11.220Z"
   },
   {
    "duration": 759,
    "start_time": "2021-09-07T16:11:11.428Z"
   },
   {
    "duration": 11,
    "start_time": "2021-09-07T16:11:12.189Z"
   },
   {
    "duration": 15,
    "start_time": "2021-09-07T16:11:12.202Z"
   },
   {
    "duration": 12,
    "start_time": "2021-09-07T16:11:12.368Z"
   },
   {
    "duration": 12,
    "start_time": "2021-09-07T16:11:12.694Z"
   },
   {
    "duration": 6,
    "start_time": "2021-09-07T16:11:12.958Z"
   },
   {
    "duration": 168,
    "start_time": "2021-09-07T16:11:13.183Z"
   },
   {
    "duration": 20,
    "start_time": "2021-09-07T16:11:13.690Z"
   },
   {
    "duration": 13,
    "start_time": "2021-09-07T16:11:14.002Z"
   },
   {
    "duration": 3231,
    "start_time": "2021-09-07T16:11:15.093Z"
   },
   {
    "duration": 145,
    "start_time": "2021-09-07T16:11:18.326Z"
   },
   {
    "duration": 31,
    "start_time": "2021-09-07T16:11:30.695Z"
   },
   {
    "duration": 2,
    "start_time": "2021-09-07T16:11:33.053Z"
   },
   {
    "duration": 7947,
    "start_time": "2021-09-07T16:11:34.164Z"
   },
   {
    "duration": 4,
    "start_time": "2021-09-07T16:11:46.069Z"
   },
   {
    "duration": 926,
    "start_time": "2021-09-07T16:11:46.657Z"
   },
   {
    "duration": 822,
    "start_time": "2021-09-07T16:11:47.584Z"
   },
   {
    "duration": 33827,
    "start_time": "2021-09-07T16:11:51.108Z"
   },
   {
    "duration": 4,
    "start_time": "2021-09-07T16:12:36.134Z"
   },
   {
    "duration": 661,
    "start_time": "2021-09-07T16:12:37.366Z"
   },
   {
    "duration": 1074,
    "start_time": "2021-09-07T16:12:38.029Z"
   },
   {
    "duration": 435,
    "start_time": "2021-09-07T16:12:42.456Z"
   },
   {
    "duration": 20,
    "start_time": "2021-09-07T16:12:57.731Z"
   },
   {
    "duration": 27,
    "start_time": "2021-09-07T16:12:58.509Z"
   },
   {
    "duration": 58,
    "start_time": "2021-09-07T16:12:59.437Z"
   },
   {
    "duration": 4,
    "start_time": "2021-09-07T16:13:02.329Z"
   },
   {
    "duration": 736,
    "start_time": "2021-09-07T16:13:04.089Z"
   },
   {
    "duration": 4,
    "start_time": "2021-09-07T16:13:05.545Z"
   },
   {
    "duration": 213,
    "start_time": "2021-09-07T16:13:07.123Z"
   },
   {
    "duration": 51115,
    "start_time": "2021-09-07T16:13:10.861Z"
   },
   {
    "duration": 4,
    "start_time": "2021-09-07T16:14:29.798Z"
   },
   {
    "duration": 2547,
    "start_time": "2021-09-07T16:14:31.080Z"
   },
   {
    "duration": 2079,
    "start_time": "2021-09-07T16:14:36.353Z"
   },
   {
    "duration": 1076,
    "start_time": "2021-09-08T11:18:32.207Z"
   },
   {
    "duration": 61,
    "start_time": "2021-09-08T11:18:33.285Z"
   },
   {
    "duration": 8,
    "start_time": "2021-09-08T11:18:33.348Z"
   },
   {
    "duration": 55,
    "start_time": "2021-09-08T11:18:33.358Z"
   },
   {
    "duration": 42,
    "start_time": "2021-09-08T11:18:33.414Z"
   },
   {
    "duration": 5,
    "start_time": "2021-09-08T11:18:33.558Z"
   },
   {
    "duration": 6,
    "start_time": "2021-09-08T11:18:33.769Z"
   },
   {
    "duration": 4,
    "start_time": "2021-09-08T11:18:34.574Z"
   },
   {
    "duration": 20,
    "start_time": "2021-09-08T11:18:34.803Z"
   },
   {
    "duration": 7,
    "start_time": "2021-09-08T11:18:35.031Z"
   },
   {
    "duration": 6,
    "start_time": "2021-09-08T11:18:35.198Z"
   },
   {
    "duration": 838,
    "start_time": "2021-09-08T11:18:35.399Z"
   },
   {
    "duration": 10,
    "start_time": "2021-09-08T11:18:36.239Z"
   },
   {
    "duration": 9,
    "start_time": "2021-09-08T11:18:36.251Z"
   },
   {
    "duration": 25,
    "start_time": "2021-09-08T11:18:36.261Z"
   },
   {
    "duration": 11,
    "start_time": "2021-09-08T11:18:36.287Z"
   },
   {
    "duration": 7,
    "start_time": "2021-09-08T11:18:36.389Z"
   },
   {
    "duration": 175,
    "start_time": "2021-09-08T11:18:36.607Z"
   },
   {
    "duration": 22,
    "start_time": "2021-09-08T11:18:39.359Z"
   },
   {
    "duration": 12,
    "start_time": "2021-09-08T11:18:39.593Z"
   },
   {
    "duration": 2863,
    "start_time": "2021-09-08T11:18:40.414Z"
   },
   {
    "duration": 134,
    "start_time": "2021-09-08T11:18:52.815Z"
   },
   {
    "duration": 27,
    "start_time": "2021-09-08T11:18:53.417Z"
   },
   {
    "duration": 2,
    "start_time": "2021-09-08T11:18:55.230Z"
   },
   {
    "duration": 7583,
    "start_time": "2021-09-08T11:18:56.387Z"
   },
   {
    "duration": 4,
    "start_time": "2021-09-08T11:19:08.950Z"
   },
   {
    "duration": 922,
    "start_time": "2021-09-08T11:19:09.778Z"
   },
   {
    "duration": 725,
    "start_time": "2021-09-08T11:19:11.882Z"
   },
   {
    "duration": 31863,
    "start_time": "2021-09-08T11:19:13.935Z"
   },
   {
    "duration": 4,
    "start_time": "2021-09-08T11:19:50.603Z"
   },
   {
    "duration": 634,
    "start_time": "2021-09-08T11:19:51.263Z"
   },
   {
    "duration": 1012,
    "start_time": "2021-09-08T11:19:53.589Z"
   },
   {
    "duration": 409,
    "start_time": "2021-09-08T11:19:59.279Z"
   },
   {
    "duration": 26,
    "start_time": "2021-09-08T11:20:02.801Z"
   },
   {
    "duration": 24,
    "start_time": "2021-09-08T11:20:04.393Z"
   },
   {
    "duration": 62,
    "start_time": "2021-09-08T11:20:05.125Z"
   },
   {
    "duration": 4,
    "start_time": "2021-09-08T11:20:10.463Z"
   },
   {
    "duration": 773,
    "start_time": "2021-09-08T11:20:11.371Z"
   },
   {
    "duration": 4,
    "start_time": "2021-09-08T11:20:13.513Z"
   },
   {
    "duration": 219,
    "start_time": "2021-09-08T11:20:14.649Z"
   },
   {
    "duration": 51089,
    "start_time": "2021-09-08T11:20:18.084Z"
   },
   {
    "duration": 3,
    "start_time": "2021-09-08T11:21:16.921Z"
   },
   {
    "duration": 2477,
    "start_time": "2021-09-08T11:21:17.760Z"
   },
   {
    "duration": 2162,
    "start_time": "2021-09-08T11:21:22.643Z"
   },
   {
    "duration": 306624,
    "start_time": "2021-09-08T11:21:27.944Z"
   },
   {
    "duration": 4,
    "start_time": "2021-09-08T11:27:52.287Z"
   },
   {
    "duration": 1887,
    "start_time": "2021-09-08T11:27:54.130Z"
   },
   {
    "duration": 2909,
    "start_time": "2021-09-08T11:27:57.570Z"
   },
   {
    "duration": 844,
    "start_time": "2021-09-08T11:28:06.848Z"
   },
   {
    "duration": 4,
    "start_time": "2021-09-08T11:28:09.385Z"
   },
   {
    "duration": 2308,
    "start_time": "2021-09-08T11:28:39.570Z"
   },
   {
    "duration": 3,
    "start_time": "2021-09-08T11:28:44.454Z"
   },
   {
    "duration": 121,
    "start_time": "2021-09-08T11:28:48.378Z"
   },
   {
    "duration": 90,
    "start_time": "2021-09-08T11:28:54.266Z"
   },
   {
    "duration": 19082,
    "start_time": "2021-09-08T11:28:56.300Z"
   },
   {
    "duration": 4,
    "start_time": "2021-09-08T11:29:34.561Z"
   },
   {
    "duration": 374,
    "start_time": "2021-09-08T11:29:35.955Z"
   },
   {
    "duration": 321,
    "start_time": "2021-09-08T11:29:51.780Z"
   },
   {
    "duration": 481,
    "start_time": "2021-09-08T11:30:06.826Z"
   },
   {
    "duration": 114,
    "start_time": "2021-09-08T11:30:13.678Z"
   },
   {
    "duration": 4,
    "start_time": "2021-09-08T11:30:32.692Z"
   },
   {
    "duration": 16,
    "start_time": "2021-09-08T11:38:22.318Z"
   },
   {
    "duration": 18,
    "start_time": "2021-09-08T11:39:23.245Z"
   },
   {
    "duration": 24,
    "start_time": "2021-09-08T11:41:03.378Z"
   },
   {
    "duration": 23,
    "start_time": "2021-09-08T11:41:19.421Z"
   },
   {
    "duration": 50,
    "start_time": "2021-09-08T11:43:50.936Z"
   },
   {
    "duration": 18,
    "start_time": "2021-09-08T11:47:51.254Z"
   },
   {
    "duration": 23,
    "start_time": "2021-09-08T11:49:20.537Z"
   },
   {
    "duration": 52,
    "start_time": "2021-09-08T11:49:31.635Z"
   },
   {
    "duration": 34,
    "start_time": "2021-09-08T11:49:53.613Z"
   },
   {
    "duration": 54,
    "start_time": "2021-09-08T11:51:11.131Z"
   },
   {
    "duration": 34,
    "start_time": "2021-09-08T11:52:30.855Z"
   },
   {
    "duration": 17,
    "start_time": "2021-09-08T11:52:50.097Z"
   },
   {
    "duration": 34,
    "start_time": "2021-09-08T11:52:50.883Z"
   },
   {
    "duration": 281,
    "start_time": "2021-09-08T12:19:16.134Z"
   },
   {
    "duration": 2,
    "start_time": "2021-09-08T12:20:42.974Z"
   },
   {
    "duration": 15,
    "start_time": "2021-09-08T12:20:43.739Z"
   },
   {
    "duration": 328,
    "start_time": "2021-09-08T12:26:04.134Z"
   },
   {
    "duration": 155,
    "start_time": "2021-09-08T12:26:16.559Z"
   },
   {
    "duration": 157,
    "start_time": "2021-09-08T12:27:09.688Z"
   },
   {
    "duration": 343,
    "start_time": "2021-09-08T12:27:56.975Z"
   },
   {
    "duration": 3,
    "start_time": "2021-09-08T12:28:54.680Z"
   },
   {
    "duration": 15,
    "start_time": "2021-09-08T12:28:55.574Z"
   },
   {
    "duration": 158,
    "start_time": "2021-09-08T12:28:57.140Z"
   },
   {
    "duration": 155,
    "start_time": "2021-09-08T12:34:45.472Z"
   },
   {
    "duration": 153,
    "start_time": "2021-09-08T12:34:52.304Z"
   },
   {
    "duration": 15,
    "start_time": "2021-09-08T12:39:39.279Z"
   },
   {
    "duration": 172,
    "start_time": "2021-09-08T12:39:39.985Z"
   },
   {
    "duration": 160,
    "start_time": "2021-09-08T12:39:52.318Z"
   },
   {
    "duration": 22,
    "start_time": "2021-09-08T12:40:18.444Z"
   },
   {
    "duration": 171,
    "start_time": "2021-09-08T12:40:49.051Z"
   },
   {
    "duration": 180,
    "start_time": "2021-09-08T12:41:05.653Z"
   },
   {
    "duration": 167,
    "start_time": "2021-09-08T12:41:43.656Z"
   },
   {
    "duration": 179,
    "start_time": "2021-09-08T12:43:15.916Z"
   },
   {
    "duration": 338,
    "start_time": "2021-09-08T12:44:00.395Z"
   },
   {
    "duration": 243,
    "start_time": "2021-09-08T12:46:14.508Z"
   },
   {
    "duration": 183,
    "start_time": "2021-09-08T12:47:04.947Z"
   },
   {
    "duration": 365,
    "start_time": "2021-09-08T12:48:29.564Z"
   },
   {
    "duration": 260,
    "start_time": "2021-09-08T14:16:10.425Z"
   },
   {
    "duration": 265,
    "start_time": "2021-09-08T14:16:59.870Z"
   },
   {
    "duration": 254,
    "start_time": "2021-09-08T14:17:12.531Z"
   },
   {
    "duration": 260,
    "start_time": "2021-09-08T14:17:28.446Z"
   },
   {
    "duration": 207,
    "start_time": "2021-09-08T14:17:56.763Z"
   },
   {
    "duration": 254,
    "start_time": "2021-09-08T14:18:06.935Z"
   },
   {
    "duration": 248,
    "start_time": "2021-09-08T14:18:29.670Z"
   },
   {
    "duration": 250,
    "start_time": "2021-09-08T14:19:18.835Z"
   },
   {
    "duration": 256,
    "start_time": "2021-09-08T14:19:29.069Z"
   },
   {
    "duration": 252,
    "start_time": "2021-09-08T14:19:36.423Z"
   },
   {
    "duration": 253,
    "start_time": "2021-09-08T14:20:07.602Z"
   },
   {
    "duration": 250,
    "start_time": "2021-09-08T14:20:21.660Z"
   },
   {
    "duration": 326,
    "start_time": "2021-09-08T14:20:40.659Z"
   },
   {
    "duration": 280,
    "start_time": "2021-09-08T14:21:04.459Z"
   },
   {
    "duration": 266,
    "start_time": "2021-09-08T14:21:10.808Z"
   },
   {
    "duration": 261,
    "start_time": "2021-09-08T14:21:19.262Z"
   },
   {
    "duration": 259,
    "start_time": "2021-09-08T14:21:34.612Z"
   },
   {
    "duration": 255,
    "start_time": "2021-09-08T14:21:47.242Z"
   },
   {
    "duration": 197,
    "start_time": "2021-09-08T14:21:56.541Z"
   },
   {
    "duration": 247,
    "start_time": "2021-09-08T14:22:09.204Z"
   },
   {
    "duration": 236,
    "start_time": "2021-09-08T14:22:36.341Z"
   },
   {
    "duration": 267,
    "start_time": "2021-09-08T14:22:44.345Z"
   },
   {
    "duration": 276,
    "start_time": "2021-09-08T14:22:56.016Z"
   },
   {
    "duration": 283,
    "start_time": "2021-09-08T14:23:01.014Z"
   },
   {
    "duration": 272,
    "start_time": "2021-09-08T14:23:13.738Z"
   },
   {
    "duration": 267,
    "start_time": "2021-09-08T14:23:33.946Z"
   },
   {
    "duration": 281,
    "start_time": "2021-09-08T14:23:45.198Z"
   },
   {
    "duration": 339,
    "start_time": "2021-09-08T14:24:01.337Z"
   },
   {
    "duration": 266,
    "start_time": "2021-09-08T14:24:05.413Z"
   },
   {
    "duration": 267,
    "start_time": "2021-09-08T14:24:17.907Z"
   },
   {
    "duration": 467,
    "start_time": "2021-09-08T14:24:24.281Z"
   },
   {
    "duration": 270,
    "start_time": "2021-09-08T14:25:00.224Z"
   },
   {
    "duration": 282,
    "start_time": "2021-09-08T14:25:08.452Z"
   },
   {
    "duration": 272,
    "start_time": "2021-09-08T14:25:23.096Z"
   },
   {
    "duration": 285,
    "start_time": "2021-09-08T14:25:29.400Z"
   },
   {
    "duration": 183,
    "start_time": "2021-09-08T14:28:38.227Z"
   },
   {
    "duration": 188,
    "start_time": "2021-09-08T14:28:49.797Z"
   },
   {
    "duration": 267,
    "start_time": "2021-09-08T14:29:30.903Z"
   },
   {
    "duration": 270,
    "start_time": "2021-09-08T14:29:48.800Z"
   },
   {
    "duration": 193,
    "start_time": "2021-09-08T14:30:20.219Z"
   },
   {
    "duration": 270,
    "start_time": "2021-09-08T14:30:35.569Z"
   },
   {
    "duration": 278,
    "start_time": "2021-09-08T14:31:26.912Z"
   },
   {
    "duration": 196,
    "start_time": "2021-09-08T14:31:32.404Z"
   },
   {
    "duration": 204,
    "start_time": "2021-09-08T14:31:42.232Z"
   },
   {
    "duration": 273,
    "start_time": "2021-09-08T14:31:47.171Z"
   },
   {
    "duration": 341,
    "start_time": "2021-09-08T14:32:20.855Z"
   },
   {
    "duration": 279,
    "start_time": "2021-09-08T14:32:38.228Z"
   },
   {
    "duration": 267,
    "start_time": "2021-09-08T14:32:47.284Z"
   },
   {
    "duration": 264,
    "start_time": "2021-09-08T14:34:33.920Z"
   },
   {
    "duration": 273,
    "start_time": "2021-09-08T14:34:57.916Z"
   },
   {
    "duration": 209,
    "start_time": "2021-09-08T14:35:14.249Z"
   },
   {
    "duration": 278,
    "start_time": "2021-09-08T14:35:31.741Z"
   },
   {
    "duration": 243,
    "start_time": "2021-09-08T14:35:51.396Z"
   },
   {
    "duration": 265,
    "start_time": "2021-09-08T14:36:10.640Z"
   },
   {
    "duration": 275,
    "start_time": "2021-09-08T14:36:19.946Z"
   },
   {
    "duration": 3,
    "start_time": "2021-09-08T14:49:34.558Z"
   },
   {
    "duration": 4,
    "start_time": "2021-09-08T14:51:07.425Z"
   },
   {
    "duration": 4,
    "start_time": "2021-09-08T14:52:31.186Z"
   },
   {
    "duration": 4,
    "start_time": "2021-09-08T14:52:33.388Z"
   },
   {
    "duration": 4,
    "start_time": "2021-09-08T14:53:15.773Z"
   },
   {
    "duration": 5,
    "start_time": "2021-09-08T14:54:30.529Z"
   },
   {
    "duration": 4,
    "start_time": "2021-09-08T14:54:49.883Z"
   },
   {
    "duration": 5,
    "start_time": "2021-09-09T11:37:14.118Z"
   },
   {
    "duration": 60,
    "start_time": "2021-09-09T11:37:15.145Z"
   },
   {
    "duration": 14,
    "start_time": "2021-09-09T11:37:17.568Z"
   },
   {
    "duration": 62,
    "start_time": "2021-09-09T11:37:18.270Z"
   },
   {
    "duration": 15,
    "start_time": "2021-09-09T11:37:19.040Z"
   },
   {
    "duration": 8,
    "start_time": "2021-09-09T11:37:20.602Z"
   },
   {
    "duration": 8,
    "start_time": "2021-09-09T11:37:21.100Z"
   },
   {
    "duration": 7,
    "start_time": "2021-09-09T11:37:21.329Z"
   },
   {
    "duration": 31,
    "start_time": "2021-09-09T11:37:21.510Z"
   },
   {
    "duration": 10,
    "start_time": "2021-09-09T11:37:21.687Z"
   },
   {
    "duration": 9,
    "start_time": "2021-09-09T11:37:21.862Z"
   },
   {
    "duration": 1245,
    "start_time": "2021-09-09T11:37:22.092Z"
   },
   {
    "duration": 16,
    "start_time": "2021-09-09T11:37:23.340Z"
   },
   {
    "duration": 14,
    "start_time": "2021-09-09T11:37:23.358Z"
   },
   {
    "duration": 15,
    "start_time": "2021-09-09T11:37:23.716Z"
   },
   {
    "duration": 15,
    "start_time": "2021-09-09T11:37:24.400Z"
   },
   {
    "duration": 9,
    "start_time": "2021-09-09T11:37:24.845Z"
   },
   {
    "duration": 297,
    "start_time": "2021-09-09T11:37:29.829Z"
   },
   {
    "duration": 35,
    "start_time": "2021-09-09T11:37:38.420Z"
   },
   {
    "duration": 18,
    "start_time": "2021-09-09T11:37:42.542Z"
   },
   {
    "duration": 4574,
    "start_time": "2021-09-09T11:38:02.559Z"
   },
   {
    "duration": 156,
    "start_time": "2021-09-09T11:38:07.136Z"
   },
   {
    "duration": 41,
    "start_time": "2021-09-09T11:38:08.765Z"
   },
   {
    "duration": 3,
    "start_time": "2021-09-09T11:38:13.561Z"
   },
   {
    "duration": 9646,
    "start_time": "2021-09-09T11:38:19.925Z"
   },
   {
    "duration": 5,
    "start_time": "2021-09-09T11:38:37.464Z"
   },
   {
    "duration": 1123,
    "start_time": "2021-09-09T11:38:39.478Z"
   },
   {
    "duration": 954,
    "start_time": "2021-09-09T11:38:42.107Z"
   },
   {
    "duration": 37250,
    "start_time": "2021-09-09T11:39:10.006Z"
   },
   {
    "duration": 6,
    "start_time": "2021-09-09T11:40:02.545Z"
   },
   {
    "duration": 757,
    "start_time": "2021-09-09T11:40:17.941Z"
   },
   {
    "duration": 1182,
    "start_time": "2021-09-09T11:40:18.859Z"
   },
   {
    "duration": 449,
    "start_time": "2021-09-09T11:40:29.972Z"
   },
   {
    "duration": 27,
    "start_time": "2021-09-09T11:40:58.606Z"
   },
   {
    "duration": 47,
    "start_time": "2021-09-09T11:40:59.590Z"
   },
   {
    "duration": 40,
    "start_time": "2021-09-09T11:41:00.488Z"
   },
   {
    "duration": 6,
    "start_time": "2021-09-09T11:42:09.451Z"
   },
   {
    "duration": 5,
    "start_time": "2021-09-09T11:46:49.852Z"
   },
   {
    "duration": 928,
    "start_time": "2021-09-09T11:46:53.155Z"
   },
   {
    "duration": 6,
    "start_time": "2021-09-09T11:46:57.213Z"
   },
   {
    "duration": 280,
    "start_time": "2021-09-09T11:46:59.157Z"
   },
   {
    "duration": 66535,
    "start_time": "2021-09-09T11:47:16.637Z"
   },
   {
    "duration": 6,
    "start_time": "2021-09-09T11:48:31.067Z"
   },
   {
    "duration": 3118,
    "start_time": "2021-09-09T11:48:38.516Z"
   },
   {
    "duration": 2905,
    "start_time": "2021-09-09T11:48:44.098Z"
   },
   {
    "duration": 1564,
    "start_time": "2021-09-09T11:57:55.326Z"
   },
   {
    "duration": 66,
    "start_time": "2021-09-09T11:57:56.892Z"
   },
   {
    "duration": 12,
    "start_time": "2021-09-09T11:57:56.961Z"
   },
   {
    "duration": 84,
    "start_time": "2021-09-09T11:57:56.976Z"
   },
   {
    "duration": 15,
    "start_time": "2021-09-09T11:57:57.062Z"
   },
   {
    "duration": 14,
    "start_time": "2021-09-09T11:57:57.080Z"
   },
   {
    "duration": 22,
    "start_time": "2021-09-09T11:57:57.097Z"
   },
   {
    "duration": 14,
    "start_time": "2021-09-09T11:57:57.123Z"
   },
   {
    "duration": 34,
    "start_time": "2021-09-09T11:57:57.139Z"
   },
   {
    "duration": 40,
    "start_time": "2021-09-09T11:57:57.176Z"
   },
   {
    "duration": 9,
    "start_time": "2021-09-09T11:57:57.219Z"
   },
   {
    "duration": 1286,
    "start_time": "2021-09-09T11:57:57.638Z"
   },
   {
    "duration": 16,
    "start_time": "2021-09-09T11:57:58.927Z"
   },
   {
    "duration": 14,
    "start_time": "2021-09-09T11:57:58.945Z"
   },
   {
    "duration": 30,
    "start_time": "2021-09-09T11:57:58.961Z"
   },
   {
    "duration": 15,
    "start_time": "2021-09-09T11:57:59.017Z"
   },
   {
    "duration": 10,
    "start_time": "2021-09-09T11:57:59.144Z"
   },
   {
    "duration": 353,
    "start_time": "2021-09-09T11:57:59.510Z"
   },
   {
    "duration": 33,
    "start_time": "2021-09-09T11:58:00.118Z"
   },
   {
    "duration": 19,
    "start_time": "2021-09-09T11:58:00.526Z"
   },
   {
    "duration": 4795,
    "start_time": "2021-09-09T11:58:00.889Z"
   },
   {
    "duration": 171,
    "start_time": "2021-09-09T11:58:05.687Z"
   },
   {
    "duration": 55,
    "start_time": "2021-09-09T11:58:05.861Z"
   },
   {
    "duration": 3,
    "start_time": "2021-09-09T11:58:11.137Z"
   },
   {
    "duration": 9482,
    "start_time": "2021-09-09T11:58:11.658Z"
   },
   {
    "duration": 7,
    "start_time": "2021-09-09T11:58:34.817Z"
   },
   {
    "duration": 1161,
    "start_time": "2021-09-09T11:58:35.837Z"
   },
   {
    "duration": 955,
    "start_time": "2021-09-09T11:58:37.001Z"
   },
   {
    "duration": 37064,
    "start_time": "2021-09-09T11:58:45.945Z"
   },
   {
    "duration": 6,
    "start_time": "2021-09-09T11:59:34.791Z"
   },
   {
    "duration": 759,
    "start_time": "2021-09-09T11:59:35.475Z"
   },
   {
    "duration": 1241,
    "start_time": "2021-09-09T11:59:36.330Z"
   },
   {
    "duration": 444,
    "start_time": "2021-09-09T11:59:40.577Z"
   },
   {
    "duration": 27,
    "start_time": "2021-09-09T11:59:46.577Z"
   },
   {
    "duration": 38,
    "start_time": "2021-09-09T11:59:47.301Z"
   },
   {
    "duration": 69,
    "start_time": "2021-09-09T11:59:48.051Z"
   },
   {
    "duration": 7,
    "start_time": "2021-09-09T11:59:49.157Z"
   },
   {
    "duration": 6,
    "start_time": "2021-09-09T11:59:55.849Z"
   },
   {
    "duration": 914,
    "start_time": "2021-09-09T11:59:56.865Z"
   },
   {
    "duration": 6,
    "start_time": "2021-09-09T11:59:58.735Z"
   },
   {
    "duration": 286,
    "start_time": "2021-09-09T11:59:59.381Z"
   },
   {
    "duration": 67715,
    "start_time": "2021-09-09T12:00:05.801Z"
   },
   {
    "duration": 6,
    "start_time": "2021-09-09T12:01:27.761Z"
   },
   {
    "duration": 3191,
    "start_time": "2021-09-09T12:01:29.048Z"
   },
   {
    "duration": 2834,
    "start_time": "2021-09-09T12:01:33.291Z"
   },
   {
    "duration": -128,
    "start_time": "2021-09-09T12:05:39.884Z"
   },
   {
    "duration": -134,
    "start_time": "2021-09-09T12:05:39.892Z"
   },
   {
    "duration": -166,
    "start_time": "2021-09-09T12:05:39.925Z"
   },
   {
    "duration": -171,
    "start_time": "2021-09-09T12:05:39.932Z"
   },
   {
    "duration": 73078,
    "start_time": "2021-09-09T12:05:43.416Z"
   },
   {
    "duration": 688,
    "start_time": "2021-09-09T12:07:49.826Z"
   },
   {
    "duration": 695,
    "start_time": "2021-09-09T12:08:16.403Z"
   },
   {
    "duration": 382132,
    "start_time": "2021-09-09T12:08:39.843Z"
   },
   {
    "duration": 6,
    "start_time": "2021-09-09T12:15:38.625Z"
   },
   {
    "duration": 2344,
    "start_time": "2021-09-09T12:15:42.306Z"
   },
   {
    "duration": 3679,
    "start_time": "2021-09-09T12:15:46.646Z"
   },
   {
    "duration": 2369,
    "start_time": "2021-09-09T12:16:31.747Z"
   },
   {
    "duration": 3787,
    "start_time": "2021-09-09T12:16:34.948Z"
   },
   {
    "duration": 1116,
    "start_time": "2021-09-09T12:16:45.105Z"
   },
   {
    "duration": 1354,
    "start_time": "2021-09-09T12:17:02.564Z"
   },
   {
    "duration": 6,
    "start_time": "2021-09-09T12:17:15.698Z"
   },
   {
    "duration": 703,
    "start_time": "2021-09-09T12:18:16.423Z"
   },
   {
    "duration": 320,
    "start_time": "2021-09-09T12:18:37.438Z"
   },
   {
    "duration": 6,
    "start_time": "2021-09-09T12:20:15.542Z"
   },
   {
    "duration": 1393,
    "start_time": "2021-09-09T12:20:15.550Z"
   },
   {
    "duration": 1371,
    "start_time": "2021-09-09T12:20:23.446Z"
   },
   {
    "duration": 1348,
    "start_time": "2021-09-09T12:20:37.370Z"
   },
   {
    "duration": 80646,
    "start_time": "2021-09-09T12:20:59.079Z"
   },
   {
    "duration": 6857,
    "start_time": "2021-09-09T12:24:33.060Z"
   },
   {
    "duration": 3337,
    "start_time": "2021-09-09T12:25:02.225Z"
   },
   {
    "duration": 7,
    "start_time": "2021-09-09T12:25:13.987Z"
   },
   {
    "duration": 131,
    "start_time": "2021-09-09T12:25:37.746Z"
   },
   {
    "duration": 130,
    "start_time": "2021-09-09T12:25:46.201Z"
   },
   {
    "duration": 137,
    "start_time": "2021-09-09T12:26:01.893Z"
   },
   {
    "duration": 389,
    "start_time": "2021-09-09T12:27:30.734Z"
   },
   {
    "duration": 51,
    "start_time": "2021-09-09T12:27:38.176Z"
   },
   {
    "duration": 136,
    "start_time": "2021-09-09T12:28:07.662Z"
   },
   {
    "duration": 139,
    "start_time": "2021-09-09T12:30:06.698Z"
   },
   {
    "duration": 6,
    "start_time": "2021-09-09T12:30:19.114Z"
   },
   {
    "duration": 354,
    "start_time": "2021-09-09T12:30:52.869Z"
   },
   {
    "duration": 121,
    "start_time": "2021-09-09T12:31:01.585Z"
   },
   {
    "duration": 7,
    "start_time": "2021-09-09T12:31:17.743Z"
   },
   {
    "duration": 25940,
    "start_time": "2021-09-09T12:31:23.533Z"
   },
   {
    "duration": 6,
    "start_time": "2021-09-09T12:32:44.879Z"
   },
   {
    "duration": 395,
    "start_time": "2021-09-09T12:32:47.631Z"
   },
   {
    "duration": 584,
    "start_time": "2021-09-09T12:32:49.246Z"
   },
   {
    "duration": 548,
    "start_time": "2021-09-09T12:34:13.923Z"
   },
   {
    "duration": 623,
    "start_time": "2021-09-09T12:36:00.508Z"
   },
   {
    "duration": 642,
    "start_time": "2021-09-09T12:36:27.420Z"
   },
   {
    "duration": 577,
    "start_time": "2021-09-09T12:36:40.248Z"
   },
   {
    "duration": 139,
    "start_time": "2021-09-09T12:37:42.761Z"
   },
   {
    "duration": 127,
    "start_time": "2021-09-09T12:38:10.696Z"
   },
   {
    "duration": 129,
    "start_time": "2021-09-09T12:38:43.608Z"
   },
   {
    "duration": 146,
    "start_time": "2021-09-09T12:38:55.377Z"
   },
   {
    "duration": 1535,
    "start_time": "2021-09-09T14:41:39.946Z"
   },
   {
    "duration": 65,
    "start_time": "2021-09-09T14:41:41.484Z"
   },
   {
    "duration": 14,
    "start_time": "2021-09-09T14:41:42.292Z"
   },
   {
    "duration": 62,
    "start_time": "2021-09-09T14:41:42.768Z"
   },
   {
    "duration": 17,
    "start_time": "2021-09-09T14:41:42.993Z"
   },
   {
    "duration": 9,
    "start_time": "2021-09-09T14:41:43.152Z"
   },
   {
    "duration": 9,
    "start_time": "2021-09-09T14:41:43.300Z"
   },
   {
    "duration": 7,
    "start_time": "2021-09-09T14:41:43.464Z"
   },
   {
    "duration": 30,
    "start_time": "2021-09-09T14:41:43.612Z"
   },
   {
    "duration": 9,
    "start_time": "2021-09-09T14:41:43.810Z"
   },
   {
    "duration": 9,
    "start_time": "2021-09-09T14:41:43.972Z"
   },
   {
    "duration": 1295,
    "start_time": "2021-09-09T14:41:44.062Z"
   },
   {
    "duration": 16,
    "start_time": "2021-09-09T14:41:45.360Z"
   },
   {
    "duration": 38,
    "start_time": "2021-09-09T14:41:45.379Z"
   },
   {
    "duration": 15,
    "start_time": "2021-09-09T14:41:45.420Z"
   },
   {
    "duration": 16,
    "start_time": "2021-09-09T14:41:45.438Z"
   },
   {
    "duration": 9,
    "start_time": "2021-09-09T14:41:45.456Z"
   },
   {
    "duration": 336,
    "start_time": "2021-09-09T14:41:45.468Z"
   },
   {
    "duration": 38,
    "start_time": "2021-09-09T14:41:45.808Z"
   },
   {
    "duration": 18,
    "start_time": "2021-09-09T14:41:45.849Z"
   },
   {
    "duration": 4656,
    "start_time": "2021-09-09T14:42:08.722Z"
   },
   {
    "duration": 168,
    "start_time": "2021-09-09T14:42:13.381Z"
   },
   {
    "duration": 42,
    "start_time": "2021-09-09T14:42:13.552Z"
   },
   {
    "duration": 3,
    "start_time": "2021-09-09T14:42:15.139Z"
   },
   {
    "duration": 11635,
    "start_time": "2021-09-09T14:42:15.942Z"
   },
   {
    "duration": 7,
    "start_time": "2021-09-09T14:42:32.303Z"
   },
   {
    "duration": 1399,
    "start_time": "2021-09-09T14:42:34.945Z"
   },
   {
    "duration": 1304,
    "start_time": "2021-09-09T14:42:37.603Z"
   },
   {
    "duration": 43328,
    "start_time": "2021-09-09T14:42:43.760Z"
   },
   {
    "duration": 519,
    "start_time": "2021-09-09T14:44:03.697Z"
   },
   {
    "duration": 23,
    "start_time": "2021-09-09T14:44:28.068Z"
   },
   {
    "duration": 5,
    "start_time": "2021-09-09T14:44:39.046Z"
   },
   {
    "duration": 5,
    "start_time": "2021-09-09T14:44:44.170Z"
   },
   {
    "duration": 1076,
    "start_time": "2021-09-09T14:44:44.352Z"
   },
   {
    "duration": 6,
    "start_time": "2021-09-09T14:44:45.430Z"
   },
   {
    "duration": 320,
    "start_time": "2021-09-09T14:44:46.582Z"
   },
   {
    "duration": 82173,
    "start_time": "2021-09-09T14:44:48.493Z"
   },
   {
    "duration": 6,
    "start_time": "2021-09-09T14:46:17.150Z"
   },
   {
    "duration": 4125,
    "start_time": "2021-09-09T14:46:19.460Z"
   },
   {
    "duration": 3515,
    "start_time": "2021-09-09T14:46:25.130Z"
   },
   {
    "duration": 449807,
    "start_time": "2021-09-09T14:46:37.402Z"
   },
   {
    "duration": 6,
    "start_time": "2021-09-09T14:55:09.333Z"
   },
   {
    "duration": 2732,
    "start_time": "2021-09-09T14:55:25.575Z"
   },
   {
    "duration": 4384,
    "start_time": "2021-09-09T14:55:30.125Z"
   },
   {
    "duration": 1659,
    "start_time": "2021-09-09T14:57:51.258Z"
   },
   {
    "duration": 6,
    "start_time": "2021-09-09T14:57:57.710Z"
   },
   {
    "duration": 8191,
    "start_time": "2021-09-09T14:57:59.030Z"
   },
   {
    "duration": 3820,
    "start_time": "2021-09-09T14:58:12.911Z"
   },
   {
    "duration": 6,
    "start_time": "2021-09-09T14:58:34.941Z"
   },
   {
    "duration": 170,
    "start_time": "2021-09-09T14:58:36.647Z"
   },
   {
    "duration": 149,
    "start_time": "2021-09-09T14:58:41.843Z"
   },
   {
    "duration": 164,
    "start_time": "2021-09-09T14:59:04.313Z"
   },
   {
    "duration": 6,
    "start_time": "2021-09-09T14:59:17.213Z"
   },
   {
    "duration": 162,
    "start_time": "2021-09-09T14:59:58.035Z"
   },
   {
    "duration": 157,
    "start_time": "2021-09-09T15:00:00.621Z"
   },
   {
    "duration": 5,
    "start_time": "2021-09-09T15:00:23.609Z"
   },
   {
    "duration": 3991,
    "start_time": "2021-09-09T15:00:27.914Z"
   },
   {
    "duration": 7,
    "start_time": "2021-09-09T15:00:35.518Z"
   },
   {
    "duration": 185,
    "start_time": "2021-09-09T15:00:37.143Z"
   },
   {
    "duration": 151,
    "start_time": "2021-09-09T15:00:39.212Z"
   },
   {
    "duration": 6,
    "start_time": "2021-09-09T15:00:41.341Z"
   },
   {
    "duration": 44611,
    "start_time": "2021-09-09T15:00:46.575Z"
   },
   {
    "duration": 8,
    "start_time": "2021-09-09T15:01:45.945Z"
   },
   {
    "duration": 785,
    "start_time": "2021-09-09T15:01:47.089Z"
   },
   {
    "duration": 962,
    "start_time": "2021-09-09T15:01:48.140Z"
   },
   {
    "duration": 989,
    "start_time": "2021-09-09T15:01:52.560Z"
   },
   {
    "duration": 1018,
    "start_time": "2021-09-09T15:02:33.582Z"
   },
   {
    "duration": 663,
    "start_time": "2021-09-09T15:03:03.899Z"
   },
   {
    "duration": 770,
    "start_time": "2021-09-09T15:03:16.790Z"
   },
   {
    "duration": 210,
    "start_time": "2021-09-09T15:03:20.611Z"
   },
   {
    "duration": 6,
    "start_time": "2021-09-09T15:03:34.985Z"
   },
   {
    "duration": 7,
    "start_time": "2021-09-09T15:03:36.709Z"
   },
   {
    "duration": 22,
    "start_time": "2021-09-09T15:04:02.970Z"
   },
   {
    "duration": 35,
    "start_time": "2021-09-09T15:04:10.920Z"
   },
   {
    "duration": 70,
    "start_time": "2021-09-09T15:04:11.952Z"
   },
   {
    "duration": 5964,
    "start_time": "2021-09-09T15:05:12.954Z"
   },
   {
    "duration": 5945,
    "start_time": "2021-09-09T15:05:29.682Z"
   },
   {
    "duration": 6330,
    "start_time": "2021-09-09T15:05:51.257Z"
   },
   {
    "duration": 149,
    "start_time": "2021-09-09T15:05:57.590Z"
   },
   {
    "duration": 47,
    "start_time": "2021-09-09T15:05:57.742Z"
   },
   {
    "duration": 3,
    "start_time": "2021-09-09T15:05:57.791Z"
   },
   {
    "duration": 15241,
    "start_time": "2021-09-09T15:05:57.817Z"
   },
   {
    "duration": 43316,
    "start_time": "2021-09-09T15:06:35.278Z"
   },
   {
    "duration": 144599,
    "start_time": "2021-09-09T15:10:39.578Z"
   },
   {
    "duration": 6,
    "start_time": "2021-09-09T15:19:23.734Z"
   },
   {
    "duration": 35479,
    "start_time": "2021-09-09T15:20:31.129Z"
   },
   {
    "duration": 6,
    "start_time": "2021-09-09T15:21:21.577Z"
   },
   {
    "duration": 2124,
    "start_time": "2021-09-09T15:21:29.517Z"
   },
   {
    "duration": 2505,
    "start_time": "2021-09-09T15:21:37.612Z"
   },
   {
    "duration": 1607,
    "start_time": "2021-09-09T15:21:47.135Z"
   },
   {
    "duration": 4,
    "start_time": "2021-09-09T15:22:30.333Z"
   },
   {
    "duration": 818,
    "start_time": "2021-09-09T15:30:46.749Z"
   },
   {
    "duration": 117258,
    "start_time": "2021-09-09T15:31:33.319Z"
   },
   {
    "duration": 5,
    "start_time": "2021-09-09T15:33:59.759Z"
   },
   {
    "duration": 1741,
    "start_time": "2021-09-09T15:34:23.238Z"
   },
   {
    "duration": 1659,
    "start_time": "2021-09-09T15:34:27.152Z"
   },
   {
    "duration": 1624,
    "start_time": "2021-09-09T15:34:34.628Z"
   },
   {
    "duration": 1720,
    "start_time": "2021-09-09T15:34:44.004Z"
   },
   {
    "duration": 1627,
    "start_time": "2021-09-09T15:34:48.052Z"
   },
   {
    "duration": 162846,
    "start_time": "2021-09-09T15:37:42.492Z"
   },
   {
    "duration": 175716,
    "start_time": "2021-09-09T15:41:14.876Z"
   },
   {
    "duration": 2170,
    "start_time": "2021-09-09T15:44:56.317Z"
   },
   {
    "duration": 108,
    "start_time": "2021-09-09T15:44:58.491Z"
   },
   {
    "duration": 27,
    "start_time": "2021-09-09T15:44:58.603Z"
   },
   {
    "duration": 116,
    "start_time": "2021-09-09T15:44:58.634Z"
   },
   {
    "duration": 21,
    "start_time": "2021-09-09T15:44:58.753Z"
   },
   {
    "duration": 11,
    "start_time": "2021-09-09T15:44:58.777Z"
   },
   {
    "duration": 10,
    "start_time": "2021-09-09T15:44:58.816Z"
   },
   {
    "duration": 16,
    "start_time": "2021-09-09T15:44:58.831Z"
   },
   {
    "duration": 35,
    "start_time": "2021-09-09T15:44:58.849Z"
   },
   {
    "duration": 31,
    "start_time": "2021-09-09T15:44:58.886Z"
   },
   {
    "duration": 14,
    "start_time": "2021-09-09T15:44:58.920Z"
   },
   {
    "duration": 1347,
    "start_time": "2021-09-09T15:44:58.937Z"
   },
   {
    "duration": 32,
    "start_time": "2021-09-09T15:45:00.286Z"
   },
   {
    "duration": 13,
    "start_time": "2021-09-09T15:45:00.320Z"
   },
   {
    "duration": 25,
    "start_time": "2021-09-09T15:45:00.335Z"
   },
   {
    "duration": 18,
    "start_time": "2021-09-09T15:45:00.362Z"
   },
   {
    "duration": 38,
    "start_time": "2021-09-09T15:45:00.382Z"
   },
   {
    "duration": 329,
    "start_time": "2021-09-09T15:45:00.422Z"
   },
   {
    "duration": 36,
    "start_time": "2021-09-09T15:45:00.753Z"
   },
   {
    "duration": 43,
    "start_time": "2021-09-09T15:45:00.792Z"
   },
   {
    "duration": 4562,
    "start_time": "2021-09-09T15:45:01.664Z"
   },
   {
    "duration": 177,
    "start_time": "2021-09-09T15:45:06.229Z"
   },
   {
    "duration": 49,
    "start_time": "2021-09-09T15:45:06.410Z"
   },
   {
    "duration": 3,
    "start_time": "2021-09-09T15:45:06.462Z"
   },
   {
    "duration": 1070,
    "start_time": "2021-09-09T15:45:06.468Z"
   },
   {
    "duration": -32,
    "start_time": "2021-09-09T15:45:07.573Z"
   },
   {
    "duration": -36,
    "start_time": "2021-09-09T15:45:07.579Z"
   },
   {
    "duration": -96,
    "start_time": "2021-09-09T15:45:07.641Z"
   },
   {
    "duration": 924,
    "start_time": "2021-09-09T15:45:15.346Z"
   },
   {
    "duration": 908,
    "start_time": "2021-09-09T15:45:54.052Z"
   },
   {
    "duration": 34067,
    "start_time": "2021-09-09T15:46:05.288Z"
   },
   {
    "duration": 7,
    "start_time": "2021-09-09T15:46:56.529Z"
   },
   {
    "duration": 1763,
    "start_time": "2021-09-09T15:46:59.207Z"
   },
   {
    "duration": 1696,
    "start_time": "2021-09-09T15:47:01.936Z"
   },
   {
    "duration": 472,
    "start_time": "2021-09-09T15:48:25.717Z"
   },
   {
    "duration": 165431,
    "start_time": "2021-09-09T15:48:48.865Z"
   },
   {
    "duration": 7,
    "start_time": "2021-09-09T15:55:13.602Z"
   },
   {
    "duration": 1058,
    "start_time": "2021-09-09T15:55:15.541Z"
   },
   {
    "duration": 1504,
    "start_time": "2021-09-09T15:55:17.873Z"
   },
   {
    "duration": 605,
    "start_time": "2021-09-09T15:55:22.719Z"
   },
   {
    "duration": 21,
    "start_time": "2021-09-09T15:55:49.499Z"
   },
   {
    "duration": 25,
    "start_time": "2021-09-09T15:55:56.371Z"
   },
   {
    "duration": 34,
    "start_time": "2021-09-09T15:55:58.282Z"
   },
   {
    "duration": 6,
    "start_time": "2021-09-09T15:56:01.809Z"
   },
   {
    "duration": 6,
    "start_time": "2021-09-09T15:56:12.754Z"
   },
   {
    "duration": 1335,
    "start_time": "2021-09-09T15:56:13.326Z"
   },
   {
    "duration": 6,
    "start_time": "2021-09-09T15:56:15.424Z"
   },
   {
    "duration": 521,
    "start_time": "2021-09-09T15:56:16.271Z"
   },
   {
    "duration": 103137,
    "start_time": "2021-09-09T15:56:24.017Z"
   },
   {
    "duration": 7,
    "start_time": "2021-09-09T15:58:16.512Z"
   },
   {
    "duration": 4438,
    "start_time": "2021-09-09T15:58:24.395Z"
   },
   {
    "duration": 4884,
    "start_time": "2021-09-09T15:58:30.797Z"
   },
   {
    "duration": 562614,
    "start_time": "2021-09-09T15:58:59.506Z"
   },
   {
    "duration": 6,
    "start_time": "2021-09-09T16:08:45.064Z"
   },
   {
    "duration": 2958,
    "start_time": "2021-09-09T16:08:46.397Z"
   },
   {
    "duration": 4849,
    "start_time": "2021-09-09T16:08:49.358Z"
   },
   {
    "duration": 1624,
    "start_time": "2021-09-09T16:08:58.406Z"
   },
   {
    "duration": 6,
    "start_time": "2021-09-09T16:09:01.682Z"
   },
   {
    "duration": 8611,
    "start_time": "2021-09-09T16:09:09.310Z"
   },
   {
    "duration": 4127,
    "start_time": "2021-09-09T16:09:37.260Z"
   },
   {
    "duration": 6,
    "start_time": "2021-09-09T16:09:43.349Z"
   },
   {
    "duration": 177,
    "start_time": "2021-09-09T16:09:44.595Z"
   },
   {
    "duration": 156,
    "start_time": "2021-09-09T16:09:48.175Z"
   },
   {
    "duration": 6,
    "start_time": "2021-09-09T16:09:59.326Z"
   },
   {
    "duration": 32089,
    "start_time": "2021-09-09T16:10:10.231Z"
   },
   {
    "duration": 6,
    "start_time": "2021-09-09T16:13:06.693Z"
   },
   {
    "duration": 650,
    "start_time": "2021-09-09T16:13:36.270Z"
   },
   {
    "duration": 814,
    "start_time": "2021-09-09T16:13:37.785Z"
   },
   {
    "duration": 856,
    "start_time": "2021-09-09T16:13:47.214Z"
   },
   {
    "duration": 1129,
    "start_time": "2021-09-09T16:14:20.737Z"
   },
   {
    "duration": 755,
    "start_time": "2021-09-09T16:14:37.915Z"
   },
   {
    "duration": 235,
    "start_time": "2021-09-09T16:14:44.881Z"
   },
   {
    "duration": 6,
    "start_time": "2021-09-09T16:14:53.479Z"
   },
   {
    "duration": 7,
    "start_time": "2021-09-09T16:14:56.296Z"
   },
   {
    "duration": 20,
    "start_time": "2021-09-09T16:15:21.134Z"
   },
   {
    "duration": 48,
    "start_time": "2021-09-09T16:15:24.510Z"
   },
   {
    "duration": 25,
    "start_time": "2021-09-09T16:15:26.796Z"
   },
   {
    "duration": 93,
    "start_time": "2021-09-09T16:15:36.522Z"
   },
   {
    "duration": 23,
    "start_time": "2021-09-09T16:15:37.798Z"
   },
   {
    "duration": 36,
    "start_time": "2021-09-09T16:15:38.570Z"
   },
   {
    "duration": 26,
    "start_time": "2021-09-09T16:15:39.466Z"
   },
   {
    "duration": 94,
    "start_time": "2021-09-09T16:27:42.969Z"
   },
   {
    "duration": 329,
    "start_time": "2021-09-09T16:28:40.059Z"
   },
   {
    "duration": 294,
    "start_time": "2021-09-09T16:29:06.367Z"
   },
   {
    "duration": 4,
    "start_time": "2021-09-09T16:29:37.910Z"
   },
   {
    "duration": 1256,
    "start_time": "2021-09-09T16:56:59.819Z"
   },
   {
    "duration": 1408,
    "start_time": "2021-09-09T16:57:23.588Z"
   },
   {
    "duration": 526489,
    "start_time": "2021-09-09T16:57:42.920Z"
   },
   {
    "duration": 408,
    "start_time": "2021-09-09T17:07:00.532Z"
   },
   {
    "duration": 1553,
    "start_time": "2021-09-09T17:07:16.319Z"
   },
   {
    "duration": 1558,
    "start_time": "2021-09-10T11:42:29.459Z"
   },
   {
    "duration": 64,
    "start_time": "2021-09-10T11:42:31.019Z"
   },
   {
    "duration": 12,
    "start_time": "2021-09-10T11:42:32.091Z"
   },
   {
    "duration": 58,
    "start_time": "2021-09-10T11:42:32.398Z"
   },
   {
    "duration": 14,
    "start_time": "2021-09-10T11:42:32.700Z"
   },
   {
    "duration": 9,
    "start_time": "2021-09-10T11:42:33.021Z"
   },
   {
    "duration": 7,
    "start_time": "2021-09-10T11:42:33.306Z"
   },
   {
    "duration": 7,
    "start_time": "2021-09-10T11:42:33.529Z"
   },
   {
    "duration": 30,
    "start_time": "2021-09-10T11:42:33.838Z"
   },
   {
    "duration": 10,
    "start_time": "2021-09-10T11:42:34.093Z"
   },
   {
    "duration": 9,
    "start_time": "2021-09-10T11:42:34.315Z"
   },
   {
    "duration": 1200,
    "start_time": "2021-09-10T11:42:34.538Z"
   },
   {
    "duration": 15,
    "start_time": "2021-09-10T11:42:35.741Z"
   },
   {
    "duration": 29,
    "start_time": "2021-09-10T11:42:35.759Z"
   },
   {
    "duration": 12,
    "start_time": "2021-09-10T11:42:35.791Z"
   },
   {
    "duration": 30,
    "start_time": "2021-09-10T11:42:35.806Z"
   },
   {
    "duration": 48,
    "start_time": "2021-09-10T11:42:35.838Z"
   },
   {
    "duration": 272,
    "start_time": "2021-09-10T11:42:36.361Z"
   },
   {
    "duration": 32,
    "start_time": "2021-09-10T11:42:37.571Z"
   },
   {
    "duration": 17,
    "start_time": "2021-09-10T11:42:39.033Z"
   },
   {
    "duration": 4068,
    "start_time": "2021-09-10T11:42:41.586Z"
   },
   {
    "duration": 155,
    "start_time": "2021-09-10T11:43:14.117Z"
   },
   {
    "duration": 40,
    "start_time": "2021-09-10T11:43:18.484Z"
   },
   {
    "duration": 3,
    "start_time": "2021-09-10T11:43:21.227Z"
   },
   {
    "duration": 3,
    "start_time": "2021-09-10T11:43:34.853Z"
   },
   {
    "duration": 29091,
    "start_time": "2021-09-10T11:43:35.698Z"
   },
   {
    "duration": 505,
    "start_time": "2021-09-10T11:51:14.638Z"
   },
   {
    "duration": 385,
    "start_time": "2021-09-10T11:52:16.967Z"
   },
   {
    "duration": -48,
    "start_time": "2021-09-10T11:55:00.159Z"
   },
   {
    "duration": 48865,
    "start_time": "2021-09-10T11:56:03.408Z"
   },
   {
    "duration": 6,
    "start_time": "2021-09-10T11:57:10.830Z"
   },
   {
    "duration": 5,
    "start_time": "2021-09-10T11:57:14.962Z"
   },
   {
    "duration": 647699,
    "start_time": "2021-09-10T11:57:25.788Z"
   },
   {
    "duration": 5,
    "start_time": "2021-09-10T12:09:02.420Z"
   },
   {
    "duration": 131066,
    "start_time": "2021-09-10T12:09:03.990Z"
   },
   {
    "duration": -131,
    "start_time": "2021-09-10T12:11:15.190Z"
   },
   {
    "duration": 359,
    "start_time": "2021-09-10T12:14:34.139Z"
   },
   {
    "duration": 314,
    "start_time": "2021-09-10T12:15:15.744Z"
   },
   {
    "duration": 355,
    "start_time": "2021-09-10T12:15:39.632Z"
   },
   {
    "duration": 363,
    "start_time": "2021-09-10T12:15:49.615Z"
   },
   {
    "duration": 1496,
    "start_time": "2021-09-10T12:19:20.103Z"
   },
   {
    "duration": 58,
    "start_time": "2021-09-10T12:19:21.602Z"
   },
   {
    "duration": 20,
    "start_time": "2021-09-10T12:19:21.663Z"
   },
   {
    "duration": 54,
    "start_time": "2021-09-10T12:19:21.686Z"
   },
   {
    "duration": 14,
    "start_time": "2021-09-10T12:19:21.742Z"
   },
   {
    "duration": 31,
    "start_time": "2021-09-10T12:19:21.758Z"
   },
   {
    "duration": 7,
    "start_time": "2021-09-10T12:19:21.791Z"
   },
   {
    "duration": 6,
    "start_time": "2021-09-10T12:19:21.802Z"
   },
   {
    "duration": 31,
    "start_time": "2021-09-10T12:19:21.810Z"
   },
   {
    "duration": 9,
    "start_time": "2021-09-10T12:19:21.883Z"
   },
   {
    "duration": 9,
    "start_time": "2021-09-10T12:19:21.895Z"
   },
   {
    "duration": 1156,
    "start_time": "2021-09-10T12:19:22.599Z"
   },
   {
    "duration": 16,
    "start_time": "2021-09-10T12:19:24.071Z"
   },
   {
    "duration": 13,
    "start_time": "2021-09-10T12:19:24.723Z"
   },
   {
    "duration": 17,
    "start_time": "2021-09-10T12:19:25.016Z"
   },
   {
    "duration": 15,
    "start_time": "2021-09-10T12:19:25.227Z"
   },
   {
    "duration": 9,
    "start_time": "2021-09-10T12:19:27.077Z"
   },
   {
    "duration": 296,
    "start_time": "2021-09-10T12:19:28.063Z"
   },
   {
    "duration": 34,
    "start_time": "2021-09-10T12:19:32.289Z"
   },
   {
    "duration": 17,
    "start_time": "2021-09-10T12:19:34.981Z"
   },
   {
    "duration": 567,
    "start_time": "2021-09-10T12:23:58.649Z"
   },
   {
    "duration": 39,
    "start_time": "2021-09-10T12:27:05.269Z"
   },
   {
    "duration": 3,
    "start_time": "2021-09-10T12:27:06.199Z"
   },
   {
    "duration": 459,
    "start_time": "2021-09-10T12:27:07.095Z"
   },
   {
    "duration": 28,
    "start_time": "2021-09-10T12:27:15.776Z"
   },
   {
    "duration": 3,
    "start_time": "2021-09-10T12:27:28.371Z"
   },
   {
    "duration": 4,
    "start_time": "2021-09-10T12:27:34.578Z"
   },
   {
    "duration": 11810,
    "start_time": "2021-09-10T12:29:14.163Z"
   },
   {
    "duration": 190546,
    "start_time": "2021-09-10T12:33:46.197Z"
   },
   {
    "duration": 1161,
    "start_time": "2021-09-10T12:37:17.465Z"
   },
   {
    "duration": 3,
    "start_time": "2021-09-10T12:37:23.651Z"
   },
   {
    "duration": 3,
    "start_time": "2021-09-10T12:37:28.637Z"
   },
   {
    "duration": 7,
    "start_time": "2021-09-10T12:37:29.655Z"
   },
   {
    "duration": 684,
    "start_time": "2021-09-10T12:38:45.282Z"
   },
   {
    "duration": 821,
    "start_time": "2021-09-10T12:39:46.057Z"
   },
   {
    "duration": 58240,
    "start_time": "2021-09-10T12:41:34.084Z"
   },
   {
    "duration": 6,
    "start_time": "2021-09-10T12:43:21.933Z"
   },
   {
    "duration": 356,
    "start_time": "2021-09-10T12:44:44.750Z"
   },
   {
    "duration": 418,
    "start_time": "2021-09-10T12:45:01.747Z"
   },
   {
    "duration": 526,
    "start_time": "2021-09-10T12:45:14.029Z"
   },
   {
    "duration": 424,
    "start_time": "2021-09-10T12:47:07.194Z"
   },
   {
    "duration": 491,
    "start_time": "2021-09-10T12:47:27.094Z"
   },
   {
    "duration": 6,
    "start_time": "2021-09-10T12:47:58.784Z"
   },
   {
    "duration": 6,
    "start_time": "2021-09-10T13:00:32.528Z"
   },
   {
    "duration": 563,
    "start_time": "2021-09-10T13:00:33.757Z"
   },
   {
    "duration": 5,
    "start_time": "2021-09-10T13:00:38.588Z"
   },
   {
    "duration": 202,
    "start_time": "2021-09-10T13:01:17.595Z"
   },
   {
    "duration": 2,
    "start_time": "2021-09-10T13:01:19.743Z"
   },
   {
    "duration": 32234,
    "start_time": "2021-09-10T13:03:29.984Z"
   },
   {
    "duration": 6,
    "start_time": "2021-09-10T13:04:24.674Z"
   },
   {
    "duration": 1260,
    "start_time": "2021-09-10T13:05:42.494Z"
   },
   {
    "duration": 354,
    "start_time": "2021-09-10T13:07:04.802Z"
   },
   {
    "duration": 1251,
    "start_time": "2021-09-10T13:07:29.940Z"
   },
   {
    "duration": 156346,
    "start_time": "2021-09-10T13:09:07.758Z"
   },
   {
    "duration": 6,
    "start_time": "2021-09-10T13:13:40.798Z"
   },
   {
    "duration": 348,
    "start_time": "2021-09-10T13:13:43.076Z"
   },
   {
    "duration": 3970,
    "start_time": "2021-09-10T13:14:00.891Z"
   },
   {
    "duration": 5344,
    "start_time": "2021-09-10T13:15:43.786Z"
   },
   {
    "duration": 1529,
    "start_time": "2021-09-10T13:16:41.966Z"
   },
   {
    "duration": 1494,
    "start_time": "2021-09-10T13:17:18.290Z"
   },
   {
    "duration": 36505,
    "start_time": "2021-09-10T13:19:04.132Z"
   },
   {
    "duration": 80153,
    "start_time": "2021-09-10T13:21:31.128Z"
   },
   {
    "duration": 163741,
    "start_time": "2021-09-10T13:23:01.264Z"
   },
   {
    "duration": 6,
    "start_time": "2021-09-10T13:26:23.052Z"
   },
   {
    "duration": 1511,
    "start_time": "2021-09-10T13:26:57.284Z"
   },
   {
    "duration": 2310,
    "start_time": "2021-09-10T13:29:53.658Z"
   },
   {
    "duration": 7297,
    "start_time": "2021-09-10T13:30:07.757Z"
   },
   {
    "duration": 5,
    "start_time": "2021-09-10T13:31:07.614Z"
   },
   {
    "duration": 103,
    "start_time": "2021-09-10T13:32:00.625Z"
   },
   {
    "duration": 89,
    "start_time": "2021-09-10T13:32:59.836Z"
   },
   {
    "duration": 5,
    "start_time": "2021-09-10T13:35:40.848Z"
   },
   {
    "duration": 6,
    "start_time": "2021-09-10T13:36:15.105Z"
   },
   {
    "duration": 13737,
    "start_time": "2021-09-10T13:37:51.500Z"
   },
   {
    "duration": 19448,
    "start_time": "2021-09-10T13:39:10.701Z"
   },
   {
    "duration": 294407,
    "start_time": "2021-09-10T13:39:47.351Z"
   },
   {
    "duration": 5,
    "start_time": "2021-09-10T13:45:06.851Z"
   },
   {
    "duration": 444,
    "start_time": "2021-09-10T13:45:57.568Z"
   },
   {
    "duration": 398,
    "start_time": "2021-09-10T13:46:17.462Z"
   },
   {
    "duration": 401,
    "start_time": "2021-09-10T13:47:28.352Z"
   },
   {
    "duration": 467,
    "start_time": "2021-09-10T13:52:21.297Z"
   },
   {
    "duration": 510,
    "start_time": "2021-09-10T13:52:44.899Z"
   },
   {
    "duration": 525,
    "start_time": "2021-09-10T13:53:04.773Z"
   },
   {
    "duration": 29994,
    "start_time": "2021-09-10T13:53:17.692Z"
   },
   {
    "duration": 6,
    "start_time": "2021-09-10T13:57:20.198Z"
   },
   {
    "duration": 195,
    "start_time": "2021-09-10T13:58:50.414Z"
   },
   {
    "duration": 357,
    "start_time": "2021-09-10T13:59:31.945Z"
   },
   {
    "duration": 196,
    "start_time": "2021-09-10T13:59:38.391Z"
   },
   {
    "duration": 158,
    "start_time": "2021-09-10T13:59:48.949Z"
   },
   {
    "duration": 167,
    "start_time": "2021-09-10T14:00:01.230Z"
   },
   {
    "duration": 235,
    "start_time": "2021-09-10T14:00:12.649Z"
   },
   {
    "duration": 476,
    "start_time": "2021-09-10T14:02:01.817Z"
   },
   {
    "duration": 336,
    "start_time": "2021-09-10T14:02:21.877Z"
   },
   {
    "duration": 334,
    "start_time": "2021-09-10T14:02:28.595Z"
   },
   {
    "duration": 3001,
    "start_time": "2021-09-10T14:02:37.481Z"
   },
   {
    "duration": 529,
    "start_time": "2021-09-10T14:03:04.808Z"
   },
   {
    "duration": 2935,
    "start_time": "2021-09-10T14:03:13.350Z"
   },
   {
    "duration": 159,
    "start_time": "2021-09-10T14:03:30.134Z"
   },
   {
    "duration": 158,
    "start_time": "2021-09-10T14:03:37.946Z"
   },
   {
    "duration": 190,
    "start_time": "2021-09-10T14:03:44.594Z"
   },
   {
    "duration": 157,
    "start_time": "2021-09-10T14:03:58.628Z"
   },
   {
    "duration": 225,
    "start_time": "2021-09-10T14:04:07.759Z"
   },
   {
    "duration": 197,
    "start_time": "2021-09-10T14:04:20.087Z"
   },
   {
    "duration": 538,
    "start_time": "2021-09-10T14:05:24.265Z"
   },
   {
    "duration": 5942,
    "start_time": "2021-09-10T14:05:32.843Z"
   },
   {
    "duration": 217,
    "start_time": "2021-09-10T14:05:54.569Z"
   },
   {
    "duration": 501,
    "start_time": "2021-09-10T14:08:28.778Z"
   },
   {
    "duration": 545,
    "start_time": "2021-09-10T14:08:44.038Z"
   },
   {
    "duration": 6167,
    "start_time": "2021-09-10T14:08:59.315Z"
   },
   {
    "duration": 566,
    "start_time": "2021-09-10T14:09:16.825Z"
   },
   {
    "duration": 5929,
    "start_time": "2021-09-10T14:09:30.156Z"
   },
   {
    "duration": 408,
    "start_time": "2021-09-10T14:10:21.978Z"
   },
   {
    "duration": 184,
    "start_time": "2021-09-10T14:10:29.102Z"
   },
   {
    "duration": 161,
    "start_time": "2021-09-10T14:11:18.223Z"
   },
   {
    "duration": 168,
    "start_time": "2021-09-10T14:11:22.621Z"
   },
   {
    "duration": 310,
    "start_time": "2021-09-10T14:11:53.452Z"
   },
   {
    "duration": 400,
    "start_time": "2021-09-10T14:11:57.810Z"
   },
   {
    "duration": 273,
    "start_time": "2021-09-10T14:12:05.228Z"
   },
   {
    "duration": 423,
    "start_time": "2021-09-10T14:12:09.730Z"
   },
   {
    "duration": 210,
    "start_time": "2021-09-10T14:12:16.176Z"
   },
   {
    "duration": 164,
    "start_time": "2021-09-10T14:12:29.124Z"
   },
   {
    "duration": 3601,
    "start_time": "2021-09-10T14:13:47.092Z"
   },
   {
    "duration": 3721,
    "start_time": "2021-09-10T14:14:00.463Z"
   },
   {
    "duration": 161,
    "start_time": "2021-09-10T14:14:11.123Z"
   },
   {
    "duration": 1136,
    "start_time": "2021-09-10T14:14:38.548Z"
   },
   {
    "duration": 369,
    "start_time": "2021-09-10T14:15:06.648Z"
   },
   {
    "duration": 176,
    "start_time": "2021-09-10T14:15:11.912Z"
   },
   {
    "duration": 20983,
    "start_time": "2021-09-10T14:15:21.208Z"
   },
   {
    "duration": 157,
    "start_time": "2021-09-10T14:15:50.239Z"
   },
   {
    "duration": 6,
    "start_time": "2021-09-10T14:16:23.202Z"
   },
   {
    "duration": 3036251,
    "start_time": "2021-09-10T14:19:44.640Z"
   },
   {
    "duration": 5,
    "start_time": "2021-09-10T15:10:39.430Z"
   },
   {
    "duration": 12093,
    "start_time": "2021-09-10T15:11:38.611Z"
   },
   {
    "duration": 12774,
    "start_time": "2021-09-10T15:12:01.591Z"
   },
   {
    "duration": 739,
    "start_time": "2021-09-10T15:16:03.152Z"
   },
   {
    "duration": 234336,
    "start_time": "2021-09-10T15:16:24.046Z"
   },
   {
    "duration": 6,
    "start_time": "2021-09-10T15:20:51.111Z"
   },
   {
    "duration": 12607,
    "start_time": "2021-09-10T15:21:07.921Z"
   },
   {
    "duration": 14146,
    "start_time": "2021-09-10T15:24:03.098Z"
   },
   {
    "duration": 97602,
    "start_time": "2021-09-10T15:24:28.757Z"
   },
   {
    "duration": 334553,
    "start_time": "2021-09-10T15:29:32.455Z"
   },
   {
    "duration": 808155,
    "start_time": "2021-09-10T15:35:20.127Z"
   },
   {
    "duration": 12421,
    "start_time": "2021-09-10T15:50:16.618Z"
   },
   {
    "duration": 12178,
    "start_time": "2021-09-10T15:50:52.934Z"
   },
   {
    "duration": 756,
    "start_time": "2021-09-10T15:52:45.562Z"
   },
   {
    "duration": 40339,
    "start_time": "2021-09-10T15:53:00.459Z"
   },
   {
    "duration": 80333,
    "start_time": "2021-09-10T15:53:58.942Z"
   },
   {
    "duration": 354795,
    "start_time": "2021-09-10T15:55:35.060Z"
   },
   {
    "duration": 157280,
    "start_time": "2021-09-10T16:01:42.075Z"
   },
   {
    "duration": 178039,
    "start_time": "2021-09-10T16:05:34.386Z"
   },
   {
    "duration": 28123,
    "start_time": "2021-09-10T16:09:53.634Z"
   },
   {
    "duration": 27683,
    "start_time": "2021-09-10T16:10:29.568Z"
   },
   {
    "duration": 26954,
    "start_time": "2021-09-10T16:11:41.306Z"
   },
   {
    "duration": 738,
    "start_time": "2021-09-10T16:13:03.279Z"
   },
   {
    "duration": 128230,
    "start_time": "2021-09-10T16:13:13.551Z"
   },
   {
    "duration": 178264,
    "start_time": "2021-09-10T16:16:14.627Z"
   },
   {
    "duration": 292,
    "start_time": "2021-09-10T16:27:16.394Z"
   },
   {
    "duration": 104,
    "start_time": "2021-09-10T16:28:20.463Z"
   },
   {
    "duration": 12527,
    "start_time": "2021-09-10T16:28:33.980Z"
   },
   {
    "duration": 12124,
    "start_time": "2021-09-10T16:29:19.069Z"
   },
   {
    "duration": 12588,
    "start_time": "2021-09-10T16:29:44.178Z"
   },
   {
    "duration": 1592,
    "start_time": "2021-09-10T16:32:02.022Z"
   },
   {
    "duration": 52,
    "start_time": "2021-09-10T16:32:20.302Z"
   },
   {
    "duration": 6,
    "start_time": "2021-09-10T16:32:41.116Z"
   },
   {
    "duration": 12250,
    "start_time": "2021-09-10T16:34:57.032Z"
   },
   {
    "duration": 6,
    "start_time": "2021-09-10T16:35:12.347Z"
   },
   {
    "duration": 50,
    "start_time": "2021-09-10T16:35:13.879Z"
   },
   {
    "duration": 12605,
    "start_time": "2021-09-10T16:36:49.455Z"
   },
   {
    "duration": 40349,
    "start_time": "2021-09-10T16:37:51.780Z"
   },
   {
    "duration": 1809963,
    "start_time": "2021-09-10T16:39:36.253Z"
   },
   {
    "duration": 1592,
    "start_time": "2021-09-11T11:12:30.059Z"
   },
   {
    "duration": 70,
    "start_time": "2021-09-11T11:12:31.654Z"
   },
   {
    "duration": 13,
    "start_time": "2021-09-11T11:12:31.727Z"
   },
   {
    "duration": 63,
    "start_time": "2021-09-11T11:12:32.610Z"
   },
   {
    "duration": 15,
    "start_time": "2021-09-11T11:12:32.912Z"
   },
   {
    "duration": 9,
    "start_time": "2021-09-11T11:12:33.153Z"
   },
   {
    "duration": 8,
    "start_time": "2021-09-11T11:12:33.322Z"
   },
   {
    "duration": 7,
    "start_time": "2021-09-11T11:12:33.512Z"
   },
   {
    "duration": 34,
    "start_time": "2021-09-11T11:12:33.654Z"
   },
   {
    "duration": 10,
    "start_time": "2021-09-11T11:12:34.215Z"
   },
   {
    "duration": 9,
    "start_time": "2021-09-11T11:12:34.460Z"
   },
   {
    "duration": 1353,
    "start_time": "2021-09-11T11:12:34.714Z"
   },
   {
    "duration": 16,
    "start_time": "2021-09-11T11:12:36.070Z"
   },
   {
    "duration": 14,
    "start_time": "2021-09-11T11:17:22.630Z"
   },
   {
    "duration": 16,
    "start_time": "2021-09-11T11:17:22.911Z"
   },
   {
    "duration": 16,
    "start_time": "2021-09-11T11:17:23.160Z"
   },
   {
    "duration": 9,
    "start_time": "2021-09-11T11:17:23.634Z"
   },
   {
    "duration": 298,
    "start_time": "2021-09-11T11:17:25.996Z"
   },
   {
    "duration": 36,
    "start_time": "2021-09-11T11:17:29.178Z"
   },
   {
    "duration": 19,
    "start_time": "2021-09-11T11:17:32.186Z"
   },
   {
    "duration": 672,
    "start_time": "2021-09-11T11:17:46.162Z"
   },
   {
    "duration": 49,
    "start_time": "2021-09-11T11:17:55.381Z"
   },
   {
    "duration": 4,
    "start_time": "2021-09-11T11:17:56.330Z"
   },
   {
    "duration": 31,
    "start_time": "2021-09-11T11:17:57.643Z"
   },
   {
    "duration": 4,
    "start_time": "2021-09-11T11:17:58.255Z"
   },
   {
    "duration": 4,
    "start_time": "2021-09-11T11:18:02.727Z"
   },
   {
    "duration": 11416,
    "start_time": "2021-09-11T11:18:05.534Z"
   },
   {
    "duration": 8600,
    "start_time": "2021-09-11T11:25:26.578Z"
   },
   {
    "duration": 8329,
    "start_time": "2021-09-11T11:25:54.570Z"
   },
   {
    "duration": 408,
    "start_time": "2021-09-11T11:27:23.064Z"
   },
   {
    "duration": 345,
    "start_time": "2021-09-11T11:27:32.607Z"
   },
   {
    "duration": 361,
    "start_time": "2021-09-11T11:27:44.742Z"
   },
   {
    "duration": 356,
    "start_time": "2021-09-11T11:27:56.720Z"
   },
   {
    "duration": 8844,
    "start_time": "2021-09-11T11:28:07.391Z"
   },
   {
    "duration": 333,
    "start_time": "2021-09-11T11:28:26.959Z"
   },
   {
    "duration": 80400,
    "start_time": "2021-09-11T11:28:44.762Z"
   },
   {
    "duration": 359,
    "start_time": "2021-09-11T11:34:34.073Z"
   },
   {
    "duration": 3025,
    "start_time": "2021-09-11T11:34:43.667Z"
   },
   {
    "duration": 325089,
    "start_time": "2021-09-11T11:35:15.914Z"
   },
   {
    "duration": 7927,
    "start_time": "2021-09-11T11:42:50.513Z"
   },
   {
    "duration": 163423,
    "start_time": "2021-09-11T11:44:18.817Z"
   },
   {
    "duration": 3,
    "start_time": "2021-09-11T11:47:02.243Z"
   },
   {
    "duration": 189810,
    "start_time": "2021-09-11T11:47:55.981Z"
   },
   {
    "duration": 44831,
    "start_time": "2021-09-11T11:53:31.144Z"
   },
   {
    "duration": 3702,
    "start_time": "2021-09-11T11:56:10.009Z"
   },
   {
    "duration": 11062,
    "start_time": "2021-09-11T11:56:34.144Z"
   },
   {
    "duration": 7,
    "start_time": "2021-09-11T11:57:26.003Z"
   },
   {
    "duration": 671,
    "start_time": "2021-09-11T11:57:34.176Z"
   },
   {
    "duration": 453,
    "start_time": "2021-09-11T11:57:40.176Z"
   },
   {
    "duration": 10877,
    "start_time": "2021-09-11T11:58:09.174Z"
   },
   {
    "duration": 5,
    "start_time": "2021-09-11T11:58:29.665Z"
   },
   {
    "duration": 390,
    "start_time": "2021-09-11T11:59:48.298Z"
   },
   {
    "duration": 409,
    "start_time": "2021-09-11T11:59:55.526Z"
   },
   {
    "duration": 410,
    "start_time": "2021-09-11T12:00:08.277Z"
   },
   {
    "duration": 5,
    "start_time": "2021-09-11T12:01:50.633Z"
   },
   {
    "duration": 6,
    "start_time": "2021-09-11T12:02:04.449Z"
   },
   {
    "duration": 363,
    "start_time": "2021-09-11T12:02:18.019Z"
   },
   {
    "duration": 4,
    "start_time": "2021-09-11T12:02:39.699Z"
   },
   {
    "duration": 6,
    "start_time": "2021-09-11T12:02:49.555Z"
   },
   {
    "duration": 102,
    "start_time": "2021-09-11T12:03:19.099Z"
   },
   {
    "duration": 6,
    "start_time": "2021-09-11T12:03:23.898Z"
   },
   {
    "duration": 58837,
    "start_time": "2021-09-11T12:05:37.399Z"
   },
   {
    "duration": 6,
    "start_time": "2021-09-11T12:06:58.137Z"
   },
   {
    "duration": 405,
    "start_time": "2021-09-11T12:07:13.343Z"
   },
   {
    "duration": 425,
    "start_time": "2021-09-11T12:07:36.845Z"
   },
   {
    "duration": 5,
    "start_time": "2021-09-11T12:07:52.686Z"
   },
   {
    "duration": 6,
    "start_time": "2021-09-11T12:08:08.458Z"
   },
   {
    "duration": 564,
    "start_time": "2021-09-11T12:08:09.176Z"
   },
   {
    "duration": 3,
    "start_time": "2021-09-11T12:08:09.793Z"
   },
   {
    "duration": 6,
    "start_time": "2021-09-11T12:08:10.392Z"
   },
   {
    "duration": 197,
    "start_time": "2021-09-11T12:08:11.116Z"
   },
   {
    "duration": 4,
    "start_time": "2021-09-11T12:08:20.616Z"
   },
   {
    "duration": 28831,
    "start_time": "2021-09-11T12:08:23.576Z"
   },
   {
    "duration": 6,
    "start_time": "2021-09-11T12:09:24.006Z"
   },
   {
    "duration": 1202,
    "start_time": "2021-09-11T12:09:27.694Z"
   },
   {
    "duration": 1083,
    "start_time": "2021-09-11T12:09:38.784Z"
   },
   {
    "duration": 117,
    "start_time": "2021-09-11T12:11:11.714Z"
   },
   {
    "duration": 6,
    "start_time": "2021-09-11T12:11:17.234Z"
   },
   {
    "duration": 5,
    "start_time": "2021-09-11T12:12:14.839Z"
   },
   {
    "duration": 6,
    "start_time": "2021-09-11T12:12:41.382Z"
   },
   {
    "duration": 5,
    "start_time": "2021-09-11T12:12:51.384Z"
   },
   {
    "duration": 244853,
    "start_time": "2021-09-11T12:13:52.839Z"
   },
   {
    "duration": -160,
    "start_time": "2021-09-11T12:17:57.855Z"
   },
   {
    "duration": -165,
    "start_time": "2021-09-11T12:17:57.861Z"
   },
   {
    "duration": 2958041,
    "start_time": "2021-09-11T12:18:03.106Z"
   },
   {
    "duration": 6,
    "start_time": "2021-09-11T13:08:23.399Z"
   },
   {
    "duration": 469,
    "start_time": "2021-09-11T13:10:57.508Z"
   },
   {
    "duration": 99,
    "start_time": "2021-09-11T13:11:11.345Z"
   },
   {
    "duration": 154015,
    "start_time": "2021-09-11T13:11:56.847Z"
   },
   {
    "duration": 152563,
    "start_time": "2021-09-11T13:15:08.185Z"
   },
   {
    "duration": 5,
    "start_time": "2021-09-11T13:18:21.506Z"
   },
   {
    "duration": 46,
    "start_time": "2021-09-11T13:18:24.976Z"
   },
   {
    "duration": 45,
    "start_time": "2021-09-11T13:18:54.700Z"
   },
   {
    "duration": 1107,
    "start_time": "2021-09-11T13:20:30.225Z"
   },
   {
    "duration": 1118,
    "start_time": "2021-09-11T13:20:37.277Z"
   },
   {
    "duration": 1143,
    "start_time": "2021-09-11T13:20:49.658Z"
   },
   {
    "duration": 53893,
    "start_time": "2021-09-11T13:21:10.733Z"
   },
   {
    "duration": 14973,
    "start_time": "2021-09-11T13:22:36.622Z"
   },
   {
    "duration": 1357,
    "start_time": "2021-09-11T13:24:25.092Z"
   },
   {
    "duration": 4390,
    "start_time": "2021-09-11T13:24:51.825Z"
   },
   {
    "duration": 12131,
    "start_time": "2021-09-11T13:25:06.984Z"
   },
   {
    "duration": 12098,
    "start_time": "2021-09-11T13:25:57.321Z"
   },
   {
    "duration": 39,
    "start_time": "2021-09-11T13:28:17.914Z"
   },
   {
    "duration": 38,
    "start_time": "2021-09-11T13:28:32.534Z"
   },
   {
    "duration": 13404,
    "start_time": "2021-09-11T13:31:25.789Z"
   },
   {
    "duration": 28186,
    "start_time": "2021-09-11T13:31:44.689Z"
   },
   {
    "duration": 1290,
    "start_time": "2021-09-11T13:34:49.074Z"
   },
   {
    "duration": 6589,
    "start_time": "2021-09-11T13:35:32.307Z"
   },
   {
    "duration": 632,
    "start_time": "2021-09-11T13:35:58.665Z"
   },
   {
    "duration": 1861,
    "start_time": "2021-09-11T13:36:05.268Z"
   },
   {
    "duration": 319,
    "start_time": "2021-09-11T13:36:25.122Z"
   },
   {
    "duration": 2011,
    "start_time": "2021-09-11T13:37:05.881Z"
   },
   {
    "duration": 36,
    "start_time": "2021-09-11T13:37:20.915Z"
   },
   {
    "duration": 7,
    "start_time": "2021-09-11T13:37:22.341Z"
   },
   {
    "duration": 20,
    "start_time": "2021-09-11T13:37:27.757Z"
   },
   {
    "duration": 12,
    "start_time": "2021-09-11T13:37:41.577Z"
   },
   {
    "duration": 55,
    "start_time": "2021-09-11T13:37:53.607Z"
   },
   {
    "duration": 14,
    "start_time": "2021-09-11T13:38:28.100Z"
   },
   {
    "duration": 4,
    "start_time": "2021-09-11T13:38:35.725Z"
   },
   {
    "duration": 6,
    "start_time": "2021-09-11T13:38:38.780Z"
   },
   {
    "duration": 21,
    "start_time": "2021-09-11T13:39:05.301Z"
   },
   {
    "duration": 14,
    "start_time": "2021-09-11T13:39:16.547Z"
   },
   {
    "duration": 11,
    "start_time": "2021-09-11T13:39:24.999Z"
   },
   {
    "duration": 5,
    "start_time": "2021-09-11T13:39:40.394Z"
   },
   {
    "duration": 32,
    "start_time": "2021-09-11T13:40:26.688Z"
   },
   {
    "duration": 17,
    "start_time": "2021-09-11T13:40:44.199Z"
   },
   {
    "duration": 108,
    "start_time": "2021-09-11T13:41:09.222Z"
   },
   {
    "duration": 5,
    "start_time": "2021-09-11T13:41:24.490Z"
   },
   {
    "duration": 36,
    "start_time": "2021-09-11T13:41:33.924Z"
   },
   {
    "duration": 6,
    "start_time": "2021-09-11T13:41:44.348Z"
   },
   {
    "duration": 33,
    "start_time": "2021-09-11T13:41:54.702Z"
   },
   {
    "duration": 6,
    "start_time": "2021-09-11T13:42:09.661Z"
   },
   {
    "duration": 6,
    "start_time": "2021-09-11T13:42:26.557Z"
   },
   {
    "duration": 6,
    "start_time": "2021-09-11T13:42:28.258Z"
   },
   {
    "duration": 12,
    "start_time": "2021-09-11T13:42:46.623Z"
   },
   {
    "duration": 10,
    "start_time": "2021-09-11T13:43:00.810Z"
   },
   {
    "duration": 31314,
    "start_time": "2021-09-11T13:43:11.514Z"
   },
   {
    "duration": 48,
    "start_time": "2021-09-11T13:44:52.964Z"
   },
   {
    "duration": 4,
    "start_time": "2021-09-11T13:45:58.877Z"
   },
   {
    "duration": 6,
    "start_time": "2021-09-11T13:46:08.358Z"
   },
   {
    "duration": 1042,
    "start_time": "2021-09-11T13:46:54.100Z"
   },
   {
    "duration": 50,
    "start_time": "2021-09-11T13:47:29.733Z"
   },
   {
    "duration": 1536,
    "start_time": "2021-09-11T13:48:35.992Z"
   },
   {
    "duration": 68,
    "start_time": "2021-09-11T13:48:39.710Z"
   },
   {
    "duration": 6,
    "start_time": "2021-09-11T13:49:23.465Z"
   },
   {
    "duration": 12,
    "start_time": "2021-09-11T13:49:26.771Z"
   },
   {
    "duration": 16,
    "start_time": "2021-09-11T14:08:47.925Z"
   },
   {
    "duration": 9,
    "start_time": "2021-09-11T14:08:54.728Z"
   },
   {
    "duration": 9,
    "start_time": "2021-09-11T14:08:55.624Z"
   },
   {
    "duration": 9,
    "start_time": "2021-09-11T14:08:58.585Z"
   },
   {
    "duration": 26,
    "start_time": "2021-09-11T14:09:02.006Z"
   },
   {
    "duration": 10,
    "start_time": "2021-09-11T14:09:02.634Z"
   },
   {
    "duration": 9,
    "start_time": "2021-09-11T14:09:03.056Z"
   },
   {
    "duration": 1054,
    "start_time": "2021-09-11T14:09:03.324Z"
   },
   {
    "duration": 13,
    "start_time": "2021-09-11T14:09:04.380Z"
   },
   {
    "duration": 13,
    "start_time": "2021-09-11T14:09:04.396Z"
   },
   {
    "duration": 17,
    "start_time": "2021-09-11T14:09:04.774Z"
   },
   {
    "duration": 15,
    "start_time": "2021-09-11T14:09:05.330Z"
   },
   {
    "duration": 20,
    "start_time": "2021-09-11T14:09:06.154Z"
   },
   {
    "duration": 319,
    "start_time": "2021-09-11T14:09:08.064Z"
   },
   {
    "duration": 30,
    "start_time": "2021-09-11T14:09:12.556Z"
   },
   {
    "duration": 18,
    "start_time": "2021-09-11T14:09:13.214Z"
   },
   {
    "duration": 31,
    "start_time": "2021-09-11T14:10:45.511Z"
   },
   {
    "duration": 10,
    "start_time": "2021-09-11T14:10:53.544Z"
   },
   {
    "duration": 4,
    "start_time": "2021-09-11T14:10:56.789Z"
   },
   {
    "duration": 33,
    "start_time": "2021-09-11T14:11:20.635Z"
   },
   {
    "duration": 530,
    "start_time": "2021-09-11T14:12:35.230Z"
   },
   {
    "duration": 37,
    "start_time": "2021-09-11T14:12:43.576Z"
   },
   {
    "duration": 3,
    "start_time": "2021-09-11T14:12:46.891Z"
   },
   {
    "duration": 4,
    "start_time": "2021-09-11T14:12:48.569Z"
   },
   {
    "duration": 474,
    "start_time": "2021-09-11T14:13:03.574Z"
   },
   {
    "duration": 760,
    "start_time": "2021-09-11T14:13:32.375Z"
   },
   {
    "duration": 788,
    "start_time": "2021-09-11T14:13:59.781Z"
   },
   {
    "duration": 7,
    "start_time": "2021-09-11T14:14:25.381Z"
   },
   {
    "duration": 900,
    "start_time": "2021-09-11T14:14:39.643Z"
   },
   {
    "duration": 759,
    "start_time": "2021-09-11T14:14:48.685Z"
   },
   {
    "duration": 6,
    "start_time": "2021-09-11T14:14:53.437Z"
   },
   {
    "duration": 3,
    "start_time": "2021-09-11T14:14:55.855Z"
   },
   {
    "duration": 37,
    "start_time": "2021-09-11T14:15:08.477Z"
   },
   {
    "duration": 36,
    "start_time": "2021-09-11T14:15:14.835Z"
   },
   {
    "duration": 20,
    "start_time": "2021-09-11T14:15:34.214Z"
   },
   {
    "duration": 6,
    "start_time": "2021-09-11T14:15:48.296Z"
   },
   {
    "duration": 41589,
    "start_time": "2021-09-11T14:16:35.179Z"
   },
   {
    "duration": 1133,
    "start_time": "2021-09-11T14:17:50.436Z"
   },
   {
    "duration": 89,
    "start_time": "2021-09-11T14:18:11.984Z"
   },
   {
    "duration": 5,
    "start_time": "2021-09-11T14:18:28.391Z"
   },
   {
    "duration": 6,
    "start_time": "2021-09-11T14:18:36.634Z"
   },
   {
    "duration": 16,
    "start_time": "2021-09-11T14:18:37.918Z"
   },
   {
    "duration": 3,
    "start_time": "2021-09-11T14:18:40.386Z"
   },
   {
    "duration": 6,
    "start_time": "2021-09-11T14:18:40.642Z"
   },
   {
    "duration": 14,
    "start_time": "2021-09-11T14:18:40.986Z"
   },
   {
    "duration": 1596,
    "start_time": "2021-09-11T14:18:46.822Z"
   },
   {
    "duration": 1599,
    "start_time": "2021-09-11T14:18:50.824Z"
   },
   {
    "duration": 1605,
    "start_time": "2021-09-11T14:19:44.206Z"
   },
   {
    "duration": 5,
    "start_time": "2021-09-11T14:19:52.444Z"
   },
   {
    "duration": 67,
    "start_time": "2021-09-11T14:20:01.974Z"
   },
   {
    "duration": 37,
    "start_time": "2021-09-11T14:20:15.646Z"
   },
   {
    "duration": 5,
    "start_time": "2021-09-11T14:20:24.096Z"
   },
   {
    "duration": 397,
    "start_time": "2021-09-11T14:23:21.093Z"
   },
   {
    "duration": 11,
    "start_time": "2021-09-11T14:23:37.896Z"
   },
   {
    "duration": 12,
    "start_time": "2021-09-11T14:23:45.952Z"
   },
   {
    "duration": 55,
    "start_time": "2021-09-11T14:24:11.681Z"
   },
   {
    "duration": 62,
    "start_time": "2021-09-11T14:24:27.353Z"
   },
   {
    "duration": 369,
    "start_time": "2021-09-11T14:26:59.209Z"
   },
   {
    "duration": 372,
    "start_time": "2021-09-11T14:27:09.635Z"
   },
   {
    "duration": 522,
    "start_time": "2021-09-11T14:28:49.933Z"
   },
   {
    "duration": 613,
    "start_time": "2021-09-11T14:28:58.735Z"
   },
   {
    "duration": 612,
    "start_time": "2021-09-11T14:29:06.319Z"
   },
   {
    "duration": 1601,
    "start_time": "2021-09-11T14:29:12.550Z"
   },
   {
    "duration": 632,
    "start_time": "2021-09-11T14:29:35.587Z"
   },
   {
    "duration": 2080,
    "start_time": "2021-09-11T14:31:07.000Z"
   },
   {
    "duration": 66,
    "start_time": "2021-09-11T14:31:09.083Z"
   },
   {
    "duration": 15,
    "start_time": "2021-09-11T14:31:09.152Z"
   },
   {
    "duration": 17,
    "start_time": "2021-09-11T14:31:09.170Z"
   },
   {
    "duration": 54,
    "start_time": "2021-09-11T14:31:09.190Z"
   },
   {
    "duration": 31,
    "start_time": "2021-09-11T14:31:09.246Z"
   },
   {
    "duration": 8,
    "start_time": "2021-09-11T14:31:09.280Z"
   },
   {
    "duration": 8,
    "start_time": "2021-09-11T14:31:09.292Z"
   },
   {
    "duration": 9,
    "start_time": "2021-09-11T14:31:09.303Z"
   },
   {
    "duration": 72,
    "start_time": "2021-09-11T14:31:09.314Z"
   },
   {
    "duration": 9,
    "start_time": "2021-09-11T14:31:09.388Z"
   },
   {
    "duration": 8,
    "start_time": "2021-09-11T14:31:09.399Z"
   },
   {
    "duration": 1138,
    "start_time": "2021-09-11T14:31:09.409Z"
   },
   {
    "duration": 21,
    "start_time": "2021-09-11T14:31:10.549Z"
   },
   {
    "duration": 13,
    "start_time": "2021-09-11T14:31:10.573Z"
   },
   {
    "duration": 18,
    "start_time": "2021-09-11T14:31:10.588Z"
   },
   {
    "duration": 14,
    "start_time": "2021-09-11T14:31:10.608Z"
   },
   {
    "duration": 45,
    "start_time": "2021-09-11T14:31:10.624Z"
   },
   {
    "duration": 330,
    "start_time": "2021-09-11T14:31:10.671Z"
   },
   {
    "duration": 29,
    "start_time": "2021-09-11T14:31:11.004Z"
   },
   {
    "duration": 18,
    "start_time": "2021-09-11T14:31:14.072Z"
   },
   {
    "duration": 31,
    "start_time": "2021-09-11T14:31:14.636Z"
   },
   {
    "duration": 2010,
    "start_time": "2021-09-11T14:32:52.326Z"
   },
   {
    "duration": 66,
    "start_time": "2021-09-11T14:32:54.339Z"
   },
   {
    "duration": 6,
    "start_time": "2021-09-11T14:32:54.408Z"
   },
   {
    "duration": 18,
    "start_time": "2021-09-11T14:32:54.416Z"
   },
   {
    "duration": 73,
    "start_time": "2021-09-11T14:32:54.437Z"
   },
   {
    "duration": 14,
    "start_time": "2021-09-11T14:32:54.513Z"
   },
   {
    "duration": 8,
    "start_time": "2021-09-11T14:32:54.530Z"
   },
   {
    "duration": 8,
    "start_time": "2021-09-11T14:32:54.568Z"
   },
   {
    "duration": 7,
    "start_time": "2021-09-11T14:32:54.579Z"
   },
   {
    "duration": 26,
    "start_time": "2021-09-11T14:32:54.589Z"
   },
   {
    "duration": 8,
    "start_time": "2021-09-11T14:32:54.617Z"
   },
   {
    "duration": 9,
    "start_time": "2021-09-11T14:32:54.667Z"
   },
   {
    "duration": 1069,
    "start_time": "2021-09-11T14:32:55.620Z"
   },
   {
    "duration": 12,
    "start_time": "2021-09-11T14:32:56.692Z"
   },
   {
    "duration": 23,
    "start_time": "2021-09-11T14:32:56.707Z"
   },
   {
    "duration": 16,
    "start_time": "2021-09-11T14:32:57.050Z"
   },
   {
    "duration": 15,
    "start_time": "2021-09-11T14:32:57.900Z"
   },
   {
    "duration": 9,
    "start_time": "2021-09-11T14:33:01.410Z"
   },
   {
    "duration": 308,
    "start_time": "2021-09-11T14:33:03.277Z"
   },
   {
    "duration": 30,
    "start_time": "2021-09-11T14:33:06.946Z"
   },
   {
    "duration": 14,
    "start_time": "2021-09-11T14:33:10.227Z"
   },
   {
    "duration": 4,
    "start_time": "2021-09-11T14:33:11.293Z"
   },
   {
    "duration": 5,
    "start_time": "2021-09-11T14:33:12.253Z"
   },
   {
    "duration": 4,
    "start_time": "2021-09-11T14:33:17.497Z"
   },
   {
    "duration": 5,
    "start_time": "2021-09-11T14:33:19.014Z"
   },
   {
    "duration": 3,
    "start_time": "2021-09-11T14:33:23.557Z"
   },
   {
    "duration": 7,
    "start_time": "2021-09-11T14:33:24.305Z"
   },
   {
    "duration": 17,
    "start_time": "2021-09-11T14:33:33.915Z"
   },
   {
    "duration": 30,
    "start_time": "2021-09-11T14:33:39.810Z"
   },
   {
    "duration": 10,
    "start_time": "2021-09-11T14:33:41.775Z"
   },
   {
    "duration": 4,
    "start_time": "2021-09-11T14:33:44.046Z"
   },
   {
    "duration": 42,
    "start_time": "2021-09-11T14:35:21.113Z"
   },
   {
    "duration": 3,
    "start_time": "2021-09-11T14:35:24.119Z"
   },
   {
    "duration": 4,
    "start_time": "2021-09-11T14:35:25.585Z"
   },
   {
    "duration": 776,
    "start_time": "2021-09-11T14:35:30.695Z"
   },
   {
    "duration": 7,
    "start_time": "2021-09-11T14:35:36.925Z"
   },
   {
    "duration": 51,
    "start_time": "2021-09-11T14:35:44.296Z"
   },
   {
    "duration": 20,
    "start_time": "2021-09-11T14:35:50.175Z"
   },
   {
    "duration": 5,
    "start_time": "2021-09-11T14:35:59.240Z"
   },
   {
    "duration": 35636,
    "start_time": "2021-09-11T14:36:07.164Z"
   },
   {
    "duration": 5,
    "start_time": "2021-09-11T14:37:09.038Z"
   },
   {
    "duration": 1062,
    "start_time": "2021-09-11T14:37:26.202Z"
   },
   {
    "duration": 1674,
    "start_time": "2021-09-11T14:37:38.352Z"
   },
   {
    "duration": 64,
    "start_time": "2021-09-11T14:37:44.309Z"
   },
   {
    "duration": 6,
    "start_time": "2021-09-11T14:37:48.236Z"
   },
   {
    "duration": 6,
    "start_time": "2021-09-11T14:37:55.837Z"
   },
   {
    "duration": 18,
    "start_time": "2021-09-11T14:37:56.748Z"
   },
   {
    "duration": 3,
    "start_time": "2021-09-11T14:37:57.524Z"
   },
   {
    "duration": 6,
    "start_time": "2021-09-11T14:37:58.237Z"
   },
   {
    "duration": 14,
    "start_time": "2021-09-11T14:38:00.786Z"
   },
   {
    "duration": 773,
    "start_time": "2021-09-11T14:38:03.184Z"
   },
   {
    "duration": 9,
    "start_time": "2021-09-11T14:38:15.783Z"
   },
   {
    "duration": 70,
    "start_time": "2021-09-11T14:38:27.839Z"
   },
   {
    "duration": 5,
    "start_time": "2021-09-11T14:38:44.282Z"
   },
   {
    "duration": 10,
    "start_time": "2021-09-11T14:38:47.999Z"
   },
   {
    "duration": 78100,
    "start_time": "2021-09-11T14:40:56.578Z"
   },
   {
    "duration": 6,
    "start_time": "2021-09-11T14:42:53.844Z"
   },
   {
    "duration": 29,
    "start_time": "2021-09-11T14:43:13.441Z"
   },
   {
    "duration": 6,
    "start_time": "2021-09-11T14:44:51.037Z"
   },
   {
    "duration": 1541,
    "start_time": "2021-09-12T11:09:33.270Z"
   },
   {
    "duration": 67,
    "start_time": "2021-09-12T11:09:34.813Z"
   },
   {
    "duration": 7,
    "start_time": "2021-09-12T11:09:34.884Z"
   },
   {
    "duration": 12,
    "start_time": "2021-09-12T11:11:02.930Z"
   },
   {
    "duration": 53,
    "start_time": "2021-09-12T11:11:03.607Z"
   },
   {
    "duration": 15,
    "start_time": "2021-09-12T11:11:04.234Z"
   },
   {
    "duration": 10,
    "start_time": "2021-09-12T11:11:04.932Z"
   },
   {
    "duration": 9,
    "start_time": "2021-09-12T11:11:05.166Z"
   },
   {
    "duration": 8,
    "start_time": "2021-09-12T11:11:05.347Z"
   },
   {
    "duration": 26,
    "start_time": "2021-09-12T11:11:05.580Z"
   },
   {
    "duration": 11,
    "start_time": "2021-09-12T11:11:05.951Z"
   },
   {
    "duration": 9,
    "start_time": "2021-09-12T11:11:06.204Z"
   },
   {
    "duration": 1031,
    "start_time": "2021-09-12T11:11:06.490Z"
   },
   {
    "duration": 12,
    "start_time": "2021-09-12T11:11:07.524Z"
   },
   {
    "duration": 27,
    "start_time": "2021-09-12T11:11:07.539Z"
   },
   {
    "duration": 31,
    "start_time": "2021-09-12T11:11:07.569Z"
   },
   {
    "duration": 32,
    "start_time": "2021-09-12T11:11:07.603Z"
   },
   {
    "duration": 19,
    "start_time": "2021-09-12T11:11:07.638Z"
   },
   {
    "duration": 305,
    "start_time": "2021-09-12T11:11:08.532Z"
   },
   {
    "duration": 30,
    "start_time": "2021-09-12T11:11:09.928Z"
   },
   {
    "duration": 14,
    "start_time": "2021-09-12T11:11:10.198Z"
   },
   {
    "duration": 4,
    "start_time": "2021-09-12T11:11:10.716Z"
   },
   {
    "duration": 5,
    "start_time": "2021-09-12T11:11:10.984Z"
   },
   {
    "duration": 19,
    "start_time": "2021-09-12T11:11:19.242Z"
   },
   {
    "duration": 29,
    "start_time": "2021-09-12T11:11:27.707Z"
   },
   {
    "duration": 10,
    "start_time": "2021-09-12T11:11:29.310Z"
   },
   {
    "duration": 3,
    "start_time": "2021-09-12T11:11:31.753Z"
   },
   {
    "duration": 5,
    "start_time": "2021-09-12T11:11:34.204Z"
   },
   {
    "duration": 41,
    "start_time": "2021-09-12T11:11:37.810Z"
   },
   {
    "duration": 4,
    "start_time": "2021-09-12T11:11:40.720Z"
   },
   {
    "duration": 4,
    "start_time": "2021-09-12T11:11:45.069Z"
   },
   {
    "duration": 727,
    "start_time": "2021-09-12T11:11:52.905Z"
   },
   {
    "duration": 6,
    "start_time": "2021-09-12T11:12:02.637Z"
   },
   {
    "duration": 4,
    "start_time": "2021-09-12T11:12:03.090Z"
   },
   {
    "duration": 3,
    "start_time": "2021-09-12T11:12:04.561Z"
   },
   {
    "duration": 3,
    "start_time": "2021-09-12T11:12:05.854Z"
   },
   {
    "duration": 3,
    "start_time": "2021-09-12T11:12:06.501Z"
   },
   {
    "duration": 5,
    "start_time": "2021-09-12T11:12:09.065Z"
   },
   {
    "duration": 35,
    "start_time": "2021-09-12T11:12:10.073Z"
   },
   {
    "duration": 3,
    "start_time": "2021-09-12T11:12:15.445Z"
   },
   {
    "duration": 19,
    "start_time": "2021-09-12T11:12:18.233Z"
   },
   {
    "duration": 518,
    "start_time": "2021-09-12T11:12:24.299Z"
   },
   {
    "duration": 5,
    "start_time": "2021-09-12T11:12:33.021Z"
   },
   {
    "duration": 34438,
    "start_time": "2021-09-12T11:12:48.044Z"
   },
   {
    "duration": 6,
    "start_time": "2021-09-12T11:13:55.319Z"
   },
   {
    "duration": 992,
    "start_time": "2021-09-12T11:14:10.709Z"
   },
   {
    "duration": 4,
    "start_time": "2021-09-12T11:14:14.755Z"
   },
   {
    "duration": 4,
    "start_time": "2021-09-12T11:14:17.596Z"
   },
   {
    "duration": 85,
    "start_time": "2021-09-12T11:14:22.472Z"
   },
   {
    "duration": 9824,
    "start_time": "2021-09-12T11:18:45.232Z"
   },
   {
    "duration": 9840,
    "start_time": "2021-09-12T11:19:49.943Z"
   },
   {
    "duration": 9892,
    "start_time": "2021-09-12T11:20:13.862Z"
   },
   {
    "duration": 6,
    "start_time": "2021-09-12T11:20:42.481Z"
   },
   {
    "duration": 4,
    "start_time": "2021-09-12T11:20:43.632Z"
   },
   {
    "duration": 5,
    "start_time": "2021-09-12T11:20:44.598Z"
   },
   {
    "duration": 5,
    "start_time": "2021-09-12T11:20:48.145Z"
   },
   {
    "duration": 292,
    "start_time": "2021-09-12T11:22:52.838Z"
   },
   {
    "duration": 95,
    "start_time": "2021-09-12T11:23:06.959Z"
   },
   {
    "duration": 106,
    "start_time": "2021-09-12T11:23:13.649Z"
   },
   {
    "duration": 287,
    "start_time": "2021-09-12T11:24:11.722Z"
   },
   {
    "duration": 33,
    "start_time": "2021-09-12T11:24:17.316Z"
   },
   {
    "duration": 96,
    "start_time": "2021-09-12T11:24:48.560Z"
   },
   {
    "duration": 26,
    "start_time": "2021-09-12T11:25:27.085Z"
   },
   {
    "duration": 24,
    "start_time": "2021-09-12T11:25:38.390Z"
   },
   {
    "duration": 9896,
    "start_time": "2021-09-12T11:25:53.560Z"
   },
   {
    "duration": 9709,
    "start_time": "2021-09-12T11:26:19.047Z"
   },
   {
    "duration": 6,
    "start_time": "2021-09-12T11:26:32.154Z"
   },
   {
    "duration": 78,
    "start_time": "2021-09-12T11:26:39.977Z"
   },
   {
    "duration": 6,
    "start_time": "2021-09-12T11:26:51.172Z"
   },
   {
    "duration": 77,
    "start_time": "2021-09-12T11:26:58.679Z"
   },
   {
    "duration": 9804,
    "start_time": "2021-09-12T11:27:05.956Z"
   },
   {
    "duration": 6,
    "start_time": "2021-09-12T11:27:17.755Z"
   },
   {
    "duration": 111,
    "start_time": "2021-09-12T11:27:18.752Z"
   },
   {
    "duration": 6,
    "start_time": "2021-09-12T11:27:25.950Z"
   },
   {
    "duration": 6,
    "start_time": "2021-09-12T11:27:40.024Z"
   },
   {
    "duration": 6,
    "start_time": "2021-09-12T11:27:51.190Z"
   },
   {
    "duration": 17,
    "start_time": "2021-09-12T11:27:52.259Z"
   },
   {
    "duration": 4,
    "start_time": "2021-09-12T11:27:52.840Z"
   },
   {
    "duration": 6,
    "start_time": "2021-09-12T11:27:53.552Z"
   },
   {
    "duration": 14,
    "start_time": "2021-09-12T11:27:54.366Z"
   },
   {
    "duration": 3,
    "start_time": "2021-09-12T11:27:55.066Z"
   },
   {
    "duration": 608,
    "start_time": "2021-09-12T11:27:59.270Z"
   },
   {
    "duration": 1550,
    "start_time": "2021-09-12T11:28:01.160Z"
   },
   {
    "duration": 5,
    "start_time": "2021-09-12T11:28:15.221Z"
   },
   {
    "duration": 66,
    "start_time": "2021-09-12T11:28:16.770Z"
   },
   {
    "duration": 3,
    "start_time": "2021-09-12T11:28:59.744Z"
   },
   {
    "duration": 61,
    "start_time": "2021-09-12T11:29:00.572Z"
   },
   {
    "duration": 61,
    "start_time": "2021-09-12T11:29:12.174Z"
   },
   {
    "duration": 4,
    "start_time": "2021-09-12T11:29:19.565Z"
   },
   {
    "duration": 6,
    "start_time": "2021-09-12T11:29:20.302Z"
   },
   {
    "duration": 9,
    "start_time": "2021-09-12T11:29:31.135Z"
   },
   {
    "duration": 1560,
    "start_time": "2021-09-12T11:31:08.097Z"
   },
   {
    "duration": 1657,
    "start_time": "2021-09-12T11:31:22.470Z"
   },
   {
    "duration": 1673,
    "start_time": "2021-09-12T11:32:14.587Z"
   },
   {
    "duration": 593,
    "start_time": "2021-09-12T11:33:09.397Z"
   },
   {
    "duration": 5,
    "start_time": "2021-09-12T11:33:48.674Z"
   },
   {
    "duration": 1514,
    "start_time": "2021-09-12T11:34:17.605Z"
   },
   {
    "duration": 7,
    "start_time": "2021-09-12T11:34:32.416Z"
   },
   {
    "duration": 652,
    "start_time": "2021-09-12T11:34:37.040Z"
   },
   {
    "duration": 6,
    "start_time": "2021-09-12T11:34:38.993Z"
   },
   {
    "duration": 63,
    "start_time": "2021-09-12T11:34:42.749Z"
   },
   {
    "duration": 3,
    "start_time": "2021-09-12T11:34:45.947Z"
   },
   {
    "duration": 62,
    "start_time": "2021-09-12T11:34:46.500Z"
   },
   {
    "duration": 5,
    "start_time": "2021-09-12T11:35:07.469Z"
   },
   {
    "duration": 9,
    "start_time": "2021-09-12T11:35:08.683Z"
   },
   {
    "duration": 63,
    "start_time": "2021-09-12T11:35:41.948Z"
   },
   {
    "duration": 61,
    "start_time": "2021-09-12T11:35:50.435Z"
   },
   {
    "duration": 62,
    "start_time": "2021-09-12T11:35:57.310Z"
   },
   {
    "duration": 65,
    "start_time": "2021-09-12T11:36:22.543Z"
   },
   {
    "duration": 12,
    "start_time": "2021-09-12T11:36:32.319Z"
   },
   {
    "duration": 75047,
    "start_time": "2021-09-12T11:36:42.189Z"
   },
   {
    "duration": 73918,
    "start_time": "2021-09-12T11:38:06.379Z"
   },
   {
    "duration": 5,
    "start_time": "2021-09-12T11:39:23.297Z"
   },
   {
    "duration": 29,
    "start_time": "2021-09-12T11:39:25.413Z"
   },
   {
    "duration": 1058,
    "start_time": "2021-09-12T11:40:53.368Z"
   },
   {
    "duration": 1383,
    "start_time": "2021-09-12T11:41:16.537Z"
   },
   {
    "duration": 1299,
    "start_time": "2021-09-12T11:42:20.699Z"
   },
   {
    "duration": 944,
    "start_time": "2021-09-12T11:42:37.157Z"
   },
   {
    "duration": 985,
    "start_time": "2021-09-12T11:42:52.935Z"
   },
   {
    "duration": 1005,
    "start_time": "2021-09-12T11:43:16.461Z"
   },
   {
    "duration": 6,
    "start_time": "2021-09-12T11:44:20.671Z"
   },
   {
    "duration": 28,
    "start_time": "2021-09-12T11:44:46.319Z"
   },
   {
    "duration": 970,
    "start_time": "2021-09-12T11:45:23.542Z"
   },
   {
    "duration": 1014,
    "start_time": "2021-09-12T11:45:33.640Z"
   },
   {
    "duration": 28,
    "start_time": "2021-09-12T11:45:34.657Z"
   },
   {
    "duration": 6,
    "start_time": "2021-09-12T11:45:36.633Z"
   },
   {
    "duration": 9647,
    "start_time": "2021-09-12T11:47:14.037Z"
   },
   {
    "duration": 9906,
    "start_time": "2021-09-12T11:47:33.451Z"
   },
   {
    "duration": 404,
    "start_time": "2021-09-12T11:49:30.830Z"
   },
   {
    "duration": 9956,
    "start_time": "2021-09-12T11:49:51.800Z"
   },
   {
    "duration": 116,
    "start_time": "2021-09-12T11:50:04.940Z"
   },
   {
    "duration": 9840,
    "start_time": "2021-09-12T11:50:20.616Z"
   },
   {
    "duration": 9854,
    "start_time": "2021-09-12T11:50:56.202Z"
   },
   {
    "duration": 271,
    "start_time": "2021-09-12T11:51:27.388Z"
   },
   {
    "duration": 13485,
    "start_time": "2021-09-12T11:51:45.581Z"
   },
   {
    "duration": 10027,
    "start_time": "2021-09-12T11:52:14.829Z"
   },
   {
    "duration": 7,
    "start_time": "2021-09-12T11:53:59.576Z"
   },
   {
    "duration": 71,
    "start_time": "2021-09-12T11:54:09.696Z"
   },
   {
    "duration": 122,
    "start_time": "2021-09-12T11:54:34.035Z"
   },
   {
    "duration": 104,
    "start_time": "2021-09-12T11:54:54.614Z"
   },
   {
    "duration": 78,
    "start_time": "2021-09-12T11:55:01.078Z"
   },
   {
    "duration": 37,
    "start_time": "2021-09-12T11:55:19.530Z"
   },
   {
    "duration": 34,
    "start_time": "2021-09-12T11:55:37.131Z"
   },
   {
    "duration": 43,
    "start_time": "2021-09-12T11:55:57.727Z"
   },
   {
    "duration": 85,
    "start_time": "2021-09-12T11:56:05.371Z"
   },
   {
    "duration": 47,
    "start_time": "2021-09-12T11:56:11.209Z"
   },
   {
    "duration": 60,
    "start_time": "2021-09-12T11:57:22.295Z"
   },
   {
    "duration": 98,
    "start_time": "2021-09-12T11:58:26.258Z"
   },
   {
    "duration": 109,
    "start_time": "2021-09-12T11:59:00.549Z"
   },
   {
    "duration": 66,
    "start_time": "2021-09-12T11:59:17.093Z"
   },
   {
    "duration": 110,
    "start_time": "2021-09-12T11:59:23.545Z"
   },
   {
    "duration": 80,
    "start_time": "2021-09-12T11:59:41.277Z"
   },
   {
    "duration": 5,
    "start_time": "2021-09-12T12:00:40.229Z"
   },
   {
    "duration": 106,
    "start_time": "2021-09-12T12:00:54.851Z"
   },
   {
    "duration": 5,
    "start_time": "2021-09-12T12:01:04.447Z"
   },
   {
    "duration": 12,
    "start_time": "2021-09-12T12:01:06.249Z"
   },
   {
    "duration": 921,
    "start_time": "2021-09-12T12:02:02.135Z"
   },
   {
    "duration": 5,
    "start_time": "2021-09-12T12:03:22.478Z"
   },
   {
    "duration": 6,
    "start_time": "2021-09-12T12:04:09.908Z"
   },
   {
    "duration": 912,
    "start_time": "2021-09-12T12:06:15.718Z"
   },
   {
    "duration": 6,
    "start_time": "2021-09-12T12:06:21.564Z"
   },
   {
    "duration": 20,
    "start_time": "2021-09-12T12:06:29.362Z"
   },
   {
    "duration": 4,
    "start_time": "2021-09-12T12:06:43.924Z"
   },
   {
    "duration": 15,
    "start_time": "2021-09-12T12:06:45.418Z"
   },
   {
    "duration": 3,
    "start_time": "2021-09-12T12:06:50.616Z"
   },
   {
    "duration": 1060,
    "start_time": "2021-09-12T12:07:23.540Z"
   },
   {
    "duration": 927,
    "start_time": "2021-09-12T12:07:40.738Z"
   },
   {
    "duration": 17,
    "start_time": "2021-09-12T12:08:02.088Z"
   },
   {
    "duration": 18,
    "start_time": "2021-09-12T12:08:05.914Z"
   },
   {
    "duration": 18,
    "start_time": "2021-09-12T12:08:17.644Z"
   },
   {
    "duration": 19,
    "start_time": "2021-09-12T12:08:22.950Z"
   },
   {
    "duration": 17,
    "start_time": "2021-09-12T12:08:26.930Z"
   },
   {
    "duration": 16,
    "start_time": "2021-09-12T12:08:43.189Z"
   },
   {
    "duration": 18,
    "start_time": "2021-09-12T12:09:04.697Z"
   },
   {
    "duration": 290,
    "start_time": "2021-09-12T12:09:22.928Z"
   },
   {
    "duration": 327,
    "start_time": "2021-09-12T12:09:37.116Z"
   },
   {
    "duration": 20,
    "start_time": "2021-09-12T12:09:49.740Z"
   },
   {
    "duration": 15,
    "start_time": "2021-09-12T12:10:04.580Z"
   },
   {
    "duration": 16,
    "start_time": "2021-09-12T12:10:08.899Z"
   },
   {
    "duration": 307,
    "start_time": "2021-09-12T12:11:28.370Z"
   },
   {
    "duration": 9,
    "start_time": "2021-09-12T12:11:42.400Z"
   },
   {
    "duration": 9,
    "start_time": "2021-09-12T12:12:05.813Z"
   },
   {
    "duration": 9,
    "start_time": "2021-09-12T12:12:14.264Z"
   },
   {
    "duration": 17543,
    "start_time": "2021-09-12T12:12:30.908Z"
   },
   {
    "duration": 6,
    "start_time": "2021-09-12T12:12:53.998Z"
   },
   {
    "duration": 6,
    "start_time": "2021-09-12T12:13:11.512Z"
   },
   {
    "duration": 202,
    "start_time": "2021-09-12T12:13:35.267Z"
   },
   {
    "duration": 198,
    "start_time": "2021-09-12T12:14:03.408Z"
   },
   {
    "duration": 198,
    "start_time": "2021-09-12T12:14:25.793Z"
   },
   {
    "duration": 192,
    "start_time": "2021-09-12T12:14:52.453Z"
   },
   {
    "duration": 34,
    "start_time": "2021-09-12T12:15:58.310Z"
   },
   {
    "duration": 14325,
    "start_time": "2021-09-12T12:16:59.940Z"
   },
   {
    "duration": 13500,
    "start_time": "2021-09-12T12:17:14.456Z"
   },
   {
    "duration": 7,
    "start_time": "2021-09-12T12:17:34.444Z"
   },
   {
    "duration": 22,
    "start_time": "2021-09-12T12:17:50.448Z"
   },
   {
    "duration": 388,
    "start_time": "2021-09-12T12:20:00.451Z"
   },
   {
    "duration": 12,
    "start_time": "2021-09-12T12:21:15.666Z"
   },
   {
    "duration": 8,
    "start_time": "2021-09-12T12:21:39.314Z"
   },
   {
    "duration": 91,
    "start_time": "2021-09-12T12:22:50.572Z"
   },
   {
    "duration": 7,
    "start_time": "2021-09-12T12:22:59.010Z"
   },
   {
    "duration": 6,
    "start_time": "2021-09-12T13:37:04.338Z"
   },
   {
    "duration": 6,
    "start_time": "2021-09-12T13:37:14.001Z"
   },
   {
    "duration": 5,
    "start_time": "2021-09-12T13:37:34.024Z"
   },
   {
    "duration": 4,
    "start_time": "2021-09-12T13:39:47.106Z"
   },
   {
    "duration": 378,
    "start_time": "2021-09-12T13:39:48.251Z"
   },
   {
    "duration": 331,
    "start_time": "2021-09-12T13:39:55.909Z"
   },
   {
    "duration": 725,
    "start_time": "2021-09-12T13:40:07.643Z"
   },
   {
    "duration": 444,
    "start_time": "2021-09-12T13:40:24.210Z"
   },
   {
    "duration": 473,
    "start_time": "2021-09-12T13:40:45.248Z"
   },
   {
    "duration": 635,
    "start_time": "2021-09-12T13:41:09.548Z"
   },
   {
    "duration": 282,
    "start_time": "2021-09-12T13:42:22.510Z"
   },
   {
    "duration": 783,
    "start_time": "2021-09-12T13:42:31.200Z"
   },
   {
    "duration": 413,
    "start_time": "2021-09-12T13:42:41.168Z"
   },
   {
    "duration": 7,
    "start_time": "2021-09-12T14:15:19.275Z"
   },
   {
    "duration": 602,
    "start_time": "2021-09-12T14:20:06.265Z"
   },
   {
    "duration": 619,
    "start_time": "2021-09-12T14:20:16.649Z"
   },
   {
    "duration": 603,
    "start_time": "2021-09-12T14:20:48.024Z"
   },
   {
    "duration": 588,
    "start_time": "2021-09-12T14:21:08.492Z"
   },
   {
    "duration": 442,
    "start_time": "2021-09-12T14:21:32.076Z"
   },
   {
    "duration": 437,
    "start_time": "2021-09-12T14:21:58.744Z"
   },
   {
    "duration": 423,
    "start_time": "2021-09-12T14:22:48.758Z"
   },
   {
    "duration": 706,
    "start_time": "2021-09-12T14:23:12.649Z"
   },
   {
    "duration": 453,
    "start_time": "2021-09-12T14:23:33.275Z"
   },
   {
    "duration": 419,
    "start_time": "2021-09-12T14:24:22.518Z"
   },
   {
    "duration": 535,
    "start_time": "2021-09-12T14:54:03.888Z"
   },
   {
    "duration": 446,
    "start_time": "2021-09-12T14:55:05.187Z"
   },
   {
    "duration": 626,
    "start_time": "2021-09-12T14:55:55.635Z"
   },
   {
    "duration": 104,
    "start_time": "2021-09-12T14:57:07.632Z"
   },
   {
    "duration": 591,
    "start_time": "2021-09-12T14:57:12.426Z"
   },
   {
    "duration": 106,
    "start_time": "2021-09-12T14:59:13.325Z"
   },
   {
    "duration": 426,
    "start_time": "2021-09-12T15:00:32.582Z"
   },
   {
    "duration": 433,
    "start_time": "2021-09-12T15:01:15.379Z"
   },
   {
    "duration": 442,
    "start_time": "2021-09-12T15:03:31.868Z"
   },
   {
    "duration": 597,
    "start_time": "2021-09-12T15:04:46.574Z"
   },
   {
    "duration": 276,
    "start_time": "2021-09-12T15:05:48.945Z"
   },
   {
    "duration": 420,
    "start_time": "2021-09-12T15:06:26.052Z"
   },
   {
    "duration": 5,
    "start_time": "2021-09-12T15:06:51.535Z"
   },
   {
    "duration": 278,
    "start_time": "2021-09-12T15:09:03.645Z"
   },
   {
    "duration": 465,
    "start_time": "2021-09-12T15:09:24.589Z"
   },
   {
    "duration": 7,
    "start_time": "2021-09-12T15:09:33.245Z"
   },
   {
    "duration": 430,
    "start_time": "2021-09-12T15:12:13.406Z"
   },
   {
    "duration": 589,
    "start_time": "2021-09-12T15:15:00.027Z"
   },
   {
    "duration": 573,
    "start_time": "2021-09-12T15:16:21.898Z"
   },
   {
    "duration": 444,
    "start_time": "2021-09-12T15:16:40.793Z"
   },
   {
    "duration": 10,
    "start_time": "2021-09-12T15:19:02.698Z"
   },
   {
    "duration": 11,
    "start_time": "2021-09-12T15:19:28.250Z"
   },
   {
    "duration": 29,
    "start_time": "2021-09-12T15:28:51.155Z"
   },
   {
    "duration": 307,
    "start_time": "2021-09-12T15:32:31.966Z"
   },
   {
    "duration": 6,
    "start_time": "2021-09-12T15:39:59.666Z"
   },
   {
    "duration": 7,
    "start_time": "2021-09-12T15:40:16.657Z"
   },
   {
    "duration": 287,
    "start_time": "2021-09-12T15:41:19.444Z"
   },
   {
    "duration": 8,
    "start_time": "2021-09-12T15:41:41.009Z"
   },
   {
    "duration": 515,
    "start_time": "2021-09-12T15:43:58.271Z"
   },
   {
    "duration": 529,
    "start_time": "2021-09-12T15:45:29.483Z"
   },
   {
    "duration": 781,
    "start_time": "2021-09-12T15:52:38.076Z"
   },
   {
    "duration": 31,
    "start_time": "2021-09-12T15:52:48.578Z"
   },
   {
    "duration": 6,
    "start_time": "2021-09-12T15:54:18.600Z"
   },
   {
    "duration": 515,
    "start_time": "2021-09-12T15:55:18.682Z"
   },
   {
    "duration": 515,
    "start_time": "2021-09-12T15:55:30.977Z"
   },
   {
    "duration": 9,
    "start_time": "2021-09-12T15:58:48.829Z"
   },
   {
    "duration": 31,
    "start_time": "2021-09-12T15:58:57.169Z"
   },
   {
    "duration": 6,
    "start_time": "2021-09-12T15:59:00.452Z"
   },
   {
    "duration": 521,
    "start_time": "2021-09-12T15:59:01.919Z"
   },
   {
    "duration": 1573,
    "start_time": "2021-09-12T16:05:42.153Z"
   },
   {
    "duration": 68,
    "start_time": "2021-09-12T16:05:43.728Z"
   },
   {
    "duration": 7,
    "start_time": "2021-09-12T16:05:52.166Z"
   },
   {
    "duration": 11,
    "start_time": "2021-09-12T16:05:53.052Z"
   },
   {
    "duration": 55,
    "start_time": "2021-09-12T16:05:53.965Z"
   },
   {
    "duration": 20,
    "start_time": "2021-09-12T16:05:54.527Z"
   },
   {
    "duration": 9,
    "start_time": "2021-09-12T16:05:55.039Z"
   },
   {
    "duration": 9,
    "start_time": "2021-09-12T16:05:55.545Z"
   },
   {
    "duration": 7,
    "start_time": "2021-09-12T16:05:55.977Z"
   },
   {
    "duration": 26,
    "start_time": "2021-09-12T16:05:56.366Z"
   },
   {
    "duration": 9,
    "start_time": "2021-09-12T16:05:56.753Z"
   },
   {
    "duration": 9,
    "start_time": "2021-09-12T16:05:57.119Z"
   },
   {
    "duration": 1033,
    "start_time": "2021-09-12T16:05:57.453Z"
   },
   {
    "duration": 14,
    "start_time": "2021-09-12T16:05:58.489Z"
   },
   {
    "duration": 16,
    "start_time": "2021-09-12T16:05:59.271Z"
   },
   {
    "duration": 25,
    "start_time": "2021-09-12T16:05:59.596Z"
   },
   {
    "duration": 22,
    "start_time": "2021-09-12T16:05:59.893Z"
   },
   {
    "duration": 9,
    "start_time": "2021-09-12T16:06:00.123Z"
   },
   {
    "duration": 308,
    "start_time": "2021-09-12T16:06:00.313Z"
   },
   {
    "duration": 30,
    "start_time": "2021-09-12T16:06:01.055Z"
   },
   {
    "duration": 15,
    "start_time": "2021-09-12T16:06:01.519Z"
   },
   {
    "duration": 5,
    "start_time": "2021-09-12T16:06:01.943Z"
   },
   {
    "duration": 6,
    "start_time": "2021-09-12T16:06:02.463Z"
   },
   {
    "duration": 19,
    "start_time": "2021-09-12T16:06:04.813Z"
   },
   {
    "duration": 31,
    "start_time": "2021-09-12T16:06:06.366Z"
   },
   {
    "duration": 10,
    "start_time": "2021-09-12T16:06:07.563Z"
   },
   {
    "duration": 43,
    "start_time": "2021-09-12T16:06:08.315Z"
   },
   {
    "duration": 693,
    "start_time": "2021-09-12T16:06:18.293Z"
   },
   {
    "duration": 17,
    "start_time": "2021-09-12T16:06:22.766Z"
   },
   {
    "duration": 7,
    "start_time": "2021-09-12T16:06:23.396Z"
   },
   {
    "duration": 38,
    "start_time": "2021-09-12T16:06:23.963Z"
   },
   {
    "duration": 21,
    "start_time": "2021-09-12T16:06:24.479Z"
   },
   {
    "duration": 7,
    "start_time": "2021-09-12T16:06:25.597Z"
   },
   {
    "duration": 35058,
    "start_time": "2021-09-12T16:06:31.264Z"
   },
   {
    "duration": 7,
    "start_time": "2021-09-12T16:07:12.678Z"
   },
   {
    "duration": 1057,
    "start_time": "2021-09-12T16:07:15.582Z"
   },
   {
    "duration": 9907,
    "start_time": "2021-09-12T16:07:17.949Z"
   },
   {
    "duration": 7,
    "start_time": "2021-09-12T16:07:49.590Z"
   },
   {
    "duration": 98,
    "start_time": "2021-09-12T16:07:50.359Z"
   },
   {
    "duration": 7,
    "start_time": "2021-09-12T16:07:51.721Z"
   },
   {
    "duration": 6,
    "start_time": "2021-09-12T16:08:06.003Z"
   },
   {
    "duration": 19,
    "start_time": "2021-09-12T16:08:06.739Z"
   },
   {
    "duration": 8,
    "start_time": "2021-09-12T16:08:09.587Z"
   },
   {
    "duration": 15,
    "start_time": "2021-09-12T16:08:10.331Z"
   },
   {
    "duration": 559,
    "start_time": "2021-09-12T16:08:22.037Z"
   },
   {
    "duration": 6,
    "start_time": "2021-09-12T16:08:27.182Z"
   },
   {
    "duration": 67,
    "start_time": "2021-09-12T16:08:27.921Z"
   },
   {
    "duration": 6,
    "start_time": "2021-09-12T16:08:28.774Z"
   },
   {
    "duration": 450,
    "start_time": "2021-09-12T16:08:32.899Z"
   },
   {
    "duration": 10,
    "start_time": "2021-09-12T16:08:37.864Z"
   },
   {
    "duration": 78484,
    "start_time": "2021-09-12T16:08:40.813Z"
   },
   {
    "duration": 6,
    "start_time": "2021-09-12T16:17:12.941Z"
   },
   {
    "duration": 1056,
    "start_time": "2021-09-12T16:17:14.203Z"
   },
   {
    "duration": 28,
    "start_time": "2021-09-12T16:17:15.262Z"
   },
   {
    "duration": 13,
    "start_time": "2021-09-12T16:17:15.293Z"
   },
   {
    "duration": 464,
    "start_time": "2021-09-12T16:17:16.341Z"
   },
   {
    "duration": 10676,
    "start_time": "2021-09-12T16:17:20.580Z"
   },
   {
    "duration": 6,
    "start_time": "2021-09-12T16:17:34.573Z"
   },
   {
    "duration": 121,
    "start_time": "2021-09-12T16:17:35.435Z"
   },
   {
    "duration": 5,
    "start_time": "2021-09-12T16:17:40.223Z"
   },
   {
    "duration": 17,
    "start_time": "2021-09-12T16:17:48.618Z"
   },
   {
    "duration": 661,
    "start_time": "2021-09-12T16:17:50.738Z"
   },
   {
    "duration": 8,
    "start_time": "2021-09-12T16:17:52.455Z"
   },
   {
    "duration": 710,
    "start_time": "2021-09-12T16:18:15.576Z"
   },
   {
    "duration": 8,
    "start_time": "2021-09-12T16:18:17.474Z"
   },
   {
    "duration": 19,
    "start_time": "2021-09-12T16:18:18.506Z"
   },
   {
    "duration": 16,
    "start_time": "2021-09-12T16:18:19.070Z"
   },
   {
    "duration": 712,
    "start_time": "2021-09-12T16:18:19.664Z"
   },
   {
    "duration": 13,
    "start_time": "2021-09-12T16:18:21.521Z"
   },
   {
    "duration": 17463,
    "start_time": "2021-09-12T16:18:25.559Z"
   },
   {
    "duration": 6,
    "start_time": "2021-09-12T16:18:47.824Z"
   },
   {
    "duration": 217,
    "start_time": "2021-09-12T16:18:48.991Z"
   },
   {
    "duration": 197,
    "start_time": "2021-09-12T16:18:50.483Z"
   },
   {
    "duration": 458,
    "start_time": "2021-09-12T16:18:51.488Z"
   },
   {
    "duration": 28,
    "start_time": "2021-09-12T16:18:53.075Z"
   },
   {
    "duration": 15402,
    "start_time": "2021-09-12T16:19:03.658Z"
   },
   {
    "duration": 6,
    "start_time": "2021-09-12T16:19:23.301Z"
   },
   {
    "duration": 67,
    "start_time": "2021-09-12T16:19:23.787Z"
   },
   {
    "duration": 946,
    "start_time": "2021-09-12T16:19:24.651Z"
   },
   {
    "duration": 14,
    "start_time": "2021-09-12T16:19:28.095Z"
   },
   {
    "duration": 50,
    "start_time": "2021-09-12T16:20:14.979Z"
   },
   {
    "duration": 8,
    "start_time": "2021-09-12T16:20:28.895Z"
   },
   {
    "duration": 535,
    "start_time": "2021-09-12T16:20:29.413Z"
   },
   {
    "duration": 2726,
    "start_time": "2021-09-12T16:32:44.983Z"
   },
   {
    "duration": 69,
    "start_time": "2021-09-12T16:32:47.869Z"
   },
   {
    "duration": 3,
    "start_time": "2021-09-12T16:32:47.941Z"
   },
   {
    "duration": 22,
    "start_time": "2021-09-12T16:32:47.947Z"
   },
   {
    "duration": 70,
    "start_time": "2021-09-12T16:32:47.971Z"
   },
   {
    "duration": 16,
    "start_time": "2021-09-12T16:32:48.109Z"
   },
   {
    "duration": 8,
    "start_time": "2021-09-12T16:32:49.062Z"
   },
   {
    "duration": 8,
    "start_time": "2021-09-12T16:32:49.289Z"
   },
   {
    "duration": 9,
    "start_time": "2021-09-12T16:32:49.443Z"
   },
   {
    "duration": 33,
    "start_time": "2021-09-12T16:32:49.635Z"
   },
   {
    "duration": 11,
    "start_time": "2021-09-12T16:32:49.783Z"
   },
   {
    "duration": 10,
    "start_time": "2021-09-12T16:32:50.468Z"
   },
   {
    "duration": 1288,
    "start_time": "2021-09-12T16:32:50.700Z"
   },
   {
    "duration": 21,
    "start_time": "2021-09-12T16:32:51.991Z"
   },
   {
    "duration": 42,
    "start_time": "2021-09-12T16:32:52.015Z"
   },
   {
    "duration": 18,
    "start_time": "2021-09-12T16:32:52.060Z"
   },
   {
    "duration": 16,
    "start_time": "2021-09-12T16:32:53.285Z"
   },
   {
    "duration": 9,
    "start_time": "2021-09-12T16:32:57.897Z"
   },
   {
    "duration": 401,
    "start_time": "2021-09-12T16:32:58.565Z"
   },
   {
    "duration": 42,
    "start_time": "2021-09-12T16:33:01.431Z"
   },
   {
    "duration": 16,
    "start_time": "2021-09-12T16:33:02.293Z"
   },
   {
    "duration": 4,
    "start_time": "2021-09-12T16:33:03.845Z"
   },
   {
    "duration": 6,
    "start_time": "2021-09-12T16:33:04.343Z"
   },
   {
    "duration": 22,
    "start_time": "2021-09-12T16:33:13.482Z"
   },
   {
    "duration": 642,
    "start_time": "2021-09-12T16:33:14.968Z"
   },
   {
    "duration": 42,
    "start_time": "2021-09-12T16:33:15.703Z"
   },
   {
    "duration": 47,
    "start_time": "2021-09-12T16:33:16.935Z"
   },
   {
    "duration": 11689,
    "start_time": "2021-09-12T16:33:19.440Z"
   },
   {
    "duration": 7,
    "start_time": "2021-09-12T16:33:34.860Z"
   },
   {
    "duration": 5,
    "start_time": "2021-09-12T16:33:35.526Z"
   },
   {
    "duration": 449,
    "start_time": "2021-09-12T16:33:36.311Z"
   },
   {
    "duration": 406,
    "start_time": "2021-09-12T16:33:36.990Z"
   },
   {
    "duration": 5,
    "start_time": "2021-09-12T16:33:38.183Z"
   },
   {
    "duration": 64322,
    "start_time": "2021-09-12T16:33:49.669Z"
   },
   {
    "duration": 1592,
    "start_time": "2021-09-12T16:35:27.037Z"
   },
   {
    "duration": 71,
    "start_time": "2021-09-12T16:35:28.632Z"
   },
   {
    "duration": 6,
    "start_time": "2021-09-12T16:35:43.573Z"
   },
   {
    "duration": 16,
    "start_time": "2021-09-12T16:35:44.437Z"
   },
   {
    "duration": 54,
    "start_time": "2021-09-12T16:35:45.903Z"
   },
   {
    "duration": 16,
    "start_time": "2021-09-12T16:35:46.671Z"
   },
   {
    "duration": 9,
    "start_time": "2021-09-12T16:35:46.913Z"
   },
   {
    "duration": 9,
    "start_time": "2021-09-12T16:35:47.063Z"
   },
   {
    "duration": 7,
    "start_time": "2021-09-12T16:35:47.235Z"
   },
   {
    "duration": 26,
    "start_time": "2021-09-12T16:35:47.387Z"
   },
   {
    "duration": 9,
    "start_time": "2021-09-12T16:35:47.543Z"
   },
   {
    "duration": 9,
    "start_time": "2021-09-12T16:35:47.693Z"
   },
   {
    "duration": 1038,
    "start_time": "2021-09-12T16:35:47.855Z"
   },
   {
    "duration": 19,
    "start_time": "2021-09-12T16:35:48.897Z"
   },
   {
    "duration": 40,
    "start_time": "2021-09-12T16:35:48.920Z"
   },
   {
    "duration": 22,
    "start_time": "2021-09-12T16:35:48.963Z"
   },
   {
    "duration": 22,
    "start_time": "2021-09-12T16:35:48.989Z"
   },
   {
    "duration": 47,
    "start_time": "2021-09-12T16:35:49.014Z"
   },
   {
    "duration": 329,
    "start_time": "2021-09-12T16:35:49.155Z"
   },
   {
    "duration": 31,
    "start_time": "2021-09-12T16:35:49.495Z"
   },
   {
    "duration": 14,
    "start_time": "2021-09-12T16:35:49.677Z"
   },
   {
    "duration": 4,
    "start_time": "2021-09-12T16:35:49.827Z"
   },
   {
    "duration": 7,
    "start_time": "2021-09-12T16:35:55.025Z"
   },
   {
    "duration": 18,
    "start_time": "2021-09-12T16:35:55.789Z"
   },
   {
    "duration": 31,
    "start_time": "2021-09-12T16:35:58.567Z"
   },
   {
    "duration": 15,
    "start_time": "2021-09-12T16:35:59.120Z"
   },
   {
    "duration": 67,
    "start_time": "2021-09-12T16:35:59.324Z"
   },
   {
    "duration": 675,
    "start_time": "2021-09-12T16:36:00.367Z"
   },
   {
    "duration": 15,
    "start_time": "2021-09-12T16:36:01.046Z"
   },
   {
    "duration": 6,
    "start_time": "2021-09-12T16:36:02.066Z"
   },
   {
    "duration": 37,
    "start_time": "2021-09-12T16:36:02.265Z"
   },
   {
    "duration": 19,
    "start_time": "2021-09-12T16:36:02.418Z"
   },
   {
    "duration": 6,
    "start_time": "2021-09-12T16:36:02.752Z"
   },
   {
    "duration": 38378,
    "start_time": "2021-09-12T16:36:03.265Z"
   },
   {
    "duration": 12,
    "start_time": "2021-09-12T16:36:41.645Z"
   },
   {
    "duration": 1557,
    "start_time": "2021-09-13T10:45:35.754Z"
   },
   {
    "duration": 63,
    "start_time": "2021-09-13T10:45:38.013Z"
   },
   {
    "duration": 6,
    "start_time": "2021-09-13T10:47:26.775Z"
   },
   {
    "duration": 12,
    "start_time": "2021-09-13T10:47:27.265Z"
   },
   {
    "duration": 53,
    "start_time": "2021-09-13T10:47:31.745Z"
   },
   {
    "duration": 15,
    "start_time": "2021-09-13T10:47:32.292Z"
   },
   {
    "duration": 9,
    "start_time": "2021-09-13T10:47:36.603Z"
   },
   {
    "duration": 9,
    "start_time": "2021-09-13T10:47:36.881Z"
   },
   {
    "duration": 7,
    "start_time": "2021-09-13T10:47:37.095Z"
   },
   {
    "duration": 25,
    "start_time": "2021-09-13T10:47:37.322Z"
   },
   {
    "duration": 8,
    "start_time": "2021-09-13T10:47:37.550Z"
   },
   {
    "duration": 9,
    "start_time": "2021-09-13T10:47:39.988Z"
   },
   {
    "duration": 1012,
    "start_time": "2021-09-13T10:47:40.788Z"
   },
   {
    "duration": 14,
    "start_time": "2021-09-13T10:47:48.160Z"
   },
   {
    "duration": 14,
    "start_time": "2021-09-13T10:47:48.731Z"
   },
   {
    "duration": 16,
    "start_time": "2021-09-13T10:47:49.850Z"
   },
   {
    "duration": 15,
    "start_time": "2021-09-13T10:47:51.632Z"
   },
   {
    "duration": 9,
    "start_time": "2021-09-13T10:47:52.294Z"
   },
   {
    "duration": 31,
    "start_time": "2021-09-13T10:48:01.744Z"
   },
   {
    "duration": 15,
    "start_time": "2021-09-13T10:48:02.746Z"
   },
   {
    "duration": 4,
    "start_time": "2021-09-13T10:48:04.610Z"
   },
   {
    "duration": 6,
    "start_time": "2021-09-13T10:48:05.100Z"
   },
   {
    "duration": 15,
    "start_time": "2021-09-13T11:01:00.790Z"
   },
   {
    "duration": 4,
    "start_time": "2021-09-13T11:01:00.976Z"
   },
   {
    "duration": 6,
    "start_time": "2021-09-13T11:01:01.166Z"
   },
   {
    "duration": 30,
    "start_time": "2021-09-13T11:01:02.528Z"
   },
   {
    "duration": 17,
    "start_time": "2021-09-13T11:01:03.088Z"
   },
   {
    "duration": 19,
    "start_time": "2021-09-13T11:02:02.054Z"
   },
   {
    "duration": 31,
    "start_time": "2021-09-13T11:09:26.158Z"
   },
   {
    "duration": 10,
    "start_time": "2021-09-13T11:09:26.335Z"
   },
   {
    "duration": 40,
    "start_time": "2021-09-13T11:09:27.019Z"
   },
   {
    "duration": 659,
    "start_time": "2021-09-13T11:20:55.268Z"
   },
   {
    "duration": 6,
    "start_time": "2021-09-13T11:20:56.387Z"
   },
   {
    "duration": 6,
    "start_time": "2021-09-13T11:20:57.328Z"
   },
   {
    "duration": 35,
    "start_time": "2021-09-13T11:21:01.135Z"
   },
   {
    "duration": 20,
    "start_time": "2021-09-13T11:21:03.917Z"
   },
   {
    "duration": 6,
    "start_time": "2021-09-13T11:21:07.905Z"
   },
   {
    "duration": 33221,
    "start_time": "2021-09-13T11:23:46.405Z"
   },
   {
    "duration": 6,
    "start_time": "2021-09-13T11:24:19.628Z"
   },
   {
    "duration": 1039,
    "start_time": "2021-09-13T11:24:19.637Z"
   },
   {
    "duration": 553,
    "start_time": "2021-09-13T11:40:41.133Z"
   },
   {
    "duration": 6,
    "start_time": "2021-09-13T11:41:31.016Z"
   },
   {
    "duration": 18,
    "start_time": "2021-09-13T11:41:31.224Z"
   },
   {
    "duration": 6,
    "start_time": "2021-09-13T11:41:41.473Z"
   },
   {
    "duration": 13,
    "start_time": "2021-09-13T11:41:42.500Z"
   },
   {
    "duration": 556,
    "start_time": "2021-09-13T11:42:21.660Z"
   },
   {
    "duration": 6,
    "start_time": "2021-09-13T11:42:22.671Z"
   },
   {
    "duration": 64,
    "start_time": "2021-09-13T11:42:23.401Z"
   },
   {
    "duration": 5,
    "start_time": "2021-09-13T11:42:25.561Z"
   },
   {
    "duration": 438,
    "start_time": "2021-09-13T11:42:39.528Z"
   },
   {
    "duration": 10,
    "start_time": "2021-09-13T11:42:40.764Z"
   },
   {
    "duration": 9,
    "start_time": "2021-09-13T11:42:53.768Z"
   },
   {
    "duration": 74326,
    "start_time": "2021-09-13T11:42:58.145Z"
   },
   {
    "duration": 5,
    "start_time": "2021-09-13T11:56:29.919Z"
   },
   {
    "duration": 1046,
    "start_time": "2021-09-13T11:56:30.553Z"
   },
   {
    "duration": 27,
    "start_time": "2021-09-13T11:56:31.602Z"
   },
   {
    "duration": 6,
    "start_time": "2021-09-13T11:56:31.977Z"
   },
   {
    "duration": 6,
    "start_time": "2021-09-13T11:56:48.467Z"
   },
   {
    "duration": 565,
    "start_time": "2021-09-13T11:56:49.837Z"
   },
   {
    "duration": 9952,
    "start_time": "2021-09-13T11:56:54.914Z"
   },
   {
    "duration": 94,
    "start_time": "2021-09-13T11:57:04.870Z"
   },
   {
    "duration": 96,
    "start_time": "2021-09-13T11:57:04.967Z"
   },
   {
    "duration": 95,
    "start_time": "2021-09-13T11:57:05.067Z"
   },
   {
    "duration": 6,
    "start_time": "2021-09-13T11:57:32.312Z"
   },
   {
    "duration": 725,
    "start_time": "2021-09-13T11:57:33.929Z"
   },
   {
    "duration": 13,
    "start_time": "2021-09-13T11:57:37.305Z"
   },
   {
    "duration": 705,
    "start_time": "2021-09-13T12:01:48.620Z"
   },
   {
    "duration": 7,
    "start_time": "2021-09-13T12:01:50.359Z"
   },
   {
    "duration": 26,
    "start_time": "2021-09-13T12:01:51.352Z"
   },
   {
    "duration": 16,
    "start_time": "2021-09-13T12:01:52.683Z"
   },
   {
    "duration": 428,
    "start_time": "2021-09-13T12:01:54.823Z"
   },
   {
    "duration": 9,
    "start_time": "2021-09-13T12:01:56.011Z"
   },
   {
    "duration": 16202,
    "start_time": "2021-09-13T12:02:03.104Z"
   },
   {
    "duration": 6,
    "start_time": "2021-09-13T12:02:39.262Z"
   },
   {
    "duration": 200,
    "start_time": "2021-09-13T12:02:40.200Z"
   },
   {
    "duration": 188,
    "start_time": "2021-09-13T12:02:44.105Z"
   },
   {
    "duration": 439,
    "start_time": "2021-09-13T12:02:44.296Z"
   },
   {
    "duration": 27,
    "start_time": "2021-09-13T12:02:44.865Z"
   },
   {
    "duration": 7929,
    "start_time": "2021-09-13T12:02:50.837Z"
   },
   {
    "duration": 95,
    "start_time": "2021-09-13T12:02:58.769Z"
   },
   {
    "duration": 99,
    "start_time": "2021-09-13T12:02:58.867Z"
   },
   {
    "duration": 598,
    "start_time": "2021-09-13T12:04:11.155Z"
   },
   {
    "duration": 10,
    "start_time": "2021-09-13T12:04:15.641Z"
   },
   {
    "duration": 29,
    "start_time": "2021-09-13T12:14:28.977Z"
   },
   {
    "duration": 6,
    "start_time": "2021-09-13T12:14:37.425Z"
   },
   {
    "duration": 492,
    "start_time": "2021-09-13T12:14:37.941Z"
   },
   {
    "duration": 316,
    "start_time": "2021-09-13T12:26:28.027Z"
   },
   {
    "duration": 1556,
    "start_time": "2021-09-13T12:27:38.748Z"
   },
   {
    "duration": 65,
    "start_time": "2021-09-13T12:27:40.307Z"
   },
   {
    "duration": 6,
    "start_time": "2021-09-13T12:27:40.374Z"
   },
   {
    "duration": 31,
    "start_time": "2021-09-13T12:27:40.382Z"
   },
   {
    "duration": 55,
    "start_time": "2021-09-13T12:27:40.425Z"
   },
   {
    "duration": 15,
    "start_time": "2021-09-13T12:27:40.668Z"
   },
   {
    "duration": 8,
    "start_time": "2021-09-13T12:27:41.070Z"
   },
   {
    "duration": 8,
    "start_time": "2021-09-13T12:27:41.576Z"
   },
   {
    "duration": 7,
    "start_time": "2021-09-13T12:27:41.778Z"
   },
   {
    "duration": 27,
    "start_time": "2021-09-13T12:27:41.979Z"
   },
   {
    "duration": 9,
    "start_time": "2021-09-13T12:27:42.189Z"
   },
   {
    "duration": 9,
    "start_time": "2021-09-13T12:27:42.322Z"
   },
   {
    "duration": 1051,
    "start_time": "2021-09-13T12:27:42.482Z"
   },
   {
    "duration": 29,
    "start_time": "2021-09-13T12:27:43.536Z"
   },
   {
    "duration": 13,
    "start_time": "2021-09-13T12:27:43.568Z"
   },
   {
    "duration": 16,
    "start_time": "2021-09-13T12:27:43.584Z"
   },
   {
    "duration": 24,
    "start_time": "2021-09-13T12:27:43.602Z"
   },
   {
    "duration": 10,
    "start_time": "2021-09-13T12:27:43.732Z"
   },
   {
    "duration": 335,
    "start_time": "2021-09-13T12:27:44.168Z"
   },
   {
    "duration": 14,
    "start_time": "2021-09-13T12:27:44.538Z"
   },
   {
    "duration": 3,
    "start_time": "2021-09-13T12:27:44.757Z"
   },
   {
    "duration": 6,
    "start_time": "2021-09-13T12:27:44.966Z"
   },
   {
    "duration": 30,
    "start_time": "2021-09-13T12:27:45.600Z"
   },
   {
    "duration": 16,
    "start_time": "2021-09-13T12:27:45.938Z"
   },
   {
    "duration": 31,
    "start_time": "2021-09-13T12:27:46.703Z"
   },
   {
    "duration": 10,
    "start_time": "2021-09-13T12:27:46.900Z"
   },
   {
    "duration": 40,
    "start_time": "2021-09-13T12:27:47.094Z"
   },
   {
    "duration": 674,
    "start_time": "2021-09-13T12:27:48.543Z"
   },
   {
    "duration": 8,
    "start_time": "2021-09-13T12:27:49.220Z"
   },
   {
    "duration": 32,
    "start_time": "2021-09-13T12:27:49.231Z"
   },
   {
    "duration": 36,
    "start_time": "2021-09-13T12:27:49.266Z"
   },
   {
    "duration": 18,
    "start_time": "2021-09-13T12:27:49.305Z"
   },
   {
    "duration": 5,
    "start_time": "2021-09-13T12:27:49.428Z"
   },
   {
    "duration": 33406,
    "start_time": "2021-09-13T12:27:49.913Z"
   },
   {
    "duration": 6,
    "start_time": "2021-09-13T12:28:23.322Z"
   },
   {
    "duration": 1026,
    "start_time": "2021-09-13T12:28:23.331Z"
   },
   {
    "duration": 9519,
    "start_time": "2021-09-13T12:28:24.363Z"
   },
   {
    "duration": 79,
    "start_time": "2021-09-13T12:28:33.885Z"
   },
   {
    "duration": 194,
    "start_time": "2021-09-13T12:28:33.967Z"
   },
   {
    "duration": 6,
    "start_time": "2021-09-13T12:28:34.164Z"
   },
   {
    "duration": 5,
    "start_time": "2021-09-13T12:28:38.127Z"
   },
   {
    "duration": 17,
    "start_time": "2021-09-13T12:28:38.737Z"
   },
   {
    "duration": 6,
    "start_time": "2021-09-13T12:28:39.274Z"
   },
   {
    "duration": 14,
    "start_time": "2021-09-13T12:28:39.797Z"
   },
   {
    "duration": 536,
    "start_time": "2021-09-13T12:28:41.600Z"
   },
   {
    "duration": 6,
    "start_time": "2021-09-13T12:28:44.271Z"
   },
   {
    "duration": 67,
    "start_time": "2021-09-13T12:28:44.279Z"
   },
   {
    "duration": 14,
    "start_time": "2021-09-13T12:28:44.349Z"
   },
   {
    "duration": 471,
    "start_time": "2021-09-13T12:28:44.366Z"
   },
   {
    "duration": 74413,
    "start_time": "2021-09-13T12:28:44.840Z"
   },
   {
    "duration": 7,
    "start_time": "2021-09-13T12:29:59.261Z"
   },
   {
    "duration": 1145,
    "start_time": "2021-09-13T12:29:59.271Z"
   },
   {
    "duration": 7,
    "start_time": "2021-09-13T12:30:00.420Z"
   },
   {
    "duration": 483,
    "start_time": "2021-09-13T12:30:00.430Z"
   },
   {
    "duration": 10248,
    "start_time": "2021-09-13T12:30:00.916Z"
   },
   {
    "duration": 96,
    "start_time": "2021-09-13T12:30:11.168Z"
   },
   {
    "duration": 94,
    "start_time": "2021-09-13T12:30:11.267Z"
   },
   {
    "duration": 97,
    "start_time": "2021-09-13T12:30:11.365Z"
   },
   {
    "duration": 612,
    "start_time": "2021-09-13T12:30:11.465Z"
   },
   {
    "duration": 8,
    "start_time": "2021-09-13T12:30:12.080Z"
   },
   {
    "duration": 684,
    "start_time": "2021-09-13T12:30:15.430Z"
   },
   {
    "duration": 6,
    "start_time": "2021-09-13T12:30:16.117Z"
   },
   {
    "duration": 19,
    "start_time": "2021-09-13T12:30:16.269Z"
   },
   {
    "duration": 19,
    "start_time": "2021-09-13T12:30:17.092Z"
   },
   {
    "duration": 448,
    "start_time": "2021-09-13T12:30:18.447Z"
   },
   {
    "duration": 16631,
    "start_time": "2021-09-13T12:30:22.646Z"
   },
   {
    "duration": 6,
    "start_time": "2021-09-13T12:30:39.279Z"
   },
   {
    "duration": 220,
    "start_time": "2021-09-13T12:30:39.288Z"
   },
   {
    "duration": 210,
    "start_time": "2021-09-13T12:30:39.512Z"
   },
   {
    "duration": 456,
    "start_time": "2021-09-13T12:30:39.725Z"
   },
   {
    "duration": 12185,
    "start_time": "2021-09-13T12:30:40.184Z"
   },
   {
    "duration": 9,
    "start_time": "2021-09-13T12:30:52.373Z"
   },
   {
    "duration": 612,
    "start_time": "2021-09-13T12:30:52.463Z"
   },
   {
    "duration": 9,
    "start_time": "2021-09-13T12:30:53.078Z"
   },
   {
    "duration": 33,
    "start_time": "2021-09-13T12:31:29.896Z"
   },
   {
    "duration": 6,
    "start_time": "2021-09-13T12:31:30.737Z"
   },
   {
    "duration": 499,
    "start_time": "2021-09-13T12:31:30.942Z"
   },
   {
    "duration": 25,
    "start_time": "2021-09-13T12:31:57.221Z"
   }
  ],
  "kernelspec": {
   "display_name": "Python 3 (ipykernel)",
   "language": "python",
   "name": "python3"
  },
  "language_info": {
   "codemirror_mode": {
    "name": "ipython",
    "version": 3
   },
   "file_extension": ".py",
   "mimetype": "text/x-python",
   "name": "python",
   "nbconvert_exporter": "python",
   "pygments_lexer": "ipython3",
   "version": "3.9.7"
  },
  "toc": {
   "base_numbering": 1,
   "nav_menu": {},
   "number_sections": true,
   "sideBar": true,
   "skip_h1_title": true,
   "title_cell": "Содержание",
   "title_sidebar": "Contents",
   "toc_cell": true,
   "toc_position": {
    "height": "calc(100% - 180px)",
    "left": "10px",
    "top": "150px",
    "width": "187.391px"
   },
   "toc_section_display": true,
   "toc_window_display": true
  }
 },
 "nbformat": 4,
 "nbformat_minor": 2
}
