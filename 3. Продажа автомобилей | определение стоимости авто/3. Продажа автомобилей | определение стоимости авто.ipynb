{
 "cells": [
  {
   "cell_type": "markdown",
   "metadata": {},
   "source": [
    "# Описание данных\n",
    "\n",
    "*Признаки*\n",
    "- DateCrawled — дата скачивания анкеты из базы\n",
    "- VehicleType — тип автомобильного кузова\n",
    "- RegistrationYear — год регистрации автомобиля\n",
    "- Gearbox — тип коробки передач\n",
    "- Power — мощность (л. с.)\n",
    "- Model — модель автомобиля\n",
    "- Kilometer — пробег (км)\n",
    "- RegistrationMonth — месяц регистрации автомобиля\n",
    "- FuelType — тип топлива\n",
    "- Brand — марка автомобиля\n",
    "- NotRepaired — была машина в ремонте или нет\n",
    "- DateCreated — дата создания анкеты\n",
    "- NumberOfPictures — количество фотографий автомобиля\n",
    "- PostalCode — почтовый индекс владельца анкеты (пользователя)\n",
    "- LastSeen — дата последней активности пользователя\n",
    "\n",
    "*Целевой признак*\n",
    "- Price — цена (евро)\n"
   ]
  },
  {
   "cell_type": "markdown",
   "metadata": {},
   "source": [
    "# План работы\n",
    "- Изучить файл с данными.\n",
    "- Проверить данные на пропуски, дубликаты, корреляцию.\n",
    "- Визуализировать данные.\n",
    "- Провести предобработку данных\n",
    "- Разбить данные на две выборки в соотношении 75:25 : обучающая, тестовая.\n",
    "- Обучить разные модели.\n",
    "- Проанализировать скорость работы и качество моделей"
   ]
  },
  {
   "cell_type": "markdown",
   "metadata": {},
   "source": [
    "## Подготовка данных"
   ]
  },
  {
   "cell_type": "markdown",
   "metadata": {},
   "source": [
    "Импортируем библиотеки и прочтём файл"
   ]
  },
  {
   "cell_type": "code",
   "execution_count": 1,
   "metadata": {},
   "outputs": [],
   "source": [
    "import pandas as pd\n",
    "import numpy as np\n",
    "\n",
    "import matplotlib.pyplot as plt\n",
    "import seaborn as sns\n",
    "from sklearn.model_selection import train_test_split\n",
    "\n",
    "from sklearn.linear_model import LinearRegression\n",
    "from sklearn.ensemble import RandomForestRegressor\n",
    "from sklearn.tree import DecisionTreeRegressor\n",
    "\n",
    "from sklearn.metrics import r2_score, mean_squared_error\n",
    "from sklearn.model_selection import GridSearchCV\n",
    "\n",
    "import lightgbm as lgb\n",
    "from catboost import CatBoostRegressor\n",
    "\n",
    "\n",
    "import warnings \n",
    "warnings.filterwarnings('ignore')\n",
    "import time"
   ]
  },
  {
   "cell_type": "code",
   "execution_count": 2,
   "metadata": {},
   "outputs": [
    {
     "data": {
      "text/html": [
       "<div>\n",
       "<style scoped>\n",
       "    .dataframe tbody tr th:only-of-type {\n",
       "        vertical-align: middle;\n",
       "    }\n",
       "\n",
       "    .dataframe tbody tr th {\n",
       "        vertical-align: top;\n",
       "    }\n",
       "\n",
       "    .dataframe thead th {\n",
       "        text-align: right;\n",
       "    }\n",
       "</style>\n",
       "<table border=\"1\" class=\"dataframe\">\n",
       "  <thead>\n",
       "    <tr style=\"text-align: right;\">\n",
       "      <th></th>\n",
       "      <th>DateCrawled</th>\n",
       "      <th>Price</th>\n",
       "      <th>VehicleType</th>\n",
       "      <th>RegistrationYear</th>\n",
       "      <th>Gearbox</th>\n",
       "      <th>Power</th>\n",
       "      <th>Model</th>\n",
       "      <th>Kilometer</th>\n",
       "      <th>RegistrationMonth</th>\n",
       "      <th>FuelType</th>\n",
       "      <th>Brand</th>\n",
       "      <th>NotRepaired</th>\n",
       "      <th>DateCreated</th>\n",
       "      <th>NumberOfPictures</th>\n",
       "      <th>PostalCode</th>\n",
       "      <th>LastSeen</th>\n",
       "    </tr>\n",
       "  </thead>\n",
       "  <tbody>\n",
       "    <tr>\n",
       "      <td>0</td>\n",
       "      <td>2016-03-24 11:52:17</td>\n",
       "      <td>480</td>\n",
       "      <td>NaN</td>\n",
       "      <td>1993</td>\n",
       "      <td>manual</td>\n",
       "      <td>0</td>\n",
       "      <td>golf</td>\n",
       "      <td>150000</td>\n",
       "      <td>0</td>\n",
       "      <td>petrol</td>\n",
       "      <td>volkswagen</td>\n",
       "      <td>NaN</td>\n",
       "      <td>2016-03-24 00:00:00</td>\n",
       "      <td>0</td>\n",
       "      <td>70435</td>\n",
       "      <td>2016-04-07 03:16:57</td>\n",
       "    </tr>\n",
       "    <tr>\n",
       "      <td>1</td>\n",
       "      <td>2016-03-24 10:58:45</td>\n",
       "      <td>18300</td>\n",
       "      <td>coupe</td>\n",
       "      <td>2011</td>\n",
       "      <td>manual</td>\n",
       "      <td>190</td>\n",
       "      <td>NaN</td>\n",
       "      <td>125000</td>\n",
       "      <td>5</td>\n",
       "      <td>gasoline</td>\n",
       "      <td>audi</td>\n",
       "      <td>yes</td>\n",
       "      <td>2016-03-24 00:00:00</td>\n",
       "      <td>0</td>\n",
       "      <td>66954</td>\n",
       "      <td>2016-04-07 01:46:50</td>\n",
       "    </tr>\n",
       "    <tr>\n",
       "      <td>2</td>\n",
       "      <td>2016-03-14 12:52:21</td>\n",
       "      <td>9800</td>\n",
       "      <td>suv</td>\n",
       "      <td>2004</td>\n",
       "      <td>auto</td>\n",
       "      <td>163</td>\n",
       "      <td>grand</td>\n",
       "      <td>125000</td>\n",
       "      <td>8</td>\n",
       "      <td>gasoline</td>\n",
       "      <td>jeep</td>\n",
       "      <td>NaN</td>\n",
       "      <td>2016-03-14 00:00:00</td>\n",
       "      <td>0</td>\n",
       "      <td>90480</td>\n",
       "      <td>2016-04-05 12:47:46</td>\n",
       "    </tr>\n",
       "    <tr>\n",
       "      <td>3</td>\n",
       "      <td>2016-03-17 16:54:04</td>\n",
       "      <td>1500</td>\n",
       "      <td>small</td>\n",
       "      <td>2001</td>\n",
       "      <td>manual</td>\n",
       "      <td>75</td>\n",
       "      <td>golf</td>\n",
       "      <td>150000</td>\n",
       "      <td>6</td>\n",
       "      <td>petrol</td>\n",
       "      <td>volkswagen</td>\n",
       "      <td>no</td>\n",
       "      <td>2016-03-17 00:00:00</td>\n",
       "      <td>0</td>\n",
       "      <td>91074</td>\n",
       "      <td>2016-03-17 17:40:17</td>\n",
       "    </tr>\n",
       "    <tr>\n",
       "      <td>4</td>\n",
       "      <td>2016-03-31 17:25:20</td>\n",
       "      <td>3600</td>\n",
       "      <td>small</td>\n",
       "      <td>2008</td>\n",
       "      <td>manual</td>\n",
       "      <td>69</td>\n",
       "      <td>fabia</td>\n",
       "      <td>90000</td>\n",
       "      <td>7</td>\n",
       "      <td>gasoline</td>\n",
       "      <td>skoda</td>\n",
       "      <td>no</td>\n",
       "      <td>2016-03-31 00:00:00</td>\n",
       "      <td>0</td>\n",
       "      <td>60437</td>\n",
       "      <td>2016-04-06 10:17:21</td>\n",
       "    </tr>\n",
       "  </tbody>\n",
       "</table>\n",
       "</div>"
      ],
      "text/plain": [
       "           DateCrawled  Price VehicleType  RegistrationYear Gearbox  Power  \\\n",
       "0  2016-03-24 11:52:17    480         NaN              1993  manual      0   \n",
       "1  2016-03-24 10:58:45  18300       coupe              2011  manual    190   \n",
       "2  2016-03-14 12:52:21   9800         suv              2004    auto    163   \n",
       "3  2016-03-17 16:54:04   1500       small              2001  manual     75   \n",
       "4  2016-03-31 17:25:20   3600       small              2008  manual     69   \n",
       "\n",
       "   Model  Kilometer  RegistrationMonth  FuelType       Brand NotRepaired  \\\n",
       "0   golf     150000                  0    petrol  volkswagen         NaN   \n",
       "1    NaN     125000                  5  gasoline        audi         yes   \n",
       "2  grand     125000                  8  gasoline        jeep         NaN   \n",
       "3   golf     150000                  6    petrol  volkswagen          no   \n",
       "4  fabia      90000                  7  gasoline       skoda          no   \n",
       "\n",
       "           DateCreated  NumberOfPictures  PostalCode             LastSeen  \n",
       "0  2016-03-24 00:00:00                 0       70435  2016-04-07 03:16:57  \n",
       "1  2016-03-24 00:00:00                 0       66954  2016-04-07 01:46:50  \n",
       "2  2016-03-14 00:00:00                 0       90480  2016-04-05 12:47:46  \n",
       "3  2016-03-17 00:00:00                 0       91074  2016-03-17 17:40:17  \n",
       "4  2016-03-31 00:00:00                 0       60437  2016-04-06 10:17:21  "
      ]
     },
     "execution_count": 2,
     "metadata": {},
     "output_type": "execute_result"
    }
   ],
   "source": [
    "data = pd.read_csv('/datasets/autos.csv')\n",
    "data.head()"
   ]
  },
  {
   "cell_type": "markdown",
   "metadata": {},
   "source": [
    "### Check"
   ]
  },
  {
   "cell_type": "code",
   "execution_count": 3,
   "metadata": {},
   "outputs": [],
   "source": [
    "def check(data):\n",
    "    data.info()\n",
    "    nan_perc = data.isna().sum() / data.shape[0] * 100\n",
    "    print()\n",
    "    print('Кол-во дубликатов -',data.duplicated().sum())\n",
    "    print()\n",
    "    print('\\033[1mКол-во пропусков:\\033[0m')\n",
    "    print(data.isna().sum())\n",
    "    print()\n",
    "    print('\\033[1mПроцент пропусков:\\033[0m')\n",
    "    print(nan_perc.sort_values(ascending=False))\n",
    "    print('---------------------------')\n",
    "    for column in data.columns:\n",
    "        print()\n",
    "        print('\\033[1mCтолбец\\033[0m', column)\n",
    "        print('Кол-во уникальных значений -',data[column].nunique())\n",
    "        print('Кол-во пропусков -',data[column].isnull().sum())\n",
    "        print('Кол-во дубликатов -', data[column].duplicated().sum())\n",
    "        print()\n",
    "        print(data[column].value_counts().head())\n",
    "        print()"
   ]
  },
  {
   "cell_type": "code",
   "execution_count": 4,
   "metadata": {},
   "outputs": [],
   "source": [
    "sns.set(palette='mako', context='talk',style='darkgrid')\n",
    "def charts(data, column, title):\n",
    "    fig, axs = plt.subplots(ncols=2,figsize=(20,5))\n",
    "    plt.suptitle(title, fontsize = \"xx-large\")\n",
    "    distplot = sns.distplot(data[column],ax=axs[0])\n",
    "    sns.boxplot(data[column], ax=axs[1])"
   ]
  },
  {
   "cell_type": "code",
   "execution_count": 5,
   "metadata": {},
   "outputs": [
    {
     "name": "stdout",
     "output_type": "stream",
     "text": [
      "<class 'pandas.core.frame.DataFrame'>\n",
      "RangeIndex: 354369 entries, 0 to 354368\n",
      "Data columns (total 16 columns):\n",
      "DateCrawled          354369 non-null object\n",
      "Price                354369 non-null int64\n",
      "VehicleType          316879 non-null object\n",
      "RegistrationYear     354369 non-null int64\n",
      "Gearbox              334536 non-null object\n",
      "Power                354369 non-null int64\n",
      "Model                334664 non-null object\n",
      "Kilometer            354369 non-null int64\n",
      "RegistrationMonth    354369 non-null int64\n",
      "FuelType             321474 non-null object\n",
      "Brand                354369 non-null object\n",
      "NotRepaired          283215 non-null object\n",
      "DateCreated          354369 non-null object\n",
      "NumberOfPictures     354369 non-null int64\n",
      "PostalCode           354369 non-null int64\n",
      "LastSeen             354369 non-null object\n",
      "dtypes: int64(7), object(9)\n",
      "memory usage: 43.3+ MB\n",
      "\n",
      "Кол-во дубликатов - 4\n",
      "\n",
      "\u001b[1mКол-во пропусков:\u001b[0m\n",
      "DateCrawled              0\n",
      "Price                    0\n",
      "VehicleType          37490\n",
      "RegistrationYear         0\n",
      "Gearbox              19833\n",
      "Power                    0\n",
      "Model                19705\n",
      "Kilometer                0\n",
      "RegistrationMonth        0\n",
      "FuelType             32895\n",
      "Brand                    0\n",
      "NotRepaired          71154\n",
      "DateCreated              0\n",
      "NumberOfPictures         0\n",
      "PostalCode               0\n",
      "LastSeen                 0\n",
      "dtype: int64\n",
      "\n",
      "\u001b[1mПроцент пропусков:\u001b[0m\n",
      "NotRepaired          20.079070\n",
      "VehicleType          10.579368\n",
      "FuelType              9.282697\n",
      "Gearbox               5.596709\n",
      "Model                 5.560588\n",
      "LastSeen              0.000000\n",
      "PostalCode            0.000000\n",
      "NumberOfPictures      0.000000\n",
      "DateCreated           0.000000\n",
      "Brand                 0.000000\n",
      "RegistrationMonth     0.000000\n",
      "Kilometer             0.000000\n",
      "Power                 0.000000\n",
      "RegistrationYear      0.000000\n",
      "Price                 0.000000\n",
      "DateCrawled           0.000000\n",
      "dtype: float64\n",
      "---------------------------\n",
      "\n",
      "\u001b[1mCтолбец\u001b[0m DateCrawled\n",
      "Кол-во уникальных значений - 271174\n",
      "Кол-во пропусков - 0\n",
      "Кол-во дубликатов - 83195\n",
      "\n",
      "2016-03-24 14:49:47    7\n",
      "2016-03-19 21:49:56    6\n",
      "2016-03-26 22:57:31    6\n",
      "2016-03-31 18:50:16    5\n",
      "2016-03-22 10:42:10    5\n",
      "Name: DateCrawled, dtype: int64\n",
      "\n",
      "\n",
      "\u001b[1mCтолбец\u001b[0m Price\n",
      "Кол-во уникальных значений - 3731\n",
      "Кол-во пропусков - 0\n",
      "Кол-во дубликатов - 350638\n",
      "\n",
      "0       10772\n",
      "500      5670\n",
      "1500     5394\n",
      "1000     4649\n",
      "1200     4594\n",
      "Name: Price, dtype: int64\n",
      "\n",
      "\n",
      "\u001b[1mCтолбец\u001b[0m VehicleType\n",
      "Кол-во уникальных значений - 8\n",
      "Кол-во пропусков - 37490\n",
      "Кол-во дубликатов - 354360\n",
      "\n",
      "sedan          91457\n",
      "small          79831\n",
      "wagon          65166\n",
      "bus            28775\n",
      "convertible    20203\n",
      "Name: VehicleType, dtype: int64\n",
      "\n",
      "\n",
      "\u001b[1mCтолбец\u001b[0m RegistrationYear\n",
      "Кол-во уникальных значений - 151\n",
      "Кол-во пропусков - 0\n",
      "Кол-во дубликатов - 354218\n",
      "\n",
      "2000    24490\n",
      "1999    22728\n",
      "2005    22109\n",
      "2001    20124\n",
      "2006    19900\n",
      "Name: RegistrationYear, dtype: int64\n",
      "\n",
      "\n",
      "\u001b[1mCтолбец\u001b[0m Gearbox\n",
      "Кол-во уникальных значений - 2\n",
      "Кол-во пропусков - 19833\n",
      "Кол-во дубликатов - 354366\n",
      "\n",
      "manual    268251\n",
      "auto       66285\n",
      "Name: Gearbox, dtype: int64\n",
      "\n",
      "\n",
      "\u001b[1mCтолбец\u001b[0m Power\n",
      "Кол-во уникальных значений - 712\n",
      "Кол-во пропусков - 0\n",
      "Кол-во дубликатов - 353657\n",
      "\n",
      "0      40225\n",
      "75     24023\n",
      "60     15897\n",
      "150    14590\n",
      "101    13298\n",
      "Name: Power, dtype: int64\n",
      "\n",
      "\n",
      "\u001b[1mCтолбец\u001b[0m Model\n",
      "Кол-во уникальных значений - 250\n",
      "Кол-во пропусков - 19705\n",
      "Кол-во дубликатов - 354118\n",
      "\n",
      "golf     29232\n",
      "other    24421\n",
      "3er      19761\n",
      "polo     13066\n",
      "corsa    12570\n",
      "Name: Model, dtype: int64\n",
      "\n",
      "\n",
      "\u001b[1mCтолбец\u001b[0m Kilometer\n",
      "Кол-во уникальных значений - 13\n",
      "Кол-во пропусков - 0\n",
      "Кол-во дубликатов - 354356\n",
      "\n",
      "150000    238209\n",
      "125000     36454\n",
      "100000     14882\n",
      "90000      11567\n",
      "80000      10047\n",
      "Name: Kilometer, dtype: int64\n",
      "\n",
      "\n",
      "\u001b[1mCтолбец\u001b[0m RegistrationMonth\n",
      "Кол-во уникальных значений - 13\n",
      "Кол-во пропусков - 0\n",
      "Кол-во дубликатов - 354356\n",
      "\n",
      "0    37352\n",
      "3    34373\n",
      "6    31508\n",
      "4    29270\n",
      "5    29153\n",
      "Name: RegistrationMonth, dtype: int64\n",
      "\n",
      "\n",
      "\u001b[1mCтолбец\u001b[0m FuelType\n",
      "Кол-во уникальных значений - 7\n",
      "Кол-во пропусков - 32895\n",
      "Кол-во дубликатов - 354361\n",
      "\n",
      "petrol      216352\n",
      "gasoline     98720\n",
      "lpg           5310\n",
      "cng            565\n",
      "hybrid         233\n",
      "Name: FuelType, dtype: int64\n",
      "\n",
      "\n",
      "\u001b[1mCтолбец\u001b[0m Brand\n",
      "Кол-во уникальных значений - 40\n",
      "Кол-во пропусков - 0\n",
      "Кол-во дубликатов - 354329\n",
      "\n",
      "volkswagen       77013\n",
      "opel             39931\n",
      "bmw              36914\n",
      "mercedes_benz    32046\n",
      "audi             29456\n",
      "Name: Brand, dtype: int64\n",
      "\n",
      "\n",
      "\u001b[1mCтолбец\u001b[0m NotRepaired\n",
      "Кол-во уникальных значений - 2\n",
      "Кол-во пропусков - 71154\n",
      "Кол-во дубликатов - 354366\n",
      "\n",
      "no     247161\n",
      "yes     36054\n",
      "Name: NotRepaired, dtype: int64\n",
      "\n",
      "\n",
      "\u001b[1mCтолбец\u001b[0m DateCreated\n",
      "Кол-во уникальных значений - 109\n",
      "Кол-во пропусков - 0\n",
      "Кол-во дубликатов - 354260\n",
      "\n",
      "2016-04-03 00:00:00    13719\n",
      "2016-04-04 00:00:00    13317\n",
      "2016-03-20 00:00:00    12918\n",
      "2016-03-12 00:00:00    12840\n",
      "2016-03-21 00:00:00    12691\n",
      "Name: DateCreated, dtype: int64\n",
      "\n",
      "\n",
      "\u001b[1mCтолбец\u001b[0m NumberOfPictures\n",
      "Кол-во уникальных значений - 1\n",
      "Кол-во пропусков - 0\n",
      "Кол-во дубликатов - 354368\n",
      "\n",
      "0    354369\n",
      "Name: NumberOfPictures, dtype: int64\n",
      "\n",
      "\n",
      "\u001b[1mCтолбец\u001b[0m PostalCode\n",
      "Кол-во уникальных значений - 8143\n",
      "Кол-во пропусков - 0\n",
      "Кол-во дубликатов - 346226\n",
      "\n",
      "10115    819\n",
      "65428    613\n",
      "66333    343\n",
      "44145    317\n",
      "32257    317\n",
      "Name: PostalCode, dtype: int64\n",
      "\n",
      "\n",
      "\u001b[1mCтолбец\u001b[0m LastSeen\n",
      "Кол-во уникальных значений - 179150\n",
      "Кол-во пропусков - 0\n",
      "Кол-во дубликатов - 175219\n",
      "\n",
      "2016-04-06 13:45:54    17\n",
      "2016-04-06 08:46:30    16\n",
      "2016-04-07 09:44:27    16\n",
      "2016-04-07 08:16:54    16\n",
      "2016-04-06 10:15:26    16\n",
      "Name: LastSeen, dtype: int64\n",
      "\n"
     ]
    }
   ],
   "source": [
    "check(data)"
   ]
  },
  {
   "cell_type": "markdown",
   "metadata": {},
   "source": [
    "**Промежуточные выводы:** Имеются дубли и пропуски. В одном из столбцов кол-во пропусков доходит до 20%. Изменим тип столбцов object на category. В столбце NotRepaired изменим на числовой. Также имеется большое кол-во нулевых значений в интересующих нас столбцах 'Price', 'Power'."
   ]
  },
  {
   "cell_type": "code",
   "execution_count": 6,
   "metadata": {},
   "outputs": [
    {
     "data": {
      "text/html": [
       "<div>\n",
       "<style scoped>\n",
       "    .dataframe tbody tr th:only-of-type {\n",
       "        vertical-align: middle;\n",
       "    }\n",
       "\n",
       "    .dataframe tbody tr th {\n",
       "        vertical-align: top;\n",
       "    }\n",
       "\n",
       "    .dataframe thead th {\n",
       "        text-align: right;\n",
       "    }\n",
       "</style>\n",
       "<table border=\"1\" class=\"dataframe\">\n",
       "  <thead>\n",
       "    <tr style=\"text-align: right;\">\n",
       "      <th></th>\n",
       "      <th>count</th>\n",
       "      <th>mean</th>\n",
       "      <th>std</th>\n",
       "      <th>min</th>\n",
       "      <th>25%</th>\n",
       "      <th>50%</th>\n",
       "      <th>75%</th>\n",
       "      <th>max</th>\n",
       "    </tr>\n",
       "  </thead>\n",
       "  <tbody>\n",
       "    <tr>\n",
       "      <td>Price</td>\n",
       "      <td>354369.0</td>\n",
       "      <td>4416.656776</td>\n",
       "      <td>4514.158514</td>\n",
       "      <td>0.0</td>\n",
       "      <td>1050.0</td>\n",
       "      <td>2700.0</td>\n",
       "      <td>6400.0</td>\n",
       "      <td>20000.0</td>\n",
       "    </tr>\n",
       "    <tr>\n",
       "      <td>RegistrationYear</td>\n",
       "      <td>354369.0</td>\n",
       "      <td>2004.234448</td>\n",
       "      <td>90.227958</td>\n",
       "      <td>1000.0</td>\n",
       "      <td>1999.0</td>\n",
       "      <td>2003.0</td>\n",
       "      <td>2008.0</td>\n",
       "      <td>9999.0</td>\n",
       "    </tr>\n",
       "    <tr>\n",
       "      <td>Power</td>\n",
       "      <td>354369.0</td>\n",
       "      <td>110.094337</td>\n",
       "      <td>189.850405</td>\n",
       "      <td>0.0</td>\n",
       "      <td>69.0</td>\n",
       "      <td>105.0</td>\n",
       "      <td>143.0</td>\n",
       "      <td>20000.0</td>\n",
       "    </tr>\n",
       "    <tr>\n",
       "      <td>Kilometer</td>\n",
       "      <td>354369.0</td>\n",
       "      <td>128211.172535</td>\n",
       "      <td>37905.341530</td>\n",
       "      <td>5000.0</td>\n",
       "      <td>125000.0</td>\n",
       "      <td>150000.0</td>\n",
       "      <td>150000.0</td>\n",
       "      <td>150000.0</td>\n",
       "    </tr>\n",
       "    <tr>\n",
       "      <td>RegistrationMonth</td>\n",
       "      <td>354369.0</td>\n",
       "      <td>5.714645</td>\n",
       "      <td>3.726421</td>\n",
       "      <td>0.0</td>\n",
       "      <td>3.0</td>\n",
       "      <td>6.0</td>\n",
       "      <td>9.0</td>\n",
       "      <td>12.0</td>\n",
       "    </tr>\n",
       "    <tr>\n",
       "      <td>NumberOfPictures</td>\n",
       "      <td>354369.0</td>\n",
       "      <td>0.000000</td>\n",
       "      <td>0.000000</td>\n",
       "      <td>0.0</td>\n",
       "      <td>0.0</td>\n",
       "      <td>0.0</td>\n",
       "      <td>0.0</td>\n",
       "      <td>0.0</td>\n",
       "    </tr>\n",
       "    <tr>\n",
       "      <td>PostalCode</td>\n",
       "      <td>354369.0</td>\n",
       "      <td>50508.689087</td>\n",
       "      <td>25783.096248</td>\n",
       "      <td>1067.0</td>\n",
       "      <td>30165.0</td>\n",
       "      <td>49413.0</td>\n",
       "      <td>71083.0</td>\n",
       "      <td>99998.0</td>\n",
       "    </tr>\n",
       "  </tbody>\n",
       "</table>\n",
       "</div>"
      ],
      "text/plain": [
       "                      count           mean           std     min       25%  \\\n",
       "Price              354369.0    4416.656776   4514.158514     0.0    1050.0   \n",
       "RegistrationYear   354369.0    2004.234448     90.227958  1000.0    1999.0   \n",
       "Power              354369.0     110.094337    189.850405     0.0      69.0   \n",
       "Kilometer          354369.0  128211.172535  37905.341530  5000.0  125000.0   \n",
       "RegistrationMonth  354369.0       5.714645      3.726421     0.0       3.0   \n",
       "NumberOfPictures   354369.0       0.000000      0.000000     0.0       0.0   \n",
       "PostalCode         354369.0   50508.689087  25783.096248  1067.0   30165.0   \n",
       "\n",
       "                        50%       75%       max  \n",
       "Price                2700.0    6400.0   20000.0  \n",
       "RegistrationYear     2003.0    2008.0    9999.0  \n",
       "Power                 105.0     143.0   20000.0  \n",
       "Kilometer          150000.0  150000.0  150000.0  \n",
       "RegistrationMonth       6.0       9.0      12.0  \n",
       "NumberOfPictures        0.0       0.0       0.0  \n",
       "PostalCode          49413.0   71083.0   99998.0  "
      ]
     },
     "execution_count": 6,
     "metadata": {},
     "output_type": "execute_result"
    }
   ],
   "source": [
    "data.describe().T"
   ]
  },
  {
   "cell_type": "markdown",
   "metadata": {},
   "source": [
    "### Корреляция"
   ]
  },
  {
   "cell_type": "code",
   "execution_count": 7,
   "metadata": {},
   "outputs": [
    {
     "data": {
      "text/html": [
       "<div>\n",
       "<style scoped>\n",
       "    .dataframe tbody tr th:only-of-type {\n",
       "        vertical-align: middle;\n",
       "    }\n",
       "\n",
       "    .dataframe tbody tr th {\n",
       "        vertical-align: top;\n",
       "    }\n",
       "\n",
       "    .dataframe thead th {\n",
       "        text-align: right;\n",
       "    }\n",
       "</style>\n",
       "<table border=\"1\" class=\"dataframe\">\n",
       "  <thead>\n",
       "    <tr style=\"text-align: right;\">\n",
       "      <th></th>\n",
       "      <th>Price</th>\n",
       "      <th>RegistrationYear</th>\n",
       "      <th>Power</th>\n",
       "      <th>Kilometer</th>\n",
       "      <th>RegistrationMonth</th>\n",
       "      <th>NumberOfPictures</th>\n",
       "      <th>PostalCode</th>\n",
       "    </tr>\n",
       "  </thead>\n",
       "  <tbody>\n",
       "    <tr>\n",
       "      <td>Price</td>\n",
       "      <td>1.000000</td>\n",
       "      <td>0.026916</td>\n",
       "      <td>0.158872</td>\n",
       "      <td>-0.333199</td>\n",
       "      <td>0.110581</td>\n",
       "      <td>NaN</td>\n",
       "      <td>0.076055</td>\n",
       "    </tr>\n",
       "    <tr>\n",
       "      <td>RegistrationYear</td>\n",
       "      <td>0.026916</td>\n",
       "      <td>1.000000</td>\n",
       "      <td>-0.000828</td>\n",
       "      <td>-0.053447</td>\n",
       "      <td>-0.011619</td>\n",
       "      <td>NaN</td>\n",
       "      <td>-0.003459</td>\n",
       "    </tr>\n",
       "    <tr>\n",
       "      <td>Power</td>\n",
       "      <td>0.158872</td>\n",
       "      <td>-0.000828</td>\n",
       "      <td>1.000000</td>\n",
       "      <td>0.024002</td>\n",
       "      <td>0.043380</td>\n",
       "      <td>NaN</td>\n",
       "      <td>0.021665</td>\n",
       "    </tr>\n",
       "    <tr>\n",
       "      <td>Kilometer</td>\n",
       "      <td>-0.333199</td>\n",
       "      <td>-0.053447</td>\n",
       "      <td>0.024002</td>\n",
       "      <td>1.000000</td>\n",
       "      <td>0.009571</td>\n",
       "      <td>NaN</td>\n",
       "      <td>-0.007698</td>\n",
       "    </tr>\n",
       "    <tr>\n",
       "      <td>RegistrationMonth</td>\n",
       "      <td>0.110581</td>\n",
       "      <td>-0.011619</td>\n",
       "      <td>0.043380</td>\n",
       "      <td>0.009571</td>\n",
       "      <td>1.000000</td>\n",
       "      <td>NaN</td>\n",
       "      <td>0.013995</td>\n",
       "    </tr>\n",
       "    <tr>\n",
       "      <td>NumberOfPictures</td>\n",
       "      <td>NaN</td>\n",
       "      <td>NaN</td>\n",
       "      <td>NaN</td>\n",
       "      <td>NaN</td>\n",
       "      <td>NaN</td>\n",
       "      <td>NaN</td>\n",
       "      <td>NaN</td>\n",
       "    </tr>\n",
       "    <tr>\n",
       "      <td>PostalCode</td>\n",
       "      <td>0.076055</td>\n",
       "      <td>-0.003459</td>\n",
       "      <td>0.021665</td>\n",
       "      <td>-0.007698</td>\n",
       "      <td>0.013995</td>\n",
       "      <td>NaN</td>\n",
       "      <td>1.000000</td>\n",
       "    </tr>\n",
       "  </tbody>\n",
       "</table>\n",
       "</div>"
      ],
      "text/plain": [
       "                      Price  RegistrationYear     Power  Kilometer  \\\n",
       "Price              1.000000          0.026916  0.158872  -0.333199   \n",
       "RegistrationYear   0.026916          1.000000 -0.000828  -0.053447   \n",
       "Power              0.158872         -0.000828  1.000000   0.024002   \n",
       "Kilometer         -0.333199         -0.053447  0.024002   1.000000   \n",
       "RegistrationMonth  0.110581         -0.011619  0.043380   0.009571   \n",
       "NumberOfPictures        NaN               NaN       NaN        NaN   \n",
       "PostalCode         0.076055         -0.003459  0.021665  -0.007698   \n",
       "\n",
       "                   RegistrationMonth  NumberOfPictures  PostalCode  \n",
       "Price                       0.110581               NaN    0.076055  \n",
       "RegistrationYear           -0.011619               NaN   -0.003459  \n",
       "Power                       0.043380               NaN    0.021665  \n",
       "Kilometer                   0.009571               NaN   -0.007698  \n",
       "RegistrationMonth           1.000000               NaN    0.013995  \n",
       "NumberOfPictures                 NaN               NaN         NaN  \n",
       "PostalCode                  0.013995               NaN    1.000000  "
      ]
     },
     "execution_count": 7,
     "metadata": {},
     "output_type": "execute_result"
    }
   ],
   "source": [
    "data.corr()"
   ]
  },
  {
   "cell_type": "markdown",
   "metadata": {},
   "source": [
    "**Промежуточные выводы:** Имеется очень слабая корреляция между столбцами Price и Power."
   ]
  },
  {
   "cell_type": "markdown",
   "metadata": {},
   "source": [
    "### Графики"
   ]
  },
  {
   "cell_type": "code",
   "execution_count": 8,
   "metadata": {},
   "outputs": [
    {
     "data": {
      "image/png": "[encoded data removed]",
      "text/plain": [
       "<Figure size 1440x360 with 2 Axes>"
      ]
     },
     "metadata": {},
     "output_type": "display_data"
    }
   ],
   "source": [
    "charts(data,'Price', '')"
   ]
  },
  {
   "cell_type": "code",
   "execution_count": 9,
   "metadata": {},
   "outputs": [
    {
     "data": {
      "image/png": "[encoded data removed]",
      "text/plain": [
       "<Figure size 1440x360 with 2 Axes>"
      ]
     },
     "metadata": {},
     "output_type": "display_data"
    }
   ],
   "source": [
    "charts(data, 'Power', '')"
   ]
  },
  {
   "cell_type": "code",
   "execution_count": 10,
   "metadata": {},
   "outputs": [
    {
     "data": {
      "image/png": "[encoded data removed]",
      "text/plain": [
       "<Figure size 1440x360 with 2 Axes>"
      ]
     },
     "metadata": {},
     "output_type": "display_data"
    }
   ],
   "source": [
    "charts(data, 'Kilometer', '')"
   ]
  },
  {
   "cell_type": "code",
   "execution_count": 11,
   "metadata": {},
   "outputs": [
    {
     "data": {
      "image/png": "[encoded data removed]",
      "text/plain": [
       "<Figure size 1440x360 with 2 Axes>"
      ]
     },
     "metadata": {},
     "output_type": "display_data"
    }
   ],
   "source": [
    "charts(data, 'RegistrationYear', '')"
   ]
  },
  {
   "cell_type": "markdown",
   "metadata": {},
   "source": [
    "**Промежуточные выводы:** На рассмотренных графиках видим, что имеются выбросы и нулевые значения. В дальнейшим избавимся от них."
   ]
  },
  {
   "cell_type": "markdown",
   "metadata": {},
   "source": [
    "### Предобработка данных"
   ]
  },
  {
   "cell_type": "markdown",
   "metadata": {},
   "source": [
    "-  Для дальнейшего исследования удалим дубликаты и не нужные столбцы:'DateCrawled','DateCreated','NumberOfPictures','PostalCode', 'Model','LastSeen'.\n",
    "- Изменим столбец NotRepaired на численный yes - 1, no - 0.\n",
    "- Избавимся от нулевых значений и выбросов в Price и Power.\n",
    "- Изменим типы данных\n",
    "- Разделим данные на обучающую и тестовую выборки"
   ]
  },
  {
   "cell_type": "markdown",
   "metadata": {},
   "source": [
    "#### Drop"
   ]
  },
  {
   "cell_type": "code",
   "execution_count": 12,
   "metadata": {},
   "outputs": [],
   "source": [
    "#drop duplicates\n",
    "data.drop_duplicates(inplace=True)\n",
    "\n",
    "#drop columns\n",
    "data = data.drop(['DateCrawled','DateCreated','NumberOfPictures','PostalCode', 'Model','LastSeen'],axis=1)"
   ]
  },
  {
   "cell_type": "code",
   "execution_count": 14,
   "metadata": {},
   "outputs": [],
   "source": [
    "data['NotRepaired'] = data['NotRepaired'].map({'yes':1, 'no':0})"
   ]
  },
  {
   "cell_type": "code",
   "execution_count": 15,
   "metadata": {},
   "outputs": [],
   "source": [
    "data = data[(data['RegistrationYear'] >= 1929) \n",
    "     & (data['RegistrationYear'] <= 2021)\n",
    "    & (data['Price'] > 50) & (data['Price'] <= 14000)\n",
    "    & (data['Power'] > 20) & (data['Power'] <= 400)]"
   ]
  },
  {
   "cell_type": "code",
   "execution_count": 16,
   "metadata": {},
   "outputs": [],
   "source": [
    "data = data.dropna(axis=0, subset = ['Gearbox', 'VehicleType', 'FuelType'])"
   ]
  },
  {
   "cell_type": "code",
   "execution_count": 17,
   "metadata": {},
   "outputs": [],
   "source": [
    "data['NotRepaired'].fillna('0',inplace=True)"
   ]
  },
  {
   "cell_type": "code",
   "execution_count": 19,
   "metadata": {},
   "outputs": [],
   "source": [
    "#замена типов данных\n",
    "data['NotRepaired'] = data['NotRepaired'].astype('int')\n",
    "data[['VehicleType', \n",
    "      'Gearbox','FuelType','Brand']] = data[['VehicleType', \n",
    "                                                            'Gearbox',\n",
    "                                             'FuelType','Brand']].astype('category')"
   ]
  },
  {
   "cell_type": "markdown",
   "metadata": {},
   "source": [
    "#### Split"
   ]
  },
  {
   "cell_type": "code",
   "execution_count": 20,
   "metadata": {},
   "outputs": [],
   "source": [
    "data_orig = data.copy()\n",
    "data_ohe = pd.get_dummies(data, drop_first = True)"
   ]
  },
  {
   "cell_type": "code",
   "execution_count": 21,
   "metadata": {},
   "outputs": [],
   "source": [
    "#original\n",
    "features = data_orig.drop(['Price'], axis=1)\n",
    "target = data_orig['Price']\n",
    "\n",
    "#ohe\n",
    "ohe_features = data_ohe.drop(['Price'], axis=1)\n",
    "ohe_target = data_ohe['Price']"
   ]
  },
  {
   "cell_type": "code",
   "execution_count": 22,
   "metadata": {},
   "outputs": [
    {
     "name": "stdout",
     "output_type": "stream",
     "text": [
      "Размер train выборки - 188926\n",
      "Размер test выборки - 62976\n",
      "Размер train orig выборки - 188926\n"
     ]
    }
   ],
   "source": [
    "#ohe\n",
    "train_ohe_features, test_ohe_features, train_ohe_target, test_ohe_target = train_test_split(ohe_features, ohe_target , test_size = 0.25, random_state=12345)\n",
    "\n",
    "#original\n",
    "train_features, test_features, train_target, test_target = train_test_split = train_test_split(features, target, test_size = 0.25, random_state=12345)\n",
    "\n",
    "print('Размер train выборки - {}'.format(train_ohe_features.shape[0]))\n",
    "print('Размер test выборки - {}'.format(test_ohe_features.shape[0]))\n",
    "print('Размер train orig выборки - {}'.format(train_features.shape[0]))"
   ]
  },
  {
   "cell_type": "markdown",
   "metadata": {},
   "source": [
    "**Промежуточные выводы:** Очистили и подготовили данные для дальнейшего исследования."
   ]
  },
  {
   "cell_type": "markdown",
   "metadata": {},
   "source": [
    "## Обучение моделей"
   ]
  },
  {
   "cell_type": "markdown",
   "metadata": {},
   "source": [
    "### Линейная регрессия, Случайный лес регрессия, Древо решений регрессия"
   ]
  },
  {
   "cell_type": "code",
   "execution_count": 23,
   "metadata": {},
   "outputs": [],
   "source": [
    "model_1 = LinearRegression()\n",
    "model_2 = RandomForestRegressor(random_state=12345)\n",
    "model_3 = DecisionTreeRegressor(random_state=12345)\n",
    "\n",
    "param_LR = {'fit_intercept':[True,False], 'copy_X':[True, False], \n",
    "                  'normalize':[True,False]}\n",
    "param_RF = {'n_estimators':[5,100],\n",
    "             'max_depth':[1,10], 'min_samples_split': [2, 3]}\n",
    "param_DT= {'max_depth':[1,20], 'splitter':('best','random'), 'min_samples_split':np.arange(2,10)}"
   ]
  },
  {
   "cell_type": "code",
   "execution_count": 24,
   "metadata": {},
   "outputs": [],
   "source": [
    "LR = GridSearchCV(model_1 ,param_grid = param_LR)\n",
    "RF = GridSearchCV(model_2,param_grid = param_RF)\n",
    "DT = GridSearchCV(model_3,param_grid = param_DT)"
   ]
  },
  {
   "cell_type": "code",
   "execution_count": 25,
   "metadata": {},
   "outputs": [
    {
     "name": "stdout",
     "output_type": "stream",
     "text": [
      "\n",
      "========================================================\n",
      "Линейная регрессия\n",
      "========================================================\n",
      "RMSE: 2141.9561\n",
      "R2: 0.6282\n",
      "Время обучения: 63.9495 vs Время предсказания 0.196\n",
      "\n",
      "Наилучшие гиперпараметры: {'copy_X': True, 'fit_intercept': True, 'normalize': True}\n",
      "\n",
      "CPU times: user 40.4 s, sys: 23.7 s, total: 1min 4s\n",
      "Wall time: 1min 4s\n"
     ]
    }
   ],
   "source": [
    "%%time\n",
    "#Линейная регрессия\n",
    "start_1 = time.time()\n",
    "LR.fit(train_ohe_features, train_ohe_target)\n",
    "end_1 = time.time()\n",
    "fit_LR = end_1 - start_1\n",
    "\n",
    "start_2 = time.time()\n",
    "prediction_LR = LR.predict(test_ohe_features)\n",
    "end_2 = time.time()\n",
    "pred_LR = end_2 - start_2\n",
    "\n",
    "rmse_LR = (mean_squared_error(test_ohe_target, prediction_LR) ** 0.5)\n",
    "r2_LR = r2_score(test_ohe_target, prediction_LR)\n",
    "\n",
    "print('\\n========================================================')\n",
    "print('Линейная регрессия')\n",
    "print('========================================================')\n",
    "print('RMSE:', round(rmse_LR, 4))\n",
    "print('R2:', round(r2_LR, 4))\n",
    "print('Время обучения:', round(fit_LR,4), 'vs', 'Время предсказания', round(pred_LR,4))\n",
    "print()\n",
    "print('Наилучшие гиперпараметры:',LR.best_params_)\n",
    "print()"
   ]
  },
  {
   "cell_type": "code",
   "execution_count": 26,
   "metadata": {},
   "outputs": [
    {
     "name": "stdout",
     "output_type": "stream",
     "text": [
      "\n",
      "========================================================\n",
      "Случаный лес регрессия\n",
      "========================================================\n",
      "RMSE: 1510.6823\n",
      "R2: 0.8151\n",
      "Время обучения: 439.0393 vs Время предсказания 0.5399\n",
      "\n",
      "Наилучшие гиперпараметры: {'max_depth': 10, 'min_samples_split': 3, 'n_estimators': 100}\n",
      "\n",
      "CPU times: user 7min 17s, sys: 0 ns, total: 7min 17s\n",
      "Wall time: 7min 19s\n"
     ]
    }
   ],
   "source": [
    "%%time\n",
    "#Cлучаный лес регрессия\n",
    "start_1 = time.time()\n",
    "RF.fit(train_ohe_features, train_ohe_target)\n",
    "end_1 = time.time()\n",
    "fit_RF = end_1 - start_1\n",
    "\n",
    "start_2 = time.time()\n",
    "prediction_RF = RF.predict(test_ohe_features)\n",
    "end_2 = time.time()\n",
    "pred_RF = end_2 - start_2\n",
    "\n",
    "rmse_RF = (mean_squared_error(test_ohe_target, prediction_RF) ** 0.5)\n",
    "r2_RF = r2_score(test_ohe_target, prediction_RF)\n",
    "\n",
    "print('\\n========================================================')\n",
    "print('Случаный лес регрессия')\n",
    "print('========================================================')\n",
    "print('RMSE:', round(rmse_RF, 4))\n",
    "print('R2:', round(r2_RF, 4))\n",
    "print('Время обучения:', round(fit_RF,4), 'vs', 'Время предсказания', round(pred_RF,4))\n",
    "print()\n",
    "print('Наилучшие гиперпараметры:',RF.best_params_)\n",
    "print()"
   ]
  },
  {
   "cell_type": "code",
   "execution_count": 27,
   "metadata": {},
   "outputs": [
    {
     "name": "stdout",
     "output_type": "stream",
     "text": [
      "\n",
      "========================================================\n",
      "Древо решений регрессия\n",
      "========================================================\n",
      "RMSE: 1469.8165\n",
      "R2: 0.8249\n",
      "Время обучения: 63.5162 vs Время предсказания 0.0299\n",
      "\n",
      "Наилучшие гиперпараметры: {'max_depth': 20, 'min_samples_split': 9, 'splitter': 'random'}\n",
      "\n",
      "CPU times: user 1min 3s, sys: 113 ms, total: 1min 3s\n",
      "Wall time: 1min 3s\n"
     ]
    }
   ],
   "source": [
    "%%time\n",
    "#Древо решений регрессия\n",
    "start_1 = time.time()\n",
    "DT.fit(train_ohe_features, train_ohe_target)\n",
    "end_1 = time.time()\n",
    "fit_DT = end_1 - start_1\n",
    "\n",
    "start_2 = time.time()\n",
    "prediction_DT = DT.predict(test_ohe_features)\n",
    "end_2 = time.time()\n",
    "pred_DT = end_2 - start_2\n",
    "\n",
    "rmse_DT = (mean_squared_error(test_ohe_target, prediction_DT) ** 0.5)\n",
    "r2_DT = r2_score(test_ohe_target, prediction_DT)\n",
    "\n",
    "print(\"\\n========================================================\")\n",
    "print(\"Древо решений регрессия\" )\n",
    "print(\"========================================================\")\n",
    "print('RMSE:', round(rmse_DT, 4))\n",
    "print('R2:', round(r2_DT, 4))\n",
    "print('Время обучения:', round(fit_DT,4), 'vs', 'Время предсказания', round(pred_DT,4))\n",
    "print()\n",
    "print('Наилучшие гиперпараметры:',DT.best_params_)\n",
    "print()"
   ]
  },
  {
   "cell_type": "markdown",
   "metadata": {},
   "source": [
    "### CatBoost"
   ]
  },
  {
   "cell_type": "code",
   "execution_count": 28,
   "metadata": {},
   "outputs": [
    {
     "name": "stdout",
     "output_type": "stream",
     "text": [
      "0:\tlearn: 3300.3426647\ttest: 3294.0946058\tbest: 3294.0946058 (0)\ttotal: 342ms\tremaining: 5m 41s\n",
      "100:\tlearn: 1457.4197426\ttest: 1460.5897236\tbest: 1460.5897236 (100)\ttotal: 29.2s\tremaining: 4m 20s\n",
      "200:\tlearn: 1403.3574666\ttest: 1407.1557382\tbest: 1407.1557382 (200)\ttotal: 57.3s\tremaining: 3m 47s\n",
      "300:\tlearn: 1375.5715343\ttest: 1381.5951999\tbest: 1381.5951999 (300)\ttotal: 1m 25s\tremaining: 3m 17s\n",
      "400:\tlearn: 1355.7825182\ttest: 1364.8435824\tbest: 1364.8435824 (400)\ttotal: 1m 52s\tremaining: 2m 47s\n",
      "500:\tlearn: 1342.2324418\ttest: 1354.1008924\tbest: 1354.1008924 (500)\ttotal: 2m 20s\tremaining: 2m 19s\n",
      "600:\tlearn: 1332.0393318\ttest: 1346.3722295\tbest: 1346.3722295 (600)\ttotal: 2m 46s\tremaining: 1m 50s\n",
      "700:\tlearn: 1324.4765699\ttest: 1341.4061805\tbest: 1341.4061805 (700)\ttotal: 3m 13s\tremaining: 1m 22s\n",
      "800:\tlearn: 1318.4362844\ttest: 1337.6374482\tbest: 1337.6374482 (800)\ttotal: 3m 39s\tremaining: 54.6s\n",
      "900:\tlearn: 1312.5255053\ttest: 1334.3281171\tbest: 1334.2791584 (899)\ttotal: 4m 7s\tremaining: 27.2s\n",
      "999:\tlearn: 1307.1266073\ttest: 1331.3507292\tbest: 1331.3507292 (999)\ttotal: 4m 35s\tremaining: 0us\n",
      "\n",
      "bestTest = 1331.350729\n",
      "bestIteration = 999\n",
      "\n",
      "\n",
      "========================================================\n",
      "CatBoost\n",
      "========================================================\n",
      "RMSE: 1331.3507\n",
      "Время обучения: 278.2473 vs Время предсказания: 0.264\n",
      "\n",
      "CPU times: user 3min 54s, sys: 41.3 s, total: 4min 36s\n",
      "Wall time: 4min 38s\n"
     ]
    }
   ],
   "source": [
    "%%time\n",
    "cat = CatBoostRegressor(loss_function='RMSE', depth=5, n_estimators = 1000, learning_rate = 0.1)\n",
    "start_1 = time.time()\n",
    "cat.fit(train_features, train_target,eval_set=[(test_features, test_target),], verbose = 100, cat_features = ['VehicleType','Gearbox','FuelType','Brand'])\n",
    "end_1 = time.time()\n",
    "fit_cat = end_1 - start_1\n",
    "\n",
    "start_2 = time.time()\n",
    "prediction_cat = cat.predict(test_features)\n",
    "end_2 = time.time()\n",
    "pred_cat = end_2 - start_2\n",
    "\n",
    "rmse_cat = (mean_squared_error(test_target, prediction_cat) ** 0.5)\n",
    "   \n",
    "print(\"\\n========================================================\")\n",
    "print(\"CatBoost\" )\n",
    "print(\"========================================================\")\n",
    "print('RMSE:', round(rmse_cat, 4))\n",
    "print('Время обучения:', round(fit_cat,4), 'vs', 'Время предсказания:', round(pred_cat,4))\n",
    "print()"
   ]
  },
  {
   "cell_type": "markdown",
   "metadata": {},
   "source": [
    "### LightGBM"
   ]
  },
  {
   "cell_type": "code",
   "execution_count": 29,
   "metadata": {},
   "outputs": [
    {
     "name": "stdout",
     "output_type": "stream",
     "text": [
      "[100]\tvalid_0's rmse: 1351.97\tvalid_0's l2: 1.82783e+06\n",
      "[200]\tvalid_0's rmse: 1321.29\tvalid_0's l2: 1.7458e+06\n",
      "[300]\tvalid_0's rmse: 1303.11\tvalid_0's l2: 1.69811e+06\n",
      "[400]\tvalid_0's rmse: 1294.2\tvalid_0's l2: 1.67496e+06\n",
      "[500]\tvalid_0's rmse: 1287.32\tvalid_0's l2: 1.6572e+06\n",
      "[600]\tvalid_0's rmse: 1282.68\tvalid_0's l2: 1.64526e+06\n",
      "[700]\tvalid_0's rmse: 1277.89\tvalid_0's l2: 1.63301e+06\n",
      "[800]\tvalid_0's rmse: 1273.81\tvalid_0's l2: 1.6226e+06\n",
      "[900]\tvalid_0's rmse: 1271.38\tvalid_0's l2: 1.6164e+06\n",
      "[1000]\tvalid_0's rmse: 1269.6\tvalid_0's l2: 1.61187e+06\n",
      "\n",
      "========================================================\n",
      "LGBMRegressor\n",
      "========================================================\n",
      "RMSE: 1269.5964\n",
      "\n",
      "Время обучения: 86.5874 vs Время предсказания: 6.6318\n",
      "CPU times: user 1min 31s, sys: 702 ms, total: 1min 32s\n",
      "Wall time: 1min 33s\n"
     ]
    }
   ],
   "source": [
    "%%time\n",
    "lgbm = lgb.LGBMRegressor(depth=5, n_estimators=1000, learning_rate = 0.1)\n",
    "\n",
    "start_1 = time.time()\n",
    "lgbm.fit(train_features, train_target, verbose = 100, eval_set=[(test_features, test_target),], eval_metric='rmse')\n",
    "end_1 = time.time()\n",
    "fit_lgbm = end_1 - start_1\n",
    "\n",
    "start_2 = time.time()\n",
    "prediction_lgbm = lgbm.predict(test_features)\n",
    "end_2 = time.time()\n",
    "pred_lgbm = end_2 - start_2\n",
    "\n",
    "rmse_lgbm = (mean_squared_error(test_target, prediction_lgbm) ** 0.5)\n",
    "\n",
    "print(\"\\n========================================================\")\n",
    "print(\"LGBMRegressor\" )\n",
    "print(\"========================================================\")\n",
    "print('RMSE:', round(rmse_lgbm, 4))\n",
    "print()\n",
    "print('Время обучения:', round(fit_lgbm,4), 'vs', 'Время предсказания:', round(pred_lgbm,4))\n",
    "#print()"
   ]
  },
  {
   "cell_type": "markdown",
   "metadata": {},
   "source": [
    "## Анализ моделей"
   ]
  },
  {
   "cell_type": "markdown",
   "metadata": {},
   "source": [
    "По итогам исследования удалось установить, что важным признаками для предсказания цены, являются RegistrationYear  и Power.\n",
    "\n",
    "В ходе исследования обучили 5 моделей и для каждой попробовали различные гипепараметры. Расположим результаты полученных показателей от наилучшего к худшему. \n",
    "\n",
    "**Базовые модели | RMSE:**\n",
    "- Древо решений регрессия: 1469.8\n",
    "- Случайный лес регрессия: 1510.6\n",
    "- Линейная регрессия: 2141.9\n",
    "\n",
    "**Скорость обучения:**\n",
    "- Линейная регрессия: 63.9\n",
    "- Древо решений регрессия: 63.5\n",
    "- Случайный лес регрессия: 439.0\n",
    "\n",
    "**Скорость предсказания:**\n",
    "- Древо решений регрессия: 0.029\n",
    "- Линейная регрессия: 0.196\n",
    "- Случайный лес регрессия: 0.539\n",
    "\n",
    "**Модели с градиентным бустингом | гиперпараметры (depth = 5, iterations = 1000, learn_rate = 0.1) | RMSE:**\n",
    "- LightGBM: 1269.5\n",
    "- CatBoost: 1331.3\n",
    "\n",
    "**Скорость обучения:**\n",
    "- LightGBM: 86.5\n",
    "- CatBoost: 278.2\n",
    "\n",
    "**Скорость предсказания:**\n",
    "- CatBoost: 0.26\n",
    "- LightGBM: 6.63\n",
    "\n",
    "Итак, среди простых моделей можно выделить алгоритм Древо решений регрессия. А что касается CatBoost и LightGBM, оба алгоритма показали неплохие результаты RMSE с небольшой разницей в пользу LightGBM. Также стоит отметить, что LightGBM показал хорошие результаты по скорости обучения.\n",
    "По итогом исследования из полученных результатов можно выделить следующие решения для заказчика:\n",
    "- Если важна точность и неважна скорость предсказания - LGBMRegressor\n",
    "- Если важна скорость предсказания — CatBoostRegressor"
   ]
  }
 ],
 "metadata": {
  "ExecuteTimeLog": [
   {
    "duration": 1569,
    "start_time": "2021-10-28T11:42:56.735Z"
   },
   {
    "duration": 3,
    "start_time": "2021-10-28T11:44:40.330Z"
   },
   {
    "duration": 1175,
    "start_time": "2021-10-28T11:44:40.336Z"
   },
   {
    "duration": 6,
    "start_time": "2021-10-28T11:46:43.033Z"
   },
   {
    "duration": 14,
    "start_time": "2021-10-28T11:47:00.159Z"
   },
   {
    "duration": 2581,
    "start_time": "2021-10-28T11:47:10.091Z"
   },
   {
    "duration": 8,
    "start_time": "2021-10-28T11:48:02.038Z"
   },
   {
    "duration": 7,
    "start_time": "2021-10-28T11:48:02.490Z"
   },
   {
    "duration": 2660,
    "start_time": "2021-10-28T11:48:03.038Z"
   },
   {
    "duration": 6,
    "start_time": "2021-10-28T11:48:53.086Z"
   },
   {
    "duration": 6,
    "start_time": "2021-10-28T11:48:53.347Z"
   },
   {
    "duration": 2723,
    "start_time": "2021-10-28T11:48:53.624Z"
   },
   {
    "duration": 7,
    "start_time": "2021-10-28T11:49:29.558Z"
   },
   {
    "duration": 8,
    "start_time": "2021-10-28T11:49:30.338Z"
   },
   {
    "duration": 2794,
    "start_time": "2021-10-28T11:49:30.650Z"
   },
   {
    "duration": 7,
    "start_time": "2021-10-28T11:49:49.281Z"
   },
   {
    "duration": 6,
    "start_time": "2021-10-28T11:49:49.513Z"
   },
   {
    "duration": 2792,
    "start_time": "2021-10-28T11:49:49.850Z"
   },
   {
    "duration": 7,
    "start_time": "2021-10-28T11:50:22.205Z"
   },
   {
    "duration": 7,
    "start_time": "2021-10-28T11:50:22.533Z"
   },
   {
    "duration": 2738,
    "start_time": "2021-10-28T11:50:22.775Z"
   },
   {
    "duration": 6,
    "start_time": "2021-10-28T12:06:33.351Z"
   },
   {
    "duration": 1142,
    "start_time": "2021-10-28T12:06:57.271Z"
   },
   {
    "duration": 1106,
    "start_time": "2021-10-28T12:07:50.007Z"
   },
   {
    "duration": 1377,
    "start_time": "2021-10-28T12:08:27.871Z"
   },
   {
    "duration": 594,
    "start_time": "2021-10-28T12:23:15.116Z"
   },
   {
    "duration": 199,
    "start_time": "2021-10-28T12:23:21.559Z"
   },
   {
    "duration": 119,
    "start_time": "2021-10-28T12:25:44.899Z"
   },
   {
    "duration": 101,
    "start_time": "2021-10-28T12:25:50.096Z"
   },
   {
    "duration": 1099,
    "start_time": "2021-10-28T12:27:03.799Z"
   },
   {
    "duration": 624,
    "start_time": "2021-10-28T12:37:19.905Z"
   },
   {
    "duration": 602,
    "start_time": "2021-10-28T12:37:31.505Z"
   },
   {
    "duration": -149,
    "start_time": "2021-10-28T12:38:26.688Z"
   },
   {
    "duration": 585,
    "start_time": "2021-10-28T12:38:30.580Z"
   },
   {
    "duration": 537,
    "start_time": "2021-10-28T12:38:49.130Z"
   },
   {
    "duration": 375,
    "start_time": "2021-10-28T12:40:13.666Z"
   },
   {
    "duration": 591,
    "start_time": "2021-10-28T12:40:27.550Z"
   },
   {
    "duration": 116,
    "start_time": "2021-10-28T12:43:08.234Z"
   },
   {
    "duration": 313,
    "start_time": "2021-10-28T12:43:21.858Z"
   },
   {
    "duration": 277,
    "start_time": "2021-10-28T12:43:29.490Z"
   },
   {
    "duration": 618,
    "start_time": "2021-10-28T12:43:32.410Z"
   },
   {
    "duration": 1031,
    "start_time": "2021-10-28T12:44:52.882Z"
   },
   {
    "duration": 670,
    "start_time": "2021-10-28T12:45:55.897Z"
   },
   {
    "duration": 112,
    "start_time": "2021-10-28T12:47:35.975Z"
   },
   {
    "duration": 133,
    "start_time": "2021-10-28T12:48:14.330Z"
   },
   {
    "duration": 308,
    "start_time": "2021-10-28T12:48:54.137Z"
   },
   {
    "duration": 14,
    "start_time": "2021-10-28T12:49:00.927Z"
   },
   {
    "duration": 132,
    "start_time": "2021-10-28T12:49:20.246Z"
   },
   {
    "duration": 812,
    "start_time": "2021-10-28T12:49:36.122Z"
   },
   {
    "duration": 731,
    "start_time": "2021-10-28T12:49:59.404Z"
   },
   {
    "duration": 955,
    "start_time": "2021-10-28T12:56:09.128Z"
   },
   {
    "duration": 101,
    "start_time": "2021-10-28T12:58:38.995Z"
   },
   {
    "duration": 56,
    "start_time": "2021-10-28T12:58:46.269Z"
   },
   {
    "duration": 1250,
    "start_time": "2021-10-28T12:59:17.371Z"
   },
   {
    "duration": 93,
    "start_time": "2021-10-28T12:59:55.024Z"
   },
   {
    "duration": 977,
    "start_time": "2021-10-28T13:00:00.592Z"
   },
   {
    "duration": 1036,
    "start_time": "2021-10-28T13:00:13.111Z"
   },
   {
    "duration": 398,
    "start_time": "2021-10-28T13:01:12.970Z"
   },
   {
    "duration": 360,
    "start_time": "2021-10-28T13:01:20.666Z"
   },
   {
    "duration": 1055,
    "start_time": "2021-10-28T13:03:07.489Z"
   },
   {
    "duration": 1033,
    "start_time": "2021-10-28T13:03:16.136Z"
   },
   {
    "duration": 7128,
    "start_time": "2021-10-28T13:03:38.371Z"
   },
   {
    "duration": 1042,
    "start_time": "2021-10-28T13:03:49.233Z"
   },
   {
    "duration": 558,
    "start_time": "2021-10-28T13:05:00.246Z"
   },
   {
    "duration": 583,
    "start_time": "2021-10-28T13:05:30.067Z"
   },
   {
    "duration": 9493,
    "start_time": "2021-10-28T13:06:32.454Z"
   },
   {
    "duration": 107,
    "start_time": "2021-10-28T17:08:08.690Z"
   },
   {
    "duration": 127,
    "start_time": "2021-10-28T17:08:38.162Z"
   },
   {
    "duration": 323,
    "start_time": "2021-11-01T13:27:38.339Z"
   },
   {
    "duration": 1545,
    "start_time": "2021-11-01T13:27:43.767Z"
   },
   {
    "duration": 1117,
    "start_time": "2021-11-01T13:27:45.314Z"
   },
   {
    "duration": 7,
    "start_time": "2021-11-01T13:27:46.433Z"
   },
   {
    "duration": 15,
    "start_time": "2021-11-01T13:27:46.443Z"
   },
   {
    "duration": 2803,
    "start_time": "2021-11-01T13:27:46.460Z"
   },
   {
    "duration": 135,
    "start_time": "2021-11-01T13:27:49.266Z"
   },
   {
    "duration": 1145,
    "start_time": "2021-11-01T13:27:49.403Z"
   },
   {
    "duration": 1136,
    "start_time": "2021-11-01T13:27:50.552Z"
   },
   {
    "duration": 1284,
    "start_time": "2021-11-01T13:27:51.691Z"
   },
   {
    "duration": 1095,
    "start_time": "2021-11-01T13:27:52.981Z"
   },
   {
    "duration": 674,
    "start_time": "2021-11-01T13:27:54.083Z"
   },
   {
    "duration": 5,
    "start_time": "2021-11-01T13:27:54.760Z"
   },
   {
    "duration": 61,
    "start_time": "2021-11-01T13:29:43.725Z"
   },
   {
    "duration": 51,
    "start_time": "2021-11-01T13:29:56.177Z"
   },
   {
    "duration": 40,
    "start_time": "2021-11-01T13:30:07.799Z"
   },
   {
    "duration": 373,
    "start_time": "2021-11-01T13:30:22.095Z"
   },
   {
    "duration": 1495,
    "start_time": "2021-11-01T13:30:35.545Z"
   },
   {
    "duration": 1101,
    "start_time": "2021-11-01T13:30:37.043Z"
   },
   {
    "duration": 6,
    "start_time": "2021-11-01T13:30:38.148Z"
   },
   {
    "duration": 31,
    "start_time": "2021-11-01T13:30:38.157Z"
   },
   {
    "duration": 2658,
    "start_time": "2021-11-01T13:30:38.191Z"
   },
   {
    "duration": 132,
    "start_time": "2021-11-01T13:30:40.851Z"
   },
   {
    "duration": 1143,
    "start_time": "2021-11-01T13:30:40.986Z"
   },
   {
    "duration": 1106,
    "start_time": "2021-11-01T13:30:42.132Z"
   },
   {
    "duration": 1346,
    "start_time": "2021-11-01T13:30:43.242Z"
   },
   {
    "duration": 1138,
    "start_time": "2021-11-01T13:30:44.591Z"
   },
   {
    "duration": 984,
    "start_time": "2021-11-01T13:30:45.732Z"
   },
   {
    "duration": 7,
    "start_time": "2021-11-01T13:30:46.719Z"
   },
   {
    "duration": 103,
    "start_time": "2021-11-01T13:30:46.729Z"
   },
   {
    "duration": 64,
    "start_time": "2021-11-01T13:32:59.686Z"
   },
   {
    "duration": 61,
    "start_time": "2021-11-01T13:34:46.437Z"
   },
   {
    "duration": 60,
    "start_time": "2021-11-01T13:35:01.549Z"
   },
   {
    "duration": 61,
    "start_time": "2021-11-01T13:35:37.555Z"
   },
   {
    "duration": 71,
    "start_time": "2021-11-01T13:35:54.664Z"
   },
   {
    "duration": 72,
    "start_time": "2021-11-01T13:36:03.247Z"
   },
   {
    "duration": 1484,
    "start_time": "2021-11-01T13:36:20.211Z"
   },
   {
    "duration": 1100,
    "start_time": "2021-11-01T13:36:21.698Z"
   },
   {
    "duration": 6,
    "start_time": "2021-11-01T13:36:22.801Z"
   },
   {
    "duration": 16,
    "start_time": "2021-11-01T13:36:22.810Z"
   },
   {
    "duration": 2609,
    "start_time": "2021-11-01T13:36:22.829Z"
   },
   {
    "duration": 132,
    "start_time": "2021-11-01T13:36:25.440Z"
   },
   {
    "duration": 1126,
    "start_time": "2021-11-01T13:36:25.574Z"
   },
   {
    "duration": 1111,
    "start_time": "2021-11-01T13:36:26.704Z"
   },
   {
    "duration": 1257,
    "start_time": "2021-11-01T13:36:27.817Z"
   },
   {
    "duration": 1215,
    "start_time": "2021-11-01T13:36:29.076Z"
   },
   {
    "duration": 713,
    "start_time": "2021-11-01T13:36:30.294Z"
   },
   {
    "duration": 5,
    "start_time": "2021-11-01T13:36:31.009Z"
   },
   {
    "duration": 104,
    "start_time": "2021-11-01T13:36:31.016Z"
   },
   {
    "duration": 74,
    "start_time": "2021-11-01T13:36:31.122Z"
   },
   {
    "duration": 11,
    "start_time": "2021-11-01T13:37:08.056Z"
   },
   {
    "duration": 6,
    "start_time": "2021-11-01T13:37:26.771Z"
   },
   {
    "duration": 429,
    "start_time": "2021-11-01T13:39:56.077Z"
   },
   {
    "duration": 19,
    "start_time": "2021-11-01T13:40:02.958Z"
   },
   {
    "duration": 324,
    "start_time": "2021-11-01T13:41:37.033Z"
   },
   {
    "duration": 20,
    "start_time": "2021-11-01T13:43:13.709Z"
   },
   {
    "duration": 68,
    "start_time": "2021-11-01T13:54:49.988Z"
   },
   {
    "duration": 1654,
    "start_time": "2021-11-03T12:16:38.259Z"
   },
   {
    "duration": 1187,
    "start_time": "2021-11-03T12:16:39.916Z"
   },
   {
    "duration": 9,
    "start_time": "2021-11-03T12:16:41.107Z"
   },
   {
    "duration": 43,
    "start_time": "2021-11-03T12:16:41.119Z"
   },
   {
    "duration": 2546,
    "start_time": "2021-11-03T12:16:41.164Z"
   },
   {
    "duration": 134,
    "start_time": "2021-11-03T12:16:43.713Z"
   },
   {
    "duration": 75,
    "start_time": "2021-11-03T12:16:43.850Z"
   },
   {
    "duration": 1273,
    "start_time": "2021-11-03T12:16:43.928Z"
   },
   {
    "duration": 1283,
    "start_time": "2021-11-03T12:16:45.204Z"
   },
   {
    "duration": 1459,
    "start_time": "2021-11-03T12:16:46.490Z"
   },
   {
    "duration": 1366,
    "start_time": "2021-11-03T12:16:47.952Z"
   },
   {
    "duration": 645,
    "start_time": "2021-11-03T12:16:49.321Z"
   },
   {
    "duration": 876,
    "start_time": "2021-11-03T12:18:48.528Z"
   },
   {
    "duration": 1132,
    "start_time": "2021-11-03T12:19:01.271Z"
   },
   {
    "duration": 5988,
    "start_time": "2021-11-03T12:22:49.285Z"
   },
   {
    "duration": 6314,
    "start_time": "2021-11-03T12:23:13.068Z"
   },
   {
    "duration": 6,
    "start_time": "2021-11-03T13:03:10.753Z"
   },
   {
    "duration": 6,
    "start_time": "2021-11-03T13:03:26.297Z"
   },
   {
    "duration": 59,
    "start_time": "2021-11-03T13:03:27.089Z"
   },
   {
    "duration": 67,
    "start_time": "2021-11-03T13:03:28.173Z"
   },
   {
    "duration": 5,
    "start_time": "2021-11-03T13:03:31.502Z"
   },
   {
    "duration": 54,
    "start_time": "2021-11-03T13:09:51.169Z"
   },
   {
    "duration": 50,
    "start_time": "2021-11-03T13:11:17.731Z"
   },
   {
    "duration": 22,
    "start_time": "2021-11-03T13:11:39.059Z"
   },
   {
    "duration": 7,
    "start_time": "2021-11-03T13:12:11.994Z"
   },
   {
    "duration": 7,
    "start_time": "2021-11-03T13:12:15.492Z"
   },
   {
    "duration": 8,
    "start_time": "2021-11-03T13:12:27.413Z"
   },
   {
    "duration": 12,
    "start_time": "2021-11-03T13:12:34.505Z"
   },
   {
    "duration": 9,
    "start_time": "2021-11-03T13:13:25.317Z"
   },
   {
    "duration": 7,
    "start_time": "2021-11-03T13:13:41.280Z"
   },
   {
    "duration": 9,
    "start_time": "2021-11-03T13:13:51.992Z"
   },
   {
    "duration": 6,
    "start_time": "2021-11-03T13:13:57.222Z"
   },
   {
    "duration": 1708,
    "start_time": "2021-11-03T13:14:33.163Z"
   },
   {
    "duration": 1096,
    "start_time": "2021-11-03T13:14:34.874Z"
   },
   {
    "duration": 6,
    "start_time": "2021-11-03T13:14:35.973Z"
   },
   {
    "duration": 16,
    "start_time": "2021-11-03T13:14:36.389Z"
   },
   {
    "duration": 2465,
    "start_time": "2021-11-03T13:14:36.855Z"
   },
   {
    "duration": 115,
    "start_time": "2021-11-03T13:14:49.775Z"
   },
   {
    "duration": 73,
    "start_time": "2021-11-03T13:14:50.605Z"
   },
   {
    "duration": 1078,
    "start_time": "2021-11-03T13:14:53.727Z"
   },
   {
    "duration": 1088,
    "start_time": "2021-11-03T13:14:54.808Z"
   },
   {
    "duration": 1261,
    "start_time": "2021-11-03T13:14:55.898Z"
   },
   {
    "duration": 1100,
    "start_time": "2021-11-03T13:14:57.162Z"
   },
   {
    "duration": 641,
    "start_time": "2021-11-03T13:15:10.696Z"
   },
   {
    "duration": 6,
    "start_time": "2021-11-03T13:15:13.038Z"
   },
   {
    "duration": 66,
    "start_time": "2021-11-03T13:15:19.604Z"
   },
   {
    "duration": 61,
    "start_time": "2021-11-03T13:15:25.438Z"
   },
   {
    "duration": 20,
    "start_time": "2021-11-03T13:15:27.883Z"
   },
   {
    "duration": 6,
    "start_time": "2021-11-03T13:15:29.081Z"
   },
   {
    "duration": 46,
    "start_time": "2021-11-03T13:15:32.169Z"
   },
   {
    "duration": 7,
    "start_time": "2021-11-03T13:15:33.153Z"
   },
   {
    "duration": 39,
    "start_time": "2021-11-03T13:16:39.189Z"
   },
   {
    "duration": 6,
    "start_time": "2021-11-03T13:16:39.992Z"
   },
   {
    "duration": 17,
    "start_time": "2021-11-03T13:16:50.469Z"
   },
   {
    "duration": 1523,
    "start_time": "2021-11-03T13:19:32.226Z"
   },
   {
    "duration": 1089,
    "start_time": "2021-11-03T13:19:33.752Z"
   },
   {
    "duration": 15,
    "start_time": "2021-11-03T13:19:34.844Z"
   },
   {
    "duration": 18,
    "start_time": "2021-11-03T13:19:34.862Z"
   },
   {
    "duration": 2613,
    "start_time": "2021-11-03T13:19:34.882Z"
   },
   {
    "duration": 128,
    "start_time": "2021-11-03T13:19:37.497Z"
   },
   {
    "duration": 80,
    "start_time": "2021-11-03T13:19:37.627Z"
   },
   {
    "duration": 1112,
    "start_time": "2021-11-03T13:19:37.711Z"
   },
   {
    "duration": 1073,
    "start_time": "2021-11-03T13:19:38.825Z"
   },
   {
    "duration": 1259,
    "start_time": "2021-11-03T13:19:39.901Z"
   },
   {
    "duration": 1066,
    "start_time": "2021-11-03T13:19:41.163Z"
   },
   {
    "duration": 695,
    "start_time": "2021-11-03T13:19:42.232Z"
   },
   {
    "duration": 5,
    "start_time": "2021-11-03T13:19:42.930Z"
   },
   {
    "duration": 80,
    "start_time": "2021-11-03T13:19:42.937Z"
   },
   {
    "duration": 21,
    "start_time": "2021-11-03T13:19:43.022Z"
   },
   {
    "duration": 6,
    "start_time": "2021-11-03T13:19:43.059Z"
   },
   {
    "duration": 26,
    "start_time": "2021-11-03T13:20:18.527Z"
   },
   {
    "duration": 20,
    "start_time": "2021-11-03T13:20:30.674Z"
   },
   {
    "duration": 553,
    "start_time": "2021-11-03T13:23:08.911Z"
   },
   {
    "duration": 377,
    "start_time": "2021-11-03T13:23:13.815Z"
   },
   {
    "duration": 1070,
    "start_time": "2021-11-03T13:23:28.558Z"
   },
   {
    "duration": 5,
    "start_time": "2021-11-03T13:23:56.766Z"
   },
   {
    "duration": 6,
    "start_time": "2021-11-03T13:24:11.394Z"
   },
   {
    "duration": 14,
    "start_time": "2021-11-03T13:26:24.859Z"
   },
   {
    "duration": 15,
    "start_time": "2021-11-03T13:26:28.746Z"
   },
   {
    "duration": 12,
    "start_time": "2021-11-03T13:26:42.019Z"
   },
   {
    "duration": 12,
    "start_time": "2021-11-03T13:26:50.749Z"
   },
   {
    "duration": 18,
    "start_time": "2021-11-03T13:27:08.552Z"
   },
   {
    "duration": 18,
    "start_time": "2021-11-03T13:27:17.234Z"
   },
   {
    "duration": 13,
    "start_time": "2021-11-03T13:27:27.412Z"
   },
   {
    "duration": 13,
    "start_time": "2021-11-03T13:27:45.151Z"
   },
   {
    "duration": 13,
    "start_time": "2021-11-03T13:27:49.644Z"
   },
   {
    "duration": 13,
    "start_time": "2021-11-03T13:28:39.597Z"
   },
   {
    "duration": 13,
    "start_time": "2021-11-03T13:30:31.675Z"
   },
   {
    "duration": 38,
    "start_time": "2021-11-03T13:30:50.477Z"
   },
   {
    "duration": 41,
    "start_time": "2021-11-03T13:31:14.797Z"
   },
   {
    "duration": 36,
    "start_time": "2021-11-03T13:31:21.677Z"
   },
   {
    "duration": 120,
    "start_time": "2021-11-03T13:32:34.879Z"
   },
   {
    "duration": 69,
    "start_time": "2021-11-03T13:34:04.211Z"
   },
   {
    "duration": 74,
    "start_time": "2021-11-03T13:39:16.398Z"
   },
   {
    "duration": 451,
    "start_time": "2021-11-03T13:44:12.767Z"
   },
   {
    "duration": 52,
    "start_time": "2021-11-03T13:44:19.732Z"
   },
   {
    "duration": 423,
    "start_time": "2021-11-03T13:45:09.180Z"
   },
   {
    "duration": 56,
    "start_time": "2021-11-03T13:45:29.745Z"
   },
   {
    "duration": 65,
    "start_time": "2021-11-03T13:46:30.493Z"
   },
   {
    "duration": 53,
    "start_time": "2021-11-03T13:47:54.740Z"
   },
   {
    "duration": 126,
    "start_time": "2021-11-03T13:48:18.939Z"
   },
   {
    "duration": 78,
    "start_time": "2021-11-03T13:48:22.895Z"
   },
   {
    "duration": 36,
    "start_time": "2021-11-03T13:49:36.847Z"
   },
   {
    "duration": 47,
    "start_time": "2021-11-03T13:50:07.195Z"
   },
   {
    "duration": 46,
    "start_time": "2021-11-03T13:50:13.324Z"
   },
   {
    "duration": 33,
    "start_time": "2021-11-03T13:50:39.611Z"
   },
   {
    "duration": 42,
    "start_time": "2021-11-03T14:03:48.742Z"
   },
   {
    "duration": 55,
    "start_time": "2021-11-03T14:04:44.751Z"
   },
   {
    "duration": 32,
    "start_time": "2021-11-03T14:23:50.102Z"
   },
   {
    "duration": 71,
    "start_time": "2021-11-03T14:24:46.511Z"
   },
   {
    "duration": 73,
    "start_time": "2021-11-03T14:26:06.486Z"
   },
   {
    "duration": 57,
    "start_time": "2021-11-03T14:26:48.725Z"
   },
   {
    "duration": 64,
    "start_time": "2021-11-03T14:27:18.828Z"
   },
   {
    "duration": 62,
    "start_time": "2021-11-03T14:28:26.503Z"
   },
   {
    "duration": 12,
    "start_time": "2021-11-03T14:28:53.744Z"
   },
   {
    "duration": 11,
    "start_time": "2021-11-03T14:29:05.868Z"
   },
   {
    "duration": 12,
    "start_time": "2021-11-03T14:29:19.742Z"
   },
   {
    "duration": 32,
    "start_time": "2021-11-03T14:29:38.465Z"
   },
   {
    "duration": 12,
    "start_time": "2021-11-03T14:29:47.873Z"
   },
   {
    "duration": 12,
    "start_time": "2021-11-03T14:29:52.115Z"
   },
   {
    "duration": 12,
    "start_time": "2021-11-03T14:29:57.055Z"
   },
   {
    "duration": 13,
    "start_time": "2021-11-03T14:30:02.417Z"
   },
   {
    "duration": 33,
    "start_time": "2021-11-03T14:30:06.725Z"
   },
   {
    "duration": 462,
    "start_time": "2021-11-03T14:41:54.428Z"
   },
   {
    "duration": 433,
    "start_time": "2021-11-03T14:42:17.107Z"
   },
   {
    "duration": 1510,
    "start_time": "2021-11-03T14:43:32.034Z"
   },
   {
    "duration": 1061,
    "start_time": "2021-11-03T14:43:33.547Z"
   },
   {
    "duration": 7,
    "start_time": "2021-11-03T14:43:34.611Z"
   },
   {
    "duration": 15,
    "start_time": "2021-11-03T14:43:34.620Z"
   },
   {
    "duration": 2652,
    "start_time": "2021-11-03T14:43:34.637Z"
   },
   {
    "duration": 127,
    "start_time": "2021-11-03T14:43:37.291Z"
   },
   {
    "duration": 83,
    "start_time": "2021-11-03T14:43:37.420Z"
   },
   {
    "duration": 1226,
    "start_time": "2021-11-03T14:43:37.506Z"
   },
   {
    "duration": 1106,
    "start_time": "2021-11-03T14:43:38.735Z"
   },
   {
    "duration": 1274,
    "start_time": "2021-11-03T14:43:39.843Z"
   },
   {
    "duration": 1109,
    "start_time": "2021-11-03T14:43:41.120Z"
   },
   {
    "duration": 713,
    "start_time": "2021-11-03T14:43:42.231Z"
   },
   {
    "duration": 12,
    "start_time": "2021-11-03T14:43:42.947Z"
   },
   {
    "duration": 70,
    "start_time": "2021-11-03T14:43:42.963Z"
   },
   {
    "duration": 59,
    "start_time": "2021-11-03T14:43:43.035Z"
   },
   {
    "duration": 67,
    "start_time": "2021-11-03T14:43:46.209Z"
   },
   {
    "duration": 1069,
    "start_time": "2021-11-03T14:44:07.863Z"
   },
   {
    "duration": 98,
    "start_time": "2021-11-03T14:44:49.109Z"
   },
   {
    "duration": 822,
    "start_time": "2021-11-03T14:45:59.120Z"
   },
   {
    "duration": 80,
    "start_time": "2021-11-03T14:54:24.032Z"
   },
   {
    "duration": 1510,
    "start_time": "2021-11-03T14:55:43.563Z"
   },
   {
    "duration": 1106,
    "start_time": "2021-11-03T14:55:45.076Z"
   },
   {
    "duration": 8,
    "start_time": "2021-11-03T14:55:46.186Z"
   },
   {
    "duration": 21,
    "start_time": "2021-11-03T14:55:46.196Z"
   },
   {
    "duration": 3347,
    "start_time": "2021-11-03T14:55:46.259Z"
   },
   {
    "duration": 8,
    "start_time": "2021-11-03T14:56:39.900Z"
   },
   {
    "duration": 7,
    "start_time": "2021-11-03T14:56:40.735Z"
   },
   {
    "duration": 3083,
    "start_time": "2021-11-03T14:56:41.080Z"
   },
   {
    "duration": 7,
    "start_time": "2021-11-03T14:57:40.024Z"
   },
   {
    "duration": 6,
    "start_time": "2021-11-03T14:57:40.739Z"
   },
   {
    "duration": 2573,
    "start_time": "2021-11-03T14:57:41.204Z"
   },
   {
    "duration": 7,
    "start_time": "2021-11-03T14:58:01.470Z"
   },
   {
    "duration": 6,
    "start_time": "2021-11-03T14:58:03.262Z"
   },
   {
    "duration": 2764,
    "start_time": "2021-11-03T14:58:03.640Z"
   },
   {
    "duration": 7,
    "start_time": "2021-11-03T14:59:46.864Z"
   },
   {
    "duration": 6,
    "start_time": "2021-11-03T14:59:47.614Z"
   },
   {
    "duration": 2672,
    "start_time": "2021-11-03T14:59:48.378Z"
   },
   {
    "duration": 1542,
    "start_time": "2021-11-04T11:25:07.412Z"
   },
   {
    "duration": 1142,
    "start_time": "2021-11-04T11:25:08.956Z"
   },
   {
    "duration": 8,
    "start_time": "2021-11-04T11:25:10.101Z"
   },
   {
    "duration": 30,
    "start_time": "2021-11-04T11:25:10.111Z"
   },
   {
    "duration": 3237,
    "start_time": "2021-11-04T11:25:10.143Z"
   },
   {
    "duration": 136,
    "start_time": "2021-11-04T11:25:13.382Z"
   },
   {
    "duration": 77,
    "start_time": "2021-11-04T11:25:13.521Z"
   },
   {
    "duration": 1512,
    "start_time": "2021-11-04T11:25:13.600Z"
   },
   {
    "duration": 1390,
    "start_time": "2021-11-04T11:25:15.115Z"
   },
   {
    "duration": 1401,
    "start_time": "2021-11-04T11:25:16.508Z"
   },
   {
    "duration": 1231,
    "start_time": "2021-11-04T11:25:17.912Z"
   },
   {
    "duration": 1020,
    "start_time": "2021-11-04T11:25:22.031Z"
   },
   {
    "duration": 8,
    "start_time": "2021-11-04T11:25:23.054Z"
   },
   {
    "duration": 77,
    "start_time": "2021-11-04T11:25:28.866Z"
   },
   {
    "duration": 50,
    "start_time": "2021-11-04T11:25:31.194Z"
   },
   {
    "duration": 1094,
    "start_time": "2021-11-04T11:25:31.973Z"
   },
   {
    "duration": 54,
    "start_time": "2021-11-04T11:26:22.285Z"
   },
   {
    "duration": 887,
    "start_time": "2021-11-04T11:26:23.655Z"
   },
   {
    "duration": 1496,
    "start_time": "2021-11-04T11:27:07.366Z"
   },
   {
    "duration": 46,
    "start_time": "2021-11-04T11:27:53.001Z"
   },
   {
    "duration": 907,
    "start_time": "2021-11-04T11:27:54.291Z"
   },
   {
    "duration": 1042,
    "start_time": "2021-11-04T11:28:14.191Z"
   },
   {
    "duration": 47,
    "start_time": "2021-11-04T11:28:36.874Z"
   },
   {
    "duration": 953,
    "start_time": "2021-11-04T11:28:37.747Z"
   },
   {
    "duration": 1051,
    "start_time": "2021-11-04T11:28:46.056Z"
   },
   {
    "duration": 46,
    "start_time": "2021-11-04T11:29:22.727Z"
   },
   {
    "duration": 1080,
    "start_time": "2021-11-04T11:29:23.226Z"
   },
   {
    "duration": 1709,
    "start_time": "2021-11-04T11:29:24.310Z"
   },
   {
    "duration": 1186,
    "start_time": "2021-11-04T11:29:34.015Z"
   },
   {
    "duration": 1461,
    "start_time": "2021-11-04T11:29:35.204Z"
   },
   {
    "duration": 1214,
    "start_time": "2021-11-04T11:29:54.179Z"
   },
   {
    "duration": 2107,
    "start_time": "2021-11-04T11:32:08.186Z"
   },
   {
    "duration": 1723,
    "start_time": "2021-11-04T11:32:10.297Z"
   },
   {
    "duration": 12,
    "start_time": "2021-11-04T11:32:12.028Z"
   },
   {
    "duration": 30,
    "start_time": "2021-11-04T11:32:12.044Z"
   },
   {
    "duration": 4124,
    "start_time": "2021-11-04T11:32:12.077Z"
   },
   {
    "duration": 144,
    "start_time": "2021-11-04T11:32:16.203Z"
   },
   {
    "duration": 135,
    "start_time": "2021-11-04T11:32:16.350Z"
   },
   {
    "duration": 1160,
    "start_time": "2021-11-04T11:32:16.490Z"
   },
   {
    "duration": 1160,
    "start_time": "2021-11-04T11:32:17.653Z"
   },
   {
    "duration": 2205,
    "start_time": "2021-11-04T11:32:18.816Z"
   },
   {
    "duration": 1152,
    "start_time": "2021-11-04T11:32:21.023Z"
   },
   {
    "duration": 807,
    "start_time": "2021-11-04T11:32:22.178Z"
   },
   {
    "duration": 6,
    "start_time": "2021-11-04T11:32:22.988Z"
   },
   {
    "duration": 82,
    "start_time": "2021-11-04T11:32:22.997Z"
   },
   {
    "duration": 59,
    "start_time": "2021-11-04T11:32:23.082Z"
   },
   {
    "duration": 807,
    "start_time": "2021-11-04T11:32:23.143Z"
   },
   {
    "duration": 1429,
    "start_time": "2021-11-04T11:32:23.953Z"
   },
   {
    "duration": 1141,
    "start_time": "2021-11-04T11:32:25.384Z"
   },
   {
    "duration": 85,
    "start_time": "2021-11-04T11:36:55.000Z"
   },
   {
    "duration": 647,
    "start_time": "2021-11-04T11:36:56.130Z"
   },
   {
    "duration": 33,
    "start_time": "2021-11-04T11:40:14.767Z"
   },
   {
    "duration": 801,
    "start_time": "2021-11-04T11:40:16.601Z"
   },
   {
    "duration": 672,
    "start_time": "2021-11-04T11:41:02.052Z"
   },
   {
    "duration": 1585,
    "start_time": "2021-11-04T11:41:20.680Z"
   },
   {
    "duration": 1902,
    "start_time": "2021-11-04T11:41:22.268Z"
   },
   {
    "duration": 8,
    "start_time": "2021-11-04T11:41:24.173Z"
   },
   {
    "duration": 14,
    "start_time": "2021-11-04T11:41:24.184Z"
   },
   {
    "duration": 3431,
    "start_time": "2021-11-04T11:41:24.201Z"
   },
   {
    "duration": 143,
    "start_time": "2021-11-04T11:41:27.635Z"
   },
   {
    "duration": 93,
    "start_time": "2021-11-04T11:41:27.781Z"
   },
   {
    "duration": 1329,
    "start_time": "2021-11-04T11:41:27.878Z"
   },
   {
    "duration": 1755,
    "start_time": "2021-11-04T11:41:29.211Z"
   },
   {
    "duration": 1702,
    "start_time": "2021-11-04T11:41:30.970Z"
   },
   {
    "duration": 1175,
    "start_time": "2021-11-04T11:41:32.676Z"
   },
   {
    "duration": 859,
    "start_time": "2021-11-04T11:41:33.855Z"
   },
   {
    "duration": 14,
    "start_time": "2021-11-04T11:41:34.719Z"
   },
   {
    "duration": 468,
    "start_time": "2021-11-04T11:41:34.736Z"
   },
   {
    "duration": 56,
    "start_time": "2021-11-04T11:42:00.366Z"
   },
   {
    "duration": 63,
    "start_time": "2021-11-04T11:42:02.649Z"
   },
   {
    "duration": 88,
    "start_time": "2021-11-04T11:42:04.318Z"
   },
   {
    "duration": 285,
    "start_time": "2021-11-04T11:42:11.701Z"
   },
   {
    "duration": 39,
    "start_time": "2021-11-04T11:42:50.507Z"
   },
   {
    "duration": 839,
    "start_time": "2021-11-04T11:43:05.379Z"
   },
   {
    "duration": 29,
    "start_time": "2021-11-04T11:43:20.154Z"
   },
   {
    "duration": 770,
    "start_time": "2021-11-04T11:43:21.622Z"
   },
   {
    "duration": 1059,
    "start_time": "2021-11-04T11:43:27.784Z"
   },
   {
    "duration": 1331,
    "start_time": "2021-11-04T11:43:32.002Z"
   },
   {
    "duration": 91,
    "start_time": "2021-11-04T12:07:34.606Z"
   },
   {
    "duration": 56,
    "start_time": "2021-11-04T12:10:40.606Z"
   },
   {
    "duration": 644,
    "start_time": "2021-11-04T12:10:56.585Z"
   },
   {
    "duration": 124,
    "start_time": "2021-11-04T12:15:54.335Z"
   },
   {
    "duration": 18,
    "start_time": "2021-11-04T12:16:05.487Z"
   },
   {
    "duration": 284,
    "start_time": "2021-11-04T12:22:21.778Z"
   },
   {
    "duration": 77,
    "start_time": "2021-11-04T12:22:29.346Z"
   },
   {
    "duration": 23,
    "start_time": "2021-11-04T12:24:48.450Z"
   },
   {
    "duration": 239,
    "start_time": "2021-11-04T12:46:22.994Z"
   },
   {
    "duration": 43,
    "start_time": "2021-11-04T12:47:17.148Z"
   },
   {
    "duration": 267,
    "start_time": "2021-11-04T12:47:17.755Z"
   },
   {
    "duration": 243,
    "start_time": "2021-11-04T12:48:17.855Z"
   },
   {
    "duration": 5,
    "start_time": "2021-11-04T12:51:19.546Z"
   },
   {
    "duration": 280,
    "start_time": "2021-11-04T13:00:19.275Z"
   },
   {
    "duration": 4,
    "start_time": "2021-11-04T13:01:10.549Z"
   },
   {
    "duration": 358,
    "start_time": "2021-11-04T13:01:11.594Z"
   },
   {
    "duration": 111662,
    "start_time": "2021-11-04T13:02:20.971Z"
   },
   {
    "duration": 31,
    "start_time": "2021-11-04T13:28:38.245Z"
   },
   {
    "duration": 5,
    "start_time": "2021-11-04T13:28:39.477Z"
   },
   {
    "duration": 4,
    "start_time": "2021-11-04T13:28:42.121Z"
   },
   {
    "duration": 576611,
    "start_time": "2021-11-04T13:28:44.456Z"
   },
   {
    "duration": 4,
    "start_time": "2021-11-04T13:42:14.392Z"
   },
   {
    "duration": 6,
    "start_time": "2021-11-04T13:42:15.061Z"
   },
   {
    "duration": 4,
    "start_time": "2021-11-04T13:42:16.042Z"
   },
   {
    "duration": 4,
    "start_time": "2021-11-04T13:53:34.893Z"
   },
   {
    "duration": 6,
    "start_time": "2021-11-04T13:53:35.775Z"
   },
   {
    "duration": 5,
    "start_time": "2021-11-04T13:53:36.299Z"
   },
   {
    "duration": 251,
    "start_time": "2021-11-04T13:53:37.286Z"
   },
   {
    "duration": 4,
    "start_time": "2021-11-04T13:54:14.690Z"
   },
   {
    "duration": 6,
    "start_time": "2021-11-04T13:54:15.434Z"
   },
   {
    "duration": 4,
    "start_time": "2021-11-04T13:54:15.964Z"
   },
   {
    "duration": 581934,
    "start_time": "2021-11-04T13:54:17.045Z"
   },
   {
    "duration": 167,
    "start_time": "2021-11-04T14:10:14.790Z"
   },
   {
    "duration": 446756,
    "start_time": "2021-11-04T14:11:15.670Z"
   },
   {
    "duration": 72467,
    "start_time": "2021-11-04T14:20:22.667Z"
   },
   {
    "duration": 69193,
    "start_time": "2021-11-04T14:27:47.138Z"
   },
   {
    "duration": 439189,
    "start_time": "2021-11-04T14:31:53.543Z"
   },
   {
    "duration": 71309,
    "start_time": "2021-11-04T14:39:12.735Z"
   },
   {
    "duration": 1186,
    "start_time": "2021-11-05T11:20:10.479Z"
   },
   {
    "duration": 821,
    "start_time": "2021-11-05T11:20:11.667Z"
   },
   {
    "duration": 6,
    "start_time": "2021-11-05T11:20:12.491Z"
   },
   {
    "duration": 16,
    "start_time": "2021-11-05T11:20:12.499Z"
   },
   {
    "duration": 2145,
    "start_time": "2021-11-05T11:20:12.517Z"
   },
   {
    "duration": 111,
    "start_time": "2021-11-05T11:20:14.664Z"
   },
   {
    "duration": 52,
    "start_time": "2021-11-05T11:20:14.777Z"
   },
   {
    "duration": 755,
    "start_time": "2021-11-05T11:20:14.831Z"
   },
   {
    "duration": 712,
    "start_time": "2021-11-05T11:20:15.589Z"
   },
   {
    "duration": 878,
    "start_time": "2021-11-05T11:20:16.304Z"
   },
   {
    "duration": 670,
    "start_time": "2021-11-05T11:20:17.184Z"
   },
   {
    "duration": 518,
    "start_time": "2021-11-05T11:20:17.856Z"
   },
   {
    "duration": 5,
    "start_time": "2021-11-05T11:20:18.376Z"
   },
   {
    "duration": 39,
    "start_time": "2021-11-05T11:20:18.383Z"
   },
   {
    "duration": 45,
    "start_time": "2021-11-05T11:20:18.423Z"
   },
   {
    "duration": 74,
    "start_time": "2021-11-05T11:20:18.470Z"
   },
   {
    "duration": 24,
    "start_time": "2021-11-05T11:20:18.546Z"
   },
   {
    "duration": 90,
    "start_time": "2021-11-05T11:20:18.572Z"
   },
   {
    "duration": 97,
    "start_time": "2021-11-05T11:20:24.081Z"
   },
   {
    "duration": 56,
    "start_time": "2021-11-05T11:20:24.625Z"
   },
   {
    "duration": 37,
    "start_time": "2021-11-05T11:20:25.305Z"
   },
   {
    "duration": 161,
    "start_time": "2021-11-05T11:20:27.048Z"
   },
   {
    "duration": 6,
    "start_time": "2021-11-05T11:20:32.018Z"
   },
   {
    "duration": 4,
    "start_time": "2021-11-05T11:20:32.399Z"
   },
   {
    "duration": 59607,
    "start_time": "2021-11-05T11:20:41.542Z"
   },
   {
    "duration": 403083,
    "start_time": "2021-11-05T11:21:41.152Z"
   },
   {
    "duration": 62566,
    "start_time": "2021-11-05T11:28:24.237Z"
   },
   {
    "duration": 20,
    "start_time": "2021-11-05T12:39:45.454Z"
   },
   {
    "duration": 89,
    "start_time": "2021-11-05T12:39:46.841Z"
   },
   {
    "duration": 156,
    "start_time": "2021-11-05T12:40:15.348Z"
   },
   {
    "duration": 80,
    "start_time": "2021-11-05T12:40:28.260Z"
   },
   {
    "duration": 97,
    "start_time": "2021-11-05T12:40:40.172Z"
   },
   {
    "duration": 3598,
    "start_time": "2021-11-05T12:40:46.996Z"
   },
   {
    "duration": 4,
    "start_time": "2021-11-05T12:42:20.854Z"
   },
   {
    "duration": 301,
    "start_time": "2021-11-05T12:42:30.496Z"
   },
   {
    "duration": 258,
    "start_time": "2021-11-05T12:42:36.373Z"
   },
   {
    "duration": 11,
    "start_time": "2021-11-05T12:42:50.427Z"
   },
   {
    "duration": 313591,
    "start_time": "2021-11-05T12:45:51.443Z"
   },
   {
    "duration": 266316,
    "start_time": "2021-11-05T12:58:49.699Z"
   },
   {
    "duration": 64222,
    "start_time": "2021-11-05T13:05:44.130Z"
   },
   {
    "duration": 31749,
    "start_time": "2021-11-05T13:07:06.095Z"
   },
   {
    "duration": 176925,
    "start_time": "2021-11-05T13:07:52.777Z"
   },
   {
    "duration": -41,
    "start_time": "2021-11-05T13:10:49.745Z"
   },
   {
    "duration": 345,
    "start_time": "2021-11-05T13:11:15.393Z"
   },
   {
    "duration": 264,
    "start_time": "2021-11-05T13:11:35.444Z"
   },
   {
    "duration": 273,
    "start_time": "2021-11-05T13:11:55.972Z"
   },
   {
    "duration": 412,
    "start_time": "2021-11-05T13:12:07.501Z"
   },
   {
    "duration": 116,
    "start_time": "2021-11-05T13:13:26.971Z"
   },
   {
    "duration": 334,
    "start_time": "2021-11-05T13:13:43.721Z"
   },
   {
    "duration": 286,
    "start_time": "2021-11-05T13:13:59.309Z"
   },
   {
    "duration": 288,
    "start_time": "2021-11-05T13:14:05.661Z"
   },
   {
    "duration": 260,
    "start_time": "2021-11-05T13:14:31.490Z"
   },
   {
    "duration": 105758,
    "start_time": "2021-11-05T13:14:37.450Z"
   },
   {
    "duration": 135,
    "start_time": "2021-11-05T13:17:47.044Z"
   },
   {
    "duration": 22614,
    "start_time": "2021-11-05T13:18:01.787Z"
   },
   {
    "duration": 77343,
    "start_time": "2021-11-05T13:18:46.299Z"
   },
   {
    "duration": 35621,
    "start_time": "2021-11-05T13:20:07.721Z"
   },
   {
    "duration": 36432,
    "start_time": "2021-11-05T13:24:18.958Z"
   },
   {
    "duration": 80941,
    "start_time": "2021-11-05T13:25:09.915Z"
   },
   {
    "duration": 15143,
    "start_time": "2021-11-05T13:26:35.051Z"
   },
   {
    "duration": 23032,
    "start_time": "2021-11-05T13:27:04.609Z"
   },
   {
    "duration": 4547,
    "start_time": "2021-11-05T13:28:37.038Z"
   },
   {
    "duration": 5142,
    "start_time": "2021-11-05T13:29:03.230Z"
   },
   {
    "duration": 261,
    "start_time": "2021-11-05T13:32:06.045Z"
   },
   {
    "duration": 4135,
    "start_time": "2021-11-05T13:32:14.081Z"
   },
   {
    "duration": 4194,
    "start_time": "2021-11-05T13:37:31.234Z"
   },
   {
    "duration": 4346,
    "start_time": "2021-11-05T13:37:54.186Z"
   },
   {
    "duration": 4071,
    "start_time": "2021-11-05T13:38:09.254Z"
   },
   {
    "duration": 262,
    "start_time": "2021-11-05T13:38:52.059Z"
   },
   {
    "duration": 4793,
    "start_time": "2021-11-05T13:39:07.635Z"
   },
   {
    "duration": 4434,
    "start_time": "2021-11-05T13:40:02.375Z"
   },
   {
    "duration": 4084,
    "start_time": "2021-11-05T13:40:21.141Z"
   },
   {
    "duration": 176,
    "start_time": "2021-11-05T13:44:20.688Z"
   },
   {
    "duration": 4101,
    "start_time": "2021-11-05T13:45:01.943Z"
   },
   {
    "duration": 13930,
    "start_time": "2021-11-05T13:45:24.885Z"
   },
   {
    "duration": 101487,
    "start_time": "2021-11-05T13:46:46.488Z"
   },
   {
    "duration": 115,
    "start_time": "2021-11-05T14:06:44.507Z"
   },
   {
    "duration": 204083,
    "start_time": "2021-11-05T14:06:50.478Z"
   },
   {
    "duration": 1871,
    "start_time": "2021-11-05T14:11:09.432Z"
   },
   {
    "duration": 1916,
    "start_time": "2021-11-05T14:11:33.454Z"
   },
   {
    "duration": 1052805,
    "start_time": "2021-11-05T14:12:06.055Z"
   },
   {
    "duration": 126,
    "start_time": "2021-11-05T14:41:49.733Z"
   },
   {
    "duration": 5241,
    "start_time": "2021-11-05T14:41:57.511Z"
   },
   {
    "duration": 25598,
    "start_time": "2021-11-05T14:42:29.168Z"
   },
   {
    "duration": 16634,
    "start_time": "2021-11-05T14:43:09.381Z"
   },
   {
    "duration": 94,
    "start_time": "2021-11-05T14:43:50.090Z"
   },
   {
    "duration": 17675,
    "start_time": "2021-11-05T14:44:04.126Z"
   },
   {
    "duration": 16906,
    "start_time": "2021-11-05T14:46:38.223Z"
   },
   {
    "duration": 17066,
    "start_time": "2021-11-05T14:47:38.862Z"
   },
   {
    "duration": 16880,
    "start_time": "2021-11-05T14:48:01.173Z"
   },
   {
    "duration": 83,
    "start_time": "2021-11-05T14:50:11.374Z"
   },
   {
    "duration": 17160,
    "start_time": "2021-11-05T14:50:26.084Z"
   },
   {
    "duration": 16824,
    "start_time": "2021-11-05T14:50:55.211Z"
   },
   {
    "duration": 12506,
    "start_time": "2021-11-05T14:51:32.879Z"
   },
   {
    "duration": 33618,
    "start_time": "2021-11-05T14:51:56.451Z"
   },
   {
    "duration": 13654,
    "start_time": "2021-11-05T14:52:41.065Z"
   },
   {
    "duration": 14426,
    "start_time": "2021-11-05T14:56:45.360Z"
   },
   {
    "duration": 12303,
    "start_time": "2021-11-05T14:58:35.202Z"
   },
   {
    "duration": 14,
    "start_time": "2021-11-05T15:15:18.411Z"
   },
   {
    "duration": 7674,
    "start_time": "2021-11-05T15:15:18.983Z"
   },
   {
    "duration": 1243,
    "start_time": "2021-11-06T10:55:21.851Z"
   },
   {
    "duration": 800,
    "start_time": "2021-11-06T10:55:23.096Z"
   },
   {
    "duration": 5,
    "start_time": "2021-11-06T10:55:23.898Z"
   },
   {
    "duration": 11,
    "start_time": "2021-11-06T10:55:23.904Z"
   },
   {
    "duration": 2349,
    "start_time": "2021-11-06T10:55:23.917Z"
   },
   {
    "duration": 115,
    "start_time": "2021-11-06T10:55:26.268Z"
   },
   {
    "duration": 56,
    "start_time": "2021-11-06T10:55:26.385Z"
   },
   {
    "duration": 740,
    "start_time": "2021-11-06T10:55:26.443Z"
   },
   {
    "duration": 707,
    "start_time": "2021-11-06T10:55:27.185Z"
   },
   {
    "duration": 909,
    "start_time": "2021-11-06T10:55:27.893Z"
   },
   {
    "duration": 675,
    "start_time": "2021-11-06T10:55:28.804Z"
   },
   {
    "duration": 547,
    "start_time": "2021-11-06T10:55:32.111Z"
   },
   {
    "duration": 5,
    "start_time": "2021-11-06T10:55:34.443Z"
   },
   {
    "duration": 45,
    "start_time": "2021-11-06T10:55:35.001Z"
   },
   {
    "duration": 31,
    "start_time": "2021-11-06T10:55:35.403Z"
   },
   {
    "duration": 60,
    "start_time": "2021-11-06T10:55:35.598Z"
   },
   {
    "duration": 23,
    "start_time": "2021-11-06T10:55:35.758Z"
   },
   {
    "duration": 65,
    "start_time": "2021-11-06T10:55:35.976Z"
   },
   {
    "duration": 92,
    "start_time": "2021-11-06T10:55:37.063Z"
   },
   {
    "duration": 56,
    "start_time": "2021-11-06T10:55:37.273Z"
   },
   {
    "duration": 38,
    "start_time": "2021-11-06T10:55:37.677Z"
   },
   {
    "duration": 175,
    "start_time": "2021-11-06T10:55:37.873Z"
   },
   {
    "duration": 4,
    "start_time": "2021-11-06T10:55:42.614Z"
   },
   {
    "duration": 3,
    "start_time": "2021-11-06T10:55:42.803Z"
   },
   {
    "duration": 55756,
    "start_time": "2021-11-06T10:55:43.012Z"
   },
   {
    "duration": 464347,
    "start_time": "2021-11-06T10:56:38.771Z"
   },
   {
    "duration": 65964,
    "start_time": "2021-11-06T11:04:23.120Z"
   },
   {
    "duration": 20,
    "start_time": "2021-11-06T11:05:29.086Z"
   },
   {
    "duration": 13036,
    "start_time": "2021-11-06T11:08:14.769Z"
   },
   {
    "duration": 15,
    "start_time": "2021-11-06T11:08:39.125Z"
   },
   {
    "duration": 62564,
    "start_time": "2021-11-06T11:08:40.912Z"
   },
   {
    "duration": 85383,
    "start_time": "2021-11-06T11:14:14.701Z"
   },
   {
    "duration": 138237,
    "start_time": "2021-11-06T11:16:14.139Z"
   },
   {
    "duration": 337,
    "start_time": "2021-11-06T11:22:21.439Z"
   },
   {
    "duration": 430113,
    "start_time": "2021-11-06T11:22:30.742Z"
   },
   {
    "duration": 1634,
    "start_time": "2021-11-06T11:33:46.129Z"
   },
   {
    "duration": 1391,
    "start_time": "2021-11-06T11:33:54.973Z"
   },
   {
    "duration": 1337,
    "start_time": "2021-11-06T11:36:17.034Z"
   },
   {
    "duration": 2125,
    "start_time": "2021-11-06T11:38:03.500Z"
   },
   {
    "duration": 1791,
    "start_time": "2021-11-06T11:38:17.542Z"
   },
   {
    "duration": 1690,
    "start_time": "2021-11-06T11:38:35.111Z"
   },
   {
    "duration": 1143318,
    "start_time": "2021-11-06T11:40:02.708Z"
   },
   {
    "duration": 255,
    "start_time": "2021-11-06T11:59:52.184Z"
   },
   {
    "duration": 1202,
    "start_time": "2021-11-06T12:00:32.193Z"
   },
   {
    "duration": 898,
    "start_time": "2021-11-06T12:00:33.397Z"
   },
   {
    "duration": 6,
    "start_time": "2021-11-06T12:00:34.297Z"
   },
   {
    "duration": 11,
    "start_time": "2021-11-06T12:00:34.306Z"
   },
   {
    "duration": 2400,
    "start_time": "2021-11-06T12:00:34.319Z"
   },
   {
    "duration": 119,
    "start_time": "2021-11-06T12:00:36.721Z"
   },
   {
    "duration": 67,
    "start_time": "2021-11-06T12:00:36.842Z"
   },
   {
    "duration": 737,
    "start_time": "2021-11-06T12:00:36.912Z"
   },
   {
    "duration": 704,
    "start_time": "2021-11-06T12:00:37.651Z"
   },
   {
    "duration": 925,
    "start_time": "2021-11-06T12:00:38.357Z"
   },
   {
    "duration": 674,
    "start_time": "2021-11-06T12:00:39.283Z"
   },
   {
    "duration": 554,
    "start_time": "2021-11-06T12:00:39.963Z"
   },
   {
    "duration": 4,
    "start_time": "2021-11-06T12:00:40.519Z"
   },
   {
    "duration": 47,
    "start_time": "2021-11-06T12:00:40.525Z"
   },
   {
    "duration": 31,
    "start_time": "2021-11-06T12:00:40.573Z"
   },
   {
    "duration": 77,
    "start_time": "2021-11-06T12:00:40.606Z"
   },
   {
    "duration": 24,
    "start_time": "2021-11-06T12:00:40.686Z"
   },
   {
    "duration": 80,
    "start_time": "2021-11-06T12:00:40.712Z"
   },
   {
    "duration": 111,
    "start_time": "2021-11-06T12:00:40.794Z"
   },
   {
    "duration": 68,
    "start_time": "2021-11-06T12:00:40.907Z"
   },
   {
    "duration": 37,
    "start_time": "2021-11-06T12:00:40.977Z"
   },
   {
    "duration": 202,
    "start_time": "2021-11-06T12:00:41.016Z"
   },
   {
    "duration": 4,
    "start_time": "2021-11-06T12:00:41.219Z"
   },
   {
    "duration": 8,
    "start_time": "2021-11-06T12:00:41.225Z"
   },
   {
    "duration": 68430,
    "start_time": "2021-11-06T12:00:41.235Z"
   },
   {
    "duration": 451339,
    "start_time": "2021-11-06T12:01:49.667Z"
   },
   {
    "duration": 66905,
    "start_time": "2021-11-06T12:09:21.008Z"
   },
   {
    "duration": 20,
    "start_time": "2021-11-06T12:10:27.915Z"
   },
   {
    "duration": 12,
    "start_time": "2021-11-06T12:10:27.936Z"
   },
   {
    "duration": 306804,
    "start_time": "2021-11-06T12:10:27.966Z"
   },
   {
    "duration": 12345,
    "start_time": "2021-11-06T12:15:34.772Z"
   },
   {
    "duration": 570559,
    "start_time": "2021-11-06T12:15:47.119Z"
   },
   {
    "duration": 14,
    "start_time": "2021-11-06T12:25:17.680Z"
   },
   {
    "duration": 6769,
    "start_time": "2021-11-06T12:25:17.696Z"
   },
   {
    "duration": 2555,
    "start_time": "2021-11-06T12:25:24.467Z"
   },
   {
    "duration": -6,
    "start_time": "2021-11-06T12:25:27.030Z"
   },
   {
    "duration": 1439,
    "start_time": "2021-11-06T12:36:18.427Z"
   },
   {
    "duration": 1133,
    "start_time": "2021-11-06T12:36:49.946Z"
   },
   {
    "duration": 138078,
    "start_time": "2021-11-06T12:37:37.498Z"
   },
   {
    "duration": 55104,
    "start_time": "2021-11-06T12:41:48.902Z"
   },
   {
    "duration": 267,
    "start_time": "2021-11-06T12:43:55.964Z"
   },
   {
    "duration": 44446,
    "start_time": "2021-11-06T12:44:13.861Z"
   },
   {
    "duration": 88,
    "start_time": "2021-11-06T12:46:03.035Z"
   },
   {
    "duration": 12848,
    "start_time": "2021-11-06T12:46:21.068Z"
   },
   {
    "duration": 75,
    "start_time": "2021-11-06T12:47:31.009Z"
   },
   {
    "duration": 1338,
    "start_time": "2021-11-06T12:47:40.227Z"
   },
   {
    "duration": 1383,
    "start_time": "2021-11-06T12:48:11.287Z"
   },
   {
    "duration": 16396,
    "start_time": "2021-11-06T12:48:38.272Z"
   },
   {
    "duration": 1046,
    "start_time": "2021-11-06T12:51:40.140Z"
   },
   {
    "duration": 1214,
    "start_time": "2021-11-06T12:51:53.652Z"
   },
   {
    "duration": 43054,
    "start_time": "2021-11-06T12:55:00.810Z"
   },
   {
    "duration": 4025,
    "start_time": "2021-11-06T12:57:12.651Z"
   },
   {
    "duration": 1990,
    "start_time": "2021-11-06T12:58:11.788Z"
   },
   {
    "duration": 2592,
    "start_time": "2021-11-06T12:58:19.580Z"
   },
   {
    "duration": 1853,
    "start_time": "2021-11-06T12:58:33.115Z"
   },
   {
    "duration": 3593,
    "start_time": "2021-11-06T12:58:41.291Z"
   },
   {
    "duration": 1509,
    "start_time": "2021-11-06T13:00:43.562Z"
   },
   {
    "duration": 1419,
    "start_time": "2021-11-06T13:01:25.065Z"
   },
   {
    "duration": 15,
    "start_time": "2021-11-06T13:05:27.258Z"
   },
   {
    "duration": 26791,
    "start_time": "2021-11-06T13:07:33.946Z"
   },
   {
    "duration": 20724,
    "start_time": "2021-11-06T13:08:16.107Z"
   },
   {
    "duration": 286,
    "start_time": "2021-11-06T13:19:28.297Z"
   },
   {
    "duration": 4,
    "start_time": "2021-11-06T13:19:50.090Z"
   },
   {
    "duration": 3857,
    "start_time": "2021-11-06T13:19:50.549Z"
   },
   {
    "duration": 3524,
    "start_time": "2021-11-06T13:20:34.089Z"
   },
   {
    "duration": 3069,
    "start_time": "2021-11-06T13:20:52.787Z"
   },
   {
    "duration": 94,
    "start_time": "2021-11-06T13:21:03.208Z"
   },
   {
    "duration": 329,
    "start_time": "2021-11-06T13:21:15.007Z"
   },
   {
    "duration": 249,
    "start_time": "2021-11-06T13:21:28.021Z"
   },
   {
    "duration": 252,
    "start_time": "2021-11-06T13:21:36.001Z"
   },
   {
    "duration": 239,
    "start_time": "2021-11-06T13:21:48.376Z"
   },
   {
    "duration": 262,
    "start_time": "2021-11-06T13:21:59.346Z"
   },
   {
    "duration": 9537,
    "start_time": "2021-11-06T13:27:07.039Z"
   },
   {
    "duration": 10344,
    "start_time": "2021-11-06T13:27:49.033Z"
   },
   {
    "duration": 3082,
    "start_time": "2021-11-06T13:28:37.931Z"
   },
   {
    "duration": 14074,
    "start_time": "2021-11-06T13:28:47.835Z"
   },
   {
    "duration": 1360,
    "start_time": "2021-11-06T13:29:01.912Z"
   },
   {
    "duration": 4689,
    "start_time": "2021-11-06T13:40:49.080Z"
   },
   {
    "duration": 7462,
    "start_time": "2021-11-06T13:41:06.622Z"
   },
   {
    "duration": 1504,
    "start_time": "2021-11-06T13:41:26.161Z"
   },
   {
    "duration": 2923,
    "start_time": "2021-11-06T13:41:39.195Z"
   },
   {
    "duration": 28050,
    "start_time": "2021-11-06T13:43:44.288Z"
   },
   {
    "duration": 155204,
    "start_time": "2021-11-06T13:44:14.176Z"
   },
   {
    "duration": 13672,
    "start_time": "2021-11-06T13:50:40.338Z"
   },
   {
    "duration": 28769,
    "start_time": "2021-11-06T13:51:02.320Z"
   },
   {
    "duration": 2084,
    "start_time": "2021-11-06T13:51:41.093Z"
   },
   {
    "duration": 1524,
    "start_time": "2021-11-06T13:51:54.849Z"
   },
   {
    "duration": 17,
    "start_time": "2021-11-06T13:52:09.364Z"
   },
   {
    "duration": 290,
    "start_time": "2021-11-06T14:00:56.862Z"
   },
   {
    "duration": 1304,
    "start_time": "2021-11-06T14:04:51.438Z"
   },
   {
    "duration": 893,
    "start_time": "2021-11-06T14:04:52.747Z"
   },
   {
    "duration": 6,
    "start_time": "2021-11-06T14:04:53.642Z"
   },
   {
    "duration": 33,
    "start_time": "2021-11-06T14:04:53.649Z"
   },
   {
    "duration": 2358,
    "start_time": "2021-11-06T14:04:53.684Z"
   },
   {
    "duration": 110,
    "start_time": "2021-11-06T14:04:56.043Z"
   },
   {
    "duration": 63,
    "start_time": "2021-11-06T14:04:56.155Z"
   },
   {
    "duration": 755,
    "start_time": "2021-11-06T14:04:56.223Z"
   },
   {
    "duration": 697,
    "start_time": "2021-11-06T14:04:56.980Z"
   },
   {
    "duration": 904,
    "start_time": "2021-11-06T14:04:57.678Z"
   },
   {
    "duration": 657,
    "start_time": "2021-11-06T14:04:58.584Z"
   },
   {
    "duration": 557,
    "start_time": "2021-11-06T14:04:59.242Z"
   },
   {
    "duration": 4,
    "start_time": "2021-11-06T14:04:59.801Z"
   },
   {
    "duration": 45,
    "start_time": "2021-11-06T14:04:59.807Z"
   },
   {
    "duration": 40,
    "start_time": "2021-11-06T14:04:59.854Z"
   },
   {
    "duration": 72,
    "start_time": "2021-11-06T14:04:59.895Z"
   },
   {
    "duration": 25,
    "start_time": "2021-11-06T14:04:59.969Z"
   },
   {
    "duration": 84,
    "start_time": "2021-11-06T14:04:59.995Z"
   },
   {
    "duration": 109,
    "start_time": "2021-11-06T14:05:00.080Z"
   },
   {
    "duration": 62,
    "start_time": "2021-11-06T14:05:00.191Z"
   },
   {
    "duration": 48,
    "start_time": "2021-11-06T14:05:00.254Z"
   },
   {
    "duration": 200,
    "start_time": "2021-11-06T14:05:00.303Z"
   },
   {
    "duration": 4,
    "start_time": "2021-11-06T14:05:00.505Z"
   },
   {
    "duration": 15,
    "start_time": "2021-11-06T14:05:00.511Z"
   },
   {
    "duration": 58236,
    "start_time": "2021-11-06T14:05:00.529Z"
   },
   {
    "duration": 297984,
    "start_time": "2021-11-06T14:05:58.769Z"
   },
   {
    "duration": 1289,
    "start_time": "2021-11-06T14:11:09.835Z"
   },
   {
    "duration": 894,
    "start_time": "2021-11-06T14:11:11.126Z"
   },
   {
    "duration": 5,
    "start_time": "2021-11-06T14:11:12.022Z"
   },
   {
    "duration": 21,
    "start_time": "2021-11-06T14:11:12.028Z"
   },
   {
    "duration": 2415,
    "start_time": "2021-11-06T14:11:12.051Z"
   },
   {
    "duration": 117,
    "start_time": "2021-11-06T14:11:14.468Z"
   },
   {
    "duration": 59,
    "start_time": "2021-11-06T14:11:14.587Z"
   },
   {
    "duration": 734,
    "start_time": "2021-11-06T14:11:14.731Z"
   },
   {
    "duration": 698,
    "start_time": "2021-11-06T14:11:15.468Z"
   },
   {
    "duration": 881,
    "start_time": "2021-11-06T14:11:16.168Z"
   },
   {
    "duration": 760,
    "start_time": "2021-11-06T14:11:17.052Z"
   },
   {
    "duration": 569,
    "start_time": "2021-11-06T14:11:17.814Z"
   },
   {
    "duration": 4,
    "start_time": "2021-11-06T14:11:18.385Z"
   },
   {
    "duration": 54,
    "start_time": "2021-11-06T14:11:18.392Z"
   },
   {
    "duration": 54,
    "start_time": "2021-11-06T14:11:18.449Z"
   },
   {
    "duration": 61,
    "start_time": "2021-11-06T14:11:18.743Z"
   },
   {
    "duration": 26,
    "start_time": "2021-11-06T14:11:19.287Z"
   },
   {
    "duration": 70,
    "start_time": "2021-11-06T14:11:22.485Z"
   },
   {
    "duration": 100,
    "start_time": "2021-11-06T14:11:23.829Z"
   },
   {
    "duration": 61,
    "start_time": "2021-11-06T14:11:24.337Z"
   },
   {
    "duration": 43,
    "start_time": "2021-11-06T14:11:25.616Z"
   },
   {
    "duration": 178,
    "start_time": "2021-11-06T14:11:27.281Z"
   },
   {
    "duration": 5,
    "start_time": "2021-11-06T14:11:33.845Z"
   },
   {
    "duration": 3,
    "start_time": "2021-11-06T14:11:34.293Z"
   },
   {
    "duration": 53388,
    "start_time": "2021-11-06T14:11:36.276Z"
   },
   {
    "duration": 1205,
    "start_time": "2021-11-06T14:15:53.619Z"
   },
   {
    "duration": 886,
    "start_time": "2021-11-06T14:15:54.826Z"
   },
   {
    "duration": 5,
    "start_time": "2021-11-06T14:15:56.933Z"
   },
   {
    "duration": 13,
    "start_time": "2021-11-06T14:15:57.423Z"
   },
   {
    "duration": 2455,
    "start_time": "2021-11-06T14:15:58.182Z"
   },
   {
    "duration": 125,
    "start_time": "2021-11-06T14:16:00.639Z"
   },
   {
    "duration": 57,
    "start_time": "2021-11-06T14:16:00.766Z"
   },
   {
    "duration": 771,
    "start_time": "2021-11-06T14:16:02.964Z"
   },
   {
    "duration": 684,
    "start_time": "2021-11-06T14:16:03.737Z"
   },
   {
    "duration": 907,
    "start_time": "2021-11-06T14:16:04.423Z"
   },
   {
    "duration": 683,
    "start_time": "2021-11-06T14:16:05.332Z"
   },
   {
    "duration": 554,
    "start_time": "2021-11-06T14:16:06.241Z"
   },
   {
    "duration": 4,
    "start_time": "2021-11-06T14:16:06.797Z"
   },
   {
    "duration": 41,
    "start_time": "2021-11-06T14:16:07.669Z"
   },
   {
    "duration": 32,
    "start_time": "2021-11-06T14:16:09.687Z"
   },
   {
    "duration": 66,
    "start_time": "2021-11-06T14:16:10.023Z"
   },
   {
    "duration": 25,
    "start_time": "2021-11-06T14:16:12.130Z"
   },
   {
    "duration": 70,
    "start_time": "2021-11-06T14:16:12.503Z"
   },
   {
    "duration": 97,
    "start_time": "2021-11-06T14:16:13.524Z"
   },
   {
    "duration": 60,
    "start_time": "2021-11-06T14:16:13.986Z"
   },
   {
    "duration": 41,
    "start_time": "2021-11-06T14:16:15.641Z"
   },
   {
    "duration": 173,
    "start_time": "2021-11-06T14:16:15.891Z"
   },
   {
    "duration": 4,
    "start_time": "2021-11-06T14:16:18.925Z"
   },
   {
    "duration": 3,
    "start_time": "2021-11-06T14:16:19.383Z"
   },
   {
    "duration": 53087,
    "start_time": "2021-11-06T14:16:19.979Z"
   },
   {
    "duration": 443049,
    "start_time": "2021-11-06T14:17:13.069Z"
   },
   {
    "duration": 69412,
    "start_time": "2021-11-06T14:24:36.120Z"
   },
   {
    "duration": 124297,
    "start_time": "2021-11-06T14:33:09.475Z"
   },
   {
    "duration": 261,
    "start_time": "2021-11-06T14:35:45.912Z"
   },
   {
    "duration": 13914,
    "start_time": "2021-11-06T14:36:01.858Z"
   },
   {
    "duration": 69119,
    "start_time": "2021-11-06T14:36:31.003Z"
   },
   {
    "duration": 172814,
    "start_time": "2021-11-06T14:37:57.165Z"
   },
   {
    "duration": 26191,
    "start_time": "2021-11-06T14:41:02.074Z"
   },
   {
    "duration": 295286,
    "start_time": "2021-11-06T14:41:53.997Z"
   },
   {
    "duration": 13816,
    "start_time": "2021-11-06T14:47:47.284Z"
   },
   {
    "duration": 296659,
    "start_time": "2021-11-06T14:48:02.919Z"
   },
   {
    "duration": 53597,
    "start_time": "2021-11-06T14:53:20.989Z"
   },
   {
    "duration": 281,
    "start_time": "2021-11-06T14:57:23.577Z"
   },
   {
    "duration": 1287,
    "start_time": "2021-11-06T14:57:52.627Z"
   },
   {
    "duration": 850,
    "start_time": "2021-11-06T14:57:53.915Z"
   },
   {
    "duration": 5,
    "start_time": "2021-11-06T14:57:54.767Z"
   },
   {
    "duration": 13,
    "start_time": "2021-11-06T14:57:54.773Z"
   },
   {
    "duration": 2398,
    "start_time": "2021-11-06T14:57:54.788Z"
   },
   {
    "duration": 100,
    "start_time": "2021-11-06T14:57:58.243Z"
   },
   {
    "duration": 55,
    "start_time": "2021-11-06T14:57:58.809Z"
   },
   {
    "duration": 711,
    "start_time": "2021-11-06T14:58:00.663Z"
   },
   {
    "duration": 681,
    "start_time": "2021-11-06T14:58:02.719Z"
   },
   {
    "duration": 866,
    "start_time": "2021-11-06T14:58:03.470Z"
   },
   {
    "duration": 643,
    "start_time": "2021-11-06T14:58:05.254Z"
   },
   {
    "duration": 657,
    "start_time": "2021-11-06T14:58:19.042Z"
   },
   {
    "duration": 5,
    "start_time": "2021-11-06T14:58:21.140Z"
   },
   {
    "duration": 37,
    "start_time": "2021-11-06T14:58:22.874Z"
   },
   {
    "duration": 40,
    "start_time": "2021-11-06T14:59:28.437Z"
   },
   {
    "duration": 60,
    "start_time": "2021-11-06T14:59:29.345Z"
   },
   {
    "duration": 20,
    "start_time": "2021-11-06T14:59:29.881Z"
   },
   {
    "duration": 65,
    "start_time": "2021-11-06T14:59:31.001Z"
   },
   {
    "duration": 90,
    "start_time": "2021-11-06T14:59:34.607Z"
   },
   {
    "duration": 56,
    "start_time": "2021-11-06T14:59:37.001Z"
   },
   {
    "duration": 38,
    "start_time": "2021-11-06T14:59:37.439Z"
   },
   {
    "duration": 162,
    "start_time": "2021-11-06T14:59:38.455Z"
   },
   {
    "duration": 4,
    "start_time": "2021-11-06T14:59:47.734Z"
   },
   {
    "duration": 4,
    "start_time": "2021-11-06T14:59:49.529Z"
   },
   {
    "duration": 49805,
    "start_time": "2021-11-06T15:00:31.361Z"
   },
   {
    "duration": 408455,
    "start_time": "2021-11-06T15:01:21.169Z"
   },
   {
    "duration": 59814,
    "start_time": "2021-11-06T15:08:09.626Z"
   },
   {
    "duration": 274325,
    "start_time": "2021-11-06T15:09:21.960Z"
   },
   {
    "duration": 93495,
    "start_time": "2021-11-06T15:15:00.471Z"
   },
   {
    "duration": 288,
    "start_time": "2021-11-06T15:16:52.936Z"
   },
   {
    "duration": 21,
    "start_time": "2021-11-06T15:17:53.531Z"
   },
   {
    "duration": 1233,
    "start_time": "2021-11-06T15:41:18.411Z"
   },
   {
    "duration": 944,
    "start_time": "2021-11-06T15:41:19.646Z"
   },
   {
    "duration": 5,
    "start_time": "2021-11-06T15:41:20.592Z"
   },
   {
    "duration": 11,
    "start_time": "2021-11-06T15:41:20.600Z"
   },
   {
    "duration": 2441,
    "start_time": "2021-11-06T15:41:20.613Z"
   },
   {
    "duration": 111,
    "start_time": "2021-11-06T15:41:23.063Z"
   },
   {
    "duration": 54,
    "start_time": "2021-11-06T15:41:23.176Z"
   },
   {
    "duration": 734,
    "start_time": "2021-11-06T15:41:24.435Z"
   },
   {
    "duration": 702,
    "start_time": "2021-11-06T15:41:25.171Z"
   },
   {
    "duration": 888,
    "start_time": "2021-11-06T15:41:25.875Z"
   },
   {
    "duration": 647,
    "start_time": "2021-11-06T15:41:26.765Z"
   },
   {
    "duration": 570,
    "start_time": "2021-11-06T15:41:27.414Z"
   },
   {
    "duration": 4,
    "start_time": "2021-11-06T15:41:27.986Z"
   },
   {
    "duration": 37,
    "start_time": "2021-11-06T15:41:28.989Z"
   },
   {
    "duration": 34,
    "start_time": "2021-11-06T15:41:29.857Z"
   },
   {
    "duration": 61,
    "start_time": "2021-11-06T15:41:30.573Z"
   },
   {
    "duration": 23,
    "start_time": "2021-11-06T15:41:30.961Z"
   },
   {
    "duration": 65,
    "start_time": "2021-11-06T15:41:31.370Z"
   },
   {
    "duration": 95,
    "start_time": "2021-11-06T15:41:34.975Z"
   },
   {
    "duration": 53,
    "start_time": "2021-11-06T15:41:35.528Z"
   },
   {
    "duration": 36,
    "start_time": "2021-11-06T15:41:36.033Z"
   },
   {
    "duration": 172,
    "start_time": "2021-11-06T15:41:36.382Z"
   },
   {
    "duration": 4,
    "start_time": "2021-11-06T15:41:40.951Z"
   },
   {
    "duration": 3,
    "start_time": "2021-11-06T15:41:53.934Z"
   },
   {
    "duration": 64157,
    "start_time": "2021-11-06T15:41:54.117Z"
   },
   {
    "duration": 439674,
    "start_time": "2021-11-06T15:42:58.277Z"
   },
   {
    "duration": 63562,
    "start_time": "2021-11-06T15:50:17.953Z"
   },
   {
    "duration": 278521,
    "start_time": "2021-11-06T15:54:31.159Z"
   },
   {
    "duration": 93288,
    "start_time": "2021-11-06T15:59:09.682Z"
   },
   {
    "duration": 306,
    "start_time": "2021-11-06T16:00:49.028Z"
   },
   {
    "duration": 14,
    "start_time": "2021-11-06T16:00:54.268Z"
   },
   {
    "duration": 480,
    "start_time": "2022-01-27T15:22:11.018Z"
   }
  ],
  "kernelspec": {
   "display_name": "Python 3 (ipykernel)",
   "language": "python",
   "name": "python3"
  },
  "language_info": {
   "codemirror_mode": {
    "name": "ipython",
    "version": 3
   },
   "file_extension": ".py",
   "mimetype": "text/x-python",
   "name": "python",
   "nbconvert_exporter": "python",
   "pygments_lexer": "ipython3",
   "version": "3.9.7"
  },
  "toc": {
   "base_numbering": 1,
   "nav_menu": {},
   "number_sections": true,
   "sideBar": true,
   "skip_h1_title": true,
   "title_cell": "Table of Contents",
   "title_sidebar": "Contents",
   "toc_cell": false,
   "toc_position": {
    "height": "calc(100% - 180px)",
    "left": "10px",
    "top": "150px",
    "width": "165px"
   },
   "toc_section_display": true,
   "toc_window_display": true
  }
 },
 "nbformat": 4,
 "nbformat_minor": 2
}
